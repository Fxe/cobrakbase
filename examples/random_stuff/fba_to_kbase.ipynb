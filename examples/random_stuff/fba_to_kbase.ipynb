{
 "cells": [
  {
   "cell_type": "code",
   "execution_count": 26,
   "metadata": {},
   "outputs": [],
   "source": [
    "import time\n",
    "import cobra\n",
    "import cobrakbase\n",
    "start = time.time()"
   ]
  },
  {
   "cell_type": "code",
   "execution_count": 27,
   "metadata": {},
   "outputs": [],
   "source": [
    "api = cobrakbase.KBaseAPI('DGXHUU34PUCT2V5JGUYA23P6TMQJM3FK')\n",
    "ws = 'filipeliu:narrative_1592958114519'"
   ]
  },
  {
   "cell_type": "code",
   "execution_count": 28,
   "metadata": {},
   "outputs": [],
   "source": [
    "kbase_model = api.get_object('GCF_000005845.2.gf.mdl', ws)\n",
    "kbase_media = api.get_object('Carbon-D-Glucose', ws)\n",
    "#kbase_fba = api.get_object('fva_and_ko', ws)"
   ]
  },
  {
   "cell_type": "code",
   "execution_count": 29,
   "metadata": {},
   "outputs": [],
   "source": [
    "media = cobrakbase.core.KBaseBiochemMedia(kbase_media)"
   ]
  },
  {
   "cell_type": "code",
   "execution_count": 30,
   "metadata": {},
   "outputs": [],
   "source": [
    "fbamodel = cobrakbase.core.KBaseFBAModel(kbase_model)\n",
    "\n",
    "model = cobrakbase.core.converters.KBaseFBAModelToCobraBuilder(fbamodel) \\\n",
    "                                  .with_media(media) \\\n",
    "                                  .build()"
   ]
  },
  {
   "cell_type": "code",
   "execution_count": 31,
   "metadata": {},
   "outputs": [],
   "source": [
    "#model = cobra.io.read_sbml_model('/Users/fliu/workspace/jupyter/data/sbml/iML1515/source.xml')\n",
    "#cobra.io.write_sbml_model(model, '/Users/fliu/workspace/jupyter/data/tmp.xml', f_replace=None)"
   ]
  },
  {
   "cell_type": "code",
   "execution_count": 32,
   "metadata": {},
   "outputs": [
    {
     "name": "stdout",
     "output_type": "stream",
     "text": [
      "optimization time(s): 3.4134950637817383\n"
     ]
    }
   ],
   "source": [
    "start_optimization = time.time()\n",
    "solution = cobra.flux_analysis.pfba(model)\n",
    "fva = cobra.flux_analysis.flux_variability_analysis(model, fraction_of_optimum=0.1)\n",
    "end_optimization = time.time()\n",
    "print('optimization time(s):', end_optimization - start_optimization)"
   ]
  },
  {
   "cell_type": "code",
   "execution_count": 33,
   "metadata": {},
   "outputs": [
    {
     "data": {
      "text/plain": [
       "135.72903761605943"
      ]
     },
     "execution_count": 33,
     "metadata": {},
     "output_type": "execute_result"
    }
   ],
   "source": [
    "solution.objective_value"
   ]
  },
  {
   "cell_type": "code",
   "execution_count": 34,
   "metadata": {},
   "outputs": [
    {
     "name": "stdout",
     "output_type": "stream",
     "text": [
      "error 18381.08757488998\n"
     ]
    }
   ],
   "source": [
    "expected_ovalue = 0.152168\n",
    "print('error', (solution.objective_value - expected_ovalue)**2)"
   ]
  },
  {
   "cell_type": "code",
   "execution_count": 35,
   "metadata": {},
   "outputs": [
    {
     "data": {
      "text/plain": [
       "[[14,\n",
       "  'fva_and_ko.fba_cobrakbase',\n",
       "  'KBaseFBA.FBA-13.2',\n",
       "  '2020-08-12T17:04:57+0000',\n",
       "  7,\n",
       "  'filipeliu',\n",
       "  65434,\n",
       "  'filipeliu:narrative_1592958114519',\n",
       "  'a9543ed5270c1da362a02ed8abe0b33a',\n",
       "  572811,\n",
       "  {'Number compound variables': '183',\n",
       "   'Number constraints': '0',\n",
       "   'Media': '65434/5/1',\n",
       "   'Number additional compounds': '0',\n",
       "   'Maximized': '1',\n",
       "   'Number reaction variables': '1537',\n",
       "   'Number gene KO': '0',\n",
       "   'Minimize reactions': '0',\n",
       "   'Objective': '135.72903761605943',\n",
       "   'Number compound bounds': '0',\n",
       "   'Number biomass objectives': '1',\n",
       "   'Combination deletions': '0',\n",
       "   'Model': '65434/6/1',\n",
       "   'Number reaction KO': '0',\n",
       "   'Number reaction bounds': '0'}]]"
      ]
     },
     "execution_count": 35,
     "metadata": {},
     "output_type": "execute_result"
    }
   ],
   "source": [
    "from cobrakbase.core.kbase_fba_builder import KBaseFBABuilder\n",
    "b = KBaseFBABuilder.from_cobra(\"fva_and_ko.fba_cobrakbase\", model, solution, media, ws) \\\n",
    "                   .with_cobra_fva_solution(fva)\n",
    "fba_cobrakbase = b.build()\n",
    "api.save_object(fba_cobrakbase['id'], ws, \"KBaseFBA.FBA\",fba_cobrakbase)"
   ]
  },
  {
   "cell_type": "code",
   "execution_count": 36,
   "metadata": {},
   "outputs": [
    {
     "name": "stdout",
     "output_type": "stream",
     "text": [
      "6.642596960067749\n"
     ]
    }
   ],
   "source": [
    "end = time.time()\n",
    "print(end - start)"
   ]
  },
  {
   "cell_type": "code",
   "execution_count": 37,
   "metadata": {},
   "outputs": [
    {
     "data": {
      "text/plain": [
       "[65434,\n",
       " 'filipeliu:narrative_1592958114519',\n",
       " 'filipeliu',\n",
       " '2020-08-12T17:04:57+0000',\n",
       " 14,\n",
       " 'a',\n",
       " 'n',\n",
       " 'unlocked',\n",
       " {'cell_count': '1',\n",
       "  'narrative_nice_name': 'Test CobraKBase',\n",
       "  'searchtags': 'narrative',\n",
       "  'is_temporary': 'false',\n",
       "  'narrative': '1'}]"
      ]
     },
     "execution_count": 37,
     "metadata": {},
     "output_type": "execute_result"
    }
   ],
   "source": [
    "api.ws_client.get_workspace_info({'workspace' : 'filipeliu:narrative_1592958114519'})"
   ]
  },
  {
   "cell_type": "code",
   "execution_count": 11,
   "metadata": {},
   "outputs": [
    {
     "data": {
      "text/plain": [
       "'fva_and_ko.fba_cobrakbase'"
      ]
     },
     "execution_count": 11,
     "metadata": {},
     "output_type": "execute_result"
    }
   ],
   "source": [
    "fba_cobrakbase['id']"
   ]
  },
  {
   "cell_type": "code",
   "execution_count": null,
   "metadata": {},
   "outputs": [],
   "source": []
  },
  {
   "cell_type": "code",
   "execution_count": 12,
   "metadata": {},
   "outputs": [],
   "source": [
    "assert(set(fba_cobrakbase) == set(kbase_fba))"
   ]
  },
  {
   "cell_type": "code",
   "execution_count": 13,
   "metadata": {},
   "outputs": [
    {
     "name": "stdout",
     "output_type": "stream",
     "text": [
      "value 0.152168 0.1521677489379692\n"
     ]
    }
   ],
   "source": [
    "f = 'FBABiomassVariables'\n",
    "assert(len(kbase_fba[f]) == len(fba_cobrakbase[f]))\n",
    "assert(set(kbase_fba[f][0]) == set(fba_cobrakbase[f][0]))\n",
    "for k in kbase_fba[f][0]:\n",
    "    try:\n",
    "        assert(kbase_fba[f][0][k] == fba_cobrakbase[f][0][k])\n",
    "    except AssertionError as e:\n",
    "        print(k, kbase_fba[f][0][k], fba_cobrakbase[f][0][k])"
   ]
  },
  {
   "cell_type": "code",
   "execution_count": 14,
   "metadata": {},
   "outputs": [],
   "source": [
    "actual = dict(map(lambda x : (x['modelreaction_ref'], x), fba_cobrakbase['FBAReactionVariables']))\n",
    "expected = dict(map(lambda x : (x['modelreaction_ref'], x), kbase_fba['FBAReactionVariables']))\n",
    "assert(set(actual) == set(expected))"
   ]
  },
  {
   "cell_type": "code",
   "execution_count": 15,
   "metadata": {},
   "outputs": [
    {
     "data": {
      "text/plain": [
       "dict_keys(['minimum', 'maximum'])"
      ]
     },
     "execution_count": 15,
     "metadata": {},
     "output_type": "execute_result"
    }
   ],
   "source": [
    "fva_dict = fva.to_dict()\n",
    "fva_dict.keys()"
   ]
  },
  {
   "cell_type": "code",
   "execution_count": 74,
   "metadata": {},
   "outputs": [
    {
     "name": "stdout",
     "output_type": "stream",
     "text": [
      "-8.54014e-05 -8.54014e-05\n"
     ]
    }
   ],
   "source": [
    "import math\n",
    "i = -8.54014e-05\n",
    "print(i, round(i, 12))"
   ]
  },
  {
   "cell_type": "code",
   "execution_count": 60,
   "metadata": {},
   "outputs": [],
   "source": [
    "fva_data = {}\n",
    "for rxn_id, d in fva.iterrows():\n",
    "    fva_data[rxn_id] = (d['minimum'], d['maximum'])"
   ]
  },
  {
   "cell_type": "code",
   "execution_count": 17,
   "metadata": {},
   "outputs": [
    {
     "name": "stdout",
     "output_type": "stream",
     "text": [
      "class Blocked 0 0 flux\n"
     ]
    }
   ],
   "source": [
    "for r in expected:\n",
    "    o = expected[r]\n",
    "    print('class', o['class'], o['min'], o['max'], o['variableType'])\n",
    "    break"
   ]
  },
  {
   "cell_type": "code",
   "execution_count": 16,
   "metadata": {},
   "outputs": [
    {
     "name": "stdout",
     "output_type": "stream",
     "text": [
      "1740\n"
     ]
    }
   ],
   "source": [
    "errors = []\n",
    "for reaction_ref in expected:\n",
    "    e = expected[reaction_ref]\n",
    "    a = actual[reaction_ref]\n",
    "    assert(set(e) == set(a))\n",
    "    for k in e:\n",
    "        try:\n",
    "            assert(e[k] == a[k])\n",
    "        except AssertionError as ex:\n",
    "            errors.append([reaction_ref, k, a[k], e[k]])\n",
    "            #print(reaction_ref, k, 'expected', e[k], 'actual', a[k], fva_dict['minimum'][reaction_ref.split('/')[-1]])\n",
    "print(len(errors))"
   ]
  },
  {
   "cell_type": "code",
   "execution_count": null,
   "metadata": {},
   "outputs": [],
   "source": []
  },
  {
   "cell_type": "code",
   "execution_count": 24,
   "metadata": {},
   "outputs": [
    {
     "ename": "NameError",
     "evalue": "name 'd2' is not defined",
     "output_type": "error",
     "traceback": [
      "\u001b[0;31m---------------------------------------------------------------------------\u001b[0m",
      "\u001b[0;31mNameError\u001b[0m                                 Traceback (most recent call last)",
      "\u001b[0;32m<ipython-input-24-f2f3ea793553>\u001b[0m in \u001b[0;36m<module>\u001b[0;34m\u001b[0m\n\u001b[0;32m----> 1\u001b[0;31m \u001b[0;32massert\u001b[0m\u001b[0;34m(\u001b[0m\u001b[0mset\u001b[0m\u001b[0;34m(\u001b[0m\u001b[0md2\u001b[0m\u001b[0;34m)\u001b[0m \u001b[0;34m==\u001b[0m \u001b[0mset\u001b[0m\u001b[0;34m(\u001b[0m\u001b[0md1\u001b[0m\u001b[0;34m)\u001b[0m\u001b[0;34m)\u001b[0m\u001b[0;34m\u001b[0m\u001b[0;34m\u001b[0m\u001b[0m\n\u001b[0m",
      "\u001b[0;31mNameError\u001b[0m: name 'd2' is not defined"
     ]
    }
   ],
   "source": [
    "assert(set(d2) == set(d1))"
   ]
  },
  {
   "cell_type": "code",
   "execution_count": 197,
   "metadata": {},
   "outputs": [
    {
     "name": "stdout",
     "output_type": "stream",
     "text": [
      "0.0\n"
     ]
    },
    {
     "data": {
      "text/plain": [
       "0.0"
      ]
     },
     "execution_count": 197,
     "metadata": {},
     "output_type": "execute_result"
    }
   ],
   "source": [
    "print(solution['rxn00737_c0'])\n",
    "b.flux_dist['rxn00737_c0']"
   ]
  },
  {
   "cell_type": "code",
   "execution_count": 30,
   "metadata": {},
   "outputs": [
    {
     "data": {
      "text/plain": [
       "'Tue Aug 11 23:15:32 2020'"
      ]
     },
     "execution_count": 30,
     "metadata": {},
     "output_type": "execute_result"
    }
   ],
   "source": [
    "import time\n",
    "time.asctime()"
   ]
  },
  {
   "cell_type": "code",
   "execution_count": 35,
   "metadata": {},
   "outputs": [
    {
     "name": "stdout",
     "output_type": "stream",
     "text": [
      "/Users/fliu/opt/anaconda3/bin/python\n",
      "3.7.4 (default, Aug 13 2019, 15:17:50) \n",
      "[Clang 4.0.1 (tags/RELEASE_401/final)]\n",
      "sys.version_info(major=3, minor=7, micro=4, releaselevel='final', serial=0)\n"
     ]
    }
   ],
   "source": [
    "import sys\n",
    "sys.executable\n",
    "import sys\n",
    "print(sys.executable)\n",
    "print(sys.version)\n",
    "print(sys.version_info)"
   ]
  },
  {
   "cell_type": "code",
   "execution_count": 39,
   "metadata": {},
   "outputs": [
    {
     "data": {
      "text/plain": [
       "'3.7.4 (default, Aug 13 2019, 15:17:50) \\n[Clang 4.0.1 (tags/RELEASE_401/final)]'"
      ]
     },
     "execution_count": 39,
     "metadata": {},
     "output_type": "execute_result"
    }
   ],
   "source": []
  },
  {
   "cell_type": "code",
   "execution_count": 291,
   "metadata": {},
   "outputs": [],
   "source": [
    "to_zero = ['rxn00737_c0', 'rxn00762_c0', 'rxn00935_c0', 'rxn01870_c0', 'rxn00616_c0',\n",
    "           'rxn01354_c0', 'rxn09188_c0', 'rxn00173_c0', 'rxn01388_c0', 'rxn00612_c0',\n",
    "           'rxn01912_c0', 'rxn01911_c0', 'rxn01682_c0', 'rxn00212_c0', 'rxn00830_c0',\n",
    "           'rxn04996_c0', 'rxn08941_c0', 'rxn03954_c0', 'rxn00931_c0', 'rxn08971_c0',\n",
    "           'rxn08901_c0', 'rxn08656_c0', 'rxn01302_c0', 'rxn08976_c0', 'rxn00904_c0',\n",
    "           'rxn08557_c0', 'rxn00260_c0', 'rxn00541_c0', 'rxn00840_c0', 'rxn00239_c0',\n",
    "           'rxn02103_c0', 'rxn01353_c0', 'rxn02102_c0'\n",
    "          ]\n",
    "for o in to_zero:\n",
    "    r = model.reactions.get_by_id(o)\n",
    "    r.upper_bound = 0\n",
    "    r.lower_bound = 0"
   ]
  },
  {
   "cell_type": "code",
   "execution_count": 295,
   "metadata": {},
   "outputs": [
    {
     "data": {
      "text/plain": [
       "4.718447854656915e-16"
      ]
     },
     "execution_count": 295,
     "metadata": {},
     "output_type": "execute_result"
    }
   ],
   "source": [
    "#difference of flux after force equal dist\n",
    "0.15216774893796897 - 0.15216774893796850"
   ]
  },
  {
   "cell_type": "code",
   "execution_count": 306,
   "metadata": {},
   "outputs": [
    {
     "name": "stdout",
     "output_type": "stream",
     "text": [
      "0.1521677489379685\n",
      "bio1_biomass\n",
      "DM_cpd02701_c0\n",
      "DM_cpd15302_c0\n",
      "DM_cpd11416_c0\n"
     ]
    }
   ],
   "source": [
    "solution = model.optimize()\n",
    "assert(solution.status == 'optimal')\n",
    "try:\n",
    "    assert(solution.objective_value == 0.15216774893796897)\n",
    "except:\n",
    "    print(solution.objective_value)\n",
    "b = KBaseFBABuilder.fromCobra(model, solution, media, ws)\n",
    "fba_cobrakbase = b.build()\n",
    "d1 = dict(map(lambda o : (o['modelreaction_ref'], o), fba_cobrakbase['FBAReactionVariables']))\n",
    "d2 = dict(map(lambda o : (o['modelreaction_ref'], o), kbase_fba['FBAReactionVariables']))"
   ]
  },
  {
   "cell_type": "code",
   "execution_count": 307,
   "metadata": {},
   "outputs": [],
   "source": [
    "for k in d1:\n",
    "    try:\n",
    "        error = (d1[k]['value'] - d2[k]['value'])**2\n",
    "        assert(d1[k] == d2[k])\n",
    "    except AssertionError as e:\n",
    "        if error > 1e-6:\n",
    "            print(k.split('/')[-1], d1[k]['value'], d2[k]['value'])"
   ]
  },
  {
   "cell_type": "code",
   "execution_count": 308,
   "metadata": {},
   "outputs": [
    {
     "name": "stdout",
     "output_type": "stream",
     "text": [
      "FBABiomassVariables 1 1\n",
      "FBACompoundBounds 0 0\n",
      "FBACompoundVariables 185 183\n",
      "FBAConstraints 0 0\n",
      "FBADeletionResults 0 0\n",
      "FBAMetaboliteProductionResults 0 0\n",
      "FBAMinimalMediaResults 0 0\n",
      "FBAMinimalReactionsResults 0 0\n",
      "FBAPromResults 0 0\n",
      "FBAReactionBounds 0 0\n",
      "FBAReactionVariables 1537 1537\n",
      "FBATintleResults 0 0\n",
      "MFALog  \n",
      "PROMKappa 1 1\n",
      "QuantitativeOptimizationSolutions 0 0\n",
      "__VERSION__ 1 1\n",
      "additionalCpd_refs 0 0\n",
      "allReversible 0 0\n",
      "biomassRemovals <class 'dict'>\n",
      "biomassflux_objterms <class 'dict'>\n",
      "calculateReactionKnockoutSensitivity 0 0\n",
      "comboDeletions 0 0\n",
      "compoundflux_objterms <class 'dict'>\n",
      "decomposeReversibleDrainFlux 0 0\n",
      "decomposeReversibleFlux 0 0\n",
      "defaultMaxDrainFlux 0 0\n",
      "defaultMaxFlux 1000 1000\n",
      "defaultMinDrainFlux -1000 -1000\n",
      "drainfluxUseVariables 0 0\n",
      "fbamodel_ref 65434/6/1 filipeliu:narrative_1592958114519/GCF_000005845.2.gf.mdl\n",
      "findMinimalMedia 0 0\n",
      "fluxMinimization 1 1\n",
      "fluxUseVariables 0 0\n",
      "fva 0 0\n",
      "gapfillingSolutions 0 0\n",
      "geneKO_refs 0 0\n",
      "id GCF_000005845.2.fba fba1\n",
      "inputfiles <class 'dict'>\n",
      "maximizeActiveReactions 0 0\n",
      "maximizeObjective 1 1\n",
      "media_list_refs 0 0\n",
      "media_ref 65434/5/1 filipeliu:narrative_1592958114519/Carbon-D-Glucose\n",
      "minimizeErrorThermodynamicConstraints 0 0\n",
      "minimize_reaction_costs <class 'dict'>\n",
      "minimize_reactions 0 0\n",
      "noErrorThermodynamicConstraints 0 0\n",
      "numberOfSolutions 1 1\n",
      "objectiveConstraintFraction 0.1 0.1\n",
      "objectiveValue 0.152168 0.1521677489379685\n",
      "other_objectives 0 0\n",
      "outputfiles <class 'dict'>\n",
      "parameters <class 'dict'>\n",
      "quantitativeOptimization 0 0\n",
      "reactionKO_refs 0 0\n",
      "reactionflux_objterms <class 'dict'>\n",
      "simpleThermoConstraints 0 0\n",
      "thermodynamicConstraints 0 0\n",
      "uptakeLimits <class 'dict'>\n"
     ]
    }
   ],
   "source": [
    "for k in kbase_fba:\n",
    "    if type(kbase_fba[k]) == str:\n",
    "        print(k, kbase_fba[k], fba_cobrakbase[k])\n",
    "    elif type(kbase_fba[k]) == int:\n",
    "        print(k, kbase_fba[k], fba_cobrakbase[k])\n",
    "    elif type(kbase_fba[k]) == float:\n",
    "        print(k, kbase_fba[k], fba_cobrakbase[k])\n",
    "    elif type(kbase_fba[k]) == list:\n",
    "        print(k, len(kbase_fba[k]), len(fba_cobrakbase[k]))\n",
    "    else:\n",
    "        print(k, type(kbase_fba[k]))"
   ]
  },
  {
   "cell_type": "code",
   "execution_count": null,
   "metadata": {},
   "outputs": [],
   "source": []
  },
  {
   "cell_type": "code",
   "execution_count": 51,
   "metadata": {},
   "outputs": [
    {
     "name": "stdout",
     "output_type": "stream",
     "text": [
      "bio1_biomass\n",
      "DM_cpd02701_c0\n",
      "DM_cpd15302_c0\n",
      "DM_cpd11416_c0\n"
     ]
    }
   ],
   "source": [
    "def search(query, inlist):\n",
    "    s = set(filter(lambda x : x.id == query, inlist))\n",
    "    return None if len(s) == 0 else s.pop()\n",
    "        \n",
    "def somefunction(fba_id, model, solution, media, model_name):\n",
    "    #Saving final solution as an FBA object in KBase\n",
    "    fbaobj = {\n",
    "        \"FBABiomassVariables\": [\n",
    "            {\n",
    "                \"biomass_ref\": \"~/fbamodel/biomasses/id/bio1\",\n",
    "                \"class\": \"unknown\",\n",
    "                \"lowerBound\": model.reactions.bio1_biomass.lower_bound,\n",
    "                \"max\": model.reactions.bio1_biomass.upper_bound,\n",
    "                \"min\": model.reactions.bio1_biomass.lower_bound,\n",
    "                \"other_max\": [],\n",
    "                \"other_min\": [],\n",
    "                \"other_values\": [],\n",
    "                \"upperBound\": model.reactions.bio1_biomass.upper_bound,\n",
    "                \"value\": solution.fluxes.get(\"bio1_biomass\"),\n",
    "                \"variableType\": \"biomassflux\"\n",
    "            }\n",
    "        ],\"FBACompoundBounds\": [],\n",
    "        \"FBACompoundVariables\": [],\n",
    "        \"FBAConstraints\": [],\n",
    "        \"FBADeletionResults\": [],\n",
    "        \"FBAMetaboliteProductionResults\": [],\n",
    "        \"FBAMinimalMediaResults\": [],\n",
    "        \"FBAMinimalReactionsResults\": [],\n",
    "        \"FBAPromResults\": [],\n",
    "        \"FBAReactionBounds\": [],\n",
    "        \"FBAReactionVariables\": [],\n",
    "        \"FBATintleResults\": [],\n",
    "        \"MFALog\": \"\",\n",
    "        \"PROMKappa\": 1,\n",
    "        \"QuantitativeOptimizationSolutions\": [],\n",
    "        \"__VERSION__\": 1,\n",
    "        \"additionalCpd_refs\": [],\n",
    "        \"allReversible\": 0,\n",
    "        \"biomassRemovals\": {},\n",
    "        \"biomassflux_objterms\": {\n",
    "            \"bio1\": 1\n",
    "        },\n",
    "        \"calculateReactionKnockoutSensitivity\": 0,\n",
    "        \"comboDeletions\": 0,\n",
    "        \"compoundflux_objterms\": {},\n",
    "        \"decomposeReversibleDrainFlux\": 0,\n",
    "        \"decomposeReversibleFlux\": 0,\n",
    "        \"defaultMaxDrainFlux\": 0,\n",
    "        \"defaultMaxFlux\": 1000,\n",
    "        \"defaultMinDrainFlux\": -1000,\n",
    "        \"drainfluxUseVariables\": 0,\n",
    "        \"fbamodel_ref\": ws+\"/\"+model_name,\n",
    "        \"findMinimalMedia\": 0,\n",
    "        \"fluxMinimization\": 1,\n",
    "        \"fluxUseVariables\": 0,\n",
    "        \"fva\": 0,\n",
    "        \"gapfillingSolutions\": [],\n",
    "        \"geneKO_refs\": [],\n",
    "        \"id\": fba_id,\n",
    "        \"inputfiles\": {},\n",
    "        \"maximizeActiveReactions\": 0,\n",
    "        \"maximizeObjective\": 1,\n",
    "        \"media_list_refs\": [],\n",
    "        \"media_ref\": '{}/{}'.format(ws, media.data['name']),\n",
    "        \"minimizeErrorThermodynamicConstraints\": 0,\n",
    "        \"minimize_reaction_costs\": {},\n",
    "        \"minimize_reactions\": 0,\n",
    "        \"noErrorThermodynamicConstraints\": 0,\n",
    "        \"numberOfSolutions\": 1,\n",
    "        \"objectiveConstraintFraction\": 0.1,\n",
    "        \"objectiveValue\": 0.5,\n",
    "        \"other_objectives\": [],\n",
    "        \"outputfiles\": {},\n",
    "        \"parameters\": {\n",
    "            \"Auxotrophy metabolite list\": \"\",\n",
    "            \"Beachhead metabolite list\": \"\",\n",
    "            \"minimum_target_flux\": \"0.01\",\n",
    "            \"save phenotype fluxes\": \"0\",\n",
    "            \"suboptimal solutions\": \"1\"\n",
    "        },\n",
    "        \"quantitativeOptimization\": 0,\n",
    "        \"reactionKO_refs\": [],\n",
    "        \"reactionflux_objterms\": {},\n",
    "        \"simpleThermoConstraints\": 0,\n",
    "        \"thermodynamicConstraints\": 0,\n",
    "        \"uptakeLimits\": {}\n",
    "    }\n",
    "    series = solution.fluxes\n",
    "    for varname, value in series.items():\n",
    "        rxn = model.reactions.get_by_id(varname)\n",
    "        \n",
    "        if varname.find(\"EX_\") >= 0:\n",
    "            fbaobj[\"FBACompoundVariables\"].append({\n",
    "                \"class\": \"Variable\",\n",
    "                \"lowerBound\": rxn.lower_bound,\n",
    "                \"max\": rxn.upper_bound,\n",
    "                \"min\": rxn.lower_bound,\n",
    "                \"upperBound\": rxn.upper_bound,\n",
    "                \"modelcompound_ref\": \"~/fbamodel/modelcompounds/id/\"+varname[3:],\n",
    "                \"other_max\": [],\n",
    "                \"other_min\": [],\n",
    "                \"other_values\": [],\n",
    "                \"value\": -1*value,\n",
    "                \"variableType\": \"drainflux\"\n",
    "            })\n",
    "        elif varname.endswith(\"_biomass\") or varname.startswith(\"DM_\"):\n",
    "            print(varname)\n",
    "        else:\n",
    "            fbaobj[\"FBAReactionVariables\"].append({\n",
    "                \"biomass_dependencies\": [],\n",
    "                \"class\": \"Variable\",\n",
    "                \"coupled_reactions\": [],\n",
    "                \"exp_state\": \"unknown\",\n",
    "                \"expression\": 0,\n",
    "                \"lowerBound\": rxn.lower_bound,\n",
    "                \"max\": rxn.upper_bound,\n",
    "                \"min\": rxn.lower_bound,\n",
    "                \"upperBound\": rxn.upper_bound,\n",
    "                \"modelreaction_ref\": \"~/fbamodel/modelreactions/id/\"+varname,\n",
    "                \"other_max\": [],\n",
    "                \"other_min\": [],\n",
    "                \"other_values\": [],\n",
    "                \"scaled_exp\": 0,\n",
    "                \"value\": value,\n",
    "                \"variableType\": \"flux\"\n",
    "            })\n",
    "\n",
    "somefunction(model, solution, media, 'model1')"
   ]
  },
  {
   "cell_type": "code",
   "execution_count": null,
   "metadata": {},
   "outputs": [],
   "source": []
  },
  {
   "cell_type": "code",
   "execution_count": null,
   "metadata": {},
   "outputs": [],
   "source": []
  }
 ],
 "metadata": {
  "kernelspec": {
   "display_name": "Python 3",
   "language": "python",
   "name": "python3"
  },
  "language_info": {
   "codemirror_mode": {
    "name": "ipython",
    "version": 3
   },
   "file_extension": ".py",
   "mimetype": "text/x-python",
   "name": "python",
   "nbconvert_exporter": "python",
   "pygments_lexer": "ipython3",
   "version": "3.7.4"
  }
 },
 "nbformat": 4,
 "nbformat_minor": 4
}
