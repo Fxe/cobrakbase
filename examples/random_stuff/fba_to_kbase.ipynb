{
 "cells": [
  {
   "cell_type": "code",
   "execution_count": 1,
   "metadata": {},
   "outputs": [
    {
     "name": "stdout",
     "output_type": "stream",
     "text": [
      "cobrakbase 0.2.4\n"
     ]
    }
   ],
   "source": [
    "import cobra\n",
    "import cobrakbase"
   ]
  },
  {
   "cell_type": "code",
   "execution_count": 2,
   "metadata": {},
   "outputs": [],
   "source": [
    "api = cobrakbase.KBaseAPI('DGXHUU34PUCT2V5JGUYA23P6TMQJM3FK')\n",
    "ws = 'filipeliu:narrative_1592958114519'"
   ]
  },
  {
   "cell_type": "code",
   "execution_count": 3,
   "metadata": {},
   "outputs": [],
   "source": [
    "kbase_model = api.get_object('GCF_000005845.2.gf.mdl', ws)\n",
    "kbase_media = api.get_object('Carbon-D-Glucose', ws)\n",
    "kbase_fba = api.get_object('GCF_000005845.2.fba', ws)"
   ]
  },
  {
   "cell_type": "code",
   "execution_count": 4,
   "metadata": {},
   "outputs": [],
   "source": [
    "media = cobrakbase.core.KBaseBiochemMedia(kbase_media)"
   ]
  },
  {
   "cell_type": "code",
   "execution_count": 5,
   "metadata": {},
   "outputs": [],
   "source": [
    "fbamodel = cobrakbase.core.KBaseFBAModel(kbase_model)\n",
    "\n",
    "model = cobrakbase.core.converters.KBaseFBAModelToCobraBuilder(fbamodel) \\\n",
    "                                  .with_media(media) \\\n",
    "                                  .build()"
   ]
  },
  {
   "cell_type": "code",
   "execution_count": 6,
   "metadata": {},
   "outputs": [],
   "source": [
    "solution = model.optimize()"
   ]
  },
  {
   "cell_type": "code",
   "execution_count": 7,
   "metadata": {},
   "outputs": [
    {
     "data": {
      "text/plain": [
       "0.15216774893796892"
      ]
     },
     "execution_count": 7,
     "metadata": {},
     "output_type": "execute_result"
    }
   ],
   "source": [
    "solution.objective_value"
   ]
  },
  {
   "cell_type": "code",
   "execution_count": 8,
   "metadata": {},
   "outputs": [
    {
     "name": "stdout",
     "output_type": "stream",
     "text": [
      "error 6.303214345070973e-14\n"
     ]
    }
   ],
   "source": [
    "expected_ovalue = 0.152168\n",
    "print('error', (solution.objective_value - expected_ovalue)**2)"
   ]
  },
  {
   "cell_type": "code",
   "execution_count": 11,
   "metadata": {},
   "outputs": [
    {
     "name": "stdout",
     "output_type": "stream",
     "text": [
      "bio1_biomass\n",
      "DM_cpd15302_c0\n",
      "DM_cpd11416_c0\n",
      "DM_cpd02701_c0\n"
     ]
    },
    {
     "data": {
      "text/plain": [
       "[[11,\n",
       "  'GCF_000005845.2.fba_cobrakbase',\n",
       "  'KBaseFBA.FBA-13.2',\n",
       "  '2020-06-24T02:55:08+0000',\n",
       "  2,\n",
       "  'filipeliu',\n",
       "  65434,\n",
       "  'filipeliu:narrative_1592958114519',\n",
       "  '53e2af6b33d2411f28e6ee63941ef815',\n",
       "  546148,\n",
       "  {'Number compound variables': '183',\n",
       "   'Number constraints': '0',\n",
       "   'Media': '65434/5/1',\n",
       "   'Number additional compounds': '0',\n",
       "   'Maximized': '1',\n",
       "   'Number reaction variables': '1537',\n",
       "   'Number gene KO': '0',\n",
       "   'Minimize reactions': '0',\n",
       "   'Objective': '0.15216774893796892',\n",
       "   'Number compound bounds': '0',\n",
       "   'Number biomass objectives': '1',\n",
       "   'Combination deletions': '0',\n",
       "   'Model': '65434/6/1',\n",
       "   'Number reaction KO': '0',\n",
       "   'Number reaction bounds': '0'}]]"
      ]
     },
     "execution_count": 11,
     "metadata": {},
     "output_type": "execute_result"
    }
   ],
   "source": [
    "b = KBaseFBABuilder.fromCobra(\"GCF_000005845.2.fba_cobrakbase\", model, solution, media, ws)\n",
    "fba_cobrakbase = b.build()\n",
    "api.save_object(fba_cobrakbase['id'], ws, \"KBaseFBA.FBA\",fba_cobrakbase)"
   ]
  },
  {
   "cell_type": "code",
   "execution_count": 9,
   "metadata": {},
   "outputs": [],
   "source": [
    "from cobrakbase.core.kbase_fba_builder import KBaseFBABuilder"
   ]
  },
  {
   "cell_type": "code",
   "execution_count": 318,
   "metadata": {},
   "outputs": [
    {
     "data": {
      "text/plain": [
       "'GCF_000005845.2.fba_cobrakbase'"
      ]
     },
     "execution_count": 318,
     "metadata": {},
     "output_type": "execute_result"
    }
   ],
   "source": [
    "fba_cobrakbase['id']"
   ]
  },
  {
   "cell_type": "code",
   "execution_count": 128,
   "metadata": {},
   "outputs": [],
   "source": []
  },
  {
   "cell_type": "code",
   "execution_count": 142,
   "metadata": {},
   "outputs": [
    {
     "name": "stdout",
     "output_type": "stream",
     "text": [
      "value 0.152168 0.1521677489379693\n"
     ]
    }
   ],
   "source": [
    "f = 'FBABiomassVariables'\n",
    "assert(len(kbase_fba[f]) == len(fba_cobrakbase[f]))\n",
    "assert(set(kbase_fba[f][0]) == set(fba_cobrakbase[f][0]))\n",
    "for k in kbase_fba[f][0]:\n",
    "    try:\n",
    "        assert(kbase_fba[f][0][k] == fba_cobrakbase[f][0][k])\n",
    "    except AssertionError as e:\n",
    "        print(k, kbase_fba[f][0][k], fba_cobrakbase[f][0][k])"
   ]
  },
  {
   "cell_type": "code",
   "execution_count": 143,
   "metadata": {},
   "outputs": [],
   "source": [
    "assert(set(fba_cobrakbase) == set(kbase_fba))"
   ]
  },
  {
   "cell_type": "code",
   "execution_count": 144,
   "metadata": {},
   "outputs": [],
   "source": []
  },
  {
   "cell_type": "code",
   "execution_count": 154,
   "metadata": {},
   "outputs": [],
   "source": [
    "assert(set(d2) == set(d1))"
   ]
  },
  {
   "cell_type": "code",
   "execution_count": 197,
   "metadata": {},
   "outputs": [
    {
     "name": "stdout",
     "output_type": "stream",
     "text": [
      "0.0\n"
     ]
    },
    {
     "data": {
      "text/plain": [
       "0.0"
      ]
     },
     "execution_count": 197,
     "metadata": {},
     "output_type": "execute_result"
    }
   ],
   "source": [
    "print(solution['rxn00737_c0'])\n",
    "b.flux_dist['rxn00737_c0']"
   ]
  },
  {
   "cell_type": "code",
   "execution_count": null,
   "metadata": {},
   "outputs": [],
   "source": []
  },
  {
   "cell_type": "code",
   "execution_count": 291,
   "metadata": {},
   "outputs": [],
   "source": [
    "to_zero = ['rxn00737_c0', 'rxn00762_c0', 'rxn00935_c0', 'rxn01870_c0', 'rxn00616_c0',\n",
    "           'rxn01354_c0', 'rxn09188_c0', 'rxn00173_c0', 'rxn01388_c0', 'rxn00612_c0',\n",
    "           'rxn01912_c0', 'rxn01911_c0', 'rxn01682_c0', 'rxn00212_c0', 'rxn00830_c0',\n",
    "           'rxn04996_c0', 'rxn08941_c0', 'rxn03954_c0', 'rxn00931_c0', 'rxn08971_c0',\n",
    "           'rxn08901_c0', 'rxn08656_c0', 'rxn01302_c0', 'rxn08976_c0', 'rxn00904_c0',\n",
    "           'rxn08557_c0', 'rxn00260_c0', 'rxn00541_c0', 'rxn00840_c0', 'rxn00239_c0',\n",
    "           'rxn02103_c0', 'rxn01353_c0', 'rxn02102_c0'\n",
    "          ]\n",
    "for o in to_zero:\n",
    "    r = model.reactions.get_by_id(o)\n",
    "    r.upper_bound = 0\n",
    "    r.lower_bound = 0"
   ]
  },
  {
   "cell_type": "code",
   "execution_count": 295,
   "metadata": {},
   "outputs": [
    {
     "data": {
      "text/plain": [
       "4.718447854656915e-16"
      ]
     },
     "execution_count": 295,
     "metadata": {},
     "output_type": "execute_result"
    }
   ],
   "source": [
    "#difference of flux after force equal dist\n",
    "0.15216774893796897 - 0.15216774893796850"
   ]
  },
  {
   "cell_type": "code",
   "execution_count": 306,
   "metadata": {},
   "outputs": [
    {
     "name": "stdout",
     "output_type": "stream",
     "text": [
      "0.1521677489379685\n",
      "bio1_biomass\n",
      "DM_cpd02701_c0\n",
      "DM_cpd15302_c0\n",
      "DM_cpd11416_c0\n"
     ]
    }
   ],
   "source": [
    "solution = model.optimize()\n",
    "assert(solution.status == 'optimal')\n",
    "try:\n",
    "    assert(solution.objective_value == 0.15216774893796897)\n",
    "except:\n",
    "    print(solution.objective_value)\n",
    "b = KBaseFBABuilder.fromCobra(model, solution, media, ws)\n",
    "fba_cobrakbase = b.build()\n",
    "d1 = dict(map(lambda o : (o['modelreaction_ref'], o), fba_cobrakbase['FBAReactionVariables']))\n",
    "d2 = dict(map(lambda o : (o['modelreaction_ref'], o), kbase_fba['FBAReactionVariables']))"
   ]
  },
  {
   "cell_type": "code",
   "execution_count": 307,
   "metadata": {},
   "outputs": [],
   "source": [
    "for k in d1:\n",
    "    try:\n",
    "        error = (d1[k]['value'] - d2[k]['value'])**2\n",
    "        assert(d1[k] == d2[k])\n",
    "    except AssertionError as e:\n",
    "        if error > 1e-6:\n",
    "            print(k.split('/')[-1], d1[k]['value'], d2[k]['value'])"
   ]
  },
  {
   "cell_type": "code",
   "execution_count": 308,
   "metadata": {},
   "outputs": [
    {
     "name": "stdout",
     "output_type": "stream",
     "text": [
      "FBABiomassVariables 1 1\n",
      "FBACompoundBounds 0 0\n",
      "FBACompoundVariables 185 183\n",
      "FBAConstraints 0 0\n",
      "FBADeletionResults 0 0\n",
      "FBAMetaboliteProductionResults 0 0\n",
      "FBAMinimalMediaResults 0 0\n",
      "FBAMinimalReactionsResults 0 0\n",
      "FBAPromResults 0 0\n",
      "FBAReactionBounds 0 0\n",
      "FBAReactionVariables 1537 1537\n",
      "FBATintleResults 0 0\n",
      "MFALog  \n",
      "PROMKappa 1 1\n",
      "QuantitativeOptimizationSolutions 0 0\n",
      "__VERSION__ 1 1\n",
      "additionalCpd_refs 0 0\n",
      "allReversible 0 0\n",
      "biomassRemovals <class 'dict'>\n",
      "biomassflux_objterms <class 'dict'>\n",
      "calculateReactionKnockoutSensitivity 0 0\n",
      "comboDeletions 0 0\n",
      "compoundflux_objterms <class 'dict'>\n",
      "decomposeReversibleDrainFlux 0 0\n",
      "decomposeReversibleFlux 0 0\n",
      "defaultMaxDrainFlux 0 0\n",
      "defaultMaxFlux 1000 1000\n",
      "defaultMinDrainFlux -1000 -1000\n",
      "drainfluxUseVariables 0 0\n",
      "fbamodel_ref 65434/6/1 filipeliu:narrative_1592958114519/GCF_000005845.2.gf.mdl\n",
      "findMinimalMedia 0 0\n",
      "fluxMinimization 1 1\n",
      "fluxUseVariables 0 0\n",
      "fva 0 0\n",
      "gapfillingSolutions 0 0\n",
      "geneKO_refs 0 0\n",
      "id GCF_000005845.2.fba fba1\n",
      "inputfiles <class 'dict'>\n",
      "maximizeActiveReactions 0 0\n",
      "maximizeObjective 1 1\n",
      "media_list_refs 0 0\n",
      "media_ref 65434/5/1 filipeliu:narrative_1592958114519/Carbon-D-Glucose\n",
      "minimizeErrorThermodynamicConstraints 0 0\n",
      "minimize_reaction_costs <class 'dict'>\n",
      "minimize_reactions 0 0\n",
      "noErrorThermodynamicConstraints 0 0\n",
      "numberOfSolutions 1 1\n",
      "objectiveConstraintFraction 0.1 0.1\n",
      "objectiveValue 0.152168 0.1521677489379685\n",
      "other_objectives 0 0\n",
      "outputfiles <class 'dict'>\n",
      "parameters <class 'dict'>\n",
      "quantitativeOptimization 0 0\n",
      "reactionKO_refs 0 0\n",
      "reactionflux_objterms <class 'dict'>\n",
      "simpleThermoConstraints 0 0\n",
      "thermodynamicConstraints 0 0\n",
      "uptakeLimits <class 'dict'>\n"
     ]
    }
   ],
   "source": [
    "for k in kbase_fba:\n",
    "    if type(kbase_fba[k]) == str:\n",
    "        print(k, kbase_fba[k], fba_cobrakbase[k])\n",
    "    elif type(kbase_fba[k]) == int:\n",
    "        print(k, kbase_fba[k], fba_cobrakbase[k])\n",
    "    elif type(kbase_fba[k]) == float:\n",
    "        print(k, kbase_fba[k], fba_cobrakbase[k])\n",
    "    elif type(kbase_fba[k]) == list:\n",
    "        print(k, len(kbase_fba[k]), len(fba_cobrakbase[k]))\n",
    "    else:\n",
    "        print(k, type(kbase_fba[k]))"
   ]
  },
  {
   "cell_type": "code",
   "execution_count": null,
   "metadata": {},
   "outputs": [],
   "source": []
  },
  {
   "cell_type": "code",
   "execution_count": 51,
   "metadata": {},
   "outputs": [
    {
     "name": "stdout",
     "output_type": "stream",
     "text": [
      "bio1_biomass\n",
      "DM_cpd02701_c0\n",
      "DM_cpd15302_c0\n",
      "DM_cpd11416_c0\n"
     ]
    }
   ],
   "source": [
    "def search(query, inlist):\n",
    "    s = set(filter(lambda x : x.id == query, inlist))\n",
    "    return None if len(s) == 0 else s.pop()\n",
    "        \n",
    "def somefunction(fba_id, model, solution, media, model_name):\n",
    "    #Saving final solution as an FBA object in KBase\n",
    "    fbaobj = {\n",
    "        \"FBABiomassVariables\": [\n",
    "            {\n",
    "                \"biomass_ref\": \"~/fbamodel/biomasses/id/bio1\",\n",
    "                \"class\": \"unknown\",\n",
    "                \"lowerBound\": model.reactions.bio1_biomass.lower_bound,\n",
    "                \"max\": model.reactions.bio1_biomass.upper_bound,\n",
    "                \"min\": model.reactions.bio1_biomass.lower_bound,\n",
    "                \"other_max\": [],\n",
    "                \"other_min\": [],\n",
    "                \"other_values\": [],\n",
    "                \"upperBound\": model.reactions.bio1_biomass.upper_bound,\n",
    "                \"value\": solution.fluxes.get(\"bio1_biomass\"),\n",
    "                \"variableType\": \"biomassflux\"\n",
    "            }\n",
    "        ],\"FBACompoundBounds\": [],\n",
    "        \"FBACompoundVariables\": [],\n",
    "        \"FBAConstraints\": [],\n",
    "        \"FBADeletionResults\": [],\n",
    "        \"FBAMetaboliteProductionResults\": [],\n",
    "        \"FBAMinimalMediaResults\": [],\n",
    "        \"FBAMinimalReactionsResults\": [],\n",
    "        \"FBAPromResults\": [],\n",
    "        \"FBAReactionBounds\": [],\n",
    "        \"FBAReactionVariables\": [],\n",
    "        \"FBATintleResults\": [],\n",
    "        \"MFALog\": \"\",\n",
    "        \"PROMKappa\": 1,\n",
    "        \"QuantitativeOptimizationSolutions\": [],\n",
    "        \"__VERSION__\": 1,\n",
    "        \"additionalCpd_refs\": [],\n",
    "        \"allReversible\": 0,\n",
    "        \"biomassRemovals\": {},\n",
    "        \"biomassflux_objterms\": {\n",
    "            \"bio1\": 1\n",
    "        },\n",
    "        \"calculateReactionKnockoutSensitivity\": 0,\n",
    "        \"comboDeletions\": 0,\n",
    "        \"compoundflux_objterms\": {},\n",
    "        \"decomposeReversibleDrainFlux\": 0,\n",
    "        \"decomposeReversibleFlux\": 0,\n",
    "        \"defaultMaxDrainFlux\": 0,\n",
    "        \"defaultMaxFlux\": 1000,\n",
    "        \"defaultMinDrainFlux\": -1000,\n",
    "        \"drainfluxUseVariables\": 0,\n",
    "        \"fbamodel_ref\": ws+\"/\"+model_name,\n",
    "        \"findMinimalMedia\": 0,\n",
    "        \"fluxMinimization\": 1,\n",
    "        \"fluxUseVariables\": 0,\n",
    "        \"fva\": 0,\n",
    "        \"gapfillingSolutions\": [],\n",
    "        \"geneKO_refs\": [],\n",
    "        \"id\": fba_id,\n",
    "        \"inputfiles\": {},\n",
    "        \"maximizeActiveReactions\": 0,\n",
    "        \"maximizeObjective\": 1,\n",
    "        \"media_list_refs\": [],\n",
    "        \"media_ref\": '{}/{}'.format(ws, media.data['name']),\n",
    "        \"minimizeErrorThermodynamicConstraints\": 0,\n",
    "        \"minimize_reaction_costs\": {},\n",
    "        \"minimize_reactions\": 0,\n",
    "        \"noErrorThermodynamicConstraints\": 0,\n",
    "        \"numberOfSolutions\": 1,\n",
    "        \"objectiveConstraintFraction\": 0.1,\n",
    "        \"objectiveValue\": 0.5,\n",
    "        \"other_objectives\": [],\n",
    "        \"outputfiles\": {},\n",
    "        \"parameters\": {\n",
    "            \"Auxotrophy metabolite list\": \"\",\n",
    "            \"Beachhead metabolite list\": \"\",\n",
    "            \"minimum_target_flux\": \"0.01\",\n",
    "            \"save phenotype fluxes\": \"0\",\n",
    "            \"suboptimal solutions\": \"1\"\n",
    "        },\n",
    "        \"quantitativeOptimization\": 0,\n",
    "        \"reactionKO_refs\": [],\n",
    "        \"reactionflux_objterms\": {},\n",
    "        \"simpleThermoConstraints\": 0,\n",
    "        \"thermodynamicConstraints\": 0,\n",
    "        \"uptakeLimits\": {}\n",
    "    }\n",
    "    series = solution.fluxes\n",
    "    for varname, value in series.items():\n",
    "        rxn = model.reactions.get_by_id(varname)\n",
    "        \n",
    "        if varname.find(\"EX_\") >= 0:\n",
    "            fbaobj[\"FBACompoundVariables\"].append({\n",
    "                \"class\": \"Variable\",\n",
    "                \"lowerBound\": rxn.lower_bound,\n",
    "                \"max\": rxn.upper_bound,\n",
    "                \"min\": rxn.lower_bound,\n",
    "                \"upperBound\": rxn.upper_bound,\n",
    "                \"modelcompound_ref\": \"~/fbamodel/modelcompounds/id/\"+varname[3:],\n",
    "                \"other_max\": [],\n",
    "                \"other_min\": [],\n",
    "                \"other_values\": [],\n",
    "                \"value\": -1*value,\n",
    "                \"variableType\": \"drainflux\"\n",
    "            })\n",
    "        elif varname.endswith(\"_biomass\") or varname.startswith(\"DM_\"):\n",
    "            print(varname)\n",
    "        else:\n",
    "            fbaobj[\"FBAReactionVariables\"].append({\n",
    "                \"biomass_dependencies\": [],\n",
    "                \"class\": \"Variable\",\n",
    "                \"coupled_reactions\": [],\n",
    "                \"exp_state\": \"unknown\",\n",
    "                \"expression\": 0,\n",
    "                \"lowerBound\": rxn.lower_bound,\n",
    "                \"max\": rxn.upper_bound,\n",
    "                \"min\": rxn.lower_bound,\n",
    "                \"upperBound\": rxn.upper_bound,\n",
    "                \"modelreaction_ref\": \"~/fbamodel/modelreactions/id/\"+varname,\n",
    "                \"other_max\": [],\n",
    "                \"other_min\": [],\n",
    "                \"other_values\": [],\n",
    "                \"scaled_exp\": 0,\n",
    "                \"value\": value,\n",
    "                \"variableType\": \"flux\"\n",
    "            })\n",
    "\n",
    "somefunction(model, solution, media, 'model1')"
   ]
  },
  {
   "cell_type": "code",
   "execution_count": null,
   "metadata": {},
   "outputs": [],
   "source": []
  },
  {
   "cell_type": "code",
   "execution_count": null,
   "metadata": {},
   "outputs": [],
   "source": []
  }
 ],
 "metadata": {
  "kernelspec": {
   "display_name": "Python 3",
   "language": "python",
   "name": "python3"
  },
  "language_info": {
   "codemirror_mode": {
    "name": "ipython",
    "version": 3
   },
   "file_extension": ".py",
   "mimetype": "text/x-python",
   "name": "python",
   "nbconvert_exporter": "python",
   "pygments_lexer": "ipython3",
   "version": "3.7.4"
  }
 },
 "nbformat": 4,
 "nbformat_minor": 4
}
