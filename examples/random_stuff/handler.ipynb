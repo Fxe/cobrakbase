{
 "cells": [
  {
   "cell_type": "code",
   "execution_count": 1,
   "id": "efe943dc-06ec-43e8-a99a-5f2bcade50c8",
   "metadata": {},
   "outputs": [
    {
     "name": "stdout",
     "output_type": "stream",
     "text": [
      "cobrakbase 0.2.8\n"
     ]
    }
   ],
   "source": [
    "import cobrakbase\n",
    "import cobra\n",
    "import json\n",
    "from cobrakbase.core.kbaseobject import KBaseObject\n",
    "#%run ../../cobrakbase/AbstractHandleClient.py"
   ]
  },
  {
   "cell_type": "code",
   "execution_count": 2,
   "id": "c8388342-f738-40d8-a921-5f821f247a06",
   "metadata": {},
   "outputs": [],
   "source": [
    "kbase = cobrakbase.KBaseAPI()"
   ]
  },
  {
   "cell_type": "code",
   "execution_count": null,
   "id": "210ac085-d01b-4e42-8d81-7096118e24a4",
   "metadata": {},
   "outputs": [],
   "source": [
    "metagenome_assembly = kbase.get_from_ws('ANME_2C_COP2.fa_assembly.meta.RAST', 92287)\n",
    "metagenome_assembly.features_handle_ref"
   ]
  },
  {
   "cell_type": "code",
   "execution_count": 7,
   "id": "0edab36c-f035-4b72-b214-2c5c19d6409c",
   "metadata": {},
   "outputs": [],
   "source": [
    "model1 = kbase.get_from_ws('GCF_000005845.2.RAST_test_edit.mdl', 12218)\n",
    "model2 = kbase.get_object('GCF_000005845.2.RAST_test_edit.mdl', 12218)"
   ]
  },
  {
   "cell_type": "code",
   "execution_count": 2,
   "id": "25eeabe2-610a-41a3-bcd3-d2333d841504",
   "metadata": {},
   "outputs": [],
   "source": [
    "%run /home/fliu/workspace/python3/cobrakbase/cobrakbase/core/kbasefba/fbamodel_builder.py\n",
    "model2 = None\n",
    "with open('./test_kbase_model.json', 'r') as fh:\n",
    "    model2 = json.load(fh)"
   ]
  },
  {
   "cell_type": "code",
   "execution_count": 3,
   "id": "69adf391-ca2c-4f3b-b819-d187b0c2fff9",
   "metadata": {},
   "outputs": [],
   "source": [
    "from cobra.core import Metabolite\n",
    "builder = FBAModelBuilder(model2)\n",
    "model1 = builder.build()\n",
    "model1.add_metabolites([Metabolite('cpy00137_c0', 'C6H5O7', 'CitrateX_c0', 0, 'c0')])"
   ]
  },
  {
   "cell_type": "code",
   "execution_count": 10,
   "id": "57c1259d-de73-42b1-83b5-06da563f672f",
   "metadata": {},
   "outputs": [
    {
     "data": {
      "text/plain": [
       "True"
      ]
     },
     "execution_count": 10,
     "metadata": {},
     "output_type": "execute_result"
    }
   ],
   "source": [
    "model1.reactions.bio2._to_json() == model2['biomasses'][1]"
   ]
  },
  {
   "cell_type": "code",
   "execution_count": 19,
   "id": "9cd9ac3a-e748-4a1f-ab3c-b5cf16d7d002",
   "metadata": {},
   "outputs": [],
   "source": [
    "dna_value = -1"
   ]
  },
  {
   "cell_type": "code",
   "execution_count": 20,
   "id": "aef1a2b5-7e53-4cf2-9c70-1531dfac086e",
   "metadata": {},
   "outputs": [
    {
     "data": {
      "text/plain": [
       "-1"
      ]
     },
     "execution_count": 20,
     "metadata": {},
     "output_type": "execute_result"
    }
   ],
   "source": [
    "dna = dna_value or 1\n",
    "dna"
   ]
  },
  {
   "cell_type": "code",
   "execution_count": 22,
   "id": "a7c698c1-9bc7-4745-84bd-1ef539622247",
   "metadata": {},
   "outputs": [
    {
     "data": {
      "text/plain": [
       "[{'coefficient': 1,\n",
       "  'edits': {},\n",
       "  'gapfill_data': {},\n",
       "  'modelcompound_ref': '~/modelcompounds/id/cpd00067_c0'},\n",
       " {'coefficient': -1,\n",
       "  'edits': {},\n",
       "  'gapfill_data': {},\n",
       "  'modelcompound_ref': '~/modelcompounds/id/cpd00002_c0'},\n",
       " {'coefficient': 1,\n",
       "  'edits': {},\n",
       "  'gapfill_data': {},\n",
       "  'modelcompound_ref': '~/modelcompounds/id/cpd00008_c0'},\n",
       " {'coefficient': -1,\n",
       "  'edits': {},\n",
       "  'gapfill_data': {},\n",
       "  'modelcompound_ref': '~/modelcompounds/id/cpd00001_c0'},\n",
       " {'coefficient': 1,\n",
       "  'edits': {},\n",
       "  'gapfill_data': {},\n",
       "  'modelcompound_ref': '~/modelcompounds/id/cpd00009_c0'}]"
      ]
     },
     "execution_count": 22,
     "metadata": {},
     "output_type": "execute_result"
    }
   ],
   "source": [
    "model2['biomasses'][1]['biomasscompounds']"
   ]
  },
  {
   "cell_type": "code",
   "execution_count": 16,
   "id": "4a72dc7e-b9f0-4d3e-acc8-f3a96583aba4",
   "metadata": {},
   "outputs": [],
   "source": [
    "model1.metabolites[0].name = 'Citrates_c0'"
   ]
  },
  {
   "cell_type": "code",
   "execution_count": 6,
   "id": "93b69759-53a9-4c83-b099-0f897cb9361e",
   "metadata": {},
   "outputs": [
    {
     "data": {
      "text/plain": [
       "191"
      ]
     },
     "execution_count": 6,
     "metadata": {},
     "output_type": "execute_result"
    }
   ],
   "source": [
    "len(model1.metabolites)"
   ]
  },
  {
   "cell_type": "code",
   "execution_count": 44,
   "id": "8a3162ee-c91f-494a-9d49-30bbe286d7b6",
   "metadata": {},
   "outputs": [
    {
     "name": "stdout",
     "output_type": "stream",
     "text": [
      "rxn00265_c0 {'sbo': 'SBO:0000176', 'seed.reaction': 'rxn00265'} False False\n",
      "rxn00549_c0 {'sbo': 'SBO:0000176', 'seed.reaction': 'rxn00549'} False False\n",
      "rxn01123_c0 {'sbo': 'SBO:0000176', 'seed.reaction': 'rxn01123'} False False\n",
      "rxn14427_c0 {'sbo': 'SBO:0000176', 'seed.reaction': 'rxn14427'} False False\n",
      "rxn00441_c0 {'sbo': 'SBO:0000176', 'seed.reaction': 'rxn00441'} False False\n",
      "rxn05561_c0 {'sbo': 'SBO:0000176', 'seed.reaction': 'rxn05561'} False False\n",
      "rxn05040_c0 {'sbo': 'SBO:0000176', 'seed.reaction': 'rxn05040'} False False\n",
      "rxn05581_c0 {'sbo': 'SBO:0000176', 'seed.reaction': 'rxn05581'} False False\n",
      "rxn00569_c0 {'sbo': 'SBO:0000176', 'seed.reaction': 'rxn00569'} False False\n",
      "rxn00545_c0 {'sbo': 'SBO:0000176', 'seed.reaction': 'rxn00545'} False False\n",
      "rxn00874_c0 {'sbo': 'SBO:0000176', 'seed.reaction': 'rxn00874'} False False\n",
      "rxn01333_c0 {'sbo': 'SBO:0000176', 'seed.reaction': 'rxn01333'} False False\n",
      "rxn05467_c0 {'sbo': 'SBO:0000176', 'seed.reaction': 'rxn05467'} False False\n",
      "rxn00224_c0 {'sbo': 'SBO:0000176', 'seed.reaction': 'rxn00224'} False False\n",
      "rxn00256_c0 {'sbo': 'SBO:0000176', 'seed.reaction': 'rxn00256'} False False\n",
      "rxn00011_c0 {'sbo': 'SBO:0000176', 'seed.reaction': 'rxn00011'} False False\n",
      "rxn00336_c0 {'sbo': 'SBO:0000176', 'seed.reaction': 'rxn00336'} False False\n",
      "rxn00602_c0 {'sbo': 'SBO:0000176', 'seed.reaction': 'rxn00602'} False False\n",
      "rxn09272_c0 {'sbo': 'SBO:0000176', 'seed.reaction': 'rxn09272'} False False\n",
      "rxn00747_c0 {'sbo': 'SBO:0000176', 'seed.reaction': 'rxn00747'} False False\n",
      "rxn05602_c0 {'sbo': 'SBO:0000176', 'seed.reaction': 'rxn05602'} False False\n",
      "rxn05937_c0 {'sbo': 'SBO:0000176', 'seed.reaction': 'rxn05937'} False False\n",
      "rxn00785_c0 {'sbo': 'SBO:0000176', 'seed.reaction': 'rxn00785'} False False\n",
      "rxn00974_c0 {'sbo': 'SBO:0000176', 'seed.reaction': 'rxn00974'} False False\n",
      "rxn00330_c0 {'sbo': 'SBO:0000176', 'seed.reaction': 'rxn00330'} False False\n",
      "rxn08179_c0 {'sbo': 'SBO:0000176', 'seed.reaction': 'rxn08179'} False False\n",
      "rxn05488_c0 {'sbo': 'SBO:0000176', 'seed.reaction': 'rxn05488'} False False\n",
      "rxn05209_c0 {'sbo': 'SBO:0000176', 'seed.reaction': 'rxn05209'} False False\n",
      "rxn01116_c0 {'sbo': 'SBO:0000176', 'seed.reaction': 'rxn01116'} False False\n",
      "rxn08556_c0 {'sbo': 'SBO:0000176', 'seed.reaction': 'rxn08556'} False False\n",
      "rxn00777_c0 {'sbo': 'SBO:0000176', 'seed.reaction': 'rxn00777'} False False\n",
      "rxn00285_c0 {'sbo': 'SBO:0000176', 'seed.reaction': 'rxn00285'} False False\n",
      "rxn01115_c0 {'sbo': 'SBO:0000176', 'seed.reaction': 'rxn01115'} False False\n",
      "rxn00147_c0 {'sbo': 'SBO:0000176', 'seed.reaction': 'rxn00147'} False False\n",
      "rxn01241_c0 {'sbo': 'SBO:0000176', 'seed.reaction': 'rxn01241'} False False\n",
      "rxn00122_c0 {'sbo': 'SBO:0000176', 'seed.reaction': 'rxn00122'} False False\n",
      "rxn04794_c0 {'sbo': 'SBO:0000176', 'seed.reaction': 'rxn04794'} False False\n",
      "rxn00543_c0 {'sbo': 'SBO:0000176', 'seed.reaction': 'rxn00543'} False False\n",
      "rxn00225_c0 {'sbo': 'SBO:0000176', 'seed.reaction': 'rxn00225'} False False\n",
      "rxn05145_c0 {'sbo': 'SBO:0000176', 'seed.reaction': 'rxn05145'} False False\n",
      "rxn01106_c0 {'sbo': 'SBO:0000176', 'seed.reaction': 'rxn01106'} False False\n",
      "rxn01334_c0 {'sbo': 'SBO:0000176', 'seed.reaction': 'rxn01334'} False False\n",
      "rxn08734_c0 {'sbo': 'SBO:0000176', 'seed.reaction': 'rxn08734'} False False\n",
      "rxn00875_c0 {'sbo': 'SBO:0000176', 'seed.reaction': 'rxn00875'} False False\n",
      "rxn00786_c0 {'sbo': 'SBO:0000176', 'seed.reaction': 'rxn00786'} False False\n",
      "rxn00990_c0 {'sbo': 'SBO:0000176', 'seed.reaction': 'rxn00990'} False False\n",
      "rxn08557_c0 {'sbo': 'SBO:0000176', 'seed.reaction': 'rxn08557'} False False\n",
      "rxn00869_c0 {'sbo': 'SBO:0000176', 'seed.reaction': 'rxn00869'} False False\n",
      "rxn05627_c0 {'sbo': 'SBO:0000176', 'seed.reaction': 'rxn05627'} False False\n",
      "rxn01343_c0 {'sbo': 'SBO:0000176', 'seed.reaction': 'rxn01343'} False False\n",
      "rxn05528_c0 {'sbo': 'SBO:0000176', 'seed.reaction': 'rxn05528'} False False\n",
      "rxn11322_c0 {'sbo': 'SBO:0000176', 'seed.reaction': 'rxn11322'} False False\n",
      "rxn02342_c0 {'sbo': 'SBO:0000176', 'seed.reaction': 'rxn02342'} False False\n",
      "rxn09001_c0 {'sbo': 'SBO:0000176', 'seed.reaction': 'rxn09001'} False False\n",
      "rxn00148_c0 {'sbo': 'SBO:0000176', 'seed.reaction': 'rxn00148'} False False\n",
      "rxn00994_c0 {'sbo': 'SBO:0000176', 'seed.reaction': 'rxn00994'} False False\n",
      "rxn00159_c0 {'sbo': 'SBO:0000176', 'seed.reaction': 'rxn00159'} False False\n",
      "rxn01872_c0 {'sbo': 'SBO:0000176', 'seed.reaction': 'rxn01872'} False False\n",
      "rxn09003_c0 {'sbo': 'SBO:0000176', 'seed.reaction': 'rxn09003'} False False\n",
      "rxn08178_c0 {'sbo': 'SBO:0000176', 'seed.reaction': 'rxn08178'} False False\n",
      "rxn00199_c0 {'sbo': 'SBO:0000176', 'seed.reaction': 'rxn00199'} False False\n",
      "rxn00615_c0 {'sbo': 'SBO:0000176', 'seed.reaction': 'rxn00615'} False False\n",
      "rxn00392_c0 {'sbo': 'SBO:0000176', 'seed.reaction': 'rxn00392'} False False\n",
      "rxn08527_c0 {'sbo': 'SBO:0000176', 'seed.reaction': 'rxn08527'} False False\n",
      "rxn08355_c0 {'sbo': 'SBO:0000176', 'seed.reaction': 'rxn08355'} False False\n",
      "rxn00083_c0 {'sbo': 'SBO:0000176', 'seed.reaction': 'rxn00083'} False False\n",
      "rxn00935_c0 {'sbo': 'SBO:0000176', 'seed.reaction': 'rxn00935'} False False\n",
      "rxn00161_c0 {'sbo': 'SBO:0000176', 'seed.reaction': 'rxn00161'} False False\n",
      "rxn00985_c0 {'sbo': 'SBO:0000176', 'seed.reaction': 'rxn00985'} False False\n",
      "rxn03240_c0 {'sbo': 'SBO:0000176', 'seed.reaction': 'rxn03240'} False False\n",
      "rxn06777_c0 {'sbo': 'SBO:0000176', 'seed.reaction': 'rxn06777'} False False\n",
      "rxn03250_c0 {'sbo': 'SBO:0000176', 'seed.reaction': 'rxn03250'} False False\n",
      "rxn00288_c0 {'sbo': 'SBO:0000176', 'seed.reaction': 'rxn00288'} False False\n",
      "rxn14418_c0 {'sbo': 'SBO:0000176', 'seed.reaction': 'rxn14418'} False False\n",
      "rxn08173_c0 {'sbo': 'SBO:0000176', 'seed.reaction': 'rxn08173'} False False\n",
      "rxn00171_c0 {'sbo': 'SBO:0000176', 'seed.reaction': 'rxn00171'} False False\n",
      "rxn14420_c0 {'sbo': 'SBO:0000176', 'seed.reaction': 'rxn14420'} False False\n",
      "rxn14422_c0 {'sbo': 'SBO:0000176', 'seed.reaction': 'rxn14422'} False False\n",
      "rxn00248_c0 {'sbo': 'SBO:0000176', 'seed.reaction': 'rxn00248'} False False\n",
      "rxn00604_c0 {'sbo': 'SBO:0000176', 'seed.reaction': 'rxn00604'} False False\n",
      "rxn00371_c0 {'sbo': 'SBO:0000176', 'seed.reaction': 'rxn00371'} False False\n",
      "rxn05313_c0 {'sbo': 'SBO:0000176', 'seed.reaction': 'rxn05313'} False False\n",
      "rxn01100_c0 {'sbo': 'SBO:0000176', 'seed.reaction': 'rxn01100'} False False\n",
      "rxn00216_c0 {'sbo': 'SBO:0000176', 'seed.reaction': 'rxn00216'} False False\n",
      "rxn08655_c0 {'sbo': 'SBO:0000176', 'seed.reaction': 'rxn08655'} False False\n",
      "rxn00175_c0 {'sbo': 'SBO:0000176', 'seed.reaction': 'rxn00175'} False False\n",
      "rxn00499_c0 {'sbo': 'SBO:0000176', 'seed.reaction': 'rxn00499'} False False\n",
      "rxn00763_c0 {'sbo': 'SBO:0000176', 'seed.reaction': 'rxn00763'} False False\n",
      "rxn01476_c0 {'sbo': 'SBO:0000176', 'seed.reaction': 'rxn01476'} False False\n",
      "rxn00247_c0 {'sbo': 'SBO:0000176', 'seed.reaction': 'rxn00247'} False False\n",
      "rxn05625_c0 {'sbo': 'SBO:0000176', 'seed.reaction': 'rxn05625'} False False\n",
      "rxn10126_c0 {'sbo': 'SBO:0000176', 'seed.reaction': 'rxn10126'} False False\n",
      "rxn00173_c0 {'sbo': 'SBO:0000176', 'seed.reaction': 'rxn00173'} False False\n",
      "rxn06493_c0 {'sbo': 'SBO:0000176', 'seed.reaction': 'rxn06493'} False False\n",
      "rxn02167_c0 {'sbo': 'SBO:0000176', 'seed.reaction': 'rxn02167'} False False\n",
      "rxn01388_c0 {'sbo': 'SBO:0000176', 'seed.reaction': 'rxn01388'} False False\n",
      "rxn00459_c0 {'sbo': 'SBO:0000176', 'seed.reaction': 'rxn00459'} False False\n",
      "rxn00102_c0 {'sbo': 'SBO:0000176', 'seed.reaction': 'rxn00102'} False False\n",
      "rxn00500_c0 {'sbo': 'SBO:0000176', 'seed.reaction': 'rxn00500'} False False\n",
      "rxn00670_c0 {'sbo': 'SBO:0000176', 'seed.reaction': 'rxn00670'} False False\n",
      "rxn00512_c0 {'sbo': 'SBO:0000176', 'seed.reaction': 'rxn00512'} False False\n",
      "rxn01275_c0 {'sbo': 'SBO:0000176', 'seed.reaction': 'rxn01275'} False False\n",
      "rxn02376_c0 {'sbo': 'SBO:0000176', 'seed.reaction': 'rxn02376'} False False\n",
      "rxn01871_c0 {'sbo': 'SBO:0000176', 'seed.reaction': 'rxn01871'} False False\n",
      "rxn01870_c0 {'sbo': 'SBO:0000176', 'seed.reaction': 'rxn01870'} False False\n",
      "rxn01200_c0 {'sbo': 'SBO:0000176', 'seed.reaction': 'rxn01200'} False False\n",
      "rxn14419_c0 {'sbo': 'SBO:0000176', 'seed.reaction': 'rxn14419'} False False\n",
      "rxn03249_c0 {'sbo': 'SBO:0000176', 'seed.reaction': 'rxn03249'} False False\n",
      "rxn00160_c0 {'sbo': 'SBO:0000176', 'seed.reaction': 'rxn00160'} False False\n",
      "rxn05468_c0 {'sbo': 'SBO:0000176', 'seed.reaction': 'rxn05468'} False False\n",
      "rxn01806_c0 {'sbo': 'SBO:0000176', 'seed.reaction': 'rxn01806'} False False\n",
      "rxn08901_c0 {'sbo': 'SBO:0000176', 'seed.reaction': 'rxn08901'} False False\n",
      "rxn00558_c0 {'sbo': 'SBO:0000176', 'seed.reaction': 'rxn00558'} False False\n",
      "rxn01452_c0 {'sbo': 'SBO:0000176', 'seed.reaction': 'rxn01452'} False False\n",
      "rxn05226_c0 {'sbo': 'SBO:0000176', 'seed.reaction': 'rxn05226'} False False\n",
      "rxn00178_c0 {'sbo': 'SBO:0000176', 'seed.reaction': 'rxn00178'} False False\n",
      "rxn00157_c0 {'sbo': 'SBO:0000176', 'seed.reaction': 'rxn00157'} False False\n",
      "rxn00623_c0 {'sbo': 'SBO:0000176', 'seed.reaction': 'rxn00623'} False False\n",
      "rxn10122_c0 {'sbo': 'SBO:0000176', 'seed.reaction': 'rxn10122'} False False\n",
      "rxn39175_c0 {'sbo': 'SBO:0000176', 'seed.reaction': 'rxn39175'} False False\n",
      "rxn00568_c0 {'sbo': 'SBO:0000176', 'seed.reaction': 'rxn00568'} False False\n",
      "rxn09314_c0 {'sbo': 'SBO:0000176', 'seed.reaction': 'rxn09314'} False False\n",
      "rxn02314_c0 {'sbo': 'SBO:0000176', 'seed.reaction': 'rxn02314'} False False\n",
      "rxn03884_c0 {'sbo': 'SBO:0000176', 'seed.reaction': 'rxn03884'} False False\n",
      "rxn05559_c0 {'sbo': 'SBO:0000176', 'seed.reaction': 'rxn05559'} False False\n",
      "rxn08971_c0 {'sbo': 'SBO:0000176', 'seed.reaction': 'rxn08971'} False False\n",
      "rxn00616_c0 {'sbo': 'SBO:0000176', 'seed.reaction': 'rxn00616'} False False\n",
      "rxn01477_c0 {'sbo': 'SBO:0000176', 'seed.reaction': 'rxn01477'} False False\n",
      "rxn00770_c0 {'sbo': 'SBO:0000176', 'seed.reaction': 'rxn00770'} False False\n",
      "rxn14421_c0 {'sbo': 'SBO:0000176', 'seed.reaction': 'rxn14421'} False False\n",
      "rxn00077_c0 {'sbo': 'SBO:0000176', 'seed.reaction': 'rxn00077'} False False\n",
      "rxn06526_c0 {'sbo': 'SBO:0000176', 'seed.reaction': 'rxn06526'} False False\n",
      "rxn00251_c0 {'sbo': 'SBO:0000176', 'seed.reaction': 'rxn00251'} False False\n",
      "rxn08975_c0 {'sbo': 'SBO:0000176', 'seed.reaction': 'rxn08975'} False False\n",
      "rxn00781_c0 {'sbo': 'SBO:0000176', 'seed.reaction': 'rxn00781'} False False\n",
      "rxn08656_c0 {'sbo': 'SBO:0000176', 'seed.reaction': 'rxn08656'} False False\n",
      "rxn00762_c0 {'sbo': 'SBO:0000176', 'seed.reaction': 'rxn00762'} False False\n",
      "rxn05319_c0 {'sbo': 'SBO:0000176', 'seed.reaction': 'rxn05319'} False False\n",
      "rxn01387_c0 {'sbo': 'SBO:0000176', 'seed.reaction': 'rxn01387'} False False\n",
      "rxn00799_c0 {'sbo': 'SBO:0000176', 'seed.reaction': 'rxn00799'} False False\n",
      "rxn09295_c0 {'sbo': 'SBO:0000176', 'seed.reaction': 'rxn09295'} False False\n",
      "rxn00001_c0 {'sbo': 'SBO:0000176', 'seed.reaction': 'rxn00001'} False False\n",
      "rxn05312_c0 {'sbo': 'SBO:0000176', 'seed.reaction': 'rxn05312'} False False\n",
      "rxn08976_c0 {'sbo': 'SBO:0000176', 'seed.reaction': 'rxn08976'} False False\n",
      "rxn05493_c0 {'sbo': 'SBO:0000176', 'seed.reaction': 'rxn05493'} False False\n",
      "rxn00507_c0 {'sbo': 'SBO:0000176', 'seed.reaction': 'rxn00507'} False False\n",
      "rxn00086_c0 {'sbo': 'SBO:0000176', 'seed.reaction': 'rxn00086'} False False\n",
      "rxn00748_c0 {'sbo': 'SBO:0000176', 'seed.reaction': 'rxn00748'} False False\n",
      "rxn00097_c0 {'sbo': 'SBO:0000176', 'seed.reaction': 'rxn00097'} False False\n",
      "rxn00006_c0 {'sbo': 'SBO:0000176', 'seed.reaction': 'rxn00006'} False False\n",
      "rxn00612_c0 {'sbo': 'SBO:0000176', 'seed.reaction': 'rxn00612'} False False\n",
      "rxn00379_c0 {'sbo': 'SBO:0000176', 'seed.reaction': 'rxn00379'} False False\n",
      "rxn00206_c0 {'sbo': 'SBO:0000176', 'seed.reaction': 'rxn00206'} False False\n",
      "rxn00668_c0 {'sbo': 'SBO:0000176', 'seed.reaction': 'rxn00668'} False False\n",
      "rxn08900_c0 {'sbo': 'SBO:0000176', 'seed.reaction': 'rxn08900'} False False\n",
      "rxn00360_c0 {'sbo': 'SBO:0000176', 'seed.reaction': 'rxn00360'} False False\n",
      "rxn08558_c0 {'sbo': 'SBO:0000176', 'seed.reaction': 'rxn08558'} False False\n",
      "rxn08518_c0 {'sbo': 'SBO:0000176', 'seed.reaction': 'rxn08518'} False False\n",
      "rxn05654_c0 {'sbo': 'SBO:0000176', 'seed.reaction': 'rxn05654'} False False\n",
      "rxn01834_c0 {'sbo': 'SBO:0000176', 'seed.reaction': 'rxn01834'} False False\n",
      "rxn09167_c0 {'sbo': 'SBO:0000176', 'seed.reaction': 'rxn09167'} False False\n",
      "rxn08783_c0 {'sbo': 'SBO:0000176', 'seed.reaction': 'rxn08783'} False False\n",
      "rxn08528_c0 {'sbo': 'SBO:0000176', 'seed.reaction': 'rxn08528'} False False\n",
      "rxn05466_c0 {'sbo': 'SBO:0000176', 'seed.reaction': 'rxn05466'} False False\n",
      "rxn01274_c0 {'sbo': 'SBO:0000176', 'seed.reaction': 'rxn01274'} False False\n",
      "rxn08792_c0 {'sbo': 'SBO:0000176', 'seed.reaction': 'rxn08792'} False False\n",
      "rxn05683_c0 {'sbo': 'SBO:0000176', 'seed.reaction': 'rxn05683'} False False\n",
      "rxn00611_c0 {'sbo': 'SBO:0000176', 'seed.reaction': 'rxn00611'} False False\n",
      "rxn08793_c0 {'sbo': 'SBO:0000176', 'seed.reaction': 'rxn08793'} False False\n",
      "rxn00361_c0 {'sbo': 'SBO:0000176', 'seed.reaction': 'rxn00361'} False False\n",
      "rxn15021_c0 {'sbo': 'SBO:0000176', 'seed.reaction': 'rxn15021'} False False\n",
      "rxn00154_c0 {'sbo': 'SBO:0000176', 'seed.reaction': 'rxn00154'} False False\n",
      "rxn10570_c0 {'sbo': 'SBO:0000176', 'seed.reaction': 'rxn10570'} False False\n",
      "rxn09174_c0 {'sbo': 'SBO:0000176', 'seed.reaction': 'rxn09174'} False False\n",
      "rxn05469_c0 {'sbo': 'SBO:0000176', 'seed.reaction': 'rxn05469'} False False\n",
      "rxn17275_c0 {'sbo': 'SBO:0000176', 'seed.reaction': 'rxn17275'} False False\n",
      "rxn08428_c0 {'sbo': 'SBO:0000176', 'seed.reaction': 'rxn08428'} False False\n",
      "rxn10577_c0 {'sbo': 'SBO:0000176', 'seed.reaction': 'rxn10577'} False False\n",
      "rxn09008_c0 {'sbo': 'SBO:0000176', 'seed.reaction': 'rxn09008'} False False\n",
      "rxn08691_c0 {'sbo': 'SBO:0000176', 'seed.reaction': 'rxn08691'} False False\n",
      "rxn08966_c0 {'sbo': 'SBO:0000176', 'seed.reaction': 'rxn08966'} False False\n",
      "rxn09004_c0 {'sbo': 'SBO:0000176', 'seed.reaction': 'rxn09004'} False False\n",
      "rxn08350_c0 {'sbo': 'SBO:0000176', 'seed.reaction': 'rxn08350'} False False\n",
      "rxn27318_c0 {'sbo': 'SBO:0000176', 'seed.reaction': 'rxn27318'} False False\n",
      "rxn10470_c0 {'sbo': 'SBO:0000176', 'seed.reaction': 'rxn10470'} False False\n",
      "rxn08359_c0 {'sbo': 'SBO:0000176', 'seed.reaction': 'rxn08359'} False False\n",
      "rxn09260_c0 {'sbo': 'SBO:0000176', 'seed.reaction': 'rxn09260'} False False\n",
      "rxn09330_c0 {'sbo': 'SBO:0000176', 'seed.reaction': 'rxn09330'} False False\n",
      "rxn05730_c0 {'sbo': 'SBO:0000176', 'seed.reaction': 'rxn05730'} False False\n",
      "bio1 {'sbo': 'SBO:0000629'} True False\n",
      "bio2 {'sbo': 'SBO:0000629'} True False\n",
      "EX_cpd00211_e0 {'sbo': 'SBO:0000627'} False True\n",
      "EX_cpd00363_e0 {'sbo': 'SBO:0000627'} False True\n",
      "EX_cpd00100_e0 {'sbo': 'SBO:0000627'} False True\n",
      "EX_cpd00209_e0 {'sbo': 'SBO:0000627'} False True\n",
      "EX_cpd08021_e0 {'sbo': 'SBO:0000627'} False True\n",
      "EX_cpd00009_e0 {'sbo': 'SBO:0000627'} False True\n",
      "EX_cpd00106_e0 {'sbo': 'SBO:0000627'} False True\n",
      "EX_cpd00027_e0 {'sbo': 'SBO:0000627'} False True\n",
      "EX_cpd00007_e0 {'sbo': 'SBO:0000627'} False True\n",
      "EX_cpd00001_e0 {'sbo': 'SBO:0000627'} False True\n",
      "EX_cpd00013_e0 {'sbo': 'SBO:0000627'} False True\n",
      "EX_cpd00268_e0 {'sbo': 'SBO:0000627'} False True\n",
      "EX_cpd00020_e0 {'sbo': 'SBO:0000627'} False True\n",
      "EX_cpd00075_e0 {'sbo': 'SBO:0000627'} False True\n",
      "EX_cpd00036_e0 {'sbo': 'SBO:0000627'} False True\n",
      "EX_cpd00067_e0 {'sbo': 'SBO:0000627'} False True\n",
      "EX_cpd00159_e0 {'sbo': 'SBO:0000627'} False True\n",
      "EX_cpd03662_e0 {'sbo': 'SBO:0000627'} False True\n",
      "EX_cpd00811_e0 {'sbo': 'SBO:0000627'} False True\n",
      "EX_cpd00971_e0 {'sbo': 'SBO:0000627'} False True\n",
      "EX_cpd00011_e0 {'sbo': 'SBO:0000627'} False True\n",
      "EX_cpd01414_e0 {'sbo': 'SBO:0000627'} False True\n",
      "EX_cpd11640_e0 {'sbo': 'SBO:0000627'} False True\n",
      "EX_cpd00659_e0 {'sbo': 'SBO:0000627'} False True\n",
      "EX_cpd00024_e0 {'sbo': 'SBO:0000627'} False True\n",
      "EX_cpd00081_e0 {'sbo': 'SBO:0000627'} False True\n",
      "EX_cpd00324_e0 {'sbo': 'SBO:0000627'} False True\n",
      "EX_cpd00029_e0 {'sbo': 'SBO:0000627'} False True\n",
      "EX_cpd00441_e0 {'sbo': 'SBO:0000627'} False True\n",
      "EX_cpd00528_e0 {'sbo': 'SBO:0000627'} False True\n",
      "EX_cpd01947_e0 {'sbo': 'SBO:0000627'} False True\n",
      "EX_cpd00047_e0 {'sbo': 'SBO:0000627'} False True\n",
      "EX_cpd00116_e0 {'sbo': 'SBO:0000627'} False True\n",
      "EX_cpd00058_e0 {'sbo': 'SBO:0000627'} False True\n",
      "EX_cpd00221_e0 {'sbo': 'SBO:0000627'} False True\n",
      "EX_cpd00418_e0 {'sbo': 'SBO:0000627'} False True\n",
      "EX_cpd00450_e0 {'sbo': 'SBO:0000627'} False True\n"
     ]
    }
   ],
   "source": [
    "from cobrakbase.core.kbasefba.fbamodel_from_cobra import CobraModelConverter\n",
    "for mr in model1.reactions:\n",
    "    print(mr.id, mr.annotation, CobraModelConverter.reaction_is_biomass(mr), CobraModelConverter.reaction_is_drain(mr))"
   ]
  },
  {
   "cell_type": "code",
   "execution_count": 37,
   "id": "758daf78-5a06-4a4e-807a-0e96af2b9626",
   "metadata": {},
   "outputs": [
    {
     "data": {
      "text/plain": [
       "True"
      ]
     },
     "execution_count": 37,
     "metadata": {},
     "output_type": "execute_result"
    }
   ],
   "source": [
    "'modelReactionProteins' in dir(mr)"
   ]
  },
  {
   "cell_type": "code",
   "execution_count": 34,
   "id": "30de2a09-737d-45c0-8c37-6169a629b11f",
   "metadata": {},
   "outputs": [
    {
     "data": {
      "text/plain": [
       "[{'complex_ref': '~/template/complexes/name/cpx00792',\n",
       "  'modelReactionProteinSubunits': [{'feature_refs': ['~/genome/features/id/b0615'],\n",
       "    'note': '',\n",
       "    'optionalSubunit': 0,\n",
       "    'role': 'ftr06920',\n",
       "    'triggering': 1}],\n",
       "  'note': '',\n",
       "  'source': ''},\n",
       " {'complex_ref': '~/template/complexes/name/cpx00791',\n",
       "  'modelReactionProteinSubunits': [{'feature_refs': ['~/genome/features/id/b0616'],\n",
       "    'note': '',\n",
       "    'optionalSubunit': 0,\n",
       "    'role': 'ftr06919',\n",
       "    'triggering': 1}],\n",
       "  'note': '',\n",
       "  'source': ''},\n",
       " {'complex_ref': '~/template/complexes/name/tcpx00244',\n",
       "  'modelReactionProteinSubunits': [{'feature_refs': ['~/genome/features/id/b0617'],\n",
       "    'note': '',\n",
       "    'optionalSubunit': 0,\n",
       "    'role': 'tftr00254',\n",
       "    'triggering': 1}],\n",
       "  'note': '',\n",
       "  'source': ''}]"
      ]
     },
     "execution_count": 34,
     "metadata": {},
     "output_type": "execute_result"
    }
   ],
   "source": [
    "mr.modelReactionProteins"
   ]
  },
  {
   "cell_type": "code",
   "execution_count": 17,
   "id": "2c32987e-51e6-4150-b996-0763fb8aeaf5",
   "metadata": {},
   "outputs": [],
   "source": [
    "model3 = model1.get_data()"
   ]
  },
  {
   "cell_type": "code",
   "execution_count": 18,
   "id": "be20d506-122f-4e55-b756-8ae7e257a2fb",
   "metadata": {},
   "outputs": [
    {
     "data": {
      "text/plain": [
       "{'id': 'cpd00137_c0',\n",
       " 'name': 'Citrates_c0',\n",
       " 'charge': -3,\n",
       " 'formula': 'C6H5O7',\n",
       " 'aliases': [],\n",
       " 'dblinks': {},\n",
       " 'compound_ref': '~/template/compounds/id/cpd00137',\n",
       " 'modelcompartment_ref': '~/modelcompartments/id/c0',\n",
       " 'smiles': 'O=C([O-])CC(O)(CC(=O)[O-])C(=O)[O-]',\n",
       " 'inchikey': 'KRKNYBCHXYNGOX-UHFFFAOYSA-K',\n",
       " 'string_attributes': {},\n",
       " 'numerical_attributes': {}}"
      ]
     },
     "execution_count": 18,
     "metadata": {},
     "output_type": "execute_result"
    }
   ],
   "source": [
    "model1.metabolites[0]._to_json()"
   ]
  },
  {
   "cell_type": "code",
   "execution_count": 29,
   "id": "ecba5ceb-556d-4713-9227-f0d6e8094beb",
   "metadata": {},
   "outputs": [
    {
     "data": {
      "text/plain": [
       "{'aliases': [],\n",
       " 'coverage': 3,\n",
       " 'dblinks': {},\n",
       " 'direction': '>',\n",
       " 'edits': {},\n",
       " 'gapfill_data': {},\n",
       " 'gene_count': 3,\n",
       " 'id': 'rxn00265_c0',\n",
       " 'maxforflux': 1000000,\n",
       " 'maxrevflux': 1000000,\n",
       " 'modelReactionProteins': [{'complex_ref': '~/template/complexes/name/cpx00792',\n",
       "   'modelReactionProteinSubunits': [{'feature_refs': ['~/genome/features/id/b0615'],\n",
       "     'note': '',\n",
       "     'optionalSubunit': 0,\n",
       "     'role': 'ftr06920',\n",
       "     'triggering': 1}],\n",
       "   'note': '',\n",
       "   'source': ''},\n",
       "  {'complex_ref': '~/template/complexes/name/cpx00791',\n",
       "   'modelReactionProteinSubunits': [{'feature_refs': ['~/genome/features/id/b0616'],\n",
       "     'note': '',\n",
       "     'optionalSubunit': 0,\n",
       "     'role': 'ftr06919',\n",
       "     'triggering': 1}],\n",
       "   'note': '',\n",
       "   'source': ''},\n",
       "  {'complex_ref': '~/template/complexes/name/tcpx00244',\n",
       "   'modelReactionProteinSubunits': [{'feature_refs': ['~/genome/features/id/b0617'],\n",
       "     'note': '',\n",
       "     'optionalSubunit': 0,\n",
       "     'role': 'tftr00254',\n",
       "     'triggering': 1}],\n",
       "   'note': '',\n",
       "   'source': ''}],\n",
       " 'modelReactionReagents': [{'coefficient': -1,\n",
       "   'modelcompound_ref': '~/modelcompounds/id/cpd00137_c0'},\n",
       "  {'coefficient': 1, 'modelcompound_ref': '~/modelcompounds/id/cpd00029_c0'},\n",
       "  {'coefficient': 1, 'modelcompound_ref': '~/modelcompounds/id/cpd00032_c0'}],\n",
       " 'modelcompartment_ref': '~/modelcompartments/id/c0',\n",
       " 'name': 'citrate oxaloacetate-lyase (forming acetate from the pro-S carboxymethyl group of citrate)_c0',\n",
       " 'numerical_attributes': {},\n",
       " 'probability': 1,\n",
       " 'protons': 0,\n",
       " 'reaction_ref': '~/template/reactions/id/rxn00265_c',\n",
       " 'string_attributes': {}}"
      ]
     },
     "execution_count": 29,
     "metadata": {},
     "output_type": "execute_result"
    }
   ],
   "source": [
    "model3['modelreactions'][0]"
   ]
  },
  {
   "cell_type": "code",
   "execution_count": 10,
   "id": "4ba022f2-05f0-446a-a99d-86fdc6f0db8a",
   "metadata": {},
   "outputs": [
    {
     "data": {
      "text/plain": [
       "{'id': 'cpd00137_c0',\n",
       " 'name': 'Citrate_c0',\n",
       " 'charge': -3,\n",
       " 'formula': 'C6H5O7',\n",
       " 'aliases': [],\n",
       " 'dblinks': {},\n",
       " 'compound_ref': '~/template/compounds/id/cpd00137',\n",
       " 'modelcompartment_ref': '~/modelcompartments/id/c0',\n",
       " 'smiles': 'O=C([O-])CC(O)(CC(=O)[O-])C(=O)[O-]',\n",
       " 'inchikey': 'KRKNYBCHXYNGOX-UHFFFAOYSA-K',\n",
       " 'string_attributes': {},\n",
       " 'numerical_attributes': {}}"
      ]
     },
     "execution_count": 10,
     "metadata": {},
     "output_type": "execute_result"
    }
   ],
   "source": [
    "model3['modelcompounds'][0]"
   ]
  },
  {
   "cell_type": "code",
   "execution_count": 20,
   "id": "c4918bd5-9424-4c0c-8bad-05c72b83e716",
   "metadata": {},
   "outputs": [
    {
     "data": {
      "text/plain": [
       "{'aliases': [],\n",
       " 'charge': -3,\n",
       " 'compound_ref': '~/template/compounds/id/cpd00137',\n",
       " 'dblinks': {},\n",
       " 'formula': 'C6H5O7',\n",
       " 'id': 'cpd00137_c0',\n",
       " 'inchikey': 'KRKNYBCHXYNGOX-UHFFFAOYSA-K',\n",
       " 'modelcompartment_ref': '~/modelcompartments/id/c0',\n",
       " 'name': 'Citrate_c0',\n",
       " 'numerical_attributes': {},\n",
       " 'smiles': 'O=C([O-])CC(O)(CC(=O)[O-])C(=O)[O-]',\n",
       " 'string_attributes': {}}"
      ]
     },
     "execution_count": 20,
     "metadata": {},
     "output_type": "execute_result"
    }
   ],
   "source": [
    "model2['modelcompounds'][0]"
   ]
  },
  {
   "cell_type": "code",
   "execution_count": 4,
   "id": "ada278a2-3d11-4273-a373-33769101397d",
   "metadata": {},
   "outputs": [],
   "source": [
    "d = {1: 2}"
   ]
  },
  {
   "cell_type": "code",
   "execution_count": 10,
   "id": "954b1863-0512-4a37-8d73-3909b2bd35e5",
   "metadata": {},
   "outputs": [],
   "source": [
    "d.get(2)"
   ]
  },
  {
   "cell_type": "code",
   "execution_count": 25,
   "id": "eac0f780-b7fd-47a2-aca1-bcd318922cd1",
   "metadata": {},
   "outputs": [
    {
     "data": {
      "text/plain": [
       "True"
      ]
     },
     "execution_count": 25,
     "metadata": {},
     "output_type": "execute_result"
    }
   ],
   "source": [
    "isinstance(model, KBaseObject)"
   ]
  },
  {
   "cell_type": "code",
   "execution_count": 29,
   "id": "167f3e97-4743-424a-954a-860b9d82f60a",
   "metadata": {},
   "outputs": [
    {
     "data": {
      "text/plain": [
       "{'__VERSION__': int,\n",
       " 'attributes': dict,\n",
       " 'biomasses': list,\n",
       " 'contig_coverages': dict,\n",
       " 'delete_biomasses': dict,\n",
       " 'deleted_reactions': dict,\n",
       " 'gapfilledcandidates': list,\n",
       " 'gapfillings': list,\n",
       " 'gapgens': list,\n",
       " 'genome_ref': str,\n",
       " 'id': str,\n",
       " 'loops': list,\n",
       " 'model_edits': list,\n",
       " 'modelcompartments': list,\n",
       " 'modelcompounds': list,\n",
       " 'modelreactions': list,\n",
       " 'name': str,\n",
       " 'other_genome_refs': list,\n",
       " 'quantopts': list,\n",
       " 'source': str,\n",
       " 'source_id': str,\n",
       " 'template_ref': str,\n",
       " 'template_refs': list,\n",
       " 'type': str}"
      ]
     },
     "execution_count": 29,
     "metadata": {},
     "output_type": "execute_result"
    }
   ],
   "source": [
    "model.data_keys"
   ]
  },
  {
   "cell_type": "code",
   "execution_count": 38,
   "id": "a1f293dd-613f-4ad3-886b-75aeea01f67d",
   "metadata": {},
   "outputs": [],
   "source": [
    "d1 = model.reactions.rxn00265_c0._to_json()\n",
    "d2 = model.modelreactions[0]"
   ]
  },
  {
   "cell_type": "code",
   "execution_count": 39,
   "id": "bbe3b7af-a905-4306-b724-23c7a56ed8c7",
   "metadata": {},
   "outputs": [
    {
     "name": "stdout",
     "output_type": "stream",
     "text": [
      "coverage\n",
      "gene_count\n"
     ]
    }
   ],
   "source": [
    "for k in d2:\n",
    "    if k not in d1:\n",
    "        print(k)"
   ]
  },
  {
   "cell_type": "code",
   "execution_count": 43,
   "id": "07502233-2046-4012-8773-774c7d216f25",
   "metadata": {},
   "outputs": [
    {
     "data": {
      "text/plain": [
       "{'c0': '', 'e0': ''}"
      ]
     },
     "execution_count": 43,
     "metadata": {},
     "output_type": "execute_result"
    }
   ],
   "source": [
    "model.compartments"
   ]
  },
  {
   "cell_type": "code",
   "execution_count": 10,
   "id": "9777db40-fff8-42c7-aeca-0d744ca6dd3a",
   "metadata": {},
   "outputs": [],
   "source": [
    "import modelseedpy\n",
    "biochem = modelseedpy.biochem.from_local('/home/fliu/workspace/python3/ModelSEEDDatabase/')\n",
    "inchikey_to_cpd = {}\n",
    "for cpd_id in biochem.compounds:\n",
    "    cpd = biochem.get_seed_compound(cpd_id)\n",
    "    if cpd.inchikey not in inchikey_to_cpd:\n",
    "        inchikey_to_cpd[cpd.inchikey] = set()\n",
    "    inchikey_to_cpd[cpd.inchikey].add(cpd_id)"
   ]
  },
  {
   "cell_type": "code",
   "execution_count": 16,
   "id": "2abb07f8-7c46-4752-983e-be85a1e500bb",
   "metadata": {},
   "outputs": [],
   "source": []
  },
  {
   "cell_type": "code",
   "execution_count": 15,
   "id": "cdb7dfca-832a-4894-8a71-d9184efec6d8",
   "metadata": {},
   "outputs": [
    {
     "data": {
      "text/plain": [
       "'XLYOFNOQVPJJNP-UHFFFAOYSA-N'"
      ]
     },
     "execution_count": 15,
     "metadata": {},
     "output_type": "execute_result"
    }
   ],
   "source": []
  },
  {
   "cell_type": "code",
   "execution_count": 3,
   "id": "cf1d79d9-604b-4d2c-ad70-2e813eb8eb7e",
   "metadata": {},
   "outputs": [
    {
     "name": "stdout",
     "output_type": "stream",
     "text": [
      "/home/fliu/workspace/python3/cobrakbase/examples/random_stuff\n"
     ]
    }
   ],
   "source": [
    "!pwd"
   ]
  },
  {
   "cell_type": "code",
   "execution_count": null,
   "id": "c63a72e8-62fd-4df9-8978-779f5efb28fe",
   "metadata": {},
   "outputs": [],
   "source": []
  },
  {
   "cell_type": "code",
   "execution_count": 5,
   "id": "723111a6-f248-44af-996c-77e1fbbf4c94",
   "metadata": {},
   "outputs": [],
   "source": [
    "class ShockException(Exception):\n",
    "    pass\n",
    "\n",
    "def download_file_from_kbase(token, file_id, file_path, is_handle_ref = 1,\n",
    "    handle_url = \"https://kbase.us/services/handle_service\",\n",
    "    shock_url = \"https://kbase.us/services/shock-api\",\n",
    "):\n",
    "    headers = {'Authorization': 'OAuth ' + token}  \n",
    "    \n",
    "    if is_handle_ref == 1:\n",
    "        hs = AbstractHandle(handle_url, token=token)\n",
    "        handles = hs.hids_to_handles([file_id])\n",
    "        file_id = handles[0]['id']\n",
    "    print(file_path)\n",
    "    if not os.path.exists(file_path):\n",
    "        try:\n",
    "            os.makedirs(file_path)\n",
    "        except OSError as exc:\n",
    "            print(exc)\n",
    "            raise\n",
    "    elif not os.path.isdir(file_path):\n",
    "        raise ShockException(\"file_path: %s must be directory\", file_path)\n",
    "    \n",
    "    node_url = shock_url + '/node/' + file_id\n",
    "    r = requests.get(node_url, headers=headers, allow_redirects=True)\n",
    "    print(r)\n",
    "    #return r\n",
    "    if not r.ok:\n",
    "        errtxt = ('Error downloading file from shock ' +\n",
    "          'node {}: ').format(file_id)\n",
    "        try:\n",
    "            err = json.loads(response.content)['error'][0]\n",
    "        except Exception:\n",
    "            # this means shock is down or not responding.\n",
    "            log(\"Couldn't parse response error content from Shock: \" +\n",
    "                response.content)\n",
    "            response.raise_for_status()\n",
    "        raise ShockException(errtxt + str(err))\n",
    "    \n",
    "    resp_obj = r.json()\n",
    "    size = resp_obj['data']['file']['size']\n",
    "    if not size:\n",
    "        raise ShockException('Node {} has no file'.format(shock_id))\n",
    "    \n",
    "    node_file_name = resp_obj['data']['file']['name']\n",
    "    attributes = resp_obj['data']['attributes']\n",
    "    if os.path.isdir(file_path):\n",
    "        file_path = os.path.join(file_path, node_file_name)\n",
    "    with open(file_path, 'wb') as fhandle:\n",
    "        with requests.get(node_url + '?download_raw', stream=True,headers=headers, allow_redirects=True) as r:\n",
    "            if not r.ok:\n",
    "                errtxt = ('Error downloading file from shock ' +\n",
    "                  'node {}: ').format(file_id)\n",
    "                try:\n",
    "                    err = json.loads(response.content)['error'][0]\n",
    "                except Exception:\n",
    "                    # this means shock is down or not responding.\n",
    "                    log(\"Couldn't parse response error content from Shock: \" +\n",
    "                        response.content)\n",
    "                    response.raise_for_status()\n",
    "                raise ShockException(errtxt + str(err))\n",
    "            for chunk in r.iter_content(1024):\n",
    "                if not chunk:\n",
    "                    break\n",
    "                fhandle.write(chunk)\n",
    "    return file_path"
   ]
  },
  {
   "cell_type": "code",
   "execution_count": 32,
   "id": "5de63903-5cea-4d0a-bbc4-c6417a7fdbc0",
   "metadata": {},
   "outputs": [
    {
     "name": "stdout",
     "output_type": "stream",
     "text": [
      "/home/fliu/workspace/jupyter/python3/cobrakbase/examples/random_stuff\n",
      "<Response [200]>\n"
     ]
    }
   ],
   "source": [
    "#print(download_file_from_kbase(\"<TOKEN>\",file_id = \"KBH_5023369\",file_path = \"/Users/chenry/\"))\n",
    "response = download_file_from_kbase(\"K6MO26MQ355EUTJCVPFYIXER4DRS7BWO\", file_id = \"KBH_5593329\", file_path = \"/home/fliu/workspace/jupyter/python3/cobrakbase/examples/random_stuff\")"
   ]
  },
  {
   "cell_type": "code",
   "execution_count": 35,
   "id": "39dd57b6-bc98-48eb-9789-6aa1e3cb445c",
   "metadata": {},
   "outputs": [
    {
     "data": {
      "text/plain": [
       "\u001b[0;31mSignature:\u001b[0m \u001b[0mresponse\u001b[0m\u001b[0;34m.\u001b[0m\u001b[0mraise_for_status\u001b[0m\u001b[0;34m(\u001b[0m\u001b[0;34m)\u001b[0m\u001b[0;34m\u001b[0m\u001b[0;34m\u001b[0m\u001b[0m\n",
       "\u001b[0;31mDocstring:\u001b[0m Raises :class:`HTTPError`, if one occurred.\n",
       "\u001b[0;31mFile:\u001b[0m      /usr/local/lib/python3.8/site-packages/requests/models.py\n",
       "\u001b[0;31mType:\u001b[0m      method\n"
      ]
     },
     "metadata": {},
     "output_type": "display_data"
    }
   ],
   "source": [
    "?response.raise_for_status"
   ]
  },
  {
   "cell_type": "code",
   "execution_count": 30,
   "id": "13980a70-0517-4254-9195-5661ca897074",
   "metadata": {},
   "outputs": [
    {
     "name": "stdout",
     "output_type": "stream",
     "text": [
      "/home/fliu/workspace/jupyter/python3/cobrakbase/examples/random_stuff\n",
      "[Errno 17] File exists: '/home/fliu/workspace/jupyter/python3/cobrakbase/examples/random_stuff'\n",
      "<Response [200]>\n",
      "/home/fliu/workspace/jupyter/python3/cobrakbase/examples/random_stuff/ANME_2C_COP2.fa_assembly.meta.RAST_features.json.gz\n"
     ]
    }
   ],
   "source": [
    "print()"
   ]
  },
  {
   "cell_type": "code",
   "execution_count": 6,
   "id": "db7e09e4-8277-4bcc-ad18-097ab12348be",
   "metadata": {},
   "outputs": [],
   "source": [
    "import os"
   ]
  },
  {
   "cell_type": "code",
   "execution_count": 36,
   "id": "46c0af40-9ab5-4af7-9016-402e7d9543a4",
   "metadata": {},
   "outputs": [],
   "source": [
    "import gzip\n",
    "f = gzip.open('ANME_2C_COP2.fa_assembly.meta.RAST_features.json.gz','rb')\n",
    "file_content = f.read()"
   ]
  },
  {
   "cell_type": "code",
   "execution_count": 41,
   "id": "922297a0-a437-4c47-888e-66dafc1d7bfb",
   "metadata": {},
   "outputs": [],
   "source": [
    "import json\n",
    "data = json.loads(file_content.decode(\"utf-8\"))"
   ]
  },
  {
   "cell_type": "code",
   "execution_count": 44,
   "id": "29bfe6c4-f2aa-4f8c-a003-5001f4abe35c",
   "metadata": {},
   "outputs": [
    {
     "data": {
      "text/plain": [
       "4790"
      ]
     },
     "execution_count": 44,
     "metadata": {},
     "output_type": "execute_result"
    }
   ],
   "source": [
    "len(data)"
   ]
  },
  {
   "cell_type": "code",
   "execution_count": 46,
   "id": "122cbb27-d4c9-438c-814f-2021c0df4108",
   "metadata": {},
   "outputs": [
    {
     "data": {
      "text/plain": [
       "{'CDS', 'gene'}"
      ]
     },
     "execution_count": 46,
     "metadata": {},
     "output_type": "execute_result"
    }
   ],
   "source": [
    "{o['type'] for o in data}"
   ]
  },
  {
   "cell_type": "code",
   "execution_count": 34,
   "id": "d8451a2a-60ad-4999-a20d-8beb080500d8",
   "metadata": {},
   "outputs": [],
   "source": [
    "classif = kbase.get_from_ws('ArcheaCLF_decision_tree_classifier_entropy', 77223)"
   ]
  },
  {
   "cell_type": "code",
   "execution_count": 35,
   "id": "0498910e-5bab-45a1-a7d4-295c3b83d3ea",
   "metadata": {},
   "outputs": [
    {
     "data": {
      "text/plain": [
       "dict_keys(['attribute_data', 'attribute_type', 'class_list_mapping', 'classifier_data', 'classifier_description', 'classifier_handle_ref', 'classifier_id', 'classifier_name', 'classifier_type', 'lib_name', 'number_of_attributes', 'number_of_genomes', 'training_set_ref', 'exclude_dict', 'data_keys', 'info', 'data', 'provenance', 'path', 'creator', 'orig_wsid', 'created', 'epoch', 'refs', 'copied', 'copy_source_inaccessible'])"
      ]
     },
     "execution_count": 35,
     "metadata": {},
     "output_type": "execute_result"
    }
   ],
   "source": [
    "classif.data.keys()"
   ]
  },
  {
   "cell_type": "code",
   "execution_count": 52,
   "id": "66587e35-0e0b-4ba8-82b5-505c728f0047",
   "metadata": {},
   "outputs": [
    {
     "data": {
      "text/plain": [
       "'KBH_4997360'"
      ]
     },
     "execution_count": 52,
     "metadata": {},
     "output_type": "execute_result"
    }
   ],
   "source": [
    "classif.data['classifier_handle_ref']"
   ]
  },
  {
   "cell_type": "code",
   "execution_count": 54,
   "id": "1ae6163a-a28a-4953-97e2-8020d753cf46",
   "metadata": {},
   "outputs": [
    {
     "name": "stdout",
     "output_type": "stream",
     "text": [
      "/home/fliu/workspace/jupyter/python3/cobrakbase/examples/random_stuff\n",
      "<Response [200]>\n"
     ]
    }
   ],
   "source": [
    "response = download_file_from_kbase(\"K6MO26MQ355EUTJCVPFYIXER4DRS7BWO\", file_id = \"KBH_4997360\", file_path = \"/home/fliu/workspace/jupyter/python3/cobrakbase/examples/random_stuff\")"
   ]
  },
  {
   "cell_type": "code",
   "execution_count": 14,
   "id": "7e816aa2-05a7-4115-95e4-9e4e25bd9699",
   "metadata": {},
   "outputs": [
    {
     "name": "stdout",
     "output_type": "stream",
     "text": [
      "0.23.2\n"
     ]
    }
   ],
   "source": [
    "import pickle\n",
    "from sklearn.neighbors import KNeighborsClassifier\n",
    "from sklearn.naive_bayes import GaussianNB\n",
    "from sklearn.linear_model import LogisticRegression\n",
    "from sklearn.tree import DecisionTreeClassifier\n",
    "from sklearn import svm\n",
    "from sklearn.neural_network import MLPClassifier\n",
    "import sklearn\n",
    "print(sklearn.__version__)"
   ]
  },
  {
   "cell_type": "code",
   "execution_count": 15,
   "id": "5e576f64-6642-4991-aaab-fcda8229b535",
   "metadata": {},
   "outputs": [],
   "source": [
    "with open('ArcheaCLF_decision_tree_classifier_entropy.pickle', 'rb') as fh:\n",
    "    current_categorizer = pickle.load(fh)"
   ]
  },
  {
   "cell_type": "code",
   "execution_count": 27,
   "id": "b6b3edaf-4679-47e8-af30-99a3f9a60eb5",
   "metadata": {},
   "outputs": [],
   "source": [
    "import numpy as np\n",
    "import pandas as pd"
   ]
  },
  {
   "cell_type": "code",
   "execution_count": 50,
   "id": "7d149295-bf2d-4f30-b87a-a7c8b1615d72",
   "metadata": {},
   "outputs": [],
   "source": [
    "genome_object_data = kbase.ws_client.get_objects2({'objects': [{'ref': '78503/3731/1'}]})['data'][0]['data']\n",
    "genome1 = kbase.get_from_ws('78503/3731/1')"
   ]
  },
  {
   "cell_type": "code",
   "execution_count": 39,
   "id": "f1b6f214-8210-45f7-949a-6aff1676b2e7",
   "metadata": {},
   "outputs": [],
   "source": [
    "res = createIndicatorMatrixX(['78503/3731/1'], kbase.ws_client, master_role_list)"
   ]
  },
  {
   "cell_type": "code",
   "execution_count": 102,
   "id": "2b94bc06-4af7-4ee9-a480-983203715f0c",
   "metadata": {},
   "outputs": [
    {
     "name": "stdout",
     "output_type": "stream",
     "text": [
      "features\n",
      "495 495\n"
     ]
    }
   ],
   "source": [
    "def get_list_functional_roles(genome_object_data):\n",
    "    list_functional_roles = {}\n",
    "\n",
    "    # figure out where functional roles are kept\n",
    "    keys_location = genome_object_data.keys()\n",
    "    if \"features\" in keys_location:\n",
    "        location_of_functional_roles = genome_object_data[\"features\"]\n",
    "        print('features')\n",
    "    elif \"non_coding_features\" in keys_location:\n",
    "        location_of_functional_roles = genome_object_data[\"non_coding_features\"]\n",
    "        print('non_coding_features')\n",
    "    elif \"cdss\" in keys_location:\n",
    "        location_of_functional_roles = genome_object_data[\"cdss\"]\n",
    "        print('cdss')\n",
    "    else:\n",
    "        raise ValueError(\"The functional roles are not under features, non_coding_features, or cdss...\")\n",
    "\n",
    "    # either the functional roles are under function or functions (really stupid...)\n",
    "    keys_function = location_of_functional_roles[0].keys()\n",
    "    \n",
    "    function_str = \"function\" if \"function\" in keys_function else \"functions\"\n",
    "    for functional_role in location_of_functional_roles:\n",
    "        try:\n",
    "            for role_to_insert in functional_role[function_str]:\n",
    "                if \" @ \" in role_to_insert:\n",
    "                    list_functional_roles[functional_role['id']] = role_to_insert.split(\" @ \")\n",
    "                elif \" / \" in role_to_insert:\n",
    "                    list_functional_roles[functional_role['id']] = role_to_insert.split(\" / \")\n",
    "                elif \"; \" in role_to_insert:\n",
    "                    list_functional_roles[functional_role['id']] = role_to_insert.split(\"; \")\n",
    "                elif 'hypothetical protein' in role_to_insert:\n",
    "                    pass\n",
    "                else:\n",
    "                    list_functional_roles[functional_role['id']] = {role_to_insert}\n",
    "        except KeyError as e:\n",
    "            # print(\"this is funcitonal role\")\n",
    "            # print(functional_role)\n",
    "            # print(\"this is list_functional_roles\")\n",
    "            # print(list_functional_roles)\n",
    "\n",
    "            # print(\"apparently some function list just don't have functions...\")\n",
    "            # ^^ this makes no sense...\n",
    "            pass\n",
    "\n",
    "    return list_functional_roles\n",
    "list_functional_roles = get_list_functional_roles(genome_object_data)\n",
    "print(len(list_functional_roles), len(set(list_functional_roles)))"
   ]
  },
  {
   "cell_type": "code",
   "execution_count": 97,
   "id": "50b8b3e7-21b0-45b1-adb7-a1019e0c9aa4",
   "metadata": {},
   "outputs": [],
   "source": [
    "#list(filter(lambda x: x['id'] == 'K645_RS02840', genome_object_data['features']))[0]"
   ]
  },
  {
   "cell_type": "code",
   "execution_count": 98,
   "id": "ef5b11d0-e2ea-4e46-a4ea-5e9c996f73ee",
   "metadata": {},
   "outputs": [],
   "source": [
    "#genome1.features.K645_RS02840.data"
   ]
  },
  {
   "cell_type": "code",
   "execution_count": 101,
   "id": "3e9b886a-7cd4-4357-a48e-51cf80a83c43",
   "metadata": {},
   "outputs": [
    {
     "name": "stdout",
     "output_type": "stream",
     "text": [
      "K645_RS00510 {'Bacterial checkpoint controller DisA with nucleotide-binding domain'} ######## {'Diadenylate cyclase spyDAC', 'Bacterial checkpoint controller DisA with nucleotide-binding domain'}\n",
      "K645_RS00585 {'Succinate-semialdehyde dehydrogenase [NADP+] (EC 1.2.1.79)'} ######## {'Succinate-semialdehyde dehydrogenase [NAD] (EC 1.2.1.24)', 'Succinate-semialdehyde dehydrogenase [NADP+] (EC 1.2.1.79)'}\n",
      "K645_RS00610 {'NADP-specific glutamate dehydrogenase (EC 1.4.1.4)'} ######## {'NAD-specific glutamate dehydrogenase (EC 1.4.1.2)', 'NADP-specific glutamate dehydrogenase (EC 1.4.1.4)'}\n",
      "K645_RS02840 {'Molybdenum transport protein, putative'} ######## {'ABC-type Fe3+ transport system protein', 'Molybdenum transport protein, putative'}\n",
      "K645_RS02945 {'PhnP protein'} ######## {'PhnP protein', 'Metal-dependent hydrolases of the beta-lactamase superfamily I'}\n"
     ]
    }
   ],
   "source": [
    "for k in list_functional_roles:\n",
    "    if k in list_functional_roles2:\n",
    "        f1 = set(list_functional_roles[k])\n",
    "        f2 = set(list_functional_roles2[k])\n",
    "        if f1 != f2:\n",
    "            print(k, f1, '########', f2)"
   ]
  },
  {
   "cell_type": "code",
   "execution_count": 111,
   "id": "b3d27641-3816-46ef-b8af-7b00895adcc9",
   "metadata": {},
   "outputs": [],
   "source": [
    "genome1.features.K645_RS02840.add_ontology_term('RAST', 'banada')"
   ]
  },
  {
   "cell_type": "code",
   "execution_count": 112,
   "id": "afb7dfcc-c707-4669-a3d0-dd101b26cf4a",
   "metadata": {},
   "outputs": [
    {
     "data": {
      "text/plain": [
       "{'RAST': ['lol', 'banada']}"
      ]
     },
     "execution_count": 112,
     "metadata": {},
     "output_type": "execute_result"
    }
   ],
   "source": [
    "genome1.features.K645_RS02840.ontology_terms"
   ]
  },
  {
   "cell_type": "code",
   "execution_count": 83,
   "id": "b5feac8c-83bd-480d-a283-808769e413d0",
   "metadata": {},
   "outputs": [],
   "source": [
    "#rast.f1('K645_RS02840', genome1.features.K645_RS02840.seq)"
   ]
  },
  {
   "cell_type": "code",
   "execution_count": 79,
   "id": "931ba282-7e6e-4f51-8080-64a4a9ba396a",
   "metadata": {},
   "outputs": [],
   "source": [
    "import modelseedpy\n",
    "rast = modelseedpy.RastClient()"
   ]
  },
  {
   "cell_type": "code",
   "execution_count": 103,
   "id": "94b7b5f5-800a-410e-b614-4653397079bf",
   "metadata": {},
   "outputs": [
    {
     "name": "stdout",
     "output_type": "stream",
     "text": [
      "538 538\n"
     ]
    }
   ],
   "source": [
    "list_functional_roles2 = {}\n",
    "for f in genome1.features:\n",
    "    if f.functions_unsplit != 'hypothetical protein':\n",
    "        list_functional_roles2[f.id] = f.functions\n",
    "print(len(list_functional_roles2), len(set(list_functional_roles2)))"
   ]
  },
  {
   "cell_type": "code",
   "execution_count": 104,
   "id": "de1e08ce-2e89-4c91-a6e6-47f7a1599a3f",
   "metadata": {},
   "outputs": [
    {
     "ename": "KeyError",
     "evalue": "0",
     "output_type": "error",
     "traceback": [
      "\u001b[0;31m---------------------------------------------------------------------------\u001b[0m",
      "\u001b[0;31mKeyError\u001b[0m                                  Traceback (most recent call last)",
      "\u001b[0;32m<ipython-input-104-26059b3a5842>\u001b[0m in \u001b[0;36m<module>\u001b[0;34m\u001b[0m\n\u001b[1;32m      2\u001b[0m \u001b[0mi2\u001b[0m \u001b[0;34m=\u001b[0m \u001b[0mlen\u001b[0m\u001b[0;34m(\u001b[0m\u001b[0mlist_functional_roles2\u001b[0m\u001b[0;34m)\u001b[0m\u001b[0;34m\u001b[0m\u001b[0;34m\u001b[0m\u001b[0m\n\u001b[1;32m      3\u001b[0m \u001b[0;32mfor\u001b[0m \u001b[0mi\u001b[0m \u001b[0;32min\u001b[0m \u001b[0mrange\u001b[0m\u001b[0;34m(\u001b[0m\u001b[0mi1\u001b[0m\u001b[0;34m)\u001b[0m\u001b[0;34m:\u001b[0m\u001b[0;34m\u001b[0m\u001b[0;34m\u001b[0m\u001b[0m\n\u001b[0;32m----> 4\u001b[0;31m     \u001b[0mf1\u001b[0m \u001b[0;34m=\u001b[0m \u001b[0mlist_functional_roles\u001b[0m\u001b[0;34m[\u001b[0m\u001b[0mi\u001b[0m\u001b[0;34m]\u001b[0m\u001b[0;34m\u001b[0m\u001b[0;34m\u001b[0m\u001b[0m\n\u001b[0m\u001b[1;32m      5\u001b[0m     \u001b[0mf2\u001b[0m \u001b[0;34m=\u001b[0m \u001b[0mlist_functional_roles2\u001b[0m\u001b[0;34m[\u001b[0m\u001b[0mi\u001b[0m\u001b[0;34m]\u001b[0m\u001b[0;34m\u001b[0m\u001b[0;34m\u001b[0m\u001b[0m\n\u001b[1;32m      6\u001b[0m     \u001b[0;32mif\u001b[0m \u001b[0mf1\u001b[0m \u001b[0;34m!=\u001b[0m \u001b[0mf2\u001b[0m\u001b[0;34m:\u001b[0m\u001b[0;34m\u001b[0m\u001b[0;34m\u001b[0m\u001b[0m\n",
      "\u001b[0;31mKeyError\u001b[0m: 0"
     ]
    }
   ],
   "source": [
    "i1 = len(list_functional_roles)\n",
    "i2 = len(list_functional_roles2)\n",
    "for i in range(i1):\n",
    "    f1 = list_functional_roles[i]\n",
    "    f2 = list_functional_roles2[i]\n",
    "    if f1 != f2:\n",
    "        print(i, f1, '########', f2)"
   ]
  },
  {
   "cell_type": "code",
   "execution_count": 114,
   "id": "8d531612-419e-48f4-abcd-c6d2dba68d79",
   "metadata": {},
   "outputs": [
    {
     "data": {
      "text/plain": [
       "['lol', 'banada']"
      ]
     },
     "execution_count": 114,
     "metadata": {},
     "output_type": "execute_result"
    }
   ],
   "source": [
    "def get_list_functional_roles(genome, ontology_term):\n",
    "    list_functional_roles = []\n",
    "    for feature in genome.features:\n",
    "        if ontology_term in feature.ontology_terms:\n",
    "            list_functional_roles.extend(feature.ontology_terms[ontology_term])\n",
    "    return list_functional_roles\n",
    "get_list_functional_roles(genome1, 'RAST')"
   ]
  },
  {
   "cell_type": "code",
   "execution_count": 116,
   "id": "4d8f4dc0-d798-45e3-b8a7-67515a374bb6",
   "metadata": {
    "tags": []
   },
   "outputs": [],
   "source": [
    "def createIndicatorMatrixX(genome_references, ws_client, master_role_list = None, ontology_term='RAST'):\n",
    "    ref_to_role = {}\n",
    "    if(master_role_list == None):\n",
    "        master_role_set = set()\n",
    "    for genome_ref in genome_references:\n",
    "        ref_to_role[genome_ref] = get_list_functional_roles(genome, ontology_term)\n",
    "\n",
    "        if master_role_list is None:\n",
    "            # keep updateing a set of all functional roles seen so far\n",
    "            master_role_set |= set(ref_to_role[genome_ref])\n",
    "\n",
    "    if(master_role_list == None):\n",
    "        #we are done looping over all genomes\n",
    "        master_role_list = sorted(list(master_role_set))\n",
    "\n",
    "        try:\n",
    "            master_role_list.remove('')\n",
    "        except:    \n",
    "            pass\n",
    "    ref_to_indication = {}\n",
    "\n",
    "    #make indicator rows for each \n",
    "    for genome_ref in genome_references:\n",
    "        set_functional_roles = set(ref_to_role[genome_ref])\n",
    "        matching_index = [i for i, role in enumerate(master_role_list) if role in set_functional_roles] \n",
    "\n",
    "        indicators = np.zeros(len(master_role_list))\n",
    "        try:\n",
    "            indicators[np.array(matching_index)] = 1\n",
    "        except (IndexError):\n",
    "            raise IndexError('The genomes or genomeSet that you have submitted wasn’t annotated using the \\\n",
    "                RAST annotation pipeline. Please annotate the genomes via ‘Annotate Microbial Genome’ app \\\n",
    "                (https://narrative.kbase.us/#appcatalog/app/RAST_SDK/reannotate_microbial_genome/release)or \\\n",
    "                genomeSets via Annotate Multiple Microbial Genomes’ app \\\n",
    "                (https://narrative.kbase.us/#appcatalog/app/RAST_SDK/reannotate_microbial_genomes/release) and \\\n",
    "                resubmit the RAST annotated genome/genomeSets into the Predict Phenotype app. (')\n",
    "        ref_to_indication[genome_ref] = indicators.astype(int)\n",
    "\n",
    "\n",
    "    indicator_matrix = pd.DataFrame.from_dict(data = ref_to_indication, orient='index', columns = master_role_list).reset_index().rename(columns={\"index\":\"Genome Reference\"})\n",
    "\n",
    "    return indicator_matrix, master_role_list"
   ]
  },
  {
   "cell_type": "code",
   "execution_count": 16,
   "id": "d9a22d2d-0da4-4072-a35f-cb5f39c78b5f",
   "metadata": {
    "tags": []
   },
   "outputs": [],
   "source": [
    "def createIndicatorMatrix(self, uploaded_df, genome_attribute, master_role_list = None):\n",
    "    genome_references = uploaded_df[\"Genome Reference\"].to_list()\n",
    "    ref_to_role = {}\n",
    "    if(master_role_list == None):\n",
    "        master_role_set = set()\n",
    "\n",
    "    for genome_ref in genome_references:\n",
    "        genome_object_data = self.ws_client.get_objects2({'objects':[{'ref': genome_ref}]})['data'][0]['data']\n",
    "\n",
    "        #figure out where functional roles are kept\n",
    "        keys_location = genome_object_data.keys()\n",
    "        if (\"features\" in keys_location):\n",
    "            location_of_functional_roles = genome_object_data[\"features\"]\n",
    "\n",
    "        elif (\"non_coding_features\" in keys_location):\n",
    "            location_of_functional_roles = genome_object_data[\"non_coding_features\"]\n",
    "\n",
    "        elif (\"cdss\" in keys_location):\n",
    "            location_of_functional_roles = genome_object_data[\"cdss\"]\n",
    "\n",
    "        else:\n",
    "            raise ValueError(\"The functional roles are not under features, non_coding_features, or cdss...\")\n",
    "\n",
    "        #either the functional roles are under function or functions (really stupid...)\n",
    "        keys_function = location_of_functional_roles[0].keys()\n",
    "        function_str = \"function\" if \"function\" in keys_function else \"functions\"\n",
    "\n",
    "        list_functional_roles = []\n",
    "        for functional_role in location_of_functional_roles:\n",
    "            try:\n",
    "                role_to_insert = functional_role[function_str][0]\n",
    "                if \" @ \" in  role_to_insert:\n",
    "                    list_functional_roles.extend(role_to_insert.split(\" @ \"))\n",
    "                elif \" / \" in role_to_insert:\n",
    "                    list_functional_roles.extend(role_to_insert.split(\" / \"))\n",
    "                elif \"; \" in role_to_insert:\n",
    "                    list_functional_roles.extend(role_to_insert.split(\"; \"))\n",
    "                elif 'hypothetical protein' in role_to_insert:\n",
    "                    pass\n",
    "                else:\n",
    "                    list_functional_roles.append(role_to_insert)\n",
    "            except (KeyError):\n",
    "                # print(\"this is funcitonal role\")\n",
    "                # print(functional_role)\n",
    "                # print(\"this is list_functional_roles\")\n",
    "                # print(list_functional_roles)\n",
    "\n",
    "                #print(\"apparently some function list just don't have functions...\")\n",
    "                #^^ this makes no sense...\n",
    "                pass\n",
    "\n",
    "        #create a mapping from genome_ref to all of its functional roles\n",
    "        ref_to_role[genome_ref] = list_functional_roles\n",
    "\n",
    "        if(master_role_list == None):\n",
    "            #keep updateing a set of all functional roles seen so far\n",
    "            master_role_set = master_role_set.union(set(list_functional_roles))\n",
    "\n",
    "    if(master_role_list == None):\n",
    "        #we are done looping over all genomes\n",
    "        master_role_list = sorted(list(master_role_set))\n",
    "\n",
    "        try:\n",
    "            master_role_list.remove('')\n",
    "        except:    \n",
    "            pass\n",
    "    ref_to_indication = {}\n",
    "\n",
    "    #make indicator rows for each \n",
    "    for genome_ref in genome_references:\n",
    "        set_functional_roles = set(ref_to_role[genome_ref])\n",
    "        matching_index = [i for i, role in enumerate(master_role_list) if role in set_functional_roles] \n",
    "\n",
    "        indicators = np.zeros(len(master_role_list))\n",
    "        try:\n",
    "            indicators[np.array(matching_index)] = 1\n",
    "        except (IndexError):\n",
    "            raise IndexError('The genomes or genomeSet that you have submitted wasn’t annotated using the \\\n",
    "                RAST annotation pipeline. Please annotate the genomes via ‘Annotate Microbial Genome’ app \\\n",
    "                (https://narrative.kbase.us/#appcatalog/app/RAST_SDK/reannotate_microbial_genome/release)or \\\n",
    "                genomeSets via Annotate Multiple Microbial Genomes’ app \\\n",
    "                (https://narrative.kbase.us/#appcatalog/app/RAST_SDK/reannotate_microbial_genomes/release) and \\\n",
    "                resubmit the RAST annotated genome/genomeSets into the Predict Phenotype app. (')\n",
    "        ref_to_indication[genome_ref] = indicators.astype(int)\n",
    "\n",
    "\n",
    "    indicator_matrix = pd.DataFrame.from_dict(data = ref_to_indication, orient='index', columns = master_role_list).reset_index().rename(columns={\"index\":\"Genome Reference\"})\n",
    "\n",
    "    return (indicator_matrix, master_role_list)"
   ]
  },
  {
   "cell_type": "code",
   "execution_count": 17,
   "id": "c003f8be-d35d-40df-bb41-4dff65cf7f1a",
   "metadata": {},
   "outputs": [],
   "source": [
    "genome1 = kbase.get_from_ws('GCF_001051995.2.RAST', 'filipeliu:narrative_1606804059500')"
   ]
  },
  {
   "cell_type": "code",
   "execution_count": 37,
   "id": "22f21bd0-da49-471c-85b5-8dd81129ff59",
   "metadata": {},
   "outputs": [],
   "source": [
    "master_role_list = classif.attribute_data"
   ]
  },
  {
   "cell_type": "code",
   "execution_count": null,
   "id": "68ad201b-ed4a-43a9-a235-64f5501d60d9",
   "metadata": {},
   "outputs": [],
   "source": []
  },
  {
   "cell_type": "code",
   "execution_count": 13,
   "id": "d2169e69-4bb7-4cff-aedb-8811467dc062",
   "metadata": {},
   "outputs": [
    {
     "data": {
      "text/plain": [
       "DecisionTreeClassifier(class_weight='balanced', criterion='entropy',\n",
       "                       max_depth=1, random_state=0)"
      ]
     },
     "execution_count": 13,
     "metadata": {},
     "output_type": "execute_result"
    }
   ],
   "source": [
    "current_categorizer"
   ]
  },
  {
   "cell_type": "code",
   "execution_count": 40,
   "id": "99e43c74-6b8c-4df5-888a-3c7f368130fc",
   "metadata": {},
   "outputs": [],
   "source": [
    "#get functional_roles and make indicator matrix\n",
    "# = self.createIndicatorMatrix(subset_uploaded_df, genome_attribute, master_role_list = master_role_list)\n",
    "(indicator_matrix, master_role_list) = res\n",
    "whole_X = indicator_matrix[master_role_list].values\n",
    "\n",
    "#Make Predictions on uploaded file\n",
    "predictions_numerical = current_categorizer.predict(whole_X)"
   ]
  },
  {
   "cell_type": "code",
   "execution_count": 42,
   "id": "0155f6d8-be33-47f9-a6f6-b916bf4c2278",
   "metadata": {},
   "outputs": [
    {
     "data": {
      "text/plain": [
       "{'N': 0, 'P': 1}"
      ]
     },
     "execution_count": 42,
     "metadata": {},
     "output_type": "execute_result"
    }
   ],
   "source": [
    "class_list_mapping = classif.class_list_mapping\n",
    "class_list_mapping"
   ]
  },
  {
   "cell_type": "code",
   "execution_count": 45,
   "id": "12f7eaa2-c888-459d-b992-268110d5cdf2",
   "metadata": {},
   "outputs": [],
   "source": [
    "inv_map_class_list_mapping = {v: k for k, v in class_list_mapping.items()}\n",
    "predictions_phenotype = [] #map numerical to phenotype\n",
    "for numerical in predictions_numerical:\n",
    "    predictions_phenotype.append(inv_map_class_list_mapping[numerical])\n",
    "prediction_probabilities_ = current_categorizer.predict_proba(whole_X)\n",
    "prediction_probabilities = np.max(prediction_probabilities_, axis = 1)"
   ]
  },
  {
   "cell_type": "code",
   "execution_count": null,
   "id": "b7e52dcd-5d43-4410-9d26-4caaaf147396",
   "metadata": {},
   "outputs": [],
   "source": []
  },
  {
   "cell_type": "code",
   "execution_count": null,
   "id": "76d3de8f-73af-4b9b-9424-140af8be53ea",
   "metadata": {},
   "outputs": [],
   "source": []
  },
  {
   "cell_type": "code",
   "execution_count": null,
   "id": "76157a9f-aa9a-455a-8672-0383777cedd5",
   "metadata": {},
   "outputs": [],
   "source": [
    "# 12998/11/2 GramStainKNN"
   ]
  }
 ],
 "metadata": {
  "kernelspec": {
   "display_name": "Python 3 (ipykernel)",
   "language": "python",
   "name": "python3"
  },
  "language_info": {
   "codemirror_mode": {
    "name": "ipython",
    "version": 3
   },
   "file_extension": ".py",
   "mimetype": "text/x-python",
   "name": "python",
   "nbconvert_exporter": "python",
   "pygments_lexer": "ipython3",
   "version": "3.8.10"
  }
 },
 "nbformat": 4,
 "nbformat_minor": 5
}
