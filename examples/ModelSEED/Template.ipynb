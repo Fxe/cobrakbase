{
 "cells": [
  {
   "cell_type": "code",
   "execution_count": 1,
   "metadata": {},
   "outputs": [
    {
     "name": "stdout",
     "output_type": "stream",
     "text": [
      "cobrakbase 0.2.7\n"
     ]
    }
   ],
   "source": [
    "import cobrakbase"
   ]
  },
  {
   "cell_type": "code",
   "execution_count": 2,
   "metadata": {},
   "outputs": [],
   "source": [
    "kbase = cobrakbase.KBaseAPI()"
   ]
  },
  {
   "cell_type": "code",
   "execution_count": 3,
   "metadata": {},
   "outputs": [],
   "source": [
    "template = kbase.get_from_ws('CoreModelTemplateV3', 'NewKBaseModelTemplates')"
   ]
  },
  {
   "cell_type": "code",
   "execution_count": 4,
   "metadata": {},
   "outputs": [
    {
     "data": {
      "text/plain": [
       "cobrakbase.core.kbasefba.newmodeltemplate.NewModelTemplate"
      ]
     },
     "execution_count": 4,
     "metadata": {},
     "output_type": "execute_result"
    }
   ],
   "source": [
    "type(template)"
   ]
  },
  {
   "cell_type": "code",
   "execution_count": 19,
   "metadata": {},
   "outputs": [],
   "source": [
    "rxn = template.reactions.get_by_id('rxn00265_c')"
   ]
  },
  {
   "cell_type": "code",
   "execution_count": 111,
   "metadata": {},
   "outputs": [
    {
     "data": {
      "text/plain": [
       "{'aliases': [],\n",
       " 'charge': -3,\n",
       " 'compound_ref': '~/template/compounds/id/cpd00137',\n",
       " 'dblinks': {},\n",
       " 'formula': 'C6H5O7',\n",
       " 'id': 'cpd00137_c0',\n",
       " 'inchikey': 'KRKNYBCHXYNGOX-UHFFFAOYSA-K',\n",
       " 'modelcompartment_ref': '~/modelcompartments/id/c0',\n",
       " 'name': 'Citrate_c0',\n",
       " 'numerical_attributes': {},\n",
       " 'smiles': 'O=C([O-])CC(O)(CC(=O)[O-])C(=O)[O-]',\n",
       " 'string_attributes': {}}"
      ]
     },
     "execution_count": 111,
     "metadata": {},
     "output_type": "execute_result"
    }
   ],
   "source": [
    "model['modelcompounds'][0]"
   ]
  },
  {
   "cell_type": "code",
   "execution_count": 101,
   "metadata": {},
   "outputs": [
    {
     "data": {
      "text/plain": [
       "{'charge': -4,\n",
       " 'id': 'cpd00290_c',\n",
       " 'maxuptake': 0,\n",
       " 'templatecompartment_ref': '~/compartments/id/c',\n",
       " 'templatecompound_ref': '~/compounds/id/cpd00290'}"
      ]
     },
     "execution_count": 101,
     "metadata": {},
     "output_type": "execute_result"
    }
   ],
   "source": [
    "template.compcompounds[0]"
   ]
  },
  {
   "cell_type": "code",
   "execution_count": 116,
   "metadata": {},
   "outputs": [
    {
     "data": {
      "text/html": [
       "\n",
       "        <table>\n",
       "            <tr>\n",
       "                <td><strong>Metabolite identifier</strong></td><td>cpd00001_c0</td>\n",
       "            </tr><tr>\n",
       "                <td><strong>Name</strong></td><td>H2O_c0</td>\n",
       "            </tr><tr>\n",
       "                <td><strong>Memory address</strong></td>\n",
       "                <td>0x07fc150372ed0</td>\n",
       "            </tr><tr>\n",
       "                <td><strong>Formula</strong></td><td>H2O</td>\n",
       "            </tr><tr>\n",
       "                <td><strong>Compartment</strong></td><td>c0</td>\n",
       "            </tr><tr>\n",
       "                <td><strong>In 0 reaction(s)</strong></td><td>\n",
       "                    </td>\n",
       "            </tr>\n",
       "        </table>"
      ],
      "text/plain": [
       "<ModelCompound cpd00001_c0 at 0x7fc150372ed0>"
      ]
     },
     "execution_count": 116,
     "metadata": {},
     "output_type": "execute_result"
    }
   ],
   "source": [
    "def NewModelTemplateCompCompoundToMetabolite(template_comp_compound, index='0'):\n",
    "    compound = template_reaction.template.compounds.get_by_id(template_comp_compound['templatecompound_ref'].split('/')[-1])\n",
    "    compartment = template_comp_compound.templatecompartment_ref.split('/')[-1]\n",
    "    cpd = ModelCompound(\n",
    "        {\n",
    "            'id': template_comp_compound.id + str(index), \n",
    "            'modelcompartment_ref': template_comp_compound.templatecompartment_ref + str(index), \n",
    "            'formula': compound.formula, \n",
    "            'name': \"{}_{}{}\".format(compound.name, compartment, index), \n",
    "            'charge': template_comp_compound.charge,\n",
    "            'string_attributes': {},\n",
    "            'numerical_attributes': {},\n",
    "            'smiles': {},\n",
    "            'dblinks': {},\n",
    "            'aliases': {}\n",
    "        })\n",
    "    return cpd\n",
    "NewModelTemplateCompCompoundToMetabolite(template.compcompounds.get_by_id('cpd00001_c'), '0')"
   ]
  },
  {
   "cell_type": "code",
   "execution_count": 103,
   "metadata": {},
   "outputs": [
    {
     "name": "stdout",
     "output_type": "stream",
     "text": [
      "rxn00265_c9: cpd00137_c9 --> cpd00029_c9 + cpd00032_c9\n"
     ]
    }
   ],
   "source": [
    "from cobrakbase.core.kbasefba.fbamodel_reaction import ModelReaction\n",
    "from cobrakbase.core.kbasefba.fbamodel_metabolite import ModelCompound\n",
    "\n",
    "def NewModelTemplateReactionToReaction(template_reaction, index='0'):\n",
    "    reaction_compartment = 'c'\n",
    "    model_reaction_data = {\n",
    "        'id': \"{}{}\".format(template_reaction.id, index),\n",
    "        'aliases': [],\n",
    "        'coverage': 3,\n",
    "        'dblinks': {},\n",
    "        'direction': template_reaction.direction,\n",
    "        'edits': {},\n",
    "        'gapfill_data': {},\n",
    "        'gene_count': 3,\n",
    "        'maxforflux': 1000000,\n",
    "        'maxrevflux': 1000000,\n",
    "        'modelReactionProteins': [],\n",
    "        'modelReactionReagents': [\n",
    "            {'coefficient': -1, 'modelcompound_ref': '~/modelcompounds/id/cpd00137_c0'},\n",
    "            {'coefficient': 1, 'modelcompound_ref': '~/modelcompounds/id/cpd00029_c0'},\n",
    "            {'coefficient': 1, 'modelcompound_ref': '~/modelcompounds/id/cpd00032_c0'}\n",
    "        ],\n",
    "        'modelcompartment_ref': '~/modelcompartments/id/c0',\n",
    "        'name': \"{}_{}{}\".format(template_reaction.name, reaction_compartment, index),\n",
    "        'numerical_attributes': {},\n",
    "        'probability': 1,\n",
    "        'protons': 0,\n",
    "        'reaction_ref': '~/template/reactions/id/rxn00265_c',\n",
    "        'string_attributes': {}\n",
    "    }\n",
    "    metabolites = {}\n",
    "    for o in template_reaction.templateReactionReagents:\n",
    "        comp_compound = template_reaction.template.compcompounds.get_by_id(o['templatecompcompound_ref'].split('/')[-1])\n",
    "        compound = template_reaction.template.compounds.get_by_id(comp_compound['templatecompound_ref'].split('/')[-1])\n",
    "        cpd = ModelCompound(\n",
    "            {\n",
    "                'id': comp_compound.id + str(index), \n",
    "                'modelcompartment_ref': comp_compound.templatecompartment_ref + str(index), \n",
    "                'formula': compound.formula, \n",
    "                'name': compound.name, \n",
    "                'charge': comp_compound.charge\n",
    "            })\n",
    "        metabolites[cpd] = o['coefficient']\n",
    "    reaction = ModelReaction(model_reaction_data)\n",
    "    reaction.add_metabolites(metabolites)\n",
    "    return reaction\n",
    "template_reaction = template.reactions.get_by_id('rxn00265_c')\n",
    "model_reaction = NewModelTemplateReactionToReaction(template_reaction, 9)\n",
    "print(model_reaction)"
   ]
  },
  {
   "cell_type": "code",
   "execution_count": 29,
   "metadata": {},
   "outputs": [],
   "source": [
    "model = kbase.get_object('ecoli.core', 'filipeliu:narrative_1582914694010')"
   ]
  },
  {
   "cell_type": "code",
   "execution_count": 88,
   "metadata": {},
   "outputs": [
    {
     "data": {
      "text/html": [
       "\n",
       "        <table>\n",
       "            <tr>\n",
       "                <td><strong>Reaction identifier</strong></td><td>rxn00265_c9</td>\n",
       "            </tr><tr>\n",
       "                <td><strong>Name</strong></td><td>citrate oxaloacetate-lyase (forming acetate from the pro-S carboxymethyl group of citrate)_c9</td>\n",
       "            </tr><tr>\n",
       "                <td><strong>Memory address</strong></td>\n",
       "                <td>0x07fc17063d290</td>\n",
       "            </tr><tr>\n",
       "                <td><strong>Stoichiometry</strong></td>\n",
       "                <td>\n",
       "                    <p style='text-align:right'>cpd00137_c --> cpd00029_c + cpd00032_c</p>\n",
       "                    <p style='text-align:right'>Citrate --> Acetate + Oxaloacetate</p>\n",
       "                </td>\n",
       "            </tr><tr>\n",
       "                <td><strong>GPR</strong></td><td></td>\n",
       "            </tr><tr>\n",
       "                <td><strong>Lower bound</strong></td><td>0</td>\n",
       "            </tr><tr>\n",
       "                <td><strong>Upper bound</strong></td><td>1000</td>\n",
       "            </tr>\n",
       "        </table>\n",
       "        "
      ],
      "text/plain": [
       "<ModelReaction rxn00265_c9 at 0x7fc17063d290>"
      ]
     },
     "execution_count": 88,
     "metadata": {},
     "output_type": "execute_result"
    }
   ],
   "source": [
    "model_reaction"
   ]
  },
  {
   "cell_type": "code",
   "execution_count": 22,
   "metadata": {},
   "outputs": [],
   "source": [
    "rxn1 = model.reactions.get_by_id('rxn00265_c0')"
   ]
  },
  {
   "cell_type": "code",
   "execution_count": null,
   "metadata": {},
   "outputs": [],
   "source": []
  },
  {
   "cell_type": "code",
   "execution_count": null,
   "metadata": {},
   "outputs": [],
   "source": []
  },
  {
   "cell_type": "code",
   "execution_count": null,
   "metadata": {},
   "outputs": [],
   "source": []
  },
  {
   "cell_type": "code",
   "execution_count": 184,
   "metadata": {},
   "outputs": [],
   "source": [
    "from cobrakbase.core.kbasefba.fbamodel_builder import FBAModelBuilder\n",
    "\n",
    "def build_model_from_some_map(rxn_ids, template, index='0'):\n",
    "    model_base = {\n",
    "        'id': 'ecoli.core',\n",
    "        'name': 'ecoli.core',\n",
    "        'modelcompounds': [],\n",
    "        'modelreactions': [],\n",
    "        '__VERSION__': 1,\n",
    "        'attributes': {\n",
    "            'auxotrophy': {},\n",
    "            'fbas': {},\n",
    "            'gene_count': 0,\n",
    "            'pathways': {}\n",
    "        },\n",
    "        'biomasses': [],\n",
    "        'contig_coverages': {},\n",
    "        'delete_biomasses': {},\n",
    "        'deleted_reactions': {},\n",
    "        'gapfilledcandidates': [],\n",
    "        'gapfillings': [],\n",
    "        'gapgens': [],\n",
    "        'genome_ref': '56739/4/1',\n",
    "        'loops': [],\n",
    "        'model_edits': [],\n",
    "        'modelcompartments': [{'compartmentIndex': 0,\n",
    "       'compartment_ref': '~/template/compartments/id/c',\n",
    "       'id': 'c0',\n",
    "       'label': 'Cytosol_0',\n",
    "       'pH': 7,\n",
    "       'potential': 0},\n",
    "      {'compartmentIndex': 0,\n",
    "       'compartment_ref': '~/template/compartments/id/e',\n",
    "       'id': 'e0',\n",
    "       'label': 'Extracellular_0',\n",
    "       'pH': 7,\n",
    "       'potential': 0}],\n",
    "        'other_genome_refs': [],\n",
    "        'quantopts': [],\n",
    "        'source': 'KBase',\n",
    "        'source_id': 'ecoli.core',\n",
    "        'template_ref': '56739/219/6',\n",
    "        'template_refs': ['56739/219/6'],\n",
    "        'type': 'GenomeScale'\n",
    "    }\n",
    "    reactions = []\n",
    "    for rxn_id in rxn_ids:\n",
    "        template_reaction = template.reactions.get_by_id(rxn_id)\n",
    "        model_reaction = NewModelTemplateReactionToReaction(template_reaction, index)\n",
    "        reactions.append(model_reaction)\n",
    "    b = FBAModelBuilder(model_base)\n",
    "    cobra_model = b.build()\n",
    "    cobra_model.add_reactions(reactions)\n",
    "    return cobra_model\n",
    "cobra_model = build_model_from_some_map(['rxn14425_c', 'rxn14426_c'], template)"
   ]
  },
  {
   "cell_type": "code",
   "execution_count": 185,
   "metadata": {},
   "outputs": [],
   "source": [
    "from cobra.core import Reaction, Model\n",
    "class exchanger():\n",
    "    \n",
    "    def __init__(self, cobra_model):\n",
    "        self.model = Model(cobra_model)\n",
    "        exchanges = []\n",
    "        for m in cobra_model.metabolites:\n",
    "            r = Reaction('EX_' + m.id, 'Exchange for ' + m.name, 'debug', 0, 1000)\n",
    "            r.add_metabolites({m:-1})\n",
    "            exchanges.append(r)\n",
    "        self.model.add_reactions(exchanges)\n",
    "\n",
    "ex = exchanger(cobra_model)"
   ]
  },
  {
   "cell_type": "code",
   "execution_count": 187,
   "metadata": {},
   "outputs": [],
   "source": [
    "cobra_model.objective = 'rxn14425_c0'"
   ]
  },
  {
   "cell_type": "code",
   "execution_count": 189,
   "metadata": {},
   "outputs": [
    {
     "name": "stderr",
     "output_type": "stream",
     "text": [
      "WARNING:cobra.core.model:EX_cpd00067_e0 does not seem to be an an exchange reaction. Applying bounds anyway.\n"
     ]
    },
    {
     "data": {
      "text/html": [
       "<h3>Objective</h3><p>1.0 rxn14425_c0 = 1.0</p><h4>Uptake</h4><table border=\"1\" class=\"dataframe\">\n",
       "  <thead>\n",
       "    <tr style=\"text-align: right;\">\n",
       "      <th>Metabolite</th>\n",
       "      <th>Reaction</th>\n",
       "      <th>Flux</th>\n",
       "      <th>C-Number</th>\n",
       "      <th>C-Flux</th>\n",
       "    </tr>\n",
       "  </thead>\n",
       "  <tbody>\n",
       "    <tr>\n",
       "      <td>cpd00007_c0</td>\n",
       "      <td>EX_cpd00007_c0</td>\n",
       "      <td>0.5</td>\n",
       "      <td>0</td>\n",
       "      <td>0.00%</td>\n",
       "    </tr>\n",
       "    <tr>\n",
       "      <td>cpd00067_c0</td>\n",
       "      <td>EX_cpd00067_c0</td>\n",
       "      <td>4</td>\n",
       "      <td>0</td>\n",
       "      <td>0.00%</td>\n",
       "    </tr>\n",
       "    <tr>\n",
       "      <td>cpd15561_c0</td>\n",
       "      <td>EX_cpd15561_c0</td>\n",
       "      <td>1</td>\n",
       "      <td>49</td>\n",
       "      <td>100.00%</td>\n",
       "    </tr>\n",
       "  </tbody>\n",
       "</table><h4>Secretion</h4><table border=\"1\" class=\"dataframe\">\n",
       "  <thead>\n",
       "    <tr style=\"text-align: right;\">\n",
       "      <th>Metabolite</th>\n",
       "      <th>Reaction</th>\n",
       "      <th>Flux</th>\n",
       "      <th>C-Number</th>\n",
       "      <th>C-Flux</th>\n",
       "    </tr>\n",
       "  </thead>\n",
       "  <tbody>\n",
       "    <tr>\n",
       "      <td>cpd00001_c0</td>\n",
       "      <td>EX_cpd00001_c0</td>\n",
       "      <td>-1</td>\n",
       "      <td>0</td>\n",
       "      <td>0.00%</td>\n",
       "    </tr>\n",
       "    <tr>\n",
       "      <td>cpd00067_e0</td>\n",
       "      <td>EX_cpd00067_e0</td>\n",
       "      <td>-4</td>\n",
       "      <td>0</td>\n",
       "      <td>0.00%</td>\n",
       "    </tr>\n",
       "    <tr>\n",
       "      <td>cpd15560_c0</td>\n",
       "      <td>EX_cpd15560_c0</td>\n",
       "      <td>-1</td>\n",
       "      <td>49</td>\n",
       "      <td>100.00%</td>\n",
       "    </tr>\n",
       "  </tbody>\n",
       "</table>"
      ],
      "text/plain": [
       "<cobra.summary.model_summary.ModelSummary at 0x7fc19162c090>"
      ]
     },
     "execution_count": 189,
     "metadata": {},
     "output_type": "execute_result"
    }
   ],
   "source": [
    "ex.model.medium = {\n",
    "    'EX_cpd00007_c0': 0.5,\n",
    "    'EX_cpd00067_e0': 10,\n",
    "    'EX_cpd00067_c0': 10,\n",
    "    'EX_cpd00001_c0': 10,\n",
    "    'EX_cpd15561_c0': 10,\n",
    "    'EX_cpd15560_c0': 10,\n",
    "}\n",
    "ex.model.summary()"
   ]
  },
  {
   "cell_type": "code",
   "execution_count": null,
   "metadata": {},
   "outputs": [],
   "source": []
  },
  {
   "cell_type": "code",
   "execution_count": null,
   "metadata": {},
   "outputs": [],
   "source": []
  },
  {
   "cell_type": "code",
   "execution_count": null,
   "metadata": {},
   "outputs": [],
   "source": []
  },
  {
   "cell_type": "code",
   "execution_count": null,
   "metadata": {},
   "outputs": [],
   "source": []
  }
 ],
 "metadata": {
  "kernelspec": {
   "display_name": "Python 3",
   "language": "python",
   "name": "python3"
  },
  "language_info": {
   "codemirror_mode": {
    "name": "ipython",
    "version": 3
   },
   "file_extension": ".py",
   "mimetype": "text/x-python",
   "name": "python",
   "nbconvert_exporter": "python",
   "pygments_lexer": "ipython3",
   "version": "3.7.4"
  }
 },
 "nbformat": 4,
 "nbformat_minor": 4
}
