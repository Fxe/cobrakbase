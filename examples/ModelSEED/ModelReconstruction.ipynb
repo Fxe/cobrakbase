{
 "cells": [
  {
   "cell_type": "code",
   "execution_count": 23,
   "metadata": {},
   "outputs": [],
   "source": [
    "import cobra\n",
    "import cobrakbase\n",
    "import modelseedpy\n",
    "from modelseedpy import RastClient"
   ]
  },
  {
   "cell_type": "code",
   "execution_count": 24,
   "metadata": {},
   "outputs": [
    {
     "data": {
      "text/plain": [
       "\u001b[0;31mType:\u001b[0m        module\n",
       "\u001b[0;31mString form:\u001b[0m <module 'modelseedpy' from '/home/fliu/.local/lib/python3.8/site-packages/modelseedpy/__init__.py'>\n",
       "\u001b[0;31mFile:\u001b[0m        ~/.local/lib/python3.8/site-packages/modelseedpy/__init__.py\n",
       "\u001b[0;31mDocstring:\u001b[0m   <no docstring>\n"
      ]
     },
     "metadata": {},
     "output_type": "display_data"
    }
   ],
   "source": [
    "?modelseedpy"
   ]
  },
  {
   "cell_type": "code",
   "execution_count": 2,
   "metadata": {},
   "outputs": [],
   "source": [
    "kbase = cobrakbase.KBaseAPI()"
   ]
  },
  {
   "cell_type": "code",
   "execution_count": 3,
   "metadata": {},
   "outputs": [
    {
     "data": {
      "text/html": [
       "\n",
       "        <table>\n",
       "            <tr>\n",
       "                <td><strong>Name</strong></td>\n",
       "                <td>GCF_000005845.2.mdl.gf_GMM</td>\n",
       "            </tr><tr>\n",
       "                <td><strong>Memory address</strong></td>\n",
       "                <td>7f77f08a2280</td>\n",
       "            </tr><tr>\n",
       "                <td><strong>Number of metabolites</strong></td>\n",
       "                <td>1457</td>\n",
       "            </tr><tr>\n",
       "                <td><strong>Number of reactions</strong></td>\n",
       "                <td>1774</td>\n",
       "            </tr><tr>\n",
       "                <td><strong>Number of genes</strong></td>\n",
       "                <td>1297</td>\n",
       "            </tr><tr>\n",
       "                <td><strong>Number of groups</strong></td>\n",
       "                <td>1330</td>\n",
       "            </tr><tr>\n",
       "                <td><strong>Objective expression</strong></td>\n",
       "                <td>1.0*bio1 - 1.0*bio1_reverse_b18f7</td>\n",
       "            </tr><tr>\n",
       "                <td><strong>Compartments</strong></td>\n",
       "                <td>Cytosol_0, Extracellular_0</td>\n",
       "            </tr>\n",
       "          </table>"
      ],
      "text/plain": [
       "<FBAModel GCF_000005845.2.mdl.gf_GMM at 0x7f77f08a2280>"
      ]
     },
     "execution_count": 3,
     "metadata": {},
     "output_type": "execute_result"
    }
   ],
   "source": [
    "model = kbase.get_from_ws('GCF_000005845.2.mdl.gf_GMM', 12218)\n",
    "model"
   ]
  },
  {
   "cell_type": "code",
   "execution_count": null,
   "metadata": {},
   "outputs": [],
   "source": [
    "model.summary()"
   ]
  },
  {
   "cell_type": "code",
   "execution_count": 5,
   "metadata": {},
   "outputs": [
    {
     "data": {
      "text/plain": [
       "<cobrakbase.core.kbasebiochem.media.Media at 0x7f77a0dee7c0>"
      ]
     },
     "execution_count": 5,
     "metadata": {},
     "output_type": "execute_result"
    }
   ],
   "source": [
    "media = kbase.get_from_ws('Carbon-D-Glucose', 12218)\n",
    "media"
   ]
  },
  {
   "cell_type": "code",
   "execution_count": 6,
   "metadata": {},
   "outputs": [],
   "source": [
    "import logging\n",
    "logger = logging.getLogger('cobra.medium')\n",
    "# cobrapy does not like modelseed e0 instead of e and complains about the name\n",
    "logger.setLevel(logging.CRITICAL) "
   ]
  },
  {
   "cell_type": "code",
   "execution_count": 7,
   "metadata": {
    "tags": []
   },
   "outputs": [],
   "source": [
    "model.medium = media"
   ]
  },
  {
   "cell_type": "code",
   "execution_count": 8,
   "metadata": {},
   "outputs": [
    {
     "data": {
      "text/plain": [
       "{'EX_cpd00058_e0': 100,\n",
       " 'EX_cpd00030_e0': 100,\n",
       " 'EX_cpd00009_e0': 100,\n",
       " 'EX_cpd10515_e0': 100,\n",
       " 'EX_cpd00067_e0': 100,\n",
       " 'EX_cpd00254_e0': 100,\n",
       " 'EX_cpd00244_e0': 100,\n",
       " 'EX_cpd00205_e0': 100,\n",
       " 'EX_cpd00099_e0': 100,\n",
       " 'EX_cpd00007_e0': 10,\n",
       " 'EX_cpd00034_e0': 100,\n",
       " 'EX_cpd00063_e0': 100,\n",
       " 'EX_cpd00048_e0': 100,\n",
       " 'EX_cpd00027_e0': 5,\n",
       " 'EX_cpd00001_e0': 100,\n",
       " 'EX_cpd00971_e0': 100,\n",
       " 'EX_cpd10516_e0': 100,\n",
       " 'EX_cpd00013_e0': 100,\n",
       " 'EX_cpd00149_e0': 100}"
      ]
     },
     "execution_count": 8,
     "metadata": {},
     "output_type": "execute_result"
    }
   ],
   "source": [
    "model.medium"
   ]
  },
  {
   "cell_type": "code",
   "execution_count": 9,
   "metadata": {},
   "outputs": [
    {
     "data": {
      "text/html": [
       "<h3>Objective</h3><p>1.0 bio1 = 0.16469183423847464</p><h4>Uptake</h4><table border=\"1\" class=\"dataframe\">\n",
       "  <thead>\n",
       "    <tr style=\"text-align: right;\">\n",
       "      <th>Metabolite</th>\n",
       "      <th>Reaction</th>\n",
       "      <th>Flux</th>\n",
       "      <th>C-Number</th>\n",
       "      <th>C-Flux</th>\n",
       "    </tr>\n",
       "  </thead>\n",
       "  <tbody>\n",
       "    <tr>\n",
       "      <td>cpd00007_e0</td>\n",
       "      <td>EX_cpd00007_e0</td>\n",
       "      <td>0.001964</td>\n",
       "      <td>0</td>\n",
       "      <td>0.00%</td>\n",
       "    </tr>\n",
       "    <tr>\n",
       "      <td>cpd00009_e0</td>\n",
       "      <td>EX_cpd00009_e0</td>\n",
       "      <td>0.1338</td>\n",
       "      <td>0</td>\n",
       "      <td>0.00%</td>\n",
       "    </tr>\n",
       "    <tr>\n",
       "      <td>cpd00013_e0</td>\n",
       "      <td>EX_cpd00013_e0</td>\n",
       "      <td>1.555</td>\n",
       "      <td>0</td>\n",
       "      <td>0.00%</td>\n",
       "    </tr>\n",
       "    <tr>\n",
       "      <td>cpd00027_e0</td>\n",
       "      <td>EX_cpd00027_e0</td>\n",
       "      <td>5</td>\n",
       "      <td>6</td>\n",
       "      <td>100.00%</td>\n",
       "    </tr>\n",
       "    <tr>\n",
       "      <td>cpd00030_e0</td>\n",
       "      <td>EX_cpd00030_e0</td>\n",
       "      <td>0.0004622</td>\n",
       "      <td>0</td>\n",
       "      <td>0.00%</td>\n",
       "    </tr>\n",
       "    <tr>\n",
       "      <td>cpd00034_e0</td>\n",
       "      <td>EX_cpd00034_e0</td>\n",
       "      <td>0.0004622</td>\n",
       "      <td>0</td>\n",
       "      <td>0.00%</td>\n",
       "    </tr>\n",
       "    <tr>\n",
       "      <td>cpd00048_e0</td>\n",
       "      <td>EX_cpd00048_e0</td>\n",
       "      <td>0.03729</td>\n",
       "      <td>0</td>\n",
       "      <td>0.00%</td>\n",
       "    </tr>\n",
       "    <tr>\n",
       "      <td>cpd00058_e0</td>\n",
       "      <td>EX_cpd00058_e0</td>\n",
       "      <td>0.0004622</td>\n",
       "      <td>0</td>\n",
       "      <td>0.00%</td>\n",
       "    </tr>\n",
       "    <tr>\n",
       "      <td>cpd00063_e0</td>\n",
       "      <td>EX_cpd00063_e0</td>\n",
       "      <td>0.0004622</td>\n",
       "      <td>0</td>\n",
       "      <td>0.00%</td>\n",
       "    </tr>\n",
       "    <tr>\n",
       "      <td>cpd00099_e0</td>\n",
       "      <td>EX_cpd00099_e0</td>\n",
       "      <td>0.0004622</td>\n",
       "      <td>0</td>\n",
       "      <td>0.00%</td>\n",
       "    </tr>\n",
       "    <tr>\n",
       "      <td>cpd00149_e0</td>\n",
       "      <td>EX_cpd00149_e0</td>\n",
       "      <td>0.0004622</td>\n",
       "      <td>0</td>\n",
       "      <td>0.00%</td>\n",
       "    </tr>\n",
       "    <tr>\n",
       "      <td>cpd00205_e0</td>\n",
       "      <td>EX_cpd00205_e0</td>\n",
       "      <td>0.0004622</td>\n",
       "      <td>0</td>\n",
       "      <td>0.00%</td>\n",
       "    </tr>\n",
       "    <tr>\n",
       "      <td>cpd00254_e0</td>\n",
       "      <td>EX_cpd00254_e0</td>\n",
       "      <td>0.0004622</td>\n",
       "      <td>0</td>\n",
       "      <td>0.00%</td>\n",
       "    </tr>\n",
       "    <tr>\n",
       "      <td>cpd10515_e0</td>\n",
       "      <td>EX_cpd10515_e0</td>\n",
       "      <td>0.001849</td>\n",
       "      <td>0</td>\n",
       "      <td>0.00%</td>\n",
       "    </tr>\n",
       "    <tr>\n",
       "      <td>cpd17041_c0</td>\n",
       "      <td>rxn13782_c0</td>\n",
       "      <td>0.1647</td>\n",
       "      <td>0</td>\n",
       "      <td>0.00%</td>\n",
       "    </tr>\n",
       "    <tr>\n",
       "      <td>cpd17042_c0</td>\n",
       "      <td>rxn13783_c0</td>\n",
       "      <td>0.1647</td>\n",
       "      <td>0</td>\n",
       "      <td>0.00%</td>\n",
       "    </tr>\n",
       "    <tr>\n",
       "      <td>cpd17043_c0</td>\n",
       "      <td>rxn13784_c0</td>\n",
       "      <td>0.1647</td>\n",
       "      <td>0</td>\n",
       "      <td>0.00%</td>\n",
       "    </tr>\n",
       "  </tbody>\n",
       "</table><h4>Secretion</h4><table border=\"1\" class=\"dataframe\">\n",
       "  <thead>\n",
       "    <tr style=\"text-align: right;\">\n",
       "      <th>Metabolite</th>\n",
       "      <th>Reaction</th>\n",
       "      <th>Flux</th>\n",
       "      <th>C-Number</th>\n",
       "      <th>C-Flux</th>\n",
       "    </tr>\n",
       "  </thead>\n",
       "  <tbody>\n",
       "    <tr>\n",
       "      <td>cpd00001_e0</td>\n",
       "      <td>EX_cpd00001_e0</td>\n",
       "      <td>-0.5501</td>\n",
       "      <td>0</td>\n",
       "      <td>0.00%</td>\n",
       "    </tr>\n",
       "    <tr>\n",
       "      <td>cpd00029_e0</td>\n",
       "      <td>EX_cpd00029_e0</td>\n",
       "      <td>-4.266</td>\n",
       "      <td>2</td>\n",
       "      <td>36.29%</td>\n",
       "    </tr>\n",
       "    <tr>\n",
       "      <td>cpd00047_e0</td>\n",
       "      <td>EX_cpd00047_e0</td>\n",
       "      <td>-4.692</td>\n",
       "      <td>1</td>\n",
       "      <td>19.95%</td>\n",
       "    </tr>\n",
       "    <tr>\n",
       "      <td>cpd00067_e0</td>\n",
       "      <td>EX_cpd00067_e0</td>\n",
       "      <td>-10.25</td>\n",
       "      <td>0</td>\n",
       "      <td>0.00%</td>\n",
       "    </tr>\n",
       "    <tr>\n",
       "      <td>cpd00100_e0</td>\n",
       "      <td>EX_cpd00100_e0</td>\n",
       "      <td>-3.19</td>\n",
       "      <td>3</td>\n",
       "      <td>40.70%</td>\n",
       "    </tr>\n",
       "    <tr>\n",
       "      <td>cpd00116_e0</td>\n",
       "      <td>EX_cpd00116_e0</td>\n",
       "      <td>-0.0004622</td>\n",
       "      <td>1</td>\n",
       "      <td>0.00%</td>\n",
       "    </tr>\n",
       "    <tr>\n",
       "      <td>cpd00156_e0</td>\n",
       "      <td>EX_cpd00156_e0</td>\n",
       "      <td>-0.1416</td>\n",
       "      <td>5</td>\n",
       "      <td>3.01%</td>\n",
       "    </tr>\n",
       "    <tr>\n",
       "      <td>cpd15378_e0</td>\n",
       "      <td>EX_cpd15378_e0</td>\n",
       "      <td>-0.0004622</td>\n",
       "      <td>7</td>\n",
       "      <td>0.01%</td>\n",
       "    </tr>\n",
       "    <tr>\n",
       "      <td>cpd02701_c0</td>\n",
       "      <td>SK_cpd02701_c0</td>\n",
       "      <td>-0.0004622</td>\n",
       "      <td>15</td>\n",
       "      <td>0.03%</td>\n",
       "    </tr>\n",
       "    <tr>\n",
       "      <td>cpd11416_c0</td>\n",
       "      <td>SK_cpd11416_c0</td>\n",
       "      <td>-0.1647</td>\n",
       "      <td>0</td>\n",
       "      <td>0.00%</td>\n",
       "    </tr>\n",
       "  </tbody>\n",
       "</table>"
      ],
      "text/plain": [
       "<cobra.summary.model_summary.ModelSummary at 0x7f779fb60b50>"
      ]
     },
     "execution_count": 9,
     "metadata": {},
     "output_type": "execute_result"
    }
   ],
   "source": [
    "model.summary()"
   ]
  },
  {
   "cell_type": "code",
   "execution_count": 11,
   "metadata": {},
   "outputs": [
    {
     "data": {
      "text/html": [
       "\n",
       "        <table>\n",
       "            <tr>\n",
       "                <td><strong>ID</strong></td>\n",
       "                <td>GramNegative.modeltemplate</td>\n",
       "            </tr><tr>\n",
       "                <td><strong>Memory address</strong></td>\n",
       "                <td>0x07f77a21dc3a0</td>\n",
       "            </tr><tr>\n",
       "                <td><strong>Number of metabolites</strong></td>\n",
       "                <td>6847</td>\n",
       "            </tr><tr>\n",
       "                <td><strong>Number of species</strong></td>\n",
       "                <td>7418</td>\n",
       "            </tr><tr>\n",
       "                <td><strong>Number of reactions</strong></td>\n",
       "                <td>9434</td>\n",
       "            </tr><tr>\n",
       "                <td><strong>Number of biomasses</strong></td>\n",
       "                <td>1</td>\n",
       "            </tr><tr>\n",
       "                <td><strong>Number of roles</strong></td>\n",
       "                <td>20389</td>\n",
       "            </tr><tr>\n",
       "                <td><strong>Number of complexes</strong></td>\n",
       "                <td>9197</td>\n",
       "            </tr>\n",
       "          </table>"
      ],
      "text/plain": [
       "<cobrakbase.core.kbasefba.newmodeltemplate.NewModelTemplate at 0x7f77a21dc3a0>"
      ]
     },
     "execution_count": 11,
     "metadata": {},
     "output_type": "execute_result"
    }
   ],
   "source": [
    "template = kbase.get_from_ws(model.template_ref)\n",
    "template"
   ]
  },
  {
   "cell_type": "code",
   "execution_count": 12,
   "metadata": {},
   "outputs": [
    {
     "data": {
      "text/html": [
       "\n",
       "        <table>\n",
       "            <tr>\n",
       "                <td><strong>Reaction identifier</strong></td><td>rxn00010_c</td>\n",
       "            </tr><tr>\n",
       "                <td><strong>Name</strong></td><td>glyoxylate carboxy-lyase (dimerizing; tartronate-semialdehyde-forming)</td>\n",
       "            </tr><tr>\n",
       "                <td><strong>Memory address</strong></td>\n",
       "                <td>0x7f779a52c100</td>\n",
       "            </tr><tr>\n",
       "                <td><strong>Stoichiometry</strong></td>\n",
       "                <td>\n",
       "                    <p style='text-align:right'>2 cpd00040_c + cpd00067_c --> cpd00011_c + cpd00843_c</p>\n",
       "                    <p style='text-align:right'>2 Glyoxalate + H+ --> CO2 + Tartronate semialdehyde</p>\n",
       "                </td>\n",
       "            </tr><tr>\n",
       "                <td><strong>GPR</strong></td><td>cpx00596</td>\n",
       "            </tr><tr>\n",
       "                <td><strong>Lower bound</strong></td><td>0</td>\n",
       "            </tr><tr>\n",
       "                <td><strong>Upper bound</strong></td><td>1000</td>\n",
       "            </tr>\n",
       "        </table>\n",
       "        "
      ],
      "text/plain": [
       "<NewModelTemplateReaction rxn00010_c at 0x7f779a52c100>"
      ]
     },
     "execution_count": 12,
     "metadata": {},
     "output_type": "execute_result"
    }
   ],
   "source": [
    "template.reactions.rxn00010_c"
   ]
  },
  {
   "cell_type": "code",
   "execution_count": 13,
   "metadata": {},
   "outputs": [
    {
     "data": {
      "text/html": [
       "\n",
       "        <table>\n",
       "            <tr>\n",
       "                <td><strong>Complex identifier</strong></td><td>cpx00596</td>\n",
       "            </tr><tr>\n",
       "                <td><strong>Name</strong></td><td>mscpx.596</td>\n",
       "            </tr><tr>\n",
       "                <td><strong>Memory address</strong></td>\n",
       "                <td>0x07f779e57f7c0</td>\n",
       "            </tr><tr>\n",
       "                <td><strong>Contains 1 role(s)</strong></td><td>\n",
       "                    ftr00222:Glyoxylate carboligase (EC 4.1.1.47):True:False</td>\n",
       "            </tr>\n",
       "        </table>"
      ],
      "text/plain": [
       "<NewModelTemplateComplex cpx00596 at 0x7f779e57f7c0>"
      ]
     },
     "execution_count": 13,
     "metadata": {},
     "output_type": "execute_result"
    }
   ],
   "source": [
    "template.complexes.cpx00596"
   ]
  },
  {
   "cell_type": "code",
   "execution_count": 15,
   "metadata": {},
   "outputs": [
    {
     "data": {
      "text/html": [
       "\n",
       "        <table>\n",
       "            <tr>\n",
       "                <td><strong>ID</strong></td>\n",
       "                <td>GCF_000005845.2.RAST_07_14_2022</td>\n",
       "            </tr><tr>\n",
       "                <td><strong>Scientific Name</strong></td>\n",
       "                <td>Escherichia coli str. K-12 substr. MG1655 (Bacteria)</td>\n",
       "            </tr><tr>\n",
       "                <td><strong>Taxonomy</strong></td>\n",
       "                <td>cellular organisms; Bacteria; Proteobacteria; Gammaproteobacteria; Enterobacterales; Enterobacteriaceae; Escherichia; Escherichia coli; Escherichia coli K-12</td>\n",
       "            </tr><tr>\n",
       "                <td><strong>Sequence Data</strong></td>\n",
       "                <td>Size: 4641652, Contigs: 1, GC: 0.508</td>\n",
       "            </tr><tr>\n",
       "                <td><strong>CDS</strong></td>\n",
       "                <td>4319</td>\n",
       "            </tr><tr>\n",
       "                <td><strong>Features</strong></td>\n",
       "                <td>4319</td>\n",
       "            </tr><tr>\n",
       "                <td><strong>MD5</strong></td>\n",
       "                <td>482a2b04485ec8c4b5f4eaba2c2002da</td>\n",
       "            </tr>\n",
       "          </table>"
      ],
      "text/plain": [
       "<cobrakbase.core.kbasegenome.genome.KBaseGenome at 0x7f779fb60af0>"
      ]
     },
     "execution_count": 15,
     "metadata": {},
     "output_type": "execute_result"
    }
   ],
   "source": [
    "genome = kbase.get_from_ws(model.genome_ref)\n",
    "genome"
   ]
  },
  {
   "cell_type": "code",
   "execution_count": 16,
   "metadata": {},
   "outputs": [
    {
     "data": {
      "text/html": [
       "\n",
       "        <table>\n",
       "            <tr>\n",
       "                <td><strong>ID</strong></td>\n",
       "                <td>b0001</td>\n",
       "            </tr><tr>\n",
       "                <td><strong>Memory address</strong></td>\n",
       "                <td>0x07f7799ffaaf0</td>\n",
       "            </tr><tr>\n",
       "                <td><strong>Ontology Terms</strong></td>\n",
       "                <td>RAST; GO; KO; SSO</td>\n",
       "            </tr><tr><td><strong>RAST</strong></td><td>Thr operon leader peptide</td></tr><tr><td><strong>GO</strong></td><td>GO:0009088</td></tr><tr><td><strong>KO</strong></td><td>KO:K08278</td></tr><tr><td><strong>SSO</strong></td><td>SSO:000025637</td></tr><tr>\n",
       "                <td><strong>DNA Sequence Length</strong></td>\n",
       "                <td>66</td>\n",
       "            </tr><tr>\n",
       "                <td><strong>Protein Translation Length</strong></td>\n",
       "                <td>21</td>\n",
       "            </tr>\n",
       "          </table>"
      ],
      "text/plain": [
       "<cobrakbase.core.kbasegenome.genome_cds_feature.KBaseGenomeFeature at 0x7f7799ffaaf0>"
      ]
     },
     "execution_count": 16,
     "metadata": {},
     "output_type": "execute_result"
    }
   ],
   "source": [
    "genome.features.b0001"
   ]
  },
  {
   "cell_type": "code",
   "execution_count": 18,
   "metadata": {},
   "outputs": [],
   "source": [
    "genome = kbase.get_from_ws('GCF_000005845.2_v2', 12218)\n",
    "#genome = kbase.get_from_ws('GCF_000007345.1', 12218) # acetivo\n",
    "#genome = kbase.get_from_ws('68303/Escherichia_coli_K-12_MG1655.RAST') # appdev\n"
   ]
  },
  {
   "cell_type": "code",
   "execution_count": 19,
   "metadata": {},
   "outputs": [
    {
     "name": "stdout",
     "output_type": "stream",
     "text": [
      "CPU times: user 186 ms, sys: 12.6 ms, total: 199 ms\n",
      "Wall time: 2.7 s\n"
     ]
    }
   ],
   "source": [
    "%%time\n",
    "rast = RastClient()\n",
    "rast.annotate_genome(genome)\n",
    "pass"
   ]
  },
  {
   "cell_type": "code",
   "execution_count": 38,
   "metadata": {},
   "outputs": [
    {
     "name": "stdout",
     "output_type": "stream",
     "text": [
      "N\n"
     ]
    },
    {
     "data": {
      "text/html": [
       "\n",
       "        <table>\n",
       "            <tr>\n",
       "                <td><strong>Name</strong></td>\n",
       "                <td>model</td>\n",
       "            </tr><tr>\n",
       "                <td><strong>Memory address</strong></td>\n",
       "                <td>7f318bbb1190</td>\n",
       "            </tr><tr>\n",
       "                <td><strong>Number of metabolites</strong></td>\n",
       "                <td>1451</td>\n",
       "            </tr><tr>\n",
       "                <td><strong>Number of reactions</strong></td>\n",
       "                <td>1741</td>\n",
       "            </tr><tr>\n",
       "                <td><strong>Number of genes</strong></td>\n",
       "                <td>1299</td>\n",
       "            </tr><tr>\n",
       "                <td><strong>Number of groups</strong></td>\n",
       "                <td>1345</td>\n",
       "            </tr><tr>\n",
       "                <td><strong>Objective expression</strong></td>\n",
       "                <td>1.0*bio1 - 1.0*bio1_reverse_b18f7</td>\n",
       "            </tr><tr>\n",
       "                <td><strong>Compartments</strong></td>\n",
       "                <td>Cytosol, Extracellular</td>\n",
       "            </tr>\n",
       "          </table>"
      ],
      "text/plain": [
       "<Model model at 0x7f318bbb1190>"
      ]
     },
     "execution_count": 38,
     "metadata": {},
     "output_type": "execute_result"
    }
   ],
   "source": [
    "builder = modelseedpy.MSBuilder(genome)\n",
    "model = builder.build('model', annotate_with_rast=False)\n",
    "print(builder.genome_class)\n",
    "model"
   ]
  },
  {
   "cell_type": "code",
   "execution_count": 49,
   "metadata": {},
   "outputs": [],
   "source": [
    "from cobrakbase.core.kbasefba.fbamodel_from_cobra import CobraModelConverter\n",
    "fbamodel = CobraModelConverter(model, None, None).build()\n",
    "fbamodel.genome_ref = str(genome.info)\n",
    "fbamodel.template_ref = str(template.info)\n",
    "json_data = fbamodel.get_data()"
   ]
  },
  {
   "cell_type": "code",
   "execution_count": 48,
   "metadata": {},
   "outputs": [],
   "source": [
    "fbamodel.template_ref"
   ]
  },
  {
   "cell_type": "code",
   "execution_count": 5,
   "metadata": {},
   "outputs": [],
   "source": [
    "cobra.io.write_sbml_model(model, 'kbase_model.xml')"
   ]
  },
  {
   "cell_type": "code",
   "execution_count": null,
   "metadata": {},
   "outputs": [],
   "source": []
  },
  {
   "cell_type": "code",
   "execution_count": null,
   "metadata": {},
   "outputs": [],
   "source": []
  },
  {
   "cell_type": "code",
   "execution_count": 53,
   "metadata": {},
   "outputs": [
    {
     "data": {
      "text/plain": [
       "['12998/15/7']"
      ]
     },
     "execution_count": 53,
     "metadata": {},
     "output_type": "execute_result"
    }
   ],
   "source": [
    "json_data['template_refs']"
   ]
  },
  {
   "cell_type": "code",
   "execution_count": 37,
   "metadata": {},
   "outputs": [],
   "source": [
    "\n",
    "#fbamodel.template_ref = str(template.info)\n",
    "#fbamodel.template_ref"
   ]
  },
  {
   "cell_type": "code",
   "execution_count": 41,
   "metadata": {},
   "outputs": [
    {
     "data": {
      "text/plain": [
       "'12218/469/1'"
      ]
     },
     "execution_count": 41,
     "metadata": {},
     "output_type": "execute_result"
    }
   ],
   "source": [
    "\n",
    "fbamodel.genome_ref"
   ]
  },
  {
   "cell_type": "code",
   "execution_count": 25,
   "metadata": {},
   "outputs": [],
   "source": [
    "model.genome= genome\n",
    "model.template = template"
   ]
  },
  {
   "cell_type": "code",
   "execution_count": 42,
   "metadata": {},
   "outputs": [
    {
     "data": {
      "text/plain": [
       "<cobrakbase.kbase_object_info.KBaseObjectInfo at 0x7f3192674370>"
      ]
     },
     "execution_count": 42,
     "metadata": {},
     "output_type": "execute_result"
    }
   ],
   "source": [
    "kbase.save_object('test_model_1', 12218, 'KBaseFBA.FBAModel', fbamodel)"
   ]
  },
  {
   "cell_type": "code",
   "execution_count": null,
   "metadata": {},
   "outputs": [],
   "source": []
  },
  {
   "cell_type": "code",
   "execution_count": 43,
   "metadata": {},
   "outputs": [],
   "source": [
    "fbamodel.template_ref"
   ]
  },
  {
   "cell_type": "code",
   "execution_count": 13,
   "metadata": {},
   "outputs": [],
   "source": [
    "for r in template.reactions:\n",
    "    for cpx in r.complexes:\n",
    "        if cpx.id not in template.complexes:\n",
    "            print(cpx)"
   ]
  },
  {
   "cell_type": "code",
   "execution_count": 3,
   "metadata": {},
   "outputs": [],
   "source": [
    "template = kbase.get_from_ws('ArchaeaModelTemplateV5_test', 12218)"
   ]
  },
  {
   "cell_type": "code",
   "execution_count": 4,
   "metadata": {},
   "outputs": [],
   "source": [
    "biomass = template.biomasses[0]"
   ]
  },
  {
   "cell_type": "code",
   "execution_count": 5,
   "metadata": {},
   "outputs": [
    {
     "data": {
      "text/plain": [
       "cobrakbase.core.kbasefba.newmodeltemplate_biomass.NewModelTemplateBiomass"
      ]
     },
     "execution_count": 5,
     "metadata": {},
     "output_type": "execute_result"
    }
   ],
   "source": [
    "type(biomass)"
   ]
  },
  {
   "cell_type": "code",
   "execution_count": 10,
   "metadata": {},
   "outputs": [
    {
     "ename": "TypeError",
     "evalue": "build_biomass() missing 1 required positional argument: 'model'",
     "output_type": "error",
     "traceback": [
      "\u001b[0;31m---------------------------------------------------------------------------\u001b[0m",
      "\u001b[0;31mTypeError\u001b[0m                                 Traceback (most recent call last)",
      "\u001b[0;32m/tmp/ipykernel_2872967/1411220399.py\u001b[0m in \u001b[0;36m<module>\u001b[0;34m\u001b[0m\n\u001b[0;32m----> 1\u001b[0;31m \u001b[0mbiomass\u001b[0m\u001b[0;34m.\u001b[0m\u001b[0mbuild_biomass\u001b[0m\u001b[0;34m(\u001b[0m\u001b[0;34m)\u001b[0m\u001b[0;34m\u001b[0m\u001b[0;34m\u001b[0m\u001b[0m\n\u001b[0m",
      "\u001b[0;31mTypeError\u001b[0m: build_biomass() missing 1 required positional argument: 'model'"
     ]
    }
   ],
   "source": [
    "biomass.build_biomass()"
   ]
  },
  {
   "cell_type": "code",
   "execution_count": 5,
   "metadata": {},
   "outputs": [
    {
     "name": "stderr",
     "output_type": "stream",
     "text": [
      "WARNING:cobrakbase.core.kbasefba.fbamodel_builder:unable to add sink for [cpd15302_c0]: not found\n",
      "WARNING:cobrakbase.core.kbasefba.fbamodel_builder:unable to add sink for [cpd02701_c0]: not found\n"
     ]
    }
   ],
   "source": [
    "model_compare = kbase.get_from_ws('GCF_000005845.2.RAST.mdl', 'filipeliu:narrative_1612259860241')"
   ]
  },
  {
   "cell_type": "code",
   "execution_count": 17,
   "metadata": {},
   "outputs": [
    {
     "data": {
      "text/plain": [
       "'82183/5241/3'"
      ]
     },
     "execution_count": 17,
     "metadata": {},
     "output_type": "execute_result"
    }
   ],
   "source": [
    "str(model_compare.info)"
   ]
  },
  {
   "cell_type": "code",
   "execution_count": 3,
   "metadata": {},
   "outputs": [
    {
     "name": "stderr",
     "output_type": "stream",
     "text": [
      "WARNING:cobrakbase.core.kbasefba.fbamodel_builder:unable to add sink for [cpd02701_c0]: not found\n",
      "WARNING:cobrakbase.core.kbasefba.fbamodel_builder:unable to add sink for [cpd15302_c0]: not found\n"
     ]
    }
   ],
   "source": [
    "model_compare = kbase.get_from_ws('GCF_000005845.2.RAST.mdl', 'filipeliu:narrative_1612259860241')\n",
    "model_compare_template = kbase.get_from_ws(model_compare.template_ref)\n",
    "model_compare_genome = kbase.get_from_ws(model_compare.genome_ref)"
   ]
  },
  {
   "cell_type": "code",
   "execution_count": 4,
   "metadata": {},
   "outputs": [],
   "source": [
    "model_modelseed_py = cobrakbase.core.build_metabolic_model('ecoli', model_compare_genome, model_compare_template, '0', True)"
   ]
  },
  {
   "cell_type": "code",
   "execution_count": 5,
   "metadata": {},
   "outputs": [],
   "source": [
    "rxn_ids2 = set(map(lambda x: x.id, model_modelseed_py.reactions))\n",
    "rxn_ids1 = set(map(lambda x: x.id, model_compare.reactions))"
   ]
  },
  {
   "cell_type": "code",
   "execution_count": 10,
   "metadata": {},
   "outputs": [
    {
     "data": {
      "text/plain": [
       "{'EX_cpd00001_e0',\n",
       " 'EX_cpd00007_e0',\n",
       " 'EX_cpd00009_e0',\n",
       " 'EX_cpd00011_e0',\n",
       " 'EX_cpd00013_e0',\n",
       " 'EX_cpd00020_e0',\n",
       " 'EX_cpd00024_e0',\n",
       " 'EX_cpd00027_e0',\n",
       " 'EX_cpd00029_e0',\n",
       " 'EX_cpd00036_e0',\n",
       " 'EX_cpd00047_e0',\n",
       " 'EX_cpd00058_e0',\n",
       " 'EX_cpd00067_e0',\n",
       " 'EX_cpd00075_e0',\n",
       " 'EX_cpd00081_e0',\n",
       " 'EX_cpd00100_e0',\n",
       " 'EX_cpd00106_e0',\n",
       " 'EX_cpd00116_e0',\n",
       " 'EX_cpd00159_e0',\n",
       " 'EX_cpd00209_e0',\n",
       " 'EX_cpd00211_e0',\n",
       " 'EX_cpd00221_e0',\n",
       " 'EX_cpd00268_e0',\n",
       " 'EX_cpd00324_e0',\n",
       " 'EX_cpd00363_e0',\n",
       " 'EX_cpd00418_e0',\n",
       " 'EX_cpd00441_e0',\n",
       " 'EX_cpd00450_e0',\n",
       " 'EX_cpd00528_e0',\n",
       " 'EX_cpd00659_e0',\n",
       " 'EX_cpd00811_e0',\n",
       " 'EX_cpd00971_e0',\n",
       " 'EX_cpd01414_e0',\n",
       " 'EX_cpd01947_e0',\n",
       " 'EX_cpd03662_e0',\n",
       " 'EX_cpd08021_e0',\n",
       " 'EX_cpd11640_e0',\n",
       " 'SK_cpd11416_c0',\n",
       " 'bio1',\n",
       " 'bio2'}"
      ]
     },
     "execution_count": 10,
     "metadata": {},
     "output_type": "execute_result"
    }
   ],
   "source": [
    "rxn_ids1 - rxn_ids2"
   ]
  },
  {
   "cell_type": "code",
   "execution_count": 3,
   "metadata": {},
   "outputs": [],
   "source": [
    "template = kbase.get_from_ws('GramNegModelTemplateV3', 'NewKBaseModelTemplates')\n",
    "genome = kbase.get_from_ws('GCF_000005845.2.RAST2', 'filipeliu:narrative_1582914694010')\n",
    "media = kbase.get_from_ws('Carbon-D-Glucose', 'filipeliu:narrative_1582914694010')\n",
    "model_old = kbase.get_from_ws('GCF_000005845.2.mdl.gf', 'filipeliu:narrative_1582914694010')"
   ]
  },
  {
   "cell_type": "code",
   "execution_count": 23,
   "metadata": {},
   "outputs": [],
   "source": []
  },
  {
   "cell_type": "code",
   "execution_count": 29,
   "metadata": {},
   "outputs": [],
   "source": []
  },
  {
   "cell_type": "code",
   "execution_count": 84,
   "metadata": {},
   "outputs": [
    {
     "name": "stdout",
     "output_type": "stream",
     "text": [
      "bio2\n",
      "bio1\n"
     ]
    }
   ],
   "source": [
    "for bio in model_compare_template.biomasses:\n",
    "    print(bio['id'])"
   ]
  },
  {
   "cell_type": "code",
   "execution_count": null,
   "metadata": {},
   "outputs": [],
   "source": []
  },
  {
   "cell_type": "code",
   "execution_count": 83,
   "metadata": {},
   "outputs": [
    {
     "data": {
      "text/plain": [
       "{'cellwall': 0,\n",
       " 'cofactor': 0,\n",
       " 'dna': 0,\n",
       " 'energy': 1,\n",
       " 'id': 'bio1',\n",
       " 'lipid': 0,\n",
       " 'name': 'EnergyProduction',\n",
       " 'other': 0,\n",
       " 'protein': 0,\n",
       " 'rna': 0,\n",
       " 'templateBiomassComponents': [{'class': 'energy',\n",
       "   'coefficient': -1,\n",
       "   'coefficient_type': 'MULTIPLIER',\n",
       "   'link_coefficients': [1, -1, -1, -1],\n",
       "   'linked_compound_refs': ['~/compcompounds/id/cpd00001_c',\n",
       "    '~/compcompounds/id/cpd00008_c',\n",
       "    '~/compcompounds/id/cpd00009_c',\n",
       "    '~/compcompounds/id/cpd00067_c'],\n",
       "   'templatecompcompound_ref': '~/compcompounds/id/cpd00002_c'}],\n",
       " 'type': 'energy'}"
      ]
     },
     "execution_count": 83,
     "metadata": {},
     "output_type": "execute_result"
    }
   ],
   "source": [
    "bio"
   ]
  },
  {
   "cell_type": "code",
   "execution_count": null,
   "metadata": {},
   "outputs": [],
   "source": []
  },
  {
   "cell_type": "code",
   "execution_count": null,
   "metadata": {},
   "outputs": [],
   "source": []
  },
  {
   "cell_type": "code",
   "execution_count": null,
   "metadata": {},
   "outputs": [],
   "source": []
  },
  {
   "cell_type": "code",
   "execution_count": null,
   "metadata": {},
   "outputs": [],
   "source": []
  },
  {
   "cell_type": "code",
   "execution_count": null,
   "metadata": {},
   "outputs": [],
   "source": []
  },
  {
   "cell_type": "code",
   "execution_count": null,
   "metadata": {},
   "outputs": [],
   "source": []
  },
  {
   "cell_type": "code",
   "execution_count": null,
   "metadata": {},
   "outputs": [],
   "source": []
  },
  {
   "cell_type": "code",
   "execution_count": 15,
   "metadata": {},
   "outputs": [],
   "source": [
    "import json\n",
    "with open('ecoli_genome.json', 'w') as fh:\n",
    "    fh.write(json.dumps(genome.data))\n",
    "with open('template.json', 'w') as fh:\n",
    "    fh.write(json.dumps(template.get_data()))"
   ]
  },
  {
   "cell_type": "code",
   "execution_count": null,
   "metadata": {},
   "outputs": [],
   "source": []
  },
  {
   "cell_type": "code",
   "execution_count": null,
   "metadata": {},
   "outputs": [],
   "source": []
  },
  {
   "cell_type": "code",
   "execution_count": null,
   "metadata": {},
   "outputs": [],
   "source": []
  },
  {
   "cell_type": "code",
   "execution_count": 27,
   "metadata": {},
   "outputs": [],
   "source": [
    "\n",
    "\n",
    "g = modelseedpy.core.msgenome.MSGenome()\n",
    "g.features += seqs\n",
    "#search_name_to_genes, search_name_to_orginal = modelseedpy.core.rast_client.aux_rast_result(res)\n",
    "search_name_to_genes, search_name_to_orginal = aux_rast_result(res, g)"
   ]
  },
  {
   "cell_type": "code",
   "execution_count": 31,
   "metadata": {},
   "outputs": [],
   "source": [
    "rxn_roles = modelseedpy.core.rast_client.aux_template(template)"
   ]
  },
  {
   "cell_type": "code",
   "execution_count": 109,
   "metadata": {},
   "outputs": [
    {
     "data": {
      "text/plain": [
       "1544"
      ]
     },
     "execution_count": 109,
     "metadata": {},
     "output_type": "execute_result"
    }
   ],
   "source": [
    "metabolic_reactions = {}\n",
    "genome_search_names = set(search_name_to_genes)\n",
    "for rxn_id in rxn_roles:\n",
    "    sn_set = set(genome_search_names & rxn_roles[rxn_id])\n",
    "    if len(sn_set) > 0:\n",
    "        genes = set()\n",
    "        for sn in sn_set:\n",
    "            if sn in search_name_to_genes:\n",
    "                genes |= search_name_to_genes[sn]\n",
    "        metabolic_reactions[rxn_id] = genes\n",
    "        #metabolic_reactions.add(rxn_id)\n",
    "        #print(rxn_id, genome_search_names & rxn_roles[rxn_id])\n",
    "len(metabolic_reactions)"
   ]
  },
  {
   "cell_type": "code",
   "execution_count": 121,
   "metadata": {},
   "outputs": [],
   "source": [
    "# temporary hack until proper complexes from template\n",
    "metabolic_reactions_2 = {}\n",
    "cpx_random = 0\n",
    "for rxn_id in metabolic_reactions:\n",
    "    metabolic_reactions_2[rxn_id] = {}\n",
    "    for gene_id in metabolic_reactions[rxn_id]:\n",
    "        metabolic_reactions_2[rxn_id]['complex' + str(cpx_random)] = {gene_id}\n",
    "        cpx_random += 1"
   ]
  },
  {
   "cell_type": "code",
   "execution_count": null,
   "metadata": {},
   "outputs": [],
   "source": []
  },
  {
   "cell_type": "code",
   "execution_count": 119,
   "metadata": {},
   "outputs": [],
   "source": []
  },
  {
   "cell_type": "code",
   "execution_count": null,
   "metadata": {},
   "outputs": [],
   "source": []
  },
  {
   "cell_type": "code",
   "execution_count": 105,
   "metadata": {},
   "outputs": [],
   "source": [
    "\n",
    "\n",
    "\n",
    "\n"
   ]
  },
  {
   "cell_type": "code",
   "execution_count": 107,
   "metadata": {},
   "outputs": [],
   "source": [
    "\n",
    "\n",
    "#rxn = NewModelTemplateReactionToReaction(template.reactions.get_by_id('rxn02201_c'), {'cpx01370': {'b0142'}, 'cpx00700': {'b3177'}}, genome, template, '0')\n",
    "#rxn"
   ]
  },
  {
   "cell_type": "code",
   "execution_count": 108,
   "metadata": {},
   "outputs": [
    {
     "data": {
      "text/html": [
       "\n",
       "        <table>\n",
       "            <tr>\n",
       "                <td><strong>Reaction identifier</strong></td><td>rxn02201_c0</td>\n",
       "            </tr><tr>\n",
       "                <td><strong>Name</strong></td><td>2-amino-4-hydroxy-6-hydroxymethyl-7,8-dihydropteridine-diphosphate:4-aminobenzoate 2-amino-4-hydr...</td>\n",
       "            </tr><tr>\n",
       "                <td><strong>Memory address</strong></td>\n",
       "                <td>0x07f86bb34bfd0</td>\n",
       "            </tr><tr>\n",
       "                <td><strong>Stoichiometry</strong></td>\n",
       "                <td>\n",
       "                    <p style='text-align:right'>cpd00443_c0 + cpd02920_c0 --> cpd00012_c0 + cpd00067_c0 + cpd00683_c0</p>\n",
       "                    <p style='text-align:right'>ABEE + 2-Amino-4-hydroxy-6-hydroxymethyl-7-8-dihydropteridinediphosphate --> PPi + H+ + Dihydropteroate</p>\n",
       "                </td>\n",
       "            </tr><tr>\n",
       "                <td><strong>GPR</strong></td><td>(b0142) or (b3177)</td>\n",
       "            </tr><tr>\n",
       "                <td><strong>Lower bound</strong></td><td>0</td>\n",
       "            </tr><tr>\n",
       "                <td><strong>Upper bound</strong></td><td>1000</td>\n",
       "            </tr>\n",
       "        </table>\n",
       "        "
      ],
      "text/plain": [
       "<ModelReaction rxn02201_c0 at 0x7f86bb34bfd0>"
      ]
     },
     "execution_count": 108,
     "metadata": {},
     "output_type": "execute_result"
    }
   ],
   "source": [
    "cobra_model = build_model_from_some_map(example, genome, template)\n",
    "cobra_model.reactions.rxn02201_c0"
   ]
  },
  {
   "cell_type": "code",
   "execution_count": 84,
   "metadata": {},
   "outputs": [
    {
     "data": {
      "text/plain": [
       "{'b0142'}"
      ]
     },
     "execution_count": 84,
     "metadata": {},
     "output_type": "execute_result"
    }
   ],
   "source": [
    "example = {'rxn02201_c': {'cpx01370': {'b0142'}, 'cpx00700': {'b3177'}}}\n",
    "example['rxn02201_c']['cpx01370']"
   ]
  },
  {
   "cell_type": "code",
   "execution_count": 122,
   "metadata": {},
   "outputs": [
    {
     "data": {
      "text/html": [
       "\n",
       "        <table>\n",
       "            <tr>\n",
       "                <td><strong>Reaction identifier</strong></td><td>rxn02201_c0</td>\n",
       "            </tr><tr>\n",
       "                <td><strong>Name</strong></td><td>2-amino-4-hydroxy-6-hydroxymethyl-7,8-dihydropteridine-diphosphate:4-aminobenzoate 2-amino-4-hydr...</td>\n",
       "            </tr><tr>\n",
       "                <td><strong>Memory address</strong></td>\n",
       "                <td>0x07f86bb1ac550</td>\n",
       "            </tr><tr>\n",
       "                <td><strong>Stoichiometry</strong></td>\n",
       "                <td>\n",
       "                    <p style='text-align:right'>cpd00443_c0 + cpd02920_c0 --> cpd00012_c0 + cpd00067_c0 + cpd00683_c0</p>\n",
       "                    <p style='text-align:right'>ABEE + 2-Amino-4-hydroxy-6-hydroxymethyl-7-8-dihydropteridinediphosphate --> PPi + H+ + Dihydropteroate</p>\n",
       "                </td>\n",
       "            </tr><tr>\n",
       "                <td><strong>GPR</strong></td><td>(b0142) or (b3177)</td>\n",
       "            </tr><tr>\n",
       "                <td><strong>Lower bound</strong></td><td>0</td>\n",
       "            </tr><tr>\n",
       "                <td><strong>Upper bound</strong></td><td>1000</td>\n",
       "            </tr>\n",
       "        </table>\n",
       "        "
      ],
      "text/plain": [
       "<ModelReaction rxn02201_c0 at 0x7f86bb1ac550>"
      ]
     },
     "execution_count": 122,
     "metadata": {},
     "output_type": "execute_result"
    }
   ],
   "source": []
  },
  {
   "cell_type": "code",
   "execution_count": 126,
   "metadata": {},
   "outputs": [
    {
     "name": "stdout",
     "output_type": "stream",
     "text": [
      "rxn02201_c0: cpd00443_c0 + cpd02920_c0 --> cpd00012_c0 + cpd00067_c0 + cpd00683_c0 (b0142) or (b3177)\n"
     ]
    }
   ],
   "source": [
    "for r in cobra_model.reactions:\n",
    "    print(r, r.gene_reaction_rule)\n",
    "    break"
   ]
  },
  {
   "cell_type": "code",
   "execution_count": null,
   "metadata": {},
   "outputs": [],
   "source": []
  }
 ],
 "metadata": {
  "kernelspec": {
   "display_name": "Python 3 (ipykernel)",
   "language": "python",
   "name": "python3"
  },
  "language_info": {
   "codemirror_mode": {
    "name": "ipython",
    "version": 3
   },
   "file_extension": ".py",
   "mimetype": "text/x-python",
   "name": "python",
   "nbconvert_exporter": "python",
   "pygments_lexer": "ipython3",
   "version": "3.8.10"
  }
 },
 "nbformat": 4,
 "nbformat_minor": 4
}
