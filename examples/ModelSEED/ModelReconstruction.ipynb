{
 "cells": [
  {
   "cell_type": "code",
   "execution_count": 1,
   "metadata": {},
   "outputs": [
    {
     "name": "stdout",
     "output_type": "stream",
     "text": [
      "cobrakbase 0.3.1\n"
     ]
    }
   ],
   "source": [
    "import cobra\n",
    "import cobrakbase\n",
    "#import modelseedpy\n",
    "from modelseedpy.core.rast_client import RastClient"
   ]
  },
  {
   "cell_type": "code",
   "execution_count": 2,
   "metadata": {},
   "outputs": [],
   "source": [
    "kbase = cobrakbase.KBaseAPI()"
   ]
  },
  {
   "cell_type": "code",
   "execution_count": 3,
   "metadata": {},
   "outputs": [],
   "source": [
    "template = kbase.get_from_ws('ArchaeaModelTemplateV5_test', 12218)"
   ]
  },
  {
   "cell_type": "code",
   "execution_count": 4,
   "metadata": {},
   "outputs": [],
   "source": [
    "biomass = template.biomasses[0]"
   ]
  },
  {
   "cell_type": "code",
   "execution_count": 5,
   "metadata": {},
   "outputs": [
    {
     "data": {
      "text/plain": [
       "cobrakbase.core.kbasefba.newmodeltemplate_biomass.NewModelTemplateBiomass"
      ]
     },
     "execution_count": 5,
     "metadata": {},
     "output_type": "execute_result"
    }
   ],
   "source": [
    "type(biomass)"
   ]
  },
  {
   "cell_type": "code",
   "execution_count": 10,
   "metadata": {},
   "outputs": [
    {
     "ename": "TypeError",
     "evalue": "build_biomass() missing 1 required positional argument: 'model'",
     "output_type": "error",
     "traceback": [
      "\u001b[0;31m---------------------------------------------------------------------------\u001b[0m",
      "\u001b[0;31mTypeError\u001b[0m                                 Traceback (most recent call last)",
      "\u001b[0;32m/tmp/ipykernel_2872967/1411220399.py\u001b[0m in \u001b[0;36m<module>\u001b[0;34m\u001b[0m\n\u001b[0;32m----> 1\u001b[0;31m \u001b[0mbiomass\u001b[0m\u001b[0;34m.\u001b[0m\u001b[0mbuild_biomass\u001b[0m\u001b[0;34m(\u001b[0m\u001b[0;34m)\u001b[0m\u001b[0;34m\u001b[0m\u001b[0;34m\u001b[0m\u001b[0m\n\u001b[0m",
      "\u001b[0;31mTypeError\u001b[0m: build_biomass() missing 1 required positional argument: 'model'"
     ]
    }
   ],
   "source": [
    "biomass.build_biomass()"
   ]
  },
  {
   "cell_type": "code",
   "execution_count": 5,
   "metadata": {},
   "outputs": [
    {
     "name": "stderr",
     "output_type": "stream",
     "text": [
      "WARNING:cobrakbase.core.kbasefba.fbamodel_builder:unable to add sink for [cpd15302_c0]: not found\n",
      "WARNING:cobrakbase.core.kbasefba.fbamodel_builder:unable to add sink for [cpd02701_c0]: not found\n"
     ]
    }
   ],
   "source": [
    "model_compare = kbase.get_from_ws('GCF_000005845.2.RAST.mdl', 'filipeliu:narrative_1612259860241')"
   ]
  },
  {
   "cell_type": "code",
   "execution_count": 17,
   "metadata": {},
   "outputs": [
    {
     "data": {
      "text/plain": [
       "'82183/5241/3'"
      ]
     },
     "execution_count": 17,
     "metadata": {},
     "output_type": "execute_result"
    }
   ],
   "source": [
    "str(model_compare.info)"
   ]
  },
  {
   "cell_type": "code",
   "execution_count": 3,
   "metadata": {},
   "outputs": [
    {
     "name": "stderr",
     "output_type": "stream",
     "text": [
      "WARNING:cobrakbase.core.kbasefba.fbamodel_builder:unable to add sink for [cpd02701_c0]: not found\n",
      "WARNING:cobrakbase.core.kbasefba.fbamodel_builder:unable to add sink for [cpd15302_c0]: not found\n"
     ]
    }
   ],
   "source": [
    "model_compare = kbase.get_from_ws('GCF_000005845.2.RAST.mdl', 'filipeliu:narrative_1612259860241')\n",
    "model_compare_template = kbase.get_from_ws(model_compare.template_ref)\n",
    "model_compare_genome = kbase.get_from_ws(model_compare.genome_ref)"
   ]
  },
  {
   "cell_type": "code",
   "execution_count": 4,
   "metadata": {},
   "outputs": [],
   "source": [
    "model_modelseed_py = cobrakbase.core.build_metabolic_model('ecoli', model_compare_genome, model_compare_template, '0', True)"
   ]
  },
  {
   "cell_type": "code",
   "execution_count": 5,
   "metadata": {},
   "outputs": [],
   "source": [
    "rxn_ids2 = set(map(lambda x: x.id, model_modelseed_py.reactions))\n",
    "rxn_ids1 = set(map(lambda x: x.id, model_compare.reactions))"
   ]
  },
  {
   "cell_type": "code",
   "execution_count": 10,
   "metadata": {},
   "outputs": [
    {
     "data": {
      "text/plain": [
       "{'EX_cpd00001_e0',\n",
       " 'EX_cpd00007_e0',\n",
       " 'EX_cpd00009_e0',\n",
       " 'EX_cpd00011_e0',\n",
       " 'EX_cpd00013_e0',\n",
       " 'EX_cpd00020_e0',\n",
       " 'EX_cpd00024_e0',\n",
       " 'EX_cpd00027_e0',\n",
       " 'EX_cpd00029_e0',\n",
       " 'EX_cpd00036_e0',\n",
       " 'EX_cpd00047_e0',\n",
       " 'EX_cpd00058_e0',\n",
       " 'EX_cpd00067_e0',\n",
       " 'EX_cpd00075_e0',\n",
       " 'EX_cpd00081_e0',\n",
       " 'EX_cpd00100_e0',\n",
       " 'EX_cpd00106_e0',\n",
       " 'EX_cpd00116_e0',\n",
       " 'EX_cpd00159_e0',\n",
       " 'EX_cpd00209_e0',\n",
       " 'EX_cpd00211_e0',\n",
       " 'EX_cpd00221_e0',\n",
       " 'EX_cpd00268_e0',\n",
       " 'EX_cpd00324_e0',\n",
       " 'EX_cpd00363_e0',\n",
       " 'EX_cpd00418_e0',\n",
       " 'EX_cpd00441_e0',\n",
       " 'EX_cpd00450_e0',\n",
       " 'EX_cpd00528_e0',\n",
       " 'EX_cpd00659_e0',\n",
       " 'EX_cpd00811_e0',\n",
       " 'EX_cpd00971_e0',\n",
       " 'EX_cpd01414_e0',\n",
       " 'EX_cpd01947_e0',\n",
       " 'EX_cpd03662_e0',\n",
       " 'EX_cpd08021_e0',\n",
       " 'EX_cpd11640_e0',\n",
       " 'SK_cpd11416_c0',\n",
       " 'bio1',\n",
       " 'bio2'}"
      ]
     },
     "execution_count": 10,
     "metadata": {},
     "output_type": "execute_result"
    }
   ],
   "source": [
    "rxn_ids1 - rxn_ids2"
   ]
  },
  {
   "cell_type": "code",
   "execution_count": 3,
   "metadata": {},
   "outputs": [],
   "source": [
    "template = kbase.get_from_ws('GramNegModelTemplateV3', 'NewKBaseModelTemplates')\n",
    "genome = kbase.get_from_ws('GCF_000005845.2.RAST2', 'filipeliu:narrative_1582914694010')\n",
    "media = kbase.get_from_ws('Carbon-D-Glucose', 'filipeliu:narrative_1582914694010')\n",
    "model_old = kbase.get_from_ws('GCF_000005845.2.mdl.gf', 'filipeliu:narrative_1582914694010')"
   ]
  },
  {
   "cell_type": "code",
   "execution_count": 23,
   "metadata": {},
   "outputs": [],
   "source": []
  },
  {
   "cell_type": "code",
   "execution_count": 29,
   "metadata": {},
   "outputs": [],
   "source": []
  },
  {
   "cell_type": "code",
   "execution_count": 84,
   "metadata": {},
   "outputs": [
    {
     "name": "stdout",
     "output_type": "stream",
     "text": [
      "bio2\n",
      "bio1\n"
     ]
    }
   ],
   "source": [
    "for bio in model_compare_template.biomasses:\n",
    "    print(bio['id'])"
   ]
  },
  {
   "cell_type": "code",
   "execution_count": null,
   "metadata": {},
   "outputs": [],
   "source": []
  },
  {
   "cell_type": "code",
   "execution_count": 83,
   "metadata": {},
   "outputs": [
    {
     "data": {
      "text/plain": [
       "{'cellwall': 0,\n",
       " 'cofactor': 0,\n",
       " 'dna': 0,\n",
       " 'energy': 1,\n",
       " 'id': 'bio1',\n",
       " 'lipid': 0,\n",
       " 'name': 'EnergyProduction',\n",
       " 'other': 0,\n",
       " 'protein': 0,\n",
       " 'rna': 0,\n",
       " 'templateBiomassComponents': [{'class': 'energy',\n",
       "   'coefficient': -1,\n",
       "   'coefficient_type': 'MULTIPLIER',\n",
       "   'link_coefficients': [1, -1, -1, -1],\n",
       "   'linked_compound_refs': ['~/compcompounds/id/cpd00001_c',\n",
       "    '~/compcompounds/id/cpd00008_c',\n",
       "    '~/compcompounds/id/cpd00009_c',\n",
       "    '~/compcompounds/id/cpd00067_c'],\n",
       "   'templatecompcompound_ref': '~/compcompounds/id/cpd00002_c'}],\n",
       " 'type': 'energy'}"
      ]
     },
     "execution_count": 83,
     "metadata": {},
     "output_type": "execute_result"
    }
   ],
   "source": [
    "bio"
   ]
  },
  {
   "cell_type": "code",
   "execution_count": null,
   "metadata": {},
   "outputs": [],
   "source": []
  },
  {
   "cell_type": "code",
   "execution_count": null,
   "metadata": {},
   "outputs": [],
   "source": []
  },
  {
   "cell_type": "code",
   "execution_count": null,
   "metadata": {},
   "outputs": [],
   "source": []
  },
  {
   "cell_type": "code",
   "execution_count": null,
   "metadata": {},
   "outputs": [],
   "source": []
  },
  {
   "cell_type": "code",
   "execution_count": null,
   "metadata": {},
   "outputs": [],
   "source": []
  },
  {
   "cell_type": "code",
   "execution_count": null,
   "metadata": {},
   "outputs": [],
   "source": []
  },
  {
   "cell_type": "code",
   "execution_count": null,
   "metadata": {},
   "outputs": [],
   "source": []
  },
  {
   "cell_type": "code",
   "execution_count": 15,
   "metadata": {},
   "outputs": [],
   "source": [
    "import json\n",
    "with open('ecoli_genome.json', 'w') as fh:\n",
    "    fh.write(json.dumps(genome.data))\n",
    "with open('template.json', 'w') as fh:\n",
    "    fh.write(json.dumps(template.get_data()))"
   ]
  },
  {
   "cell_type": "code",
   "execution_count": null,
   "metadata": {},
   "outputs": [],
   "source": []
  },
  {
   "cell_type": "code",
   "execution_count": null,
   "metadata": {},
   "outputs": [],
   "source": []
  },
  {
   "cell_type": "code",
   "execution_count": null,
   "metadata": {},
   "outputs": [],
   "source": []
  },
  {
   "cell_type": "code",
   "execution_count": 27,
   "metadata": {},
   "outputs": [],
   "source": [
    "\n",
    "\n",
    "g = modelseedpy.core.msgenome.MSGenome()\n",
    "g.features += seqs\n",
    "#search_name_to_genes, search_name_to_orginal = modelseedpy.core.rast_client.aux_rast_result(res)\n",
    "search_name_to_genes, search_name_to_orginal = aux_rast_result(res, g)"
   ]
  },
  {
   "cell_type": "code",
   "execution_count": 31,
   "metadata": {},
   "outputs": [],
   "source": [
    "rxn_roles = modelseedpy.core.rast_client.aux_template(template)"
   ]
  },
  {
   "cell_type": "code",
   "execution_count": 109,
   "metadata": {},
   "outputs": [
    {
     "data": {
      "text/plain": [
       "1544"
      ]
     },
     "execution_count": 109,
     "metadata": {},
     "output_type": "execute_result"
    }
   ],
   "source": [
    "metabolic_reactions = {}\n",
    "genome_search_names = set(search_name_to_genes)\n",
    "for rxn_id in rxn_roles:\n",
    "    sn_set = set(genome_search_names & rxn_roles[rxn_id])\n",
    "    if len(sn_set) > 0:\n",
    "        genes = set()\n",
    "        for sn in sn_set:\n",
    "            if sn in search_name_to_genes:\n",
    "                genes |= search_name_to_genes[sn]\n",
    "        metabolic_reactions[rxn_id] = genes\n",
    "        #metabolic_reactions.add(rxn_id)\n",
    "        #print(rxn_id, genome_search_names & rxn_roles[rxn_id])\n",
    "len(metabolic_reactions)"
   ]
  },
  {
   "cell_type": "code",
   "execution_count": 121,
   "metadata": {},
   "outputs": [],
   "source": [
    "# temporary hack until proper complexes from template\n",
    "metabolic_reactions_2 = {}\n",
    "cpx_random = 0\n",
    "for rxn_id in metabolic_reactions:\n",
    "    metabolic_reactions_2[rxn_id] = {}\n",
    "    for gene_id in metabolic_reactions[rxn_id]:\n",
    "        metabolic_reactions_2[rxn_id]['complex' + str(cpx_random)] = {gene_id}\n",
    "        cpx_random += 1"
   ]
  },
  {
   "cell_type": "code",
   "execution_count": null,
   "metadata": {},
   "outputs": [],
   "source": []
  },
  {
   "cell_type": "code",
   "execution_count": 119,
   "metadata": {},
   "outputs": [],
   "source": []
  },
  {
   "cell_type": "code",
   "execution_count": null,
   "metadata": {},
   "outputs": [],
   "source": []
  },
  {
   "cell_type": "code",
   "execution_count": 105,
   "metadata": {},
   "outputs": [],
   "source": [
    "\n",
    "\n",
    "\n",
    "\n"
   ]
  },
  {
   "cell_type": "code",
   "execution_count": 107,
   "metadata": {},
   "outputs": [],
   "source": [
    "\n",
    "\n",
    "#rxn = NewModelTemplateReactionToReaction(template.reactions.get_by_id('rxn02201_c'), {'cpx01370': {'b0142'}, 'cpx00700': {'b3177'}}, genome, template, '0')\n",
    "#rxn"
   ]
  },
  {
   "cell_type": "code",
   "execution_count": 108,
   "metadata": {},
   "outputs": [
    {
     "data": {
      "text/html": [
       "\n",
       "        <table>\n",
       "            <tr>\n",
       "                <td><strong>Reaction identifier</strong></td><td>rxn02201_c0</td>\n",
       "            </tr><tr>\n",
       "                <td><strong>Name</strong></td><td>2-amino-4-hydroxy-6-hydroxymethyl-7,8-dihydropteridine-diphosphate:4-aminobenzoate 2-amino-4-hydr...</td>\n",
       "            </tr><tr>\n",
       "                <td><strong>Memory address</strong></td>\n",
       "                <td>0x07f86bb34bfd0</td>\n",
       "            </tr><tr>\n",
       "                <td><strong>Stoichiometry</strong></td>\n",
       "                <td>\n",
       "                    <p style='text-align:right'>cpd00443_c0 + cpd02920_c0 --> cpd00012_c0 + cpd00067_c0 + cpd00683_c0</p>\n",
       "                    <p style='text-align:right'>ABEE + 2-Amino-4-hydroxy-6-hydroxymethyl-7-8-dihydropteridinediphosphate --> PPi + H+ + Dihydropteroate</p>\n",
       "                </td>\n",
       "            </tr><tr>\n",
       "                <td><strong>GPR</strong></td><td>(b0142) or (b3177)</td>\n",
       "            </tr><tr>\n",
       "                <td><strong>Lower bound</strong></td><td>0</td>\n",
       "            </tr><tr>\n",
       "                <td><strong>Upper bound</strong></td><td>1000</td>\n",
       "            </tr>\n",
       "        </table>\n",
       "        "
      ],
      "text/plain": [
       "<ModelReaction rxn02201_c0 at 0x7f86bb34bfd0>"
      ]
     },
     "execution_count": 108,
     "metadata": {},
     "output_type": "execute_result"
    }
   ],
   "source": [
    "cobra_model = build_model_from_some_map(example, genome, template)\n",
    "cobra_model.reactions.rxn02201_c0"
   ]
  },
  {
   "cell_type": "code",
   "execution_count": 84,
   "metadata": {},
   "outputs": [
    {
     "data": {
      "text/plain": [
       "{'b0142'}"
      ]
     },
     "execution_count": 84,
     "metadata": {},
     "output_type": "execute_result"
    }
   ],
   "source": [
    "example = {'rxn02201_c': {'cpx01370': {'b0142'}, 'cpx00700': {'b3177'}}}\n",
    "example['rxn02201_c']['cpx01370']"
   ]
  },
  {
   "cell_type": "code",
   "execution_count": 122,
   "metadata": {},
   "outputs": [
    {
     "data": {
      "text/html": [
       "\n",
       "        <table>\n",
       "            <tr>\n",
       "                <td><strong>Reaction identifier</strong></td><td>rxn02201_c0</td>\n",
       "            </tr><tr>\n",
       "                <td><strong>Name</strong></td><td>2-amino-4-hydroxy-6-hydroxymethyl-7,8-dihydropteridine-diphosphate:4-aminobenzoate 2-amino-4-hydr...</td>\n",
       "            </tr><tr>\n",
       "                <td><strong>Memory address</strong></td>\n",
       "                <td>0x07f86bb1ac550</td>\n",
       "            </tr><tr>\n",
       "                <td><strong>Stoichiometry</strong></td>\n",
       "                <td>\n",
       "                    <p style='text-align:right'>cpd00443_c0 + cpd02920_c0 --> cpd00012_c0 + cpd00067_c0 + cpd00683_c0</p>\n",
       "                    <p style='text-align:right'>ABEE + 2-Amino-4-hydroxy-6-hydroxymethyl-7-8-dihydropteridinediphosphate --> PPi + H+ + Dihydropteroate</p>\n",
       "                </td>\n",
       "            </tr><tr>\n",
       "                <td><strong>GPR</strong></td><td>(b0142) or (b3177)</td>\n",
       "            </tr><tr>\n",
       "                <td><strong>Lower bound</strong></td><td>0</td>\n",
       "            </tr><tr>\n",
       "                <td><strong>Upper bound</strong></td><td>1000</td>\n",
       "            </tr>\n",
       "        </table>\n",
       "        "
      ],
      "text/plain": [
       "<ModelReaction rxn02201_c0 at 0x7f86bb1ac550>"
      ]
     },
     "execution_count": 122,
     "metadata": {},
     "output_type": "execute_result"
    }
   ],
   "source": []
  },
  {
   "cell_type": "code",
   "execution_count": 126,
   "metadata": {},
   "outputs": [
    {
     "name": "stdout",
     "output_type": "stream",
     "text": [
      "rxn02201_c0: cpd00443_c0 + cpd02920_c0 --> cpd00012_c0 + cpd00067_c0 + cpd00683_c0 (b0142) or (b3177)\n"
     ]
    }
   ],
   "source": [
    "for r in cobra_model.reactions:\n",
    "    print(r, r.gene_reaction_rule)\n",
    "    break"
   ]
  },
  {
   "cell_type": "code",
   "execution_count": null,
   "metadata": {},
   "outputs": [],
   "source": []
  }
 ],
 "metadata": {
  "kernelspec": {
   "display_name": "Python 3 (ipykernel)",
   "language": "python",
   "name": "python3"
  },
  "language_info": {
   "codemirror_mode": {
    "name": "ipython",
    "version": 3
   },
   "file_extension": ".py",
   "mimetype": "text/x-python",
   "name": "python",
   "nbconvert_exporter": "python",
   "pygments_lexer": "ipython3",
   "version": "3.8.10"
  }
 },
 "nbformat": 4,
 "nbformat_minor": 4
}
