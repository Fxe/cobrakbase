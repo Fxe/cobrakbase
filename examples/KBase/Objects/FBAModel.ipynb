{
 "cells": [
  {
   "cell_type": "code",
   "execution_count": 26,
   "id": "7cd5fa78-aa96-4b72-a0f4-e05be51ca0fa",
   "metadata": {},
   "outputs": [],
   "source": [
    "kbase = cobrakbase.KBaseAPI()"
   ]
  },
  {
   "cell_type": "code",
   "execution_count": 2,
   "id": "a2b1153b-9489-416a-a88d-48c886a881c9",
   "metadata": {},
   "outputs": [],
   "source": []
  },
  {
   "cell_type": "code",
   "execution_count": 3,
   "id": "85284e1a-a4c8-4d3e-9957-60845e59981d",
   "metadata": {},
   "outputs": [],
   "source": []
  },
  {
   "cell_type": "code",
   "execution_count": 4,
   "id": "3ad4f053-e088-415f-bc9d-96ac01f2d81a",
   "metadata": {},
   "outputs": [
    {
     "name": "stdout",
     "output_type": "stream",
     "text": [
      "{'ms_probability': 0.7}\n"
     ]
    }
   ],
   "source": []
  },
  {
   "cell_type": "code",
   "execution_count": 5,
   "id": "b4e735c6-ec45-46ae-9c38-aebc549a172a",
   "metadata": {},
   "outputs": [
    {
     "data": {
      "text/plain": [
       "0.1111"
      ]
     },
     "execution_count": 5,
     "metadata": {},
     "output_type": "execute_result"
    }
   ],
   "source": []
  },
  {
   "cell_type": "code",
   "execution_count": 9,
   "id": "c0d22ec1-9b46-4f49-96ac-8326baeae6e0",
   "metadata": {},
   "outputs": [
    {
     "name": "stdout",
     "output_type": "stream",
     "text": [
      "None\n",
      "{}\n"
     ]
    }
   ],
   "source": []
  },
  {
   "cell_type": "code",
   "execution_count": 10,
   "id": "b6312738-674b-4252-836a-78d1c7b087b8",
   "metadata": {},
   "outputs": [],
   "source": []
  },
  {
   "cell_type": "code",
   "execution_count": 12,
   "id": "e56cdcf0-eef1-4588-a1a6-758bdea6bd7a",
   "metadata": {},
   "outputs": [],
   "source": []
  },
  {
   "cell_type": "code",
   "execution_count": 23,
   "id": "c11c5c7d-0f80-4f74-8c1b-2a1dc6a89a3f",
   "metadata": {},
   "outputs": [
    {
     "name": "stdout",
     "output_type": "stream",
     "text": [
      "<module 'cobra' from '/Users/fliu/workspace/env/modelseed/lib/python3.8/site-packages/cobra/__init__.py'>\n",
      "{'ms_probability': 0.7}\n",
      "None\n",
      "{}\n"
     ]
    },
    {
     "name": "stderr",
     "output_type": "stream",
     "text": [
      "WARNING:cobrakbase.core.kbasefba.fbamodel_from_cobra:no biomass reaction provided or detected\n"
     ]
    },
    {
     "data": {
      "text/plain": [
       "1.1"
      ]
     },
     "execution_count": 23,
     "metadata": {},
     "output_type": "execute_result"
    }
   ],
   "source": [
    "import cobra\n",
    "print(cobra)\n",
    "import cobrakbase\n",
    "model = cobrakbase.core.kbasefba.FBAModel({'id': 'test', 'name': 'test'})\n",
    "from cobrakbase.core.kbasefba.fbamodel_reaction import ModelReaction\n",
    "rxn = ModelReaction('rxn1', 'test reaction 1', '', 0, 1000, probability=0.7)\n",
    "print(rxn.notes)\n",
    "rxn.notes['ms_probability'] = 0.1111\n",
    "rxn.probability\n",
    "rxn.probability = None\n",
    "print(rxn.probability)\n",
    "print(rxn.notes)\n",
    "rxn.probability = 1.1\n",
    "model.add_reactions([rxn])\n",
    "cobra.io.save_json_model(model, 'test_model.json')\n",
    "model_loaded = cobra.io.load_json_model('test_model.json')\n",
    "model_loaded.reactions.rxn1.notes\n",
    "from cobrakbase.core.kbasefba.fbamodel_from_cobra import CobraModelConverter\n",
    "model_2 = CobraModelConverter(model_loaded).build()\n",
    "model_2.reactions.rxn1.probability"
   ]
  },
  {
   "cell_type": "code",
   "execution_count": 28,
   "id": "c3779df6-cd7a-40a3-8b07-d85c2a730db1",
   "metadata": {},
   "outputs": [],
   "source": [
    "ob = kbase.get_object('kb.Ec_core_flux1', 24121)"
   ]
  },
  {
   "cell_type": "code",
   "execution_count": 30,
   "id": "c90c45f3-b6e8-4f00-b413-6e2f20d19a72",
   "metadata": {},
   "outputs": [],
   "source": [
    "res = kbase.get_objects2(\n",
    "            {\"objects\": [kbase.process_workspace_identifiers('kb.Ec_core_flux1', 24121)]}\n",
    "        )"
   ]
  },
  {
   "cell_type": "code",
   "execution_count": 37,
   "id": "6a33c9f0-8f11-4d77-9b9a-fd2bbb233fff",
   "metadata": {},
   "outputs": [
    {
     "data": {
      "text/plain": [
       "[5,\n",
       " 'kb.Ec_core_flux1',\n",
       " 'KBaseFBA.FBAModel-11.0',\n",
       " '2017-09-12T21:13:17+0000',\n",
       " 4,\n",
       " 'filipeliu',\n",
       " 24121,\n",
       " 'filipeliu:narrative_1504796314698',\n",
       " '9fba665255823f274df7b3930e14ce44',\n",
       " 80796,\n",
       " {'Number gapgens': '0',\n",
       "  'Type': 'SBML Model',\n",
       "  'Number gapfills': '0',\n",
       "  'Source ID': 'Ec_core_flux1',\n",
       "  'Number biomasses': '1',\n",
       "  'Number compartments': '2',\n",
       "  'Genome': '23373/6/1',\n",
       "  'Source': 'External',\n",
       "  'Number compounds': '63',\n",
       "  'Number reactions': '62',\n",
       "  'Name': 'Ec_core_flux1'}]"
      ]
     },
     "execution_count": 37,
     "metadata": {},
     "output_type": "execute_result"
    }
   ],
   "source": [
    "res['data'][0]['info']"
   ]
  },
  {
   "cell_type": "code",
   "execution_count": 18,
   "id": "d0f68894-a363-4dfb-b9e5-676ed863987b",
   "metadata": {},
   "outputs": [
    {
     "name": "stderr",
     "output_type": "stream",
     "text": [
      "WARNING:cobrakbase.core.kbasefba.fbamodel_from_cobra:no biomass reaction provided or detected\n"
     ]
    }
   ],
   "source": []
  },
  {
   "cell_type": "code",
   "execution_count": 21,
   "id": "4fc1a1e6-972d-4373-bb3c-07cfdefe9c13",
   "metadata": {},
   "outputs": [
    {
     "data": {
      "text/plain": [
       "1.1"
      ]
     },
     "execution_count": 21,
     "metadata": {},
     "output_type": "execute_result"
    }
   ],
   "source": []
  },
  {
   "cell_type": "code",
   "execution_count": 38,
   "id": "4f75e5a5-85d0-4b5f-8f08-8af15dd8e9bc",
   "metadata": {},
   "outputs": [],
   "source": [
    "model_a = cobra.io.read_sbml_model('/Users/fliu/Downloads/Pirellula_B.xml')"
   ]
  },
  {
   "cell_type": "code",
   "execution_count": 46,
   "id": "731e7e45-7181-49eb-9856-2a5ded404ddb",
   "metadata": {},
   "outputs": [
    {
     "data": {
      "text/html": [
       "\n",
       "        <table>\n",
       "            <tr>\n",
       "                <td><strong>Name</strong></td>\n",
       "                <td>Pirellula_B</td>\n",
       "            </tr><tr>\n",
       "                <td><strong>Memory address</strong></td>\n",
       "                <td>137bf3a00</td>\n",
       "            </tr><tr>\n",
       "                <td><strong>Number of metabolites</strong></td>\n",
       "                <td>1274</td>\n",
       "            </tr><tr>\n",
       "                <td><strong>Number of reactions</strong></td>\n",
       "                <td>1374</td>\n",
       "            </tr><tr>\n",
       "                <td><strong>Number of genes</strong></td>\n",
       "                <td>680</td>\n",
       "            </tr><tr>\n",
       "                <td><strong>Number of groups</strong></td>\n",
       "                <td>0</td>\n",
       "            </tr><tr>\n",
       "                <td><strong>Objective expression</strong></td>\n",
       "                <td>1.0*bio1 - 1.0*bio1_reverse_b18f7</td>\n",
       "            </tr><tr>\n",
       "                <td><strong>Compartments</strong></td>\n",
       "                <td>c0, e0</td>\n",
       "            </tr>\n",
       "          </table>"
      ],
      "text/plain": [
       "<Model Pirellula_B at 0x137bf3a00>"
      ]
     },
     "execution_count": 46,
     "metadata": {},
     "output_type": "execute_result"
    }
   ],
   "source": [
    "model_a"
   ]
  },
  {
   "cell_type": "code",
   "execution_count": 44,
   "id": "dd6896f5-8e56-497a-9637-d55bda2f5307",
   "metadata": {
    "collapsed": true,
    "jupyter": {
     "outputs_hidden": true
    }
   },
   "outputs": [
    {
     "name": "stderr",
     "output_type": "stream",
     "text": [
      "WARNING:cobra.core.model:Ignoring reaction 'EX_cpd11585_e0' since it already exists.\n",
      "WARNING:cobra.core.model:Ignoring reaction 'EX_cpd00048_e0' since it already exists.\n",
      "WARNING:cobra.core.model:Ignoring reaction 'EX_cpd01414_e0' since it already exists.\n",
      "WARNING:cobra.core.model:Ignoring reaction 'EX_cpd00264_e0' since it already exists.\n",
      "WARNING:cobra.core.model:Ignoring reaction 'EX_cpd00012_e0' since it already exists.\n",
      "WARNING:cobra.core.model:Ignoring reaction 'EX_cpd00034_e0' since it already exists.\n",
      "WARNING:cobra.core.model:Ignoring reaction 'EX_cpd00054_e0' since it already exists.\n",
      "WARNING:cobra.core.model:Ignoring reaction 'EX_cpd00156_e0' since it already exists.\n",
      "WARNING:cobra.core.model:Ignoring reaction 'EX_cpd11583_e0' since it already exists.\n",
      "WARNING:cobra.core.model:Ignoring reaction 'EX_cpd00215_e0' since it already exists.\n",
      "WARNING:cobra.core.model:Ignoring reaction 'EX_cpd00322_e0' since it already exists.\n",
      "WARNING:cobra.core.model:Ignoring reaction 'EX_cpd00100_e0' since it already exists.\n",
      "WARNING:cobra.core.model:Ignoring reaction 'EX_cpd00067_e0' since it already exists.\n",
      "WARNING:cobra.core.model:Ignoring reaction 'EX_cpd00138_e0' since it already exists.\n",
      "WARNING:cobra.core.model:Ignoring reaction 'EX_cpd11588_e0' since it already exists.\n",
      "WARNING:cobra.core.model:Ignoring reaction 'EX_cpd00531_e0' since it already exists.\n",
      "WARNING:cobra.core.model:Ignoring reaction 'EX_cpd15560_e0' since it already exists.\n",
      "WARNING:cobra.core.model:Ignoring reaction 'EX_cpd00035_e0' since it already exists.\n",
      "WARNING:cobra.core.model:Ignoring reaction 'EX_cpd00239_e0' since it already exists.\n",
      "WARNING:cobra.core.model:Ignoring reaction 'EX_cpd00001_e0' since it already exists.\n",
      "WARNING:cobra.core.model:Ignoring reaction 'EX_cpd01171_e0' since it already exists.\n",
      "WARNING:cobra.core.model:Ignoring reaction 'EX_cpd00030_e0' since it already exists.\n",
      "WARNING:cobra.core.model:Ignoring reaction 'EX_cpd00029_e0' since it already exists.\n",
      "WARNING:cobra.core.model:Ignoring reaction 'EX_cpd00149_e0' since it already exists.\n",
      "WARNING:cobra.core.model:Ignoring reaction 'EX_cpd00069_e0' since it already exists.\n",
      "WARNING:cobra.core.model:Ignoring reaction 'EX_cpd11592_e0' since it already exists.\n",
      "WARNING:cobra.core.model:Ignoring reaction 'EX_cpd00076_e0' since it already exists.\n",
      "WARNING:cobra.core.model:Ignoring reaction 'EX_cpd00119_e0' since it already exists.\n",
      "WARNING:cobra.core.model:Ignoring reaction 'EX_cpd00254_e0' since it already exists.\n",
      "WARNING:cobra.core.model:Ignoring reaction 'EX_cpd00023_e0' since it already exists.\n",
      "WARNING:cobra.core.model:Ignoring reaction 'EX_cpd00644_e0' since it already exists.\n",
      "WARNING:cobra.core.model:Ignoring reaction 'EX_cpd00058_e0' since it already exists.\n",
      "WARNING:cobra.core.model:Ignoring reaction 'EX_cpd01017_e0' since it already exists.\n",
      "WARNING:cobra.core.model:Ignoring reaction 'EX_cpd15561_e0' since it already exists.\n",
      "WARNING:cobra.core.model:Ignoring reaction 'EX_cpd00047_e0' since it already exists.\n",
      "WARNING:cobra.core.model:Ignoring reaction 'EX_cpd04097_e0' since it already exists.\n",
      "WARNING:cobra.core.model:Ignoring reaction 'EX_cpd00081_e0' since it already exists.\n",
      "WARNING:cobra.core.model:Ignoring reaction 'EX_cpd00105_e0' since it already exists.\n",
      "WARNING:cobra.core.model:Ignoring reaction 'EX_cpd00118_e0' since it already exists.\n",
      "WARNING:cobra.core.model:Ignoring reaction 'EX_cpd00099_e0' since it already exists.\n",
      "WARNING:cobra.core.model:Ignoring reaction 'EX_cpd00009_e0' since it already exists.\n",
      "WARNING:cobra.core.model:Ignoring reaction 'EX_cpd03696_e0' since it already exists.\n",
      "WARNING:cobra.core.model:Ignoring reaction 'EX_cpd15606_e0' since it already exists.\n",
      "WARNING:cobra.core.model:Ignoring reaction 'EX_cpd11587_e0' since it already exists.\n",
      "WARNING:cobra.core.model:Ignoring reaction 'EX_cpd00084_e0' since it already exists.\n",
      "WARNING:cobra.core.model:Ignoring reaction 'EX_cpd11586_e0' since it already exists.\n",
      "WARNING:cobra.core.model:Ignoring reaction 'EX_cpd00028_e0' since it already exists.\n",
      "WARNING:cobra.core.model:Ignoring reaction 'EX_cpd00220_e0' since it already exists.\n",
      "WARNING:cobra.core.model:Ignoring reaction 'EX_cpd00007_e0' since it already exists.\n",
      "WARNING:cobra.core.model:Ignoring reaction 'EX_cpd00011_e0' since it already exists.\n",
      "WARNING:cobra.core.model:Ignoring reaction 'EX_cpd00314_e0' since it already exists.\n",
      "WARNING:cobra.core.model:Ignoring reaction 'EX_cpd11582_e0' since it already exists.\n",
      "WARNING:cobra.core.model:Ignoring reaction 'EX_cpd11580_e0' since it already exists.\n",
      "WARNING:cobra.core.model:Ignoring reaction 'EX_cpd03453_e0' since it already exists.\n",
      "WARNING:cobra.core.model:Ignoring reaction 'EX_cpd00071_e0' since it already exists.\n",
      "WARNING:cobra.core.model:Ignoring reaction 'EX_cpd00205_e0' since it already exists.\n",
      "WARNING:cobra.core.model:Ignoring reaction 'EX_cpd00066_e0' since it already exists.\n",
      "WARNING:cobra.core.model:Ignoring reaction 'EX_cpd00033_e0' since it already exists.\n",
      "WARNING:cobra.core.model:Ignoring reaction 'EX_cpd11581_e0' since it already exists.\n",
      "WARNING:cobra.core.model:Ignoring reaction 'EX_cpd00053_e0' since it already exists.\n",
      "WARNING:cobra.core.model:Ignoring reaction 'EX_cpd00268_e0' since it already exists.\n",
      "WARNING:cobra.core.model:Ignoring reaction 'EX_cpd11584_e0' since it already exists.\n",
      "WARNING:cobra.core.model:Ignoring reaction 'EX_cpd00036_e0' since it already exists.\n",
      "WARNING:cobra.core.model:Ignoring reaction 'EX_cpd00393_e0' since it already exists.\n",
      "WARNING:cobra.core.model:Ignoring reaction 'EX_cpd00039_e0' since it already exists.\n",
      "WARNING:cobra.core.model:Ignoring reaction 'EX_cpd11593_e0' since it already exists.\n",
      "WARNING:cobra.core.model:Ignoring reaction 'EX_cpd00041_e0' since it already exists.\n",
      "WARNING:cobra.core.model:Ignoring reaction 'EX_cpd00122_e0' since it already exists.\n",
      "WARNING:cobra.core.model:Ignoring reaction 'EX_cpd01947_e0' since it already exists.\n",
      "WARNING:cobra.core.model:Ignoring reaction 'EX_cpd11589_e0' since it already exists.\n",
      "WARNING:cobra.core.model:Ignoring reaction 'EX_cpd00013_e0' since it already exists.\n",
      "WARNING:cobra.core.model:Ignoring reaction 'EX_cpd00179_e0' since it already exists.\n",
      "WARNING:cobra.core.model:Ignoring reaction 'EX_cpd00116_e0' since it already exists.\n",
      "WARNING:cobra.core.model:Ignoring reaction 'EX_cpd00305_e0' since it already exists.\n",
      "WARNING:cobra.core.model:Ignoring reaction 'EX_cpd00129_e0' since it already exists.\n",
      "WARNING:cobra.core.model:Ignoring reaction 'EX_cpd00221_e0' since it already exists.\n",
      "WARNING:cobra.core.model:Ignoring reaction 'EX_cpd15603_e0' since it already exists.\n",
      "WARNING:cobra.core.model:Ignoring reaction 'EX_cpd00060_e0' since it already exists.\n",
      "WARNING:cobra.core.model:Ignoring reaction 'EX_cpd00218_e0' since it already exists.\n",
      "WARNING:cobra.core.model:Ignoring reaction 'EX_cpd00132_e0' since it already exists.\n",
      "WARNING:cobra.core.model:Ignoring reaction 'EX_cpd15605_e0' since it already exists.\n",
      "WARNING:cobra.core.model:Ignoring reaction 'EX_cpd00051_e0' since it already exists.\n",
      "WARNING:cobra.core.model:Ignoring reaction 'EX_cpd00082_e0' since it already exists.\n",
      "WARNING:cobra.core.model:Ignoring reaction 'EX_cpd00971_e0' since it already exists.\n",
      "WARNING:cobra.core.model:Ignoring reaction 'EX_cpd00065_e0' since it already exists.\n",
      "WARNING:cobra.core.model:Ignoring reaction 'EX_cpd01030_e0' since it already exists.\n",
      "WARNING:cobra.core.model:Ignoring reaction 'EX_cpd00161_e0' since it already exists.\n",
      "WARNING:cobra.core.model:Ignoring reaction 'EX_cpd00363_e0' since it already exists.\n",
      "WARNING:cobra.core.model:Ignoring reaction 'EX_cpd15604_e0' since it already exists.\n",
      "WARNING:cobra.core.model:Ignoring reaction 'EX_cpd00063_e0' since it already exists.\n",
      "WARNING:cobra.core.model:Ignoring reaction 'EX_cpd00794_e0' since it already exists.\n",
      "WARNING:cobra.core.model:Ignoring reaction 'EX_cpd11591_e0' since it already exists.\n",
      "WARNING:cobra.core.model:Ignoring reaction 'EX_cpd10516_e0' since it already exists.\n",
      "WARNING:cobra.core.model:Ignoring reaction 'EX_cpd01012_e0' since it already exists.\n",
      "WARNING:cobra.core.model:Ignoring reaction 'EX_cpd00276_e0' since it already exists.\n",
      "WARNING:cobra.core.model:Ignoring reaction 'EX_cpd00027_e0' since it already exists.\n",
      "WARNING:cobra.core.model:Ignoring reaction 'EX_cpd11590_e0' since it already exists.\n",
      "WARNING:cobra.core.model:Ignoring reaction 'EX_cpd03726_e0' since it already exists.\n",
      "WARNING:cobra.core.model:Ignoring reaction 'EX_cpd00107_e0' since it already exists.\n",
      "WARNING:cobra.core.model:Ignoring reaction 'EX_cpd00020_e0' since it already exists.\n",
      "WARNING:cobra.core.model:Ignoring reaction 'EX_cpd00073_e0' since it already exists.\n",
      "WARNING:cobra.core.model:Ignoring reaction 'EX_cpd00731_e0' since it already exists.\n",
      "WARNING:cobra.core.model:Ignoring reaction 'EX_cpd00355_e0' since it already exists.\n",
      "WARNING:cobra.core.model:Ignoring reaction 'EX_cpd00136_e0' since it already exists.\n",
      "WARNING:cobra.core.model:Ignoring reaction 'EX_cpd01242_e0' since it already exists.\n",
      "WARNING:cobra.core.model:Ignoring reaction 'EX_cpd10515_e0' since it already exists.\n",
      "WARNING:cobra.core.model:Ignoring reaction 'EX_cpd11640_e0' since it already exists.\n",
      "WARNING:cobra.core.model:Ignoring reaction 'EX_cpd00280_e0' since it already exists.\n",
      "WARNING:cobra.core.model:Ignoring reaction 'EX_cpd00540_e0' since it already exists.\n",
      "WARNING:cobra.core.model:Ignoring reaction 'EX_cpd00164_e0' since it already exists.\n",
      "WARNING:cobra.core.model:Ignoring reaction 'EX_cpd01914_e0' since it already exists.\n"
     ]
    }
   ],
   "source": [
    "model_b = CobraModelConverter(model_a).build()"
   ]
  },
  {
   "cell_type": "code",
   "execution_count": 56,
   "id": "dc15cc22-472f-4c4b-857c-d8fe334b4542",
   "metadata": {},
   "outputs": [
    {
     "data": {
      "text/plain": [
       "0.75"
      ]
     },
     "execution_count": 56,
     "metadata": {},
     "output_type": "execute_result"
    }
   ],
   "source": [
    "model_b.reactions.rxn00001_c0.probability"
   ]
  },
  {
   "cell_type": "code",
   "execution_count": 54,
   "id": "39dd79b3-2efb-4b66-a5ac-c75f8542cb76",
   "metadata": {},
   "outputs": [
    {
     "name": "stdout",
     "output_type": "stream",
     "text": [
      "SK_cpd03091_c0: cpd03091_c0 --> \n",
      "SK_cpd11416_c0: cpd11416_c0 --> \n",
      "SK_cpd15302_c0: cpd15302_c0 --> \n",
      "SK_cpd02701_c0: cpd02701_c0 --> \n"
     ]
    }
   ],
   "source": [
    "for r in model_a.reactions:\n",
    "    if r.id not in model_b.reactions:\n",
    "        print(r)"
   ]
  },
  {
   "cell_type": "code",
   "execution_count": null,
   "id": "b75236a1-ba86-4fce-b5c6-95c2b38a54e0",
   "metadata": {},
   "outputs": [],
   "source": []
  }
 ],
 "metadata": {
  "kernelspec": {
   "display_name": "Python 3 (ipykernel)",
   "language": "python",
   "name": "python3"
  },
  "language_info": {
   "codemirror_mode": {
    "name": "ipython",
    "version": 3
   },
   "file_extension": ".py",
   "mimetype": "text/x-python",
   "name": "python",
   "nbconvert_exporter": "python",
   "pygments_lexer": "ipython3",
   "version": "3.8.5"
  }
 },
 "nbformat": 4,
 "nbformat_minor": 5
}
