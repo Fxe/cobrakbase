{
 "cells": [
  {
   "cell_type": "code",
   "execution_count": 1,
   "id": "bbf9d707-5ef3-4165-a80e-8ff86f7a30b0",
   "metadata": {},
   "outputs": [
    {
     "name": "stdout",
     "output_type": "stream",
     "text": [
      "cobrakbase 0.3.1\n"
     ]
    }
   ],
   "source": [
    "import cobrakbase\n",
    "kbase = cobrakbase.KBaseAPI()"
   ]
  },
  {
   "cell_type": "code",
   "execution_count": 2,
   "id": "077f0949-a057-467b-9a6b-bf07e6ed7cca",
   "metadata": {},
   "outputs": [],
   "source": [
    "pangenome = kbase.get_from_ws('SynSRB_Pangenome', 148711)"
   ]
  },
  {
   "cell_type": "code",
   "execution_count": 3,
   "id": "562284bd-3a93-4935-b930-017172111c81",
   "metadata": {},
   "outputs": [
    {
     "data": {
      "text/html": [
       "\n",
       "        <table>\n",
       "            <tr>\n",
       "                <td><strong>ID</strong></td>\n",
       "                <td>SynSRB_Pangenome</td>\n",
       "            </tr><tr>\n",
       "                <td><strong>Name</strong></td>\n",
       "                <td>SynSRB_Pangenome</td>\n",
       "            </tr><tr>\n",
       "                <td><strong>Type</strong></td>\n",
       "                <td>orthomcl</td>\n",
       "            </tr><tr>\n",
       "                <td><strong>Genomes</strong></td>\n",
       "                <td>44</td>\n",
       "            </tr><tr>\n",
       "                <td><strong>Orthologs</strong></td>\n",
       "                <td>65123</td>\n",
       "            </tr>\n",
       "          </table>"
      ],
      "text/plain": [
       "<cobrakbase.core.kbasegenome.pangenome.KBasePangenome at 0x7fdc2827ff70>"
      ]
     },
     "execution_count": 3,
     "metadata": {},
     "output_type": "execute_result"
    }
   ],
   "source": [
    "pangenome"
   ]
  },
  {
   "cell_type": "code",
   "execution_count": 4,
   "id": "095e8d22-d307-4f2d-a64f-b6b8f9ce75cc",
   "metadata": {},
   "outputs": [],
   "source": [
    "data_actual = pangenome._to_json()"
   ]
  },
  {
   "cell_type": "code",
   "execution_count": 5,
   "id": "e3546538-0488-4ff4-8484-527493179adc",
   "metadata": {},
   "outputs": [],
   "source": [
    "from cobrakbase.core.kbasegenome.pangenome import KBasePangenome, OrthologFamily\n",
    "from cobrakbase.core.kbasegenome.ortholog_family import OrthologItem"
   ]
  },
  {
   "cell_type": "code",
   "execution_count": 6,
   "id": "6e37bf4e-b23e-4bf4-b045-f83e8a8832c9",
   "metadata": {},
   "outputs": [],
   "source": [
    "data_expected = kbase.get_object('SynSRB_Pangenome', 148711)"
   ]
  },
  {
   "cell_type": "code",
   "execution_count": 20,
   "id": "af5ea30c-cf4f-4c75-b25f-3193eb41b6d3",
   "metadata": {
    "tags": []
   },
   "outputs": [],
   "source": [
    "assert data_actual.keys() == data_expected.keys()\n",
    "for k in ['id', 'name', 'type', 'genome_refs']:\n",
    "    assert data_actual[k] == data_expected[k]\n",
    "assert len(data_actual['orthologs']) == len(data_expected['orthologs'])\n",
    "orthologs_actual = {o['id']:o for o in data_actual['orthologs']}\n",
    "orthologs_expected = {o['id']:o for o in data_expected['orthologs']}\n",
    "assert orthologs_actual.keys() == orthologs_expected.keys()\n",
    "for k in orthologs_actual:\n",
    "    o_actual = orthologs_actual[k]\n",
    "    o_expected = orthologs_expected[k]\n",
    "    for k in ['id', 'function', 'type', 'protein_translation']:\n",
    "        assert o_actual.get(k) == o_expected.get(k)\n",
    "    assert {(o[0], o[1], o[2]) for o in o_expected['orthologs']} == {(o[0], o[1], o[2]) for o in o_actual['orthologs']}"
   ]
  },
  {
   "cell_type": "code",
   "execution_count": 8,
   "id": "2c292d1a-a557-4d3c-85af-e1b80bc0c048",
   "metadata": {
    "tags": []
   },
   "outputs": [
    {
     "data": {
      "text/plain": [
       "False"
      ]
     },
     "execution_count": 8,
     "metadata": {},
     "output_type": "execute_result"
    }
   ],
   "source": [
    "data_expected['orthologs'] == data_actual['orthologs']"
   ]
  },
  {
   "cell_type": "code",
   "execution_count": 9,
   "id": "9b464cde-ba4d-490e-81a8-c4517f6bc7f4",
   "metadata": {},
   "outputs": [],
   "source": []
  },
  {
   "cell_type": "code",
   "execution_count": 10,
   "id": "297a358f-4d6f-48d2-b637-ed4656ea10e4",
   "metadata": {},
   "outputs": [],
   "source": []
  },
  {
   "cell_type": "code",
   "execution_count": 18,
   "id": "a32c6e1b-00bb-454c-ad02-45077301eb02",
   "metadata": {},
   "outputs": [],
   "source": []
  },
  {
   "cell_type": "code",
   "execution_count": 12,
   "id": "0c09cb06-09ed-4697-8b00-6819611030da",
   "metadata": {
    "tags": []
   },
   "outputs": [
    {
     "data": {
      "text/plain": [
       "{'id': 'cluster20533', 'orthologs': [['AVO38_16305', 3116, '146200/84/2']]}"
      ]
     },
     "execution_count": 12,
     "metadata": {},
     "output_type": "execute_result"
    }
   ],
   "source": [
    "o_actual"
   ]
  },
  {
   "cell_type": "code",
   "execution_count": 13,
   "id": "4b30828b-bea3-4ae1-ab91-5e92fd2f6b3f",
   "metadata": {},
   "outputs": [
    {
     "data": {
      "text/plain": [
       "{'function': None,\n",
       " 'id': 'cluster20533',\n",
       " 'orthologs': [['AVO38_16305', 3116, '146200/84/2']]}"
      ]
     },
     "execution_count": 13,
     "metadata": {},
     "output_type": "execute_result"
    }
   ],
   "source": [
    "o_expected"
   ]
  },
  {
   "cell_type": "code",
   "execution_count": 15,
   "id": "29702097-e3b4-4b91-9f6f-69890ee63dcd",
   "metadata": {},
   "outputs": [],
   "source": [
    "c = pangenome.orthologs.cluster20533"
   ]
  },
  {
   "cell_type": "code",
   "execution_count": 16,
   "id": "b10d2c3b-74af-4973-bb2b-5c38e63c4f32",
   "metadata": {},
   "outputs": [
    {
     "data": {
      "text/plain": [
       "{'id': 'cluster20533', 'orthologs': [['AVO38_16305', 3116, '146200/84/2']]}"
      ]
     },
     "execution_count": 16,
     "metadata": {},
     "output_type": "execute_result"
    }
   ],
   "source": [
    "c.to_kbase_data()"
   ]
  },
  {
   "cell_type": "code",
   "execution_count": 17,
   "id": "5d67dc8d-dfc7-44ed-aa33-911c1a4e96ac",
   "metadata": {},
   "outputs": [
    {
     "data": {
      "text/plain": [
       "<cobrakbase.kbase_object_info.KBaseObjectInfo at 0x7fdbd3a91820>"
      ]
     },
     "execution_count": 17,
     "metadata": {},
     "output_type": "execute_result"
    }
   ],
   "source": [
    "kbase.save_object('test_pangenome', 12218, pangenome.info.type, data_expected)"
   ]
  },
  {
   "cell_type": "code",
   "execution_count": null,
   "id": "6b8959b4-ac92-4e02-a13c-72553e844066",
   "metadata": {},
   "outputs": [],
   "source": []
  }
 ],
 "metadata": {
  "kernelspec": {
   "display_name": "Python 3 (ipykernel)",
   "language": "python",
   "name": "python3"
  },
  "language_info": {
   "codemirror_mode": {
    "name": "ipython",
    "version": 3
   },
   "file_extension": ".py",
   "mimetype": "text/x-python",
   "name": "python",
   "nbconvert_exporter": "python",
   "pygments_lexer": "ipython3",
   "version": "3.8.10"
  }
 },
 "nbformat": 4,
 "nbformat_minor": 5
}
