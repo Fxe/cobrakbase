{
 "cells": [
  {
   "cell_type": "code",
   "execution_count": 1,
   "id": "d0ad0742-b07c-4a2d-a67b-771b8705bc3c",
   "metadata": {},
   "outputs": [
    {
     "name": "stdout",
     "output_type": "stream",
     "text": [
      "modelseedpy 0.3.3\n",
      "cobrakbase 0.3.1\n"
     ]
    }
   ],
   "source": [
    "import cobrakbase"
   ]
  },
  {
   "cell_type": "code",
   "execution_count": 2,
   "id": "f8fa3538-b812-419c-9b35-90750b3d658f",
   "metadata": {},
   "outputs": [],
   "source": [
    "kbase = cobrakbase.KBaseAPI()"
   ]
  },
  {
   "cell_type": "code",
   "execution_count": 4,
   "id": "652331e4-b60e-46e3-ba4b-2c531ad33254",
   "metadata": {},
   "outputs": [],
   "source": [
    "templates = [\n",
    "    'GramNegModelTemplateV5_test', 'GramPosModelTemplateV5_test', \n",
    "    'ArchaeaModelTemplateV5_test', 'GramNegModelTemplateV5_DNR'\n",
    "]\n",
    "\n",
    "#data = kbase.get_object('GramNegModelTemplateV5_test', 12218)\n",
    "data = kbase.get_objects2({\n",
    "    \"objects\": [kbase.process_workspace_identifiers('GramNegModelTemplateV5_test', 12218)]\n",
    "})\n"
   ]
  },
  {
   "cell_type": "code",
   "execution_count": 7,
   "id": "8fb5b43d-4696-4f26-90ab-4b401ac3cf04",
   "metadata": {},
   "outputs": [
    {
     "name": "stdout",
     "output_type": "stream",
     "text": [
      "modelseedpy 0.3.3\n",
      "cobrakbase 0.3.1\n"
     ]
    }
   ],
   "source": [
    "from cobrakbase.core.kbase_object_factory import KBaseObjectFactory"
   ]
  },
  {
   "cell_type": "code",
   "execution_count": 7,
   "id": "b5c5ee0e-c65e-4929-b7f5-625e5d7d2cc5",
   "metadata": {},
   "outputs": [],
   "source": [
    "template = KBaseObjectFactory().create(data, None)"
   ]
  },
  {
   "cell_type": "code",
   "execution_count": 4,
   "id": "557e0915-e63f-4c2c-8b2a-4daef42d69fd",
   "metadata": {},
   "outputs": [],
   "source": [
    "import json, zipfile"
   ]
  },
  {
   "cell_type": "code",
   "execution_count": 2,
   "id": "4191f2cf-63b8-4185-9b03-60decc98bdb1",
   "metadata": {},
   "outputs": [],
   "source": [
    "def _read_kbase_zip(path):\n",
    "    with zipfile.ZipFile(path, 'r') as zf:\n",
    "        item_info = None\n",
    "        item_data = None\n",
    "        for f in zf.filelist:\n",
    "            print(f)\n",
    "            if f.filename.startswith('KBase_object_details_'):\n",
    "                with zf.open(f) as arch:\n",
    "                    item_info = json.load(arch)\n",
    "            else:\n",
    "                with zf.open(f) as arch:\n",
    "                    item_data = json.load(arch)\n",
    "        return item_info, item_data"
   ]
  },
  {
   "cell_type": "code",
   "execution_count": 5,
   "id": "01279ab9-d362-4abe-8fa4-8150b96195ad",
   "metadata": {},
   "outputs": [
    {
     "name": "stdout",
     "output_type": "stream",
     "text": [
      "<ZipInfo filename='KBase_object_details_4972024-01-02T165649481.json' compress_type=deflate file_size=1705 compress_size=597>\n",
      "<ZipInfo filename='497.json' compress_type=deflate file_size=13675843 compress_size=1445783>\n"
     ]
    }
   ],
   "source": [
    "item_info, item_data = _read_kbase_zip('/Users/fliu/workspace/jupyter/data/GramNegModelTemplateV5_test.JSON.zip')"
   ]
  },
  {
   "cell_type": "code",
   "execution_count": 6,
   "id": "f34beb4d-a1db-46ce-81a6-ef33a8d437a0",
   "metadata": {},
   "outputs": [],
   "source": [
    "data2 = {\n",
    "    'data': [\n",
    "        {\n",
    "            'info': item_info['metadata'][0],\n",
    "            'provenance': [item_info['provenance'][0]['provenance'][0]],\n",
    "            'data': item_data\n",
    "        }\n",
    "    ]\n",
    "}"
   ]
  },
  {
   "cell_type": "code",
   "execution_count": 8,
   "id": "8d198af5-44d6-4497-a209-63ac13c552e0",
   "metadata": {},
   "outputs": [],
   "source": [
    "template2 = KBaseObjectFactory().create(data2, None)"
   ]
  },
  {
   "cell_type": "code",
   "execution_count": 35,
   "id": "ecd900a6-66a3-4d97-8b8b-35e1eb7d7d41",
   "metadata": {},
   "outputs": [
    {
     "data": {
      "text/plain": [
       "True"
      ]
     },
     "execution_count": 35,
     "metadata": {},
     "output_type": "execute_result"
    }
   ],
   "source": [
    "data['data'][0]['provenance'][0] == item_info['provenance'][0]['provenance'][0]"
   ]
  },
  {
   "cell_type": "code",
   "execution_count": 43,
   "id": "4e02dd78-14f5-4822-b731-0931d3ea3a0a",
   "metadata": {},
   "outputs": [
    {
     "data": {
      "text/plain": [
       "dict_keys(['__VERSION__', 'biochemistry_ref', 'biomasses', 'compartments', 'compcompounds', 'complexes', 'compounds', 'domain', 'drain_list', 'id', 'name', 'pathways', 'reactions', 'roles', 'subsystems', 'type'])"
      ]
     },
     "execution_count": 43,
     "metadata": {},
     "output_type": "execute_result"
    }
   ],
   "source": [
    "data['data'][0]['data'].keys()"
   ]
  },
  {
   "cell_type": "code",
   "execution_count": 51,
   "id": "65029344-a6fd-42cd-a911-24c7fc5e6bf7",
   "metadata": {},
   "outputs": [],
   "source": []
  },
  {
   "cell_type": "code",
   "execution_count": 9,
   "id": "28d98087-d6ab-4da9-918a-cb6227c982e2",
   "metadata": {},
   "outputs": [
    {
     "data": {
      "text/html": [
       "\n",
       "        <table>\n",
       "            <tr>\n",
       "                <td><strong>Reaction identifier</strong></td><td>bio1</td>\n",
       "            </tr><tr>\n",
       "                <td><strong>Name</strong></td><td>GramNegativeBiomass</td>\n",
       "            </tr><tr>\n",
       "                <td><strong>Memory address</strong></td>\n",
       "                <td>0x143cde100</td>\n",
       "            </tr><tr>\n",
       "                <td><strong>Stoichiometry</strong></td>\n",
       "                <td>\n",
       "                    <p style='text-align:right'>40.0 cpd00001_c0 + 40.0 cpd00002_c0 + 0.001600040662440541 cpd00003_c0 + 0.001600040662440541 cpd00006_c0 + 0.001600040662440541 cpd00010_c0 + 0.001600040662440541 cpd00015_c0 +...</p>\n",
       "                    <p style='text-align:right'>40.0 H2O [c0] + 40.0 ATP [c0] + 0.001600040662440541 NAD [c0] + 0.001600040662440541 NADP [c0] + 0.001600040662440541 CoA [c0] + 0.001600040662440541 FAD [c0] + 0.001600040662440541 Pyridoxal...</p>\n",
       "                </td>\n",
       "            </tr><tr>\n",
       "                <td><strong>GPR</strong></td><td></td>\n",
       "            </tr><tr>\n",
       "                <td><strong>Lower bound</strong></td><td>0</td>\n",
       "            </tr><tr>\n",
       "                <td><strong>Upper bound</strong></td><td>1000</td>\n",
       "            </tr>\n",
       "        </table>\n",
       "        "
      ],
      "text/plain": [
       "<Reaction bio1 at 0x143cde100>"
      ]
     },
     "execution_count": 9,
     "metadata": {},
     "output_type": "execute_result"
    }
   ],
   "source": [
    "from cobra.core import Model\n",
    "model = Model('test')\n",
    "biomass = template2.biomasses[0]\n",
    "biomass.build_biomass(model)"
   ]
  },
  {
   "cell_type": "code",
   "execution_count": 10,
   "id": "b30a7974-2c74-4aee-8b06-6f6722e9b923",
   "metadata": {},
   "outputs": [
    {
     "name": "stdout",
     "output_type": "stream",
     "text": [
      "cpd11461_c0 DNA [c0] -0.0121667\n",
      "cpd11463_c0 Protein [c0] -0.5441666\n",
      "cpd11462_c0 mRNA [c0] -0.1911666\n",
      "cpd00010_c0 CoA [c0] -0.001600040662440541\n",
      "cpd11493_c0 ACP [c0] -0.001600040662440541\n",
      "cpd12370_c0 apo-ACP [c0] 0.001600040662440541\n",
      "cpd00003_c0 NAD [c0] -0.001600040662440541\n",
      "cpd00006_c0 NADP [c0] -0.001600040662440541\n",
      "cpd00205_c0 K+ [c0] -0.001600040662440541\n",
      "cpd00254_c0 Mg [c0] -0.001600040662440541\n",
      "cpd10516_c0 fe3 [c0] -0.001600040662440541\n",
      "cpd00063_c0 Ca2+ [c0] -0.001600040662440541\n",
      "cpd00009_c0 Phosphate [c0] 39.99839995933756\n",
      "cpd00099_c0 Cl- [c0] -0.001600040662440541\n",
      "cpd00149_c0 Co2+ [c0] -0.001600040662440541\n",
      "cpd00058_c0 Cu2+ [c0] -0.001600040662440541\n",
      "cpd00015_c0 FAD [c0] -0.001600040662440541\n",
      "cpd10515_c0 Fe2+ [c0] -0.001600040662440541\n",
      "cpd00030_c0 Mn2+ [c0] -0.001600040662440541\n",
      "cpd00048_c0 Sulfate [c0] -0.001600040662440541\n",
      "cpd00034_c0 Zn2+ [c0] -0.001600040662440541\n",
      "cpd00016_c0 Pyridoxal phosphate [c0] -0.001600040662440541\n",
      "cpd00220_c0 Riboflavin [c0] -0.001600040662440541\n",
      "cpd00017_c0 S-Adenosyl-L-methionine [c0] -0.001600040662440541\n",
      "cpd00201_c0 10-Formyltetrahydrofolate [c0] -0.001600040662440541\n",
      "cpd00087_c0 Tetrahydrofolate [c0] -0.001600040662440541\n",
      "cpd00345_c0 5-Methyltetrahydrofolate [c0] -0.001600040662440541\n",
      "cpd00042_c0 GSH [c0] -0.001600040662440541\n",
      "cpd00028_c0 Heme [c0] -0.001600040662440541\n",
      "cpd00557_c0 Siroheme [c0] -0.001600040662440541\n",
      "cpd00264_c0 Spermidine [c0] -0.001600040662440541\n",
      "cpd00118_c0 Putrescine [c0] -0.001600040662440541\n",
      "cpd00056_c0 TPP [c0] -0.001600040662440541\n",
      "cpd15560_c0 Ubiquinone-8 [c0] -0.001600040662440541\n",
      "cpd15352_c0 2-Demethylmenaquinone 8 [c0] -0.001600040662440541\n",
      "cpd15500_c0 Menaquinone 8 [c0] -0.001600040662440541\n",
      "cpd00166_c0 Calomide [c0] -0.001600040662440541\n",
      "cpd01997_c0 Dimethylbenzimidazole [c0] 0.001600040662440541\n",
      "cpd03422_c0 Cobinamide [c0] 0.001600040662440541\n",
      "cpd15793_c0 Stearoylcardiolipin (B. subtilis) [c0] -0.024803453531702477\n",
      "cpd15540_c0 Phosphatidylglycerol dioctadecanoyl [c0] -0.024803453531702477\n",
      "cpd15533_c0 phosphatidylethanolamine dioctadecanoyl [c0] -0.024803453531702477\n",
      "cpd03736_c0 Lauroyl-KDO2-lipid IV(A) [c0] -0.03207929322033401\n",
      "cpd02229_c0 Bactoprenyl diphosphate [c0] -0.03207929322033401\n",
      "cpd15665_c0 Peptidoglycan polymer (n subunits) [c0] -0.03207929322033401\n",
      "cpd15666_c0 Peptidoglycan polymer (n-1 subunits) [c0] 0.03207929322033401\n",
      "cpd00002_c0 ATP [c0] -40.0\n",
      "cpd00001_c0 H2O [c0] -40.0\n",
      "cpd00008_c0 ADP [c0] 40.0\n",
      "cpd00067_c0 H+ [c0] 40.0\n",
      "cpd11416_c0 Biomass [c0] 1.0\n"
     ]
    }
   ],
   "source": [
    "for m, v in model.reactions.bio1.metabolites.items():\n",
    "    print(m.id, m.name, v)"
   ]
  },
  {
   "cell_type": "code",
   "execution_count": null,
   "id": "7e77b21c-3108-48d4-8001-8ea692f4c726",
   "metadata": {},
   "outputs": [],
   "source": []
  }
 ],
 "metadata": {
  "kernelspec": {
   "display_name": "Python 3 (ipykernel)",
   "language": "python",
   "name": "python3"
  },
  "language_info": {
   "codemirror_mode": {
    "name": "ipython",
    "version": 3
   },
   "file_extension": ".py",
   "mimetype": "text/x-python",
   "name": "python",
   "nbconvert_exporter": "python",
   "pygments_lexer": "ipython3",
   "version": "3.8.5"
  }
 },
 "nbformat": 4,
 "nbformat_minor": 5
}
