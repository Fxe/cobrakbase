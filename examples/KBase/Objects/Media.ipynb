{
 "cells": [
  {
   "cell_type": "code",
   "execution_count": 1,
   "id": "6eefc469-3978-481f-9efd-5fc0867af81e",
   "metadata": {},
   "outputs": [
    {
     "name": "stdout",
     "output_type": "stream",
     "text": [
      "cobrakbase 0.3.1\n"
     ]
    }
   ],
   "source": [
    "from cobrakbase.kbase_catalog import KBaseCatalog, PROD_WS_MEDIA\n",
    "from cobrakbase import KBaseAPI"
   ]
  },
  {
   "cell_type": "markdown",
   "id": "7a5c20e0-fbcb-4116-8af7-6a4216ac60a9",
   "metadata": {},
   "source": [
    "#### Instantiate Catalog and API"
   ]
  },
  {
   "cell_type": "code",
   "execution_count": 2,
   "id": "ed5f3aad-f589-48de-a68f-62ef646e1f38",
   "metadata": {},
   "outputs": [],
   "source": [
    "api = KBaseAPI()\n",
    "catalog = KBaseCatalog(api, PROD_WS_MEDIA)"
   ]
  },
  {
   "cell_type": "markdown",
   "id": "b06803e3-dee0-4fdc-af6f-0f07c0a626dd",
   "metadata": {},
   "source": [
    "#### Get example media"
   ]
  },
  {
   "cell_type": "code",
   "execution_count": 3,
   "id": "1606c7e5-7743-4f40-b39b-ee3651d22a94",
   "metadata": {},
   "outputs": [],
   "source": [
    "media = catalog.Carbon_D_Glucose.get()"
   ]
  },
  {
   "cell_type": "markdown",
   "id": "ba9270a9-c29c-4326-9f4f-38f41baf2f70",
   "metadata": {},
   "source": [
    "#### Wipe media contents"
   ]
  },
  {
   "cell_type": "code",
   "execution_count": 4,
   "id": "f0a9c3d1-ff01-4fc1-96ca-7c61cf5c1dea",
   "metadata": {},
   "outputs": [],
   "source": [
    "data = media.get_data()\n",
    "data['mediacompounds'] = []  # wipe compounds in media"
   ]
  },
  {
   "cell_type": "markdown",
   "id": "55612600-f2f4-454c-b91e-8b63d7cd231d",
   "metadata": {},
   "source": [
    "#### Edit metadata"
   ]
  },
  {
   "cell_type": "code",
   "execution_count": 5,
   "id": "c6832c29-59e7-4653-84d7-728a6dcca9b9",
   "metadata": {},
   "outputs": [],
   "source": [
    "data['id'] = 'my_media_id'\n",
    "data['name'] = 'my_media_name'\n",
    "data['source_id'] = 'anything goes here'"
   ]
  },
  {
   "cell_type": "markdown",
   "id": "e42344ae-7c67-4e69-ab94-13dff04ce21b",
   "metadata": {},
   "source": [
    "#### Add single media compound\n",
    "- maxFlux:  max uptake value (**positive value**)\n",
    "- minFlux:  max excretion value (**negative value**)\n",
    "- compound_ref: `489/6/5/compounds/id/<SEED_ID>`"
   ]
  },
  {
   "cell_type": "code",
   "execution_count": 6,
   "id": "3060e856-2314-4303-a06f-e1146c684075",
   "metadata": {},
   "outputs": [],
   "source": [
    "data['mediacompounds'].append({\n",
    "    'compound_ref': '489/6/5/compounds/id/cpd00027',\n",
    "    'concentration': 0.001,\n",
    "    'maxFlux': 5,\n",
    "    'minFlux': -100,\n",
    "    'id': 'cpd00027'})"
   ]
  },
  {
   "cell_type": "markdown",
   "id": "9d4cf7b9-72ca-423c-ab2c-b43289b94c96",
   "metadata": {},
   "source": [
    "#### Save to workspace\n",
    "- `<workspace_id>`: either workspace numerical identifier example: **78503** for https://narrative.kbase.us/narrative/78503 or workspace name example: filipeliu:narrative_1606804059500"
   ]
  },
  {
   "cell_type": "code",
   "execution_count": 7,
   "id": "774d614d-fd39-4b46-a793-8b7b9c9f2195",
   "metadata": {},
   "outputs": [],
   "source": [
    "# api.save(data, 'my_object_id', <workspace_id>, 'KBaseBiochem.Media')"
   ]
  },
  {
   "cell_type": "code",
   "execution_count": null,
   "id": "5508ec81-5a49-4cb6-81b4-c2d15cb7f583",
   "metadata": {},
   "outputs": [],
   "source": []
  }
 ],
 "metadata": {
  "kernelspec": {
   "display_name": "Python 3 (ipykernel)",
   "language": "python",
   "name": "python3"
  },
  "language_info": {
   "codemirror_mode": {
    "name": "ipython",
    "version": 3
   },
   "file_extension": ".py",
   "mimetype": "text/x-python",
   "name": "python",
   "nbconvert_exporter": "python",
   "pygments_lexer": "ipython3",
   "version": "3.8.10"
  }
 },
 "nbformat": 4,
 "nbformat_minor": 5
}
