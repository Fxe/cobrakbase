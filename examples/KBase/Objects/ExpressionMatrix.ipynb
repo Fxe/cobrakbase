{
 "cells": [
  {
   "cell_type": "code",
   "execution_count": 1,
   "metadata": {},
   "outputs": [
    {
     "name": "stdout",
     "output_type": "stream",
     "text": [
      "cobrakbase 0.2.8\n"
     ]
    }
   ],
   "source": [
    "import cobrakbase"
   ]
  },
  {
   "cell_type": "code",
   "execution_count": 2,
   "metadata": {},
   "outputs": [],
   "source": [
    "kbase = cobrakbase.KBaseAPI()"
   ]
  },
  {
   "cell_type": "code",
   "execution_count": 3,
   "metadata": {},
   "outputs": [],
   "source": [
    "matrix = kbase.get_from_ws('56171/4/1')\n",
    "matrix_data = kbase.get_object('56171/4/1', None)"
   ]
  },
  {
   "cell_type": "code",
   "execution_count": 4,
   "metadata": {},
   "outputs": [
    {
     "name": "stdout",
     "output_type": "stream",
     "text": [
      "<class 'cobrakbase.core.kbasefeaturevalues.expressionmatrix.ExpressionMatrix'>\n",
      "<class 'dict'>\n"
     ]
    }
   ],
   "source": [
    "print(type(matrix))\n",
    "print(type(matrix_data))"
   ]
  },
  {
   "cell_type": "code",
   "execution_count": 5,
   "metadata": {},
   "outputs": [
    {
     "data": {
      "text/html": [
       "<div>\n",
       "<style scoped>\n",
       "    .dataframe tbody tr th:only-of-type {\n",
       "        vertical-align: middle;\n",
       "    }\n",
       "\n",
       "    .dataframe tbody tr th {\n",
       "        vertical-align: top;\n",
       "    }\n",
       "\n",
       "    .dataframe thead th {\n",
       "        text-align: right;\n",
       "    }\n",
       "</style>\n",
       "<table border=\"1\" class=\"dataframe\">\n",
       "  <thead>\n",
       "    <tr style=\"text-align: right;\">\n",
       "      <th></th>\n",
       "      <th>Fucose_1_RPKM</th>\n",
       "      <th>Fucose_2_RPKM</th>\n",
       "      <th>Fucose_3_RPKM</th>\n",
       "      <th>Glucose_1_RPKM</th>\n",
       "      <th>Glucose_2_RPKM</th>\n",
       "      <th>Glucose_3_RPKM</th>\n",
       "    </tr>\n",
       "  </thead>\n",
       "  <tbody>\n",
       "    <tr>\n",
       "      <th>b0001</th>\n",
       "      <td>803.0</td>\n",
       "      <td>1004.0</td>\n",
       "      <td>1077.0</td>\n",
       "      <td>1265.0</td>\n",
       "      <td>716.0</td>\n",
       "      <td>900.0</td>\n",
       "    </tr>\n",
       "    <tr>\n",
       "      <th>b0002</th>\n",
       "      <td>1013.0</td>\n",
       "      <td>645.0</td>\n",
       "      <td>491.0</td>\n",
       "      <td>210.0</td>\n",
       "      <td>829.0</td>\n",
       "      <td>541.0</td>\n",
       "    </tr>\n",
       "    <tr>\n",
       "      <th>b0003</th>\n",
       "      <td>666.0</td>\n",
       "      <td>280.0</td>\n",
       "      <td>214.0</td>\n",
       "      <td>83.0</td>\n",
       "      <td>372.0</td>\n",
       "      <td>207.0</td>\n",
       "    </tr>\n",
       "    <tr>\n",
       "      <th>b0004</th>\n",
       "      <td>1136.0</td>\n",
       "      <td>447.0</td>\n",
       "      <td>400.0</td>\n",
       "      <td>89.0</td>\n",
       "      <td>405.0</td>\n",
       "      <td>229.0</td>\n",
       "    </tr>\n",
       "    <tr>\n",
       "      <th>b0005</th>\n",
       "      <td>94.0</td>\n",
       "      <td>61.0</td>\n",
       "      <td>45.0</td>\n",
       "      <td>35.0</td>\n",
       "      <td>45.0</td>\n",
       "      <td>58.0</td>\n",
       "    </tr>\n",
       "    <tr>\n",
       "      <th>...</th>\n",
       "      <td>...</td>\n",
       "      <td>...</td>\n",
       "      <td>...</td>\n",
       "      <td>...</td>\n",
       "      <td>...</td>\n",
       "      <td>...</td>\n",
       "    </tr>\n",
       "    <tr>\n",
       "      <th>b4703</th>\n",
       "      <td>50.0</td>\n",
       "      <td>20.0</td>\n",
       "      <td>15.0</td>\n",
       "      <td>124.0</td>\n",
       "      <td>78.0</td>\n",
       "      <td>41.0</td>\n",
       "    </tr>\n",
       "    <tr>\n",
       "      <th>b4704</th>\n",
       "      <td>919.0</td>\n",
       "      <td>665.0</td>\n",
       "      <td>1153.0</td>\n",
       "      <td>4858.0</td>\n",
       "      <td>2368.0</td>\n",
       "      <td>1632.0</td>\n",
       "    </tr>\n",
       "    <tr>\n",
       "      <th>b4705</th>\n",
       "      <td>4626.0</td>\n",
       "      <td>3211.0</td>\n",
       "      <td>2956.0</td>\n",
       "      <td>5408.0</td>\n",
       "      <td>1382.0</td>\n",
       "      <td>1158.0</td>\n",
       "    </tr>\n",
       "    <tr>\n",
       "      <th>b4712</th>\n",
       "      <td>103.0</td>\n",
       "      <td>65.0</td>\n",
       "      <td>74.0</td>\n",
       "      <td>43.0</td>\n",
       "      <td>64.0</td>\n",
       "      <td>88.0</td>\n",
       "    </tr>\n",
       "    <tr>\n",
       "      <th>b4713</th>\n",
       "      <td>24.0</td>\n",
       "      <td>23.0</td>\n",
       "      <td>19.0</td>\n",
       "      <td>13.0</td>\n",
       "      <td>18.0</td>\n",
       "      <td>21.0</td>\n",
       "    </tr>\n",
       "  </tbody>\n",
       "</table>\n",
       "<p>4220 rows × 6 columns</p>\n",
       "</div>"
      ],
      "text/plain": [
       "       Fucose_1_RPKM  Fucose_2_RPKM  Fucose_3_RPKM  Glucose_1_RPKM  \\\n",
       "b0001          803.0         1004.0         1077.0          1265.0   \n",
       "b0002         1013.0          645.0          491.0           210.0   \n",
       "b0003          666.0          280.0          214.0            83.0   \n",
       "b0004         1136.0          447.0          400.0            89.0   \n",
       "b0005           94.0           61.0           45.0            35.0   \n",
       "...              ...            ...            ...             ...   \n",
       "b4703           50.0           20.0           15.0           124.0   \n",
       "b4704          919.0          665.0         1153.0          4858.0   \n",
       "b4705         4626.0         3211.0         2956.0          5408.0   \n",
       "b4712          103.0           65.0           74.0            43.0   \n",
       "b4713           24.0           23.0           19.0            13.0   \n",
       "\n",
       "       Glucose_2_RPKM  Glucose_3_RPKM  \n",
       "b0001           716.0           900.0  \n",
       "b0002           829.0           541.0  \n",
       "b0003           372.0           207.0  \n",
       "b0004           405.0           229.0  \n",
       "b0005            45.0            58.0  \n",
       "...               ...             ...  \n",
       "b4703            78.0            41.0  \n",
       "b4704          2368.0          1632.0  \n",
       "b4705          1382.0          1158.0  \n",
       "b4712            64.0            88.0  \n",
       "b4713            18.0            21.0  \n",
       "\n",
       "[4220 rows x 6 columns]"
      ]
     },
     "execution_count": 5,
     "metadata": {},
     "output_type": "execute_result"
    }
   ],
   "source": [
    "matrix"
   ]
  },
  {
   "cell_type": "code",
   "execution_count": 6,
   "metadata": {},
   "outputs": [],
   "source": [
    "assert matrix.get_data()['data']['col_ids'] == matrix_data['data']['col_ids']\n",
    "assert matrix.get_data()['data']['row_ids'] == matrix_data['data']['row_ids']\n",
    "assert matrix.get_data()['data']['values'] == matrix_data['data']['values']\n",
    "assert matrix.get_data()['scale'] == matrix_data['scale']\n",
    "assert matrix.get_data()['type'] == matrix_data['type']\n",
    "assert matrix.get_data()['genome_ref'] == matrix_data['genome_ref']\n",
    "assert matrix.get_data()['feature_mapping'] == matrix_data['feature_mapping']\n",
    "assert matrix.get_data() == matrix_data"
   ]
  },
  {
   "cell_type": "code",
   "execution_count": null,
   "metadata": {},
   "outputs": [],
   "source": []
  }
 ],
 "metadata": {
  "kernelspec": {
   "display_name": "Python 3",
   "language": "python",
   "name": "python3"
  },
  "language_info": {
   "codemirror_mode": {
    "name": "ipython",
    "version": 3
   },
   "file_extension": ".py",
   "mimetype": "text/x-python",
   "name": "python",
   "nbconvert_exporter": "python",
   "pygments_lexer": "ipython3",
   "version": "3.7.4"
  }
 },
 "nbformat": 4,
 "nbformat_minor": 4
}
