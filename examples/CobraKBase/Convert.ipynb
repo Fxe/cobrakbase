{
 "cells": [
  {
   "cell_type": "code",
   "execution_count": 1,
   "metadata": {},
   "outputs": [
    {
     "name": "stdout",
     "output_type": "stream",
     "text": [
      "cobrakbase 0.1.9\n"
     ]
    }
   ],
   "source": [
    "import cobra\n",
    "import cobrakbase\n",
    "from cobrakbase.core.converters import KBaseFBAModelToCobraBuilder"
   ]
  },
  {
   "cell_type": "code",
   "execution_count": 2,
   "metadata": {},
   "outputs": [],
   "source": [
    "kbase = cobrakbase.KBaseAPI(YOUR_LOGIN_TOKEN)"
   ]
  },
  {
   "cell_type": "code",
   "execution_count": 3,
   "metadata": {},
   "outputs": [],
   "source": [
    "ws = \"filipeliu:narrative_1561151919387\""
   ]
  },
  {
   "cell_type": "code",
   "execution_count": 4,
   "metadata": {},
   "outputs": [],
   "source": [
    "fbamodel_json = kbase.get_object('GCF_000005845.2.gf.mdl', ws)\n",
    "fbamodel = cobrakbase.core.model.KBaseFBAModel(fbamodel_json)"
   ]
  },
  {
   "cell_type": "code",
   "execution_count": 5,
   "metadata": {},
   "outputs": [],
   "source": [
    "builder = KBaseFBAModelToCobraBuilder(fbamodel)"
   ]
  },
  {
   "cell_type": "code",
   "execution_count": 6,
   "metadata": {},
   "outputs": [],
   "source": [
    "model = builder.build()"
   ]
  },
  {
   "cell_type": "code",
   "execution_count": 7,
   "metadata": {},
   "outputs": [
    {
     "data": {
      "text/html": [
       "\n",
       "        <table>\n",
       "            <tr>\n",
       "                <td><strong>Name</strong></td>\n",
       "                <td>GCF_000005845.2.mdl</td>\n",
       "            </tr><tr>\n",
       "                <td><strong>Memory address</strong></td>\n",
       "                <td>0x0131e9faf28</td>\n",
       "            </tr><tr>\n",
       "                <td><strong>Number of metabolites</strong></td>\n",
       "                <td>1287</td>\n",
       "            </tr><tr>\n",
       "                <td><strong>Number of reactions</strong></td>\n",
       "                <td>1566</td>\n",
       "            </tr><tr>\n",
       "                <td><strong>Number of groups</strong></td>\n",
       "                <td>0</td>\n",
       "            </tr><tr>\n",
       "                <td><strong>Objective expression</strong></td>\n",
       "                <td>1.0*bio1_biomass - 1.0*bio1_biomass_reverse_6e711</td>\n",
       "            </tr><tr>\n",
       "                <td><strong>Compartments</strong></td>\n",
       "                <td>c0, e0</td>\n",
       "            </tr>\n",
       "          </table>"
      ],
      "text/plain": [
       "<Model GCF_000005845.2.mdl at 0x131e9faf28>"
      ]
     },
     "execution_count": 7,
     "metadata": {},
     "output_type": "execute_result"
    }
   ],
   "source": [
    "model"
   ]
  },
  {
   "cell_type": "markdown",
   "metadata": {},
   "source": [
    "# Run COBRA optimization\n",
    "Notice the growth rate biomass (*bio1_biomass*) is at 298. Without a specified media all extracellular Exchanges are set to (-1000, 1000)"
   ]
  },
  {
   "cell_type": "code",
   "execution_count": 8,
   "metadata": {},
   "outputs": [
    {
     "name": "stdout",
     "output_type": "stream",
     "text": [
      "IN FLUXES             OUT FLUXES            OBJECTIVES\n",
      "--------------------  --------------------  -----------------\n",
      "cpd00438_e0    1e+03  cpd00009_e0    1e+03  bio1_biomass  298\n",
      "cpd00023_e0    1e+03  cpd00011_e0    1e+03\n",
      "cpd00024_e0    1e+03  cpd00013_e0    1e+03\n",
      "cpd00080_e0    1e+03  cpd00047_e0    1e+03\n",
      "cpd00106_e0    1e+03  cpd00122_e0    1e+03\n",
      "cpd00276_e0    1e+03  cpd00222_e0    1e+03\n",
      "cpd00007_e0  924      cpd00226_e0    1e+03\n",
      "cpd00041_e0  718      cpd00129_e0  945\n",
      "cpd00079_e0  500      cpd00137_e0  837\n",
      "cpd00367_e0  478      cpd00067_e0  692\n",
      "cpd15352_e0  414      cpd00036_e0  596\n",
      "cpd00161_e0  281      cpd01015_e0  585\n",
      "cpd00082_e0  202      cpd15353_e0  414\n",
      "cpd00107_e0  137      cpd00249_e0  338\n",
      "cpd00156_e0  105      cpd11416_c0  298\n",
      "cpd00054_e0   96      cpd00159_e0  251\n",
      "cpd00039_e0   85.2    cpd00176_e0  225\n",
      "cpd00051_e0   73.6    cpd00012_e0  130\n",
      "cpd00322_e0   72.2    cpd00092_e0   82.6\n",
      "cpd00311_e0   49.9    cpd00108_e0   80.3\n",
      "cpd00066_e0   46.1    cpd00033_e0   47\n",
      "cpd03847_e0   44.8    cpd00211_e0   40.4\n",
      "cpd00309_e0   41.2\n",
      "cpd01914_e0   39.1\n",
      "cpd00069_e0   36\n",
      "cpd01080_e0   25.4\n",
      "cpd00119_e0   23.7\n",
      "cpd00065_e0   14.1\n",
      "cpd00268_e0   12.8\n",
      "cpd00184_e0    4.71\n",
      "cpd10516_e0    3.7\n",
      "cpd00182_e0    1.92\n",
      "cpd00355_e0    1.85\n",
      "cpd00644_e0    1.85\n",
      "cpd00118_e0    0.924\n",
      "cpd00030_e0    0.924\n",
      "cpd00034_e0    0.924\n",
      "cpd00048_e0    0.924\n",
      "cpd00058_e0    0.924\n",
      "cpd00063_e0    0.924\n",
      "cpd00099_e0    0.924\n",
      "cpd00149_e0    0.924\n",
      "cpd00205_e0    0.924\n",
      "cpd00254_e0    0.924\n",
      "cpd00264_e0    0.924\n",
      "cpd00305_e0    0.924\n"
     ]
    }
   ],
   "source": [
    "model.summary()"
   ]
  },
  {
   "cell_type": "code",
   "execution_count": 9,
   "metadata": {},
   "outputs": [
    {
     "data": {
      "text/plain": [
       "<cobrakbase.core.kbasebiochemmedia.KBaseBiochemMedia at 0x1026625f8>"
      ]
     },
     "execution_count": 9,
     "metadata": {},
     "output_type": "execute_result"
    }
   ],
   "source": [
    "media_json = kbase.get_object('Carbon-D-Glucose', ws)\n",
    "media = cobrakbase.core.KBaseBiochemMedia(media_json)\n",
    "media"
   ]
  },
  {
   "cell_type": "code",
   "execution_count": 10,
   "metadata": {},
   "outputs": [
    {
     "data": {
      "text/plain": [
       "{'cpd00149_e0': (-100, 100),\n",
       " 'cpd00099_e0': (-100, 100),\n",
       " 'cpd00067_e0': (-100, 100),\n",
       " 'cpd00063_e0': (-100, 100),\n",
       " 'cpd00058_e0': (-100, 100),\n",
       " 'cpd00048_e0': (-100, 100),\n",
       " 'cpd00034_e0': (-100, 100),\n",
       " 'cpd00030_e0': (-100, 100),\n",
       " 'cpd00013_e0': (-100, 100),\n",
       " 'cpd00009_e0': (-100, 100),\n",
       " 'cpd00001_e0': (-100, 100),\n",
       " 'cpd00007_e0': (-10, 100),\n",
       " 'cpd00205_e0': (-100, 100),\n",
       " 'cpd00254_e0': (-100, 100),\n",
       " 'cpd00971_e0': (-100, 100),\n",
       " 'cpd10515_e0': (-100, 100),\n",
       " 'cpd10516_e0': (-100, 100),\n",
       " 'cpd11574_e0': (-100, 100),\n",
       " 'cpd00244_e0': (-100, 100),\n",
       " 'cpd00027_e0': (-5, 100)}"
      ]
     },
     "execution_count": 10,
     "metadata": {},
     "output_type": "execute_result"
    }
   ],
   "source": [
    "media.get_media_constraints()"
   ]
  },
  {
   "cell_type": "code",
   "execution_count": 11,
   "metadata": {},
   "outputs": [],
   "source": [
    "model = builder.with_media(media).build()"
   ]
  },
  {
   "cell_type": "code",
   "execution_count": 12,
   "metadata": {},
   "outputs": [
    {
     "name": "stdout",
     "output_type": "stream",
     "text": [
      "IN FLUXES             OUT FLUXES             OBJECTIVES\n",
      "--------------------  ---------------------  -------------------\n",
      "cpd00013_e0  5.98     cpd00001_e0  17.8      bio1_biomass  0.697\n",
      "cpd00027_e0  5        cpd00067_e0   4.86\n",
      "cpd00009_e0  0.566    cpd00011_e0   2.54\n",
      "cpd00048_e0  0.155    cpd11416_c0   0.697\n",
      "cpd10515_e0  0.00648  cpd00007_e0   0.02\n",
      "cpd00030_e0  0.00216  cpd15378_e0   0.00216\n",
      "cpd00034_e0  0.00216\n",
      "cpd00058_e0  0.00216\n",
      "cpd00063_e0  0.00216\n",
      "cpd00099_e0  0.00216\n",
      "cpd00149_e0  0.00216\n",
      "cpd00205_e0  0.00216\n",
      "cpd00254_e0  0.00216\n",
      "cpd10516_e0  0.00216\n"
     ]
    }
   ],
   "source": [
    "model.summary()"
   ]
  },
  {
   "cell_type": "code",
   "execution_count": 13,
   "metadata": {},
   "outputs": [
    {
     "data": {
      "text/plain": [
       "[<Gene b3177 at 0x131e2beba8>,\n",
       " <Gene b2947 at 0x131e24f080>,\n",
       " <Gene b0125 at 0x131e24f0b8>,\n",
       " <Gene b0775 at 0x131e24f0f0>]"
      ]
     },
     "execution_count": 13,
     "metadata": {},
     "output_type": "execute_result"
    }
   ],
   "source": [
    "model.genes[:4]"
   ]
  },
  {
   "cell_type": "code",
   "execution_count": 14,
   "metadata": {},
   "outputs": [
    {
     "data": {
      "text/html": [
       "\n",
       "        <table>\n",
       "            <tr>\n",
       "                <td><strong>Gene identifier</strong></td><td>b3177</td>\n",
       "            </tr><tr>\n",
       "                <td><strong>Name</strong></td><td>b3177</td>\n",
       "            </tr><tr>\n",
       "                <td><strong>Memory address</strong></td>\n",
       "                <td>0x0131e2beba8</td>\n",
       "            </tr><tr>\n",
       "                <td><strong>Functional</strong></td><td>True</td>\n",
       "            </tr><tr>\n",
       "                <td><strong>In 2 reaction(s)</strong></td><td>\n",
       "                    rxn02201_c0, rxn02200_c0</td>\n",
       "            </tr>\n",
       "        </table>"
      ],
      "text/plain": [
       "<Gene b3177 at 0x131e2beba8>"
      ]
     },
     "execution_count": 14,
     "metadata": {},
     "output_type": "execute_result"
    }
   ],
   "source": [
    "model.genes[0]"
   ]
  },
  {
   "cell_type": "markdown",
   "metadata": {},
   "source": [
    "## Gene Annotation\n",
    "The model object does not store any annotation for the genes. We can retreive gene data from the Genome object"
   ]
  },
  {
   "cell_type": "code",
   "execution_count": 16,
   "metadata": {},
   "outputs": [
    {
     "data": {
      "text/plain": [
       "{'sbo': 'SBO:0000243'}"
      ]
     },
     "execution_count": 16,
     "metadata": {},
     "output_type": "execute_result"
    }
   ],
   "source": [
    "model.genes[0].annotation"
   ]
  },
  {
   "cell_type": "markdown",
   "metadata": {},
   "source": [
    "KBase models are attached to a genome object (*genome_ref*)"
   ]
  },
  {
   "cell_type": "code",
   "execution_count": 18,
   "metadata": {},
   "outputs": [
    {
     "data": {
      "text/plain": [
       "'45384/3/1'"
      ]
     },
     "execution_count": 18,
     "metadata": {},
     "output_type": "execute_result"
    }
   ],
   "source": [
    "fbamodel.data['genome_ref']"
   ]
  },
  {
   "cell_type": "markdown",
   "metadata": {},
   "source": [
    "We get the object (*id/name*) and workspace (*id*) with *get_object_info_from_ref*"
   ]
  },
  {
   "cell_type": "code",
   "execution_count": 20,
   "metadata": {},
   "outputs": [
    {
     "name": "stdout",
     "output_type": "stream",
     "text": [
      "GCF_000005845.2.RAST1 filipeliu:narrative_1561151919387\n"
     ]
    }
   ],
   "source": [
    "ref_info = kbase.get_object_info_from_ref(fbamodel.data['genome_ref'])\n",
    "print(ref_info.id, ref_info.workspace_id)"
   ]
  },
  {
   "cell_type": "code",
   "execution_count": 21,
   "metadata": {},
   "outputs": [
    {
     "data": {
      "text/plain": [
       "<cobrakbase.core.kbasegenomesgenome.KBaseGenome at 0x1319f5b390>"
      ]
     },
     "execution_count": 21,
     "metadata": {},
     "output_type": "execute_result"
    }
   ],
   "source": [
    "genome_json = kbase.get_object('GCF_000005845.2.RAST1', 'filipeliu:narrative_1561151919387')\n",
    "genome = cobrakbase.core.KBaseGenome(genome_json)\n",
    "genome"
   ]
  },
  {
   "cell_type": "code",
   "execution_count": 22,
   "metadata": {},
   "outputs": [
    {
     "data": {
      "text/plain": [
       "'Escherichia coli str. K-12 substr. MG1655'"
      ]
     },
     "execution_count": 22,
     "metadata": {},
     "output_type": "execute_result"
    }
   ],
   "source": [
    "genome.data['scientific_name']"
   ]
  },
  {
   "cell_type": "code",
   "execution_count": 23,
   "metadata": {},
   "outputs": [],
   "source": [
    "model = builder.with_media(media).with_genome(genome).build()"
   ]
  },
  {
   "cell_type": "code",
   "execution_count": 24,
   "metadata": {},
   "outputs": [
    {
     "data": {
      "text/plain": [
       "{'sbo': 'SBO:0000243',\n",
       " 'ncbiprotein': 'NP_417644.4',\n",
       " 'ncbigene': '947691',\n",
       " 'ecogene': 'EG50011'}"
      ]
     },
     "execution_count": 24,
     "metadata": {},
     "output_type": "execute_result"
    }
   ],
   "source": [
    "model.genes[0].annotation"
   ]
  }
 ],
 "metadata": {
  "kernelspec": {
   "display_name": "Python 3",
   "language": "python",
   "name": "python3"
  },
  "language_info": {
   "codemirror_mode": {
    "name": "ipython",
    "version": 3
   },
   "file_extension": ".py",
   "mimetype": "text/x-python",
   "name": "python",
   "nbconvert_exporter": "python",
   "pygments_lexer": "ipython3",
   "version": "3.6.5"
  }
 },
 "nbformat": 4,
 "nbformat_minor": 2
}
