{
 "cells": [
  {
   "cell_type": "code",
   "execution_count": 1,
   "metadata": {},
   "outputs": [
    {
     "name": "stdout",
     "output_type": "stream",
     "text": [
      "cobrakbase 0.2.7\n"
     ]
    }
   ],
   "source": [
    "import logging\n",
    "import modelseedpy\n",
    "import cobrakbase\n",
    "import cobra\n",
    "import json\n",
    "logger = logging.getLogger(__name__)"
   ]
  },
  {
   "cell_type": "code",
   "execution_count": 2,
   "metadata": {},
   "outputs": [],
   "source": [
    "kbase = cobrakbase.KBaseAPI()\n",
    "ws = 'filipeliu:narrative_1623733614496'"
   ]
  },
  {
   "cell_type": "code",
   "execution_count": 3,
   "metadata": {
    "tags": []
   },
   "outputs": [],
   "source": [
    "info = kbase.get_object_info_from_ref('78503/2948/1')"
   ]
  },
  {
   "cell_type": "code",
   "execution_count": 13,
   "metadata": {},
   "outputs": [],
   "source": [
    "genome_json = kbase.get_object(info.id, info.workspace_id)"
   ]
  },
  {
   "cell_type": "code",
   "execution_count": 14,
   "metadata": {},
   "outputs": [],
   "source": [
    "from cobrakbase.core import KBaseGenome\n",
    "import copy\n",
    "genome = KBaseGenome(copy.deepcopy(genome_json), info)"
   ]
  },
  {
   "cell_type": "code",
   "execution_count": 15,
   "metadata": {},
   "outputs": [
    {
     "data": {
      "text/plain": [
       "{'assembly_ref': str,\n",
       " 'cdss': list,\n",
       " 'dna_size': int,\n",
       " 'domain': str,\n",
       " 'external_source_origination_date': str,\n",
       " 'feature_counts': dict,\n",
       " 'features': list,\n",
       " 'gc_content': float,\n",
       " 'genbank_handle_ref': str,\n",
       " 'genetic_code': int,\n",
       " 'genome_tiers': list,\n",
       " 'id': str,\n",
       " 'md5': str,\n",
       " 'molecule_type': str,\n",
       " 'mrnas': list,\n",
       " 'non_coding_features': list,\n",
       " 'notes': str,\n",
       " 'num_contigs': int,\n",
       " 'ontologies_present': dict,\n",
       " 'ontology_events': list,\n",
       " 'original_source_file_name': str,\n",
       " 'publications': list,\n",
       " 'reference_annotation': int,\n",
       " 'release': str,\n",
       " 'scientific_name': str,\n",
       " 'source': str,\n",
       " 'source_id': str,\n",
       " 'taxon_ref': str,\n",
       " 'taxonomy': str,\n",
       " 'type': str,\n",
       " 'warnings': list}"
      ]
     },
     "execution_count": 15,
     "metadata": {},
     "output_type": "execute_result"
    }
   ],
   "source": [
    "genome.data_keys"
   ]
  },
  {
   "cell_type": "code",
   "execution_count": 16,
   "metadata": {},
   "outputs": [
    {
     "data": {
      "text/plain": [
       "True"
      ]
     },
     "execution_count": 16,
     "metadata": {},
     "output_type": "execute_result"
    }
   ],
   "source": [
    "genome_json_back = genome.get_data()\n",
    "genome_json_back.keys() == genome_json.keys()"
   ]
  },
  {
   "cell_type": "code",
   "execution_count": null,
   "metadata": {},
   "outputs": [],
   "source": []
  },
  {
   "cell_type": "code",
   "execution_count": null,
   "metadata": {},
   "outputs": [],
   "source": []
  },
  {
   "cell_type": "code",
   "execution_count": 27,
   "metadata": {},
   "outputs": [
    {
     "data": {
      "text/plain": [
       "[{'id': 'SSO',\n",
       "  'method': 'annotate_genomes',\n",
       "  'method_version': '1',\n",
       "  'ontology_ref': '17159/4/1',\n",
       "  'timestamp': '2018-04-23T06:59:27'},\n",
       " {'id': 'SSO',\n",
       "  'method': 'annotate_genome',\n",
       "  'method_version': '1.8.1',\n",
       "  'ontology_ref': '17159/4/1',\n",
       "  'timestamp': '2020-12-01T14:40:29'},\n",
       " {'id': 'SSO',\n",
       "  'method': 'annotate_genome',\n",
       "  'method_version': '1.8.1',\n",
       "  'ontology_ref': '17159/4/1',\n",
       "  'timestamp': '2020-12-01T14:40:29'}]"
      ]
     },
     "execution_count": 27,
     "metadata": {},
     "output_type": "execute_result"
    }
   ],
   "source": [
    "data['ontology_events']"
   ]
  },
  {
   "cell_type": "code",
   "execution_count": 26,
   "metadata": {},
   "outputs": [
    {
     "name": "stderr",
     "output_type": "stream",
     "text": [
      "WARNING:__main__:object field: cdss\n",
      "WARNING:__main__:object field: features\n",
      "WARNING:__main__:object field: genome_tiers\n",
      "WARNING:__main__:object field: mrnas\n",
      "WARNING:__main__:object field: non_coding_features\n",
      "WARNING:__main__:object field: ontology_events\n"
     ]
    },
    {
     "ename": "ValueError",
     "evalue": "id 'SSO' at index 1 is non-unique. Is it present twice?",
     "output_type": "error",
     "traceback": [
      "\u001b[0;31m---------------------------------------------------------------------------\u001b[0m",
      "\u001b[0;31mValueError\u001b[0m                                Traceback (most recent call last)",
      "\u001b[0;32m<ipython-input-26-af5184c12e10>\u001b[0m in \u001b[0;36m<module>\u001b[0;34m\u001b[0m\n\u001b[1;32m     13\u001b[0m         \u001b[0mlogger\u001b[0m\u001b[0;34m.\u001b[0m\u001b[0mwarning\u001b[0m\u001b[0;34m(\u001b[0m\u001b[0;34m\"object field: %s\"\u001b[0m\u001b[0;34m,\u001b[0m \u001b[0mfield\u001b[0m\u001b[0;34m)\u001b[0m\u001b[0;34m\u001b[0m\u001b[0;34m\u001b[0m\u001b[0m\n\u001b[1;32m     14\u001b[0m         \u001b[0;32mif\u001b[0m \u001b[0misinstance\u001b[0m\u001b[0;34m(\u001b[0m\u001b[0mdata\u001b[0m\u001b[0;34m[\u001b[0m\u001b[0mfield\u001b[0m\u001b[0;34m]\u001b[0m\u001b[0;34m[\u001b[0m\u001b[0;36m0\u001b[0m\u001b[0;34m]\u001b[0m\u001b[0;34m,\u001b[0m \u001b[0mdict\u001b[0m\u001b[0;34m)\u001b[0m \u001b[0;32mand\u001b[0m \u001b[0;34m\"id\"\u001b[0m \u001b[0;32min\u001b[0m \u001b[0mdata\u001b[0m\u001b[0;34m[\u001b[0m\u001b[0mfield\u001b[0m\u001b[0;34m]\u001b[0m\u001b[0;34m[\u001b[0m\u001b[0;36m0\u001b[0m\u001b[0;34m]\u001b[0m\u001b[0;34m:\u001b[0m\u001b[0;34m\u001b[0m\u001b[0;34m\u001b[0m\u001b[0m\n\u001b[0;32m---> 15\u001b[0;31m             \u001b[0mdata\u001b[0m\u001b[0;34m[\u001b[0m\u001b[0mfield\u001b[0m\u001b[0;34m]\u001b[0m \u001b[0;34m=\u001b[0m \u001b[0mDictList\u001b[0m\u001b[0;34m(\u001b[0m\u001b[0mmap\u001b[0m\u001b[0;34m(\u001b[0m\u001b[0;32mlambda\u001b[0m \u001b[0mx\u001b[0m\u001b[0;34m:\u001b[0m \u001b[0mAttrDict\u001b[0m\u001b[0;34m(\u001b[0m\u001b[0mx\u001b[0m\u001b[0;34m)\u001b[0m\u001b[0;34m,\u001b[0m \u001b[0mdata\u001b[0m\u001b[0;34m[\u001b[0m\u001b[0mfield\u001b[0m\u001b[0;34m]\u001b[0m\u001b[0;34m)\u001b[0m\u001b[0;34m)\u001b[0m\u001b[0;34m\u001b[0m\u001b[0;34m\u001b[0m\u001b[0m\n\u001b[0m\u001b[1;32m     16\u001b[0m             \u001b[0;32mpass\u001b[0m\u001b[0;34m\u001b[0m\u001b[0;34m\u001b[0m\u001b[0m\n",
      "\u001b[0;32m/usr/local/lib/python3.8/site-packages/cobra/core/dictlist.py\u001b[0m in \u001b[0;36m__init__\u001b[0;34m(self, *args)\u001b[0m\n\u001b[1;32m     37\u001b[0m                 \u001b[0mself\u001b[0m\u001b[0;34m.\u001b[0m\u001b[0m_dict\u001b[0m \u001b[0;34m=\u001b[0m \u001b[0mother\u001b[0m\u001b[0;34m.\u001b[0m\u001b[0m_dict\u001b[0m\u001b[0;34m.\u001b[0m\u001b[0mcopy\u001b[0m\u001b[0;34m(\u001b[0m\u001b[0;34m)\u001b[0m\u001b[0;34m\u001b[0m\u001b[0;34m\u001b[0m\u001b[0m\n\u001b[1;32m     38\u001b[0m             \u001b[0;32melse\u001b[0m\u001b[0;34m:\u001b[0m\u001b[0;34m\u001b[0m\u001b[0;34m\u001b[0m\u001b[0m\n\u001b[0;32m---> 39\u001b[0;31m                 \u001b[0mself\u001b[0m\u001b[0;34m.\u001b[0m\u001b[0mextend\u001b[0m\u001b[0;34m(\u001b[0m\u001b[0mother\u001b[0m\u001b[0;34m)\u001b[0m\u001b[0;34m\u001b[0m\u001b[0;34m\u001b[0m\u001b[0m\n\u001b[0m\u001b[1;32m     40\u001b[0m \u001b[0;34m\u001b[0m\u001b[0m\n\u001b[1;32m     41\u001b[0m     \u001b[0;32mdef\u001b[0m \u001b[0mhas_id\u001b[0m\u001b[0;34m(\u001b[0m\u001b[0mself\u001b[0m\u001b[0;34m,\u001b[0m \u001b[0mid\u001b[0m\u001b[0;34m)\u001b[0m\u001b[0;34m:\u001b[0m\u001b[0;34m\u001b[0m\u001b[0;34m\u001b[0m\u001b[0m\n",
      "\u001b[0;32m/usr/local/lib/python3.8/site-packages/cobra/core/dictlist.py\u001b[0m in \u001b[0;36mextend\u001b[0;34m(self, iterable)\u001b[0m\n\u001b[1;32m    196\u001b[0m                 \u001b[0;31m# if the above succeeded, then the id must be present\u001b[0m\u001b[0;34m\u001b[0m\u001b[0;34m\u001b[0m\u001b[0;34m\u001b[0m\u001b[0m\n\u001b[1;32m    197\u001b[0m                 \u001b[0;31m# twice in the list being added\u001b[0m\u001b[0;34m\u001b[0m\u001b[0;34m\u001b[0m\u001b[0;34m\u001b[0m\u001b[0m\n\u001b[0;32m--> 198\u001b[0;31m                 raise ValueError(\n\u001b[0m\u001b[1;32m    199\u001b[0m                     \u001b[0;34m\"id '%s' at index %d is non-unique. \"\u001b[0m\u001b[0;34m\u001b[0m\u001b[0;34m\u001b[0m\u001b[0m\n\u001b[1;32m    200\u001b[0m                     \u001b[0;34m\"Is it present twice?\"\u001b[0m \u001b[0;34m%\u001b[0m \u001b[0;34m(\u001b[0m\u001b[0mstr\u001b[0m\u001b[0;34m(\u001b[0m\u001b[0mthe_id\u001b[0m\u001b[0;34m)\u001b[0m\u001b[0;34m,\u001b[0m \u001b[0mi\u001b[0m\u001b[0;34m)\u001b[0m\u001b[0;34m\u001b[0m\u001b[0;34m\u001b[0m\u001b[0m\n",
      "\u001b[0;31mValueError\u001b[0m: id 'SSO' at index 1 is non-unique. Is it present twice?"
     ]
    }
   ],
   "source": [
    "from cobra.core.dictlist import DictList\n",
    "import copy\n",
    "class AttrDict(dict):\n",
    "    \"\"\"\n",
    "    Base object to use for subobjects in KBase objects\n",
    "    \"\"\"\n",
    "    def __init__(self, *args, **kwargs):\n",
    "        super(AttrDict, self).__init__(*args, **kwargs)\n",
    "        self.__dict__ = self\n",
    "data = copy.deepcopy(genome_json)\n",
    "for field in data.keys():\n",
    "    if isinstance(data[field], list) and len(data[field]) > 0:\n",
    "        logger.warning(\"object field: %s\", field)\n",
    "        if isinstance(data[field][0], dict) and \"id\" in data[field][0]:\n",
    "            data[field] = DictList(map(lambda x: AttrDict(x), data[field]))\n",
    "            pass"
   ]
  },
  {
   "cell_type": "code",
   "execution_count": 6,
   "metadata": {},
   "outputs": [],
   "source": [
    "from cobrakbase.core.kbaseobject import KBaseObject"
   ]
  },
  {
   "cell_type": "code",
   "execution_count": 7,
   "metadata": {},
   "outputs": [],
   "source": [
    "base = KBaseObject({}, info)\n",
    "\n",
    "class KBaseGenome2(KBaseObject):\n",
    "    def __init__(self, data=None, info=None, args=None, kbase_type=None):\n",
    "        KBaseObject.__init__(self, data, info, args, kbase_type, ['ontology_events'])\n",
    "        \n",
    "ggg = KBaseGenome2({'ontology_events': [{'id':'SSO'}]}, info)"
   ]
  },
  {
   "cell_type": "code",
   "execution_count": 9,
   "metadata": {},
   "outputs": [
    {
     "data": {
      "text/plain": [
       "{'ontology_events'}"
      ]
     },
     "execution_count": 9,
     "metadata": {},
     "output_type": "execute_result"
    }
   ],
   "source": [
    "ggg.exclude_dict"
   ]
  },
  {
   "cell_type": "code",
   "execution_count": 11,
   "metadata": {},
   "outputs": [],
   "source": []
  },
  {
   "cell_type": "code",
   "execution_count": null,
   "metadata": {},
   "outputs": [],
   "source": []
  },
  {
   "cell_type": "code",
   "execution_count": 16,
   "metadata": {},
   "outputs": [],
   "source": []
  },
  {
   "cell_type": "code",
   "execution_count": null,
   "metadata": {},
   "outputs": [],
   "source": []
  },
  {
   "cell_type": "code",
   "execution_count": 3,
   "metadata": {},
   "outputs": [],
   "source": [
    "#genome = kbase.get_from_ws('ecoli_genome', ws)\n",
    "from cobrakbase.core.kbasegenomesgenome import KBaseGenome\n",
    "with open('ecoli_genome.json', 'r') as fh:\n",
    "    genome_json = json.load(fh)\n",
    "    genome = KBaseGenome(genome_json, cobrakbase.kbase_object_info.KBaseObjectInfo('1-1'))"
   ]
  },
  {
   "cell_type": "code",
   "execution_count": 4,
   "metadata": {},
   "outputs": [],
   "source": [
    "with open('ecoli_genome_rast_annotation.json', 'r') as fh:\n",
    "    ecoli_genome_rast_annotation = json.load(fh)\n",
    "for f in genome.features:\n",
    "    if f.id in ecoli_genome_rast_annotation:\n",
    "        for function in ecoli_genome_rast_annotation[f.id]:\n",
    "            f.add_ontology_term('RAST', function)"
   ]
  },
  {
   "cell_type": "code",
   "execution_count": 5,
   "metadata": {},
   "outputs": [],
   "source": [
    "template = kbase.get_from_ws('12998/10/6')"
   ]
  },
  {
   "cell_type": "code",
   "execution_count": 6,
   "metadata": {
    "tags": []
   },
   "outputs": [],
   "source": [
    "model_modelseed = modelseedpy.MSBuilder.build_metabolic_model('ecoli', genome, template, None, '0', True, False)"
   ]
  },
  {
   "cell_type": "code",
   "execution_count": 8,
   "metadata": {},
   "outputs": [
    {
     "data": {
      "text/html": [
       "\n",
       "        <table>\n",
       "            <tr>\n",
       "                <td><strong>Name</strong></td>\n",
       "                <td>ecoli</td>\n",
       "            </tr><tr>\n",
       "                <td><strong>Memory address</strong></td>\n",
       "                <td>0x07f85df00ac70</td>\n",
       "            </tr><tr>\n",
       "                <td><strong>Number of metabolites</strong></td>\n",
       "                <td>1448</td>\n",
       "            </tr><tr>\n",
       "                <td><strong>Number of reactions</strong></td>\n",
       "                <td>1738</td>\n",
       "            </tr><tr>\n",
       "                <td><strong>Number of groups</strong></td>\n",
       "                <td>0</td>\n",
       "            </tr><tr>\n",
       "                <td><strong>Objective expression</strong></td>\n",
       "                <td>1.0*bio1 - 1.0*bio1_reverse_b18f7</td>\n",
       "            </tr><tr>\n",
       "                <td><strong>Compartments</strong></td>\n",
       "                <td>c0, e0</td>\n",
       "            </tr>\n",
       "          </table>"
      ],
      "text/plain": [
       "<Model ecoli at 0x7f85df00ac70>"
      ]
     },
     "execution_count": 8,
     "metadata": {},
     "output_type": "execute_result"
    }
   ],
   "source": [
    "model_modelseed"
   ]
  },
  {
   "cell_type": "code",
   "execution_count": 7,
   "metadata": {},
   "outputs": [
    {
     "data": {
      "text/plain": [
       "[[17,\n",
       "  'ecoli_modelseedpy_direct',\n",
       "  'KBaseFBA.FBAModel-12.0',\n",
       "  '2021-06-18T06:16:38+0000',\n",
       "  14,\n",
       "  'filipeliu',\n",
       "  92991,\n",
       "  'filipeliu:narrative_1623733614496',\n",
       "  '08231a4979927f14ae3f889b74b1e9f4',\n",
       "  1570596,\n",
       "  {'Number gapgens': '0',\n",
       "   'Type': 'GenomeScale',\n",
       "   'Number gapfills': '0',\n",
       "   'Source ID': 'ecoli',\n",
       "   'Number biomasses': '1',\n",
       "   'Number compartments': '2',\n",
       "   'Source': 'ModelSEEDpy',\n",
       "   'Number compounds': '1448',\n",
       "   'Number reactions': '1564',\n",
       "   'Name': 'ecoli'}]]"
      ]
     },
     "execution_count": 7,
     "metadata": {},
     "output_type": "execute_result"
    }
   ],
   "source": [
    "kbase.save_object('ecoli_modelseedpy_direct', 'filipeliu:narrative_1623733614496', 'KBaseFBA.FBAModel', model_modelseed)"
   ]
  },
  {
   "cell_type": "code",
   "execution_count": 8,
   "metadata": {},
   "outputs": [],
   "source": [
    "rast = modelseedpy.RastClient()"
   ]
  },
  {
   "cell_type": "code",
   "execution_count": 9,
   "metadata": {},
   "outputs": [
    {
     "data": {
      "text/plain": [
       "[{'parameters': ['-a',\n",
       "   '-g',\n",
       "   200,\n",
       "   '-m',\n",
       "   5,\n",
       "   '-d',\n",
       "   '/opt/patric-common/data/kmer_metadata_v2',\n",
       "   '-u',\n",
       "   'http://pear.mcs.anl.gov:6100/query'],\n",
       "  'hostname': 'pear',\n",
       "  'tool_name': 'kmer_search',\n",
       "  'id': '40F7D9AC-CF98-11EB-A0A4-763ABEF382BD',\n",
       "  'execution_time': 1623953839.68946},\n",
       " {'tool_name': 'KmerAnnotationByFigfam',\n",
       "  'parameters': ['annotate_hypothetical_only=1',\n",
       "   'dataset_name=Release70',\n",
       "   'kmer_size=8'],\n",
       "  'hostname': 'pear',\n",
       "  'id': '410F6400-CF98-11EB-A0A4-763ABEF382BD',\n",
       "  'execution_time': 1623953839.84372},\n",
       " {'tool_name': 'annotate_proteins_similarity',\n",
       "  'execute_time': 1623953840.21613,\n",
       "  'hostname': 'pear',\n",
       "  'parameters': [],\n",
       "  'id': '4148369A-CF98-11EB-9BC7-0F0BBDF382BD'}]"
      ]
     },
     "execution_count": 9,
     "metadata": {},
     "output_type": "execute_result"
    }
   ],
   "source": [
    "rast.annotate_genome(genome)"
   ]
  },
  {
   "cell_type": "code",
   "execution_count": 8,
   "metadata": {},
   "outputs": [],
   "source": [
    "model_kbase_json = kbase.get_object('ecoli_model', ws)"
   ]
  },
  {
   "cell_type": "code",
   "execution_count": 9,
   "metadata": {},
   "outputs": [],
   "source": [
    "model_kbase = kbase.get_from_ws('ecoli_model', ws)"
   ]
  },
  {
   "cell_type": "code",
   "execution_count": 10,
   "metadata": {},
   "outputs": [],
   "source": [
    "to_json = model_kbase._to_json()"
   ]
  },
  {
   "cell_type": "code",
   "execution_count": 11,
   "metadata": {},
   "outputs": [
    {
     "data": {
      "text/plain": [
       "True"
      ]
     },
     "execution_count": 11,
     "metadata": {},
     "output_type": "execute_result"
    }
   ],
   "source": [
    "to_json == model_kbase_json"
   ]
  },
  {
   "cell_type": "code",
   "execution_count": 12,
   "metadata": {},
   "outputs": [
    {
     "data": {
      "text/plain": [
       "'KBaseFBA.FBAModel'"
      ]
     },
     "execution_count": 12,
     "metadata": {},
     "output_type": "execute_result"
    }
   ],
   "source": [
    "model_kbase.info.type"
   ]
  },
  {
   "cell_type": "code",
   "execution_count": null,
   "metadata": {},
   "outputs": [],
   "source": []
  },
  {
   "cell_type": "code",
   "execution_count": null,
   "metadata": {},
   "outputs": [],
   "source": []
  },
  {
   "cell_type": "code",
   "execution_count": null,
   "metadata": {},
   "outputs": [],
   "source": []
  },
  {
   "cell_type": "code",
   "execution_count": 13,
   "metadata": {},
   "outputs": [
    {
     "data": {
      "text/plain": [
       "[{'compartmentIndex': 0,\n",
       "  'compartment_ref': '~/template/compartments/id/c',\n",
       "  'id': 'c0',\n",
       "  'label': 'Cytosol_0',\n",
       "  'pH': 7,\n",
       "  'potential': 0},\n",
       " {'compartmentIndex': 0,\n",
       "  'compartment_ref': '~/template/compartments/id/e',\n",
       "  'id': 'e0',\n",
       "  'label': 'Extracellular_0',\n",
       "  'pH': 7,\n",
       "  'potential': 0}]"
      ]
     },
     "execution_count": 13,
     "metadata": {},
     "output_type": "execute_result"
    }
   ],
   "source": [
    "model_kbase_json['modelcompartments']"
   ]
  },
  {
   "cell_type": "code",
   "execution_count": 14,
   "metadata": {},
   "outputs": [
    {
     "ename": "NameError",
     "evalue": "name 'model_modelseed_json' is not defined",
     "output_type": "error",
     "traceback": [
      "\u001b[0;31m---------------------------------------------------------------------------\u001b[0m",
      "\u001b[0;31mNameError\u001b[0m                                 Traceback (most recent call last)",
      "\u001b[0;32m<ipython-input-14-846701e0a306>\u001b[0m in \u001b[0;36m<module>\u001b[0;34m\u001b[0m\n\u001b[0;32m----> 1\u001b[0;31m \u001b[0mmodel_modelseed_json\u001b[0m\u001b[0;34m[\u001b[0m\u001b[0;34m'modelcompartments'\u001b[0m\u001b[0;34m]\u001b[0m\u001b[0;34m\u001b[0m\u001b[0;34m\u001b[0m\u001b[0m\n\u001b[0m",
      "\u001b[0;31mNameError\u001b[0m: name 'model_modelseed_json' is not defined"
     ]
    }
   ],
   "source": [
    "model_modelseed_json['modelcompartments']"
   ]
  },
  {
   "cell_type": "code",
   "execution_count": null,
   "metadata": {},
   "outputs": [],
   "source": [
    "from cobrakbase.core.kbasefba.fbamodel_from_cobra import CobraModelConverter\n",
    "model_modelseed_json, model_modelseed_fbamodel = CobraModelConverter(model_modelseed, genome, template).build()"
   ]
  },
  {
   "cell_type": "code",
   "execution_count": 18,
   "metadata": {},
   "outputs": [
    {
     "data": {
      "text/plain": [
       "[[11,\n",
       "  'ecoli_modelseedpy',\n",
       "  'KBaseFBA.FBAModel-12.0',\n",
       "  '2021-06-16T08:30:30+0000',\n",
       "  3,\n",
       "  'filipeliu',\n",
       "  92991,\n",
       "  'filipeliu:narrative_1623733614496',\n",
       "  'e96e8d34e1deba910dac1e2aa4e99976',\n",
       "  1567072,\n",
       "  {'Number gapgens': '0',\n",
       "   'Type': 'GenomeScale',\n",
       "   'Number gapfills': '0',\n",
       "   'Source ID': 'COBRA KBase',\n",
       "   'Number biomasses': '1',\n",
       "   'Number compartments': '2',\n",
       "   'Source': 'COBRA KBase',\n",
       "   'Number compounds': '1446',\n",
       "   'Number reactions': '1560',\n",
       "   'Name': 'ecoli'}]]"
      ]
     },
     "execution_count": 18,
     "metadata": {},
     "output_type": "execute_result"
    }
   ],
   "source": [
    "kbase.save_object('ecoli_modelseedpy', 'filipeliu:narrative_1623733614496', model_modelseed_fbamodel.info.type, model_modelseed_json)"
   ]
  },
  {
   "cell_type": "code",
   "execution_count": null,
   "metadata": {},
   "outputs": [],
   "source": []
  },
  {
   "cell_type": "code",
   "execution_count": null,
   "metadata": {},
   "outputs": [],
   "source": []
  },
  {
   "cell_type": "code",
   "execution_count": 105,
   "metadata": {},
   "outputs": [
    {
     "name": "stdout",
     "output_type": "stream",
     "text": [
      "rxn00646_c0: cpd00002_c0 + cpd00023_c0 + cpd00084_c0 --> cpd00008_c0 + cpd00009_c0 + cpd00067_c0 + cpd00506_c0\n",
      "rxn00646_c0: cpd00002_c0 + cpd00023_c0 + cpd00084_c0 --> cpd00008_c0 + cpd00009_c0 + cpd00067_c0 + cpd00506_c0\n"
     ]
    }
   ],
   "source": [
    "for r in model_modelseed.reactions:\n",
    "    if r.id == 'rxn00646_c0':\n",
    "        proteins = []\n",
    "        model_reaction_data = {\n",
    "                'id': r.id,\n",
    "                'name': r.name,\n",
    "                'direction': '>',\n",
    "                'aliases': [],\n",
    "                'coverage': 3,\n",
    "                'dblinks': {},\n",
    "                'edits': {}, 'gapfill_data': {},\n",
    "                'gene_count': 3,\n",
    "                'maxforflux': 1000000,\n",
    "                'maxrevflux': 1000000,\n",
    "                'modelReactionProteins': proteins,\n",
    "                'modelReactionReagents': [],\n",
    "                'modelcompartment_ref': '~/modelcompartments/id/c0',\n",
    "                'numerical_attributes': {}, 'string_attributes': {},\n",
    "                'probability': 1,\n",
    "                'protons': 0,\n",
    "                'reaction_ref': '~/template/reactions/id/' + r.id[:-1],\n",
    "            }\n",
    "        reaction = ModelReaction(model_reaction_data)\n",
    "        reaction.add_metabolites(r.metabolites)\n",
    "        print(r)\n",
    "        print(reaction)\n",
    "        break"
   ]
  },
  {
   "cell_type": "code",
   "execution_count": 18,
   "metadata": {},
   "outputs": [
    {
     "data": {
      "text/html": [
       "\n",
       "        <table>\n",
       "            <tr>\n",
       "                <td><strong>Reaction identifier</strong></td><td>SK_cpd15302_c0</td>\n",
       "            </tr><tr>\n",
       "                <td><strong>Name</strong></td><td>Sink for glycogen(n-1)</td>\n",
       "            </tr><tr>\n",
       "                <td><strong>Memory address</strong></td>\n",
       "                <td>0x07f9cadb25410</td>\n",
       "            </tr><tr>\n",
       "                <td><strong>Stoichiometry</strong></td>\n",
       "                <td>\n",
       "                    <p style='text-align:right'>cpd15302_c0 --> </p>\n",
       "                    <p style='text-align:right'>glycogen(n-1) --> </p>\n",
       "                </td>\n",
       "            </tr><tr>\n",
       "                <td><strong>GPR</strong></td><td></td>\n",
       "            </tr><tr>\n",
       "                <td><strong>Lower bound</strong></td><td>0</td>\n",
       "            </tr><tr>\n",
       "                <td><strong>Upper bound</strong></td><td>1000</td>\n",
       "            </tr>\n",
       "        </table>\n",
       "        "
      ],
      "text/plain": [
       "<Reaction SK_cpd15302_c0 at 0x7f9cadb25410>"
      ]
     },
     "execution_count": 18,
     "metadata": {},
     "output_type": "execute_result"
    }
   ],
   "source": [
    "r"
   ]
  },
  {
   "cell_type": "code",
   "execution_count": null,
   "metadata": {},
   "outputs": [],
   "source": []
  },
  {
   "cell_type": "code",
   "execution_count": 24,
   "metadata": {},
   "outputs": [
    {
     "data": {
      "text/plain": [
       "{'c0': '', 'e0': ''}"
      ]
     },
     "execution_count": 24,
     "metadata": {},
     "output_type": "execute_result"
    }
   ],
   "source": [
    "model_modelseed.compartments"
   ]
  },
  {
   "cell_type": "code",
   "execution_count": null,
   "metadata": {},
   "outputs": [],
   "source": []
  },
  {
   "cell_type": "code",
   "execution_count": 120,
   "metadata": {},
   "outputs": [
    {
     "data": {
      "text/plain": [
       "{'id': 'rxn00646_c0',\n",
       " 'name': 'L-glutamate:L-cysteine gamma-ligase (ADP-forming)_c0',\n",
       " 'direction': '=',\n",
       " 'maxforflux': 1000,\n",
       " 'maxrevflux': 0.0,\n",
       " 'aliases': [],\n",
       " 'dblinks': {},\n",
       " 'edits': {},\n",
       " 'gapfill_data': {},\n",
       " 'modelReactionProteins': [],\n",
       " 'modelReactionReagents': [{'coefficient': -1,\n",
       "   'modelcompound_ref': '~/modelcompounds/id/cpd00023_c0'},\n",
       "  {'coefficient': -1, 'modelcompound_ref': '~/modelcompounds/id/cpd00084_c0'},\n",
       "  {'coefficient': -1, 'modelcompound_ref': '~/modelcompounds/id/cpd00002_c0'},\n",
       "  {'coefficient': 1, 'modelcompound_ref': '~/modelcompounds/id/cpd00008_c0'},\n",
       "  {'coefficient': 1, 'modelcompound_ref': '~/modelcompounds/id/cpd00009_c0'},\n",
       "  {'coefficient': 1, 'modelcompound_ref': '~/modelcompounds/id/cpd00067_c0'},\n",
       "  {'coefficient': 1, 'modelcompound_ref': '~/modelcompounds/id/cpd00506_c0'}],\n",
       " 'modelcompartment_ref': '~/modelcompartments/id/c0',\n",
       " 'numerical_attributes': {},\n",
       " 'probability': 0,\n",
       " 'protons': 0,\n",
       " 'reaction_ref': '~/template/reactions/id/rxn00646_c',\n",
       " 'string_attributes': {}}"
      ]
     },
     "execution_count": 120,
     "metadata": {},
     "output_type": "execute_result"
    }
   ],
   "source": [
    "def tt_to_json(r):\n",
    "    rev, max_flux, min_flux = r._get_rev_and_max_min_flux()\n",
    "    model_reaction_reagents = []\n",
    "    model_reaction_proteins = []\n",
    "    s = r.metabolites\n",
    "    for m in s:\n",
    "        model_reaction_reagents.append({\n",
    "            'coefficient': s[m],\n",
    "            'modelcompound_ref': '~/modelcompounds/id/' + m.id\n",
    "        })\n",
    "    return {\n",
    "        'id': r.id,\n",
    "        'name': r.name,\n",
    "        'direction': rev,\n",
    "        'maxforflux': max_flux,\n",
    "        'maxrevflux': min_flux,\n",
    "        'aliases': [],\n",
    "        'dblinks': {},\n",
    "        'edits': {},\n",
    "        'gapfill_data': {},\n",
    "        'modelReactionProteins': model_reaction_proteins,\n",
    "        'modelReactionReagents': model_reaction_reagents,\n",
    "        'modelcompartment_ref': '~/modelcompartments/id/' + r.compartment,\n",
    "        'numerical_attributes': {},\n",
    "        'probability': 0,\n",
    "        'protons': 0,\n",
    "        'reaction_ref': '~/template/reactions/id/' + r.id[:-1],\n",
    "        'string_attributes': {}\n",
    "    }\n",
    "tt_to_json(reaction)"
   ]
  },
  {
   "cell_type": "code",
   "execution_count": null,
   "metadata": {},
   "outputs": [],
   "source": []
  },
  {
   "cell_type": "code",
   "execution_count": null,
   "metadata": {},
   "outputs": [],
   "source": []
  },
  {
   "cell_type": "code",
   "execution_count": 61,
   "metadata": {},
   "outputs": [
    {
     "data": {
      "text/plain": [
       "['']"
      ]
     },
     "execution_count": 61,
     "metadata": {},
     "output_type": "execute_result"
    }
   ],
   "source": [
    "debug['template_refs']"
   ]
  },
  {
   "cell_type": "code",
   "execution_count": 70,
   "metadata": {},
   "outputs": [
    {
     "data": {
      "text/plain": [
       "[{'compartmentIndex': 0,\n",
       "  'compartment_ref': '~/template/compartments/id/c',\n",
       "  'id': 'c0',\n",
       "  'label': '',\n",
       "  'pH': 7,\n",
       "  'potential': 0}]"
      ]
     },
     "execution_count": 70,
     "metadata": {},
     "output_type": "execute_result"
    }
   ],
   "source": [
    "debug['modelcompartments']"
   ]
  },
  {
   "cell_type": "code",
   "execution_count": 20,
   "metadata": {},
   "outputs": [],
   "source": [
    "import cobra.test\n",
    "model = cobra.test.create_test_model(\"textbook\")"
   ]
  },
  {
   "cell_type": "code",
   "execution_count": 23,
   "metadata": {},
   "outputs": [],
   "source": [
    "r = model.reactions.get_by_id('ICDHyr')"
   ]
  },
  {
   "cell_type": "code",
   "execution_count": 26,
   "metadata": {},
   "outputs": [
    {
     "data": {
      "text/plain": [
       "'b1136'"
      ]
     },
     "execution_count": 26,
     "metadata": {},
     "output_type": "execute_result"
    }
   ],
   "source": [
    "r.gene_reaction_rule"
   ]
  },
  {
   "cell_type": "code",
   "execution_count": 13,
   "metadata": {},
   "outputs": [],
   "source": [
    "debug = kbase.get_object('ecoli_modelseedpy_direct', ws)"
   ]
  },
  {
   "cell_type": "code",
   "execution_count": 16,
   "metadata": {},
   "outputs": [
    {
     "name": "stdout",
     "output_type": "stream",
     "text": [
      "__VERSION__ \t[ 1 ]\n",
      "attributes \t[ {'auxotrophy': {}, 'fbas': {}, 'gene_count': 0, 'pathways': {}} ]\n",
      "biomasses \tList: 1\n",
      "contig_coverages \t[ {} ]\n",
      "delete_biomasses \t[ {} ]\n",
      "deleted_reactions \t[ {} ]\n",
      "gapfilledcandidates \tList: 0\n",
      "gapfillings \tList: 0\n",
      "gapgens \tList: 0\n",
      "id \t[ ecoli_modelseedpy_direct ]\n",
      "loops \tList: 0\n",
      "model_edits \tList: 0\n",
      "modelcompartments \tList: 2\n",
      "modelcompounds \tList: 1446\n",
      "modelreactions \tList: 1560\n",
      "name \t[ ecoli ]\n",
      "other_genome_refs \tList: 0\n",
      "quantopts \tList: 0\n",
      "source \t[ ModelSEEDpy ]\n",
      "source_id \t[ ecoli ]\n",
      "template_ref \t[ 12998/10/6 ]\n",
      "template_refs \tList: 1\n",
      "type \t[ GenomeScale ]\n"
     ]
    }
   ],
   "source": [
    "for k in debug:\n",
    "    v = debug[k]\n",
    "    if type(v) == list:\n",
    "        print(k, '\\tList:', len(v))\n",
    "    else:\n",
    "        print(k,'\\t[', v, ']')"
   ]
  },
  {
   "cell_type": "code",
   "execution_count": 15,
   "metadata": {},
   "outputs": [],
   "source": [
    "debug['template_ref'] = str(template.info)\n",
    "debug['template_refs'] = [str(template.info)]"
   ]
  },
  {
   "cell_type": "code",
   "execution_count": 17,
   "metadata": {},
   "outputs": [
    {
     "data": {
      "text/plain": [
       "[[17,\n",
       "  'ecoli_modelseedpy_direct',\n",
       "  'KBaseFBA.FBAModel-12.0',\n",
       "  '2021-06-16T10:04:26+0000',\n",
       "  8,\n",
       "  'filipeliu',\n",
       "  92991,\n",
       "  'filipeliu:narrative_1623733614496',\n",
       "  '237e105b19a24b2496f30213c8483664',\n",
       "  1569437,\n",
       "  {'Number gapgens': '0',\n",
       "   'Type': 'GenomeScale',\n",
       "   'Number gapfills': '0',\n",
       "   'Source ID': 'ecoli',\n",
       "   'Number biomasses': '1',\n",
       "   'Number compartments': '2',\n",
       "   'Source': 'ModelSEEDpy',\n",
       "   'Number compounds': '1446',\n",
       "   'Number reactions': '1560',\n",
       "   'Name': 'ecoli'}]]"
      ]
     },
     "execution_count": 17,
     "metadata": {},
     "output_type": "execute_result"
    }
   ],
   "source": [
    "kbase.save_object('ecoli_modelseedpy_direct', ws, model_kbase.info.type, debug)"
   ]
  },
  {
   "cell_type": "code",
   "execution_count": null,
   "metadata": {},
   "outputs": [],
   "source": []
  },
  {
   "cell_type": "code",
   "execution_count": 97,
   "metadata": {},
   "outputs": [],
   "source": [
    "reaction = model_modelseed.reactions[6]"
   ]
  },
  {
   "cell_type": "code",
   "execution_count": null,
   "metadata": {},
   "outputs": [],
   "source": [
    "model = kbase.get_from_ws"
   ]
  },
  {
   "cell_type": "code",
   "execution_count": 23,
   "metadata": {},
   "outputs": [],
   "source": [
    "from cobra.core import Model"
   ]
  },
  {
   "cell_type": "code",
   "execution_count": 15,
   "metadata": {},
   "outputs": [],
   "source": [
    "model1 = kbase.get_object('ecoli_modelseedpy_direct', ws)\n",
    "model2 = kbase.get_object('ecoli_kbase_classic', ws)"
   ]
  },
  {
   "cell_type": "code",
   "execution_count": 16,
   "metadata": {},
   "outputs": [],
   "source": [
    "compounds1 = dict(map(lambda x: (x['id'], x), model1['modelcompounds']))\n",
    "compounds2 = dict(map(lambda x: (x['id'], x), model2['modelcompounds']))\n",
    "reactions1 = dict(map(lambda x: (x['id'], x), model1['modelreactions']))\n",
    "reactions2 = dict(map(lambda x: (x['id'], x), model2['modelreactions']))"
   ]
  },
  {
   "cell_type": "code",
   "execution_count": 17,
   "metadata": {},
   "outputs": [],
   "source": [
    "def compare_compound(m1, m2):\n",
    "    assert m1['id'] == m2['id']\n",
    "    #assert m1['name'] == m2['name']\n",
    "    assert m1['compound_ref'] == m2['compound_ref']\n",
    "    assert m1['modelcompartment_ref'] == m2['modelcompartment_ref']\n",
    "    assert m1['formula'] == m2['formula']"
   ]
  },
  {
   "cell_type": "code",
   "execution_count": 18,
   "metadata": {},
   "outputs": [
    {
     "name": "stdout",
     "output_type": "stream",
     "text": [
      "cpd00215_e0 Pyridoxal_e0\n",
      "cpd00218_e0 Niacin_e0\n",
      "cpd00220_e0 Riboflavin_e0\n",
      "cpd00017_e0 S-Adenosyl-L-methionine_e0\n",
      "cpd00393_e0 Folate_e0\n",
      "cpd00084_e0 L-Cysteine_e0\n",
      "cpd00104_e0 BIOT_e0\n"
     ]
    }
   ],
   "source": [
    "\n",
    "for m1 in compounds1:\n",
    "    if m1 in compounds2:\n",
    "        compare_compound(compounds1[m1], compounds2[m1])\n",
    "    else:\n",
    "        print(m1)\n",
    "for m2 in compounds2:\n",
    "    if m2 not in compounds1:\n",
    "        print(m2, compounds2[m2]['name'])"
   ]
  },
  {
   "cell_type": "code",
   "execution_count": 31,
   "metadata": {},
   "outputs": [],
   "source": [
    "from cobrakbase.core.kbasefba.fbamodel_from_cobra import CobraModelConverter\n",
    "model_modelseed_json, model_modelseed_fbamodel = CobraModelConverter(model_modelseed, None, None).build()"
   ]
  },
  {
   "cell_type": "code",
   "execution_count": 35,
   "metadata": {},
   "outputs": [
    {
     "data": {
      "text/plain": [
       "{'id': 'rxn08502_e0',\n",
       " 'name': 'enterobactin Fe(III) binding (spontaneous)_c0',\n",
       " 'direction': '=',\n",
       " 'maxforflux': 1000,\n",
       " 'maxrevflux': 0.0,\n",
       " 'aliases': [],\n",
       " 'dblinks': {},\n",
       " 'edits': {},\n",
       " 'gapfill_data': {},\n",
       " 'modelReactionProteins': [],\n",
       " 'modelReactionReagents': [{'modelcompound_ref': '~/modelcompounds/id/cpd03726_e0',\n",
       "   'coefficient': 1.0},\n",
       "  {'modelcompound_ref': '~/modelcompounds/id/cpd03453_e0',\n",
       "   'coefficient': -1.0},\n",
       "  {'modelcompound_ref': '~/modelcompounds/id/cpd10516_e0',\n",
       "   'coefficient': -1.0}],\n",
       " 'modelcompartment_ref': '~/modelcompartments/id/c0',\n",
       " 'numerical_attributes': {},\n",
       " 'probability': 0,\n",
       " 'protons': 0,\n",
       " 'reaction_ref': '~/template/reactions/id/rxn08502_e',\n",
       " 'string_attributes': {}}"
      ]
     },
     "execution_count": 35,
     "metadata": {},
     "output_type": "execute_result"
    }
   ],
   "source": [
    "model_modelseed_fbamodel.reactions.rxn08502_e0._to_json()"
   ]
  },
  {
   "cell_type": "code",
   "execution_count": 41,
   "metadata": {},
   "outputs": [
    {
     "data": {
      "text/plain": [
       "'k0'"
      ]
     },
     "execution_count": 41,
     "metadata": {},
     "output_type": "execute_result"
    }
   ],
   "source": []
  },
  {
   "cell_type": "code",
   "execution_count": 37,
   "metadata": {},
   "outputs": [],
   "source": [
    "r = model_modelseed.reactions.rxn13783_c0"
   ]
  },
  {
   "cell_type": "code",
   "execution_count": 38,
   "metadata": {},
   "outputs": [
    {
     "data": {
      "text/html": [
       "\n",
       "        <table>\n",
       "            <tr>\n",
       "                <td><strong>Reaction identifier</strong></td><td>rxn13783_c0</td>\n",
       "            </tr><tr>\n",
       "                <td><strong>Name</strong></td><td>DNA replication_c0</td>\n",
       "            </tr><tr>\n",
       "                <td><strong>Memory address</strong></td>\n",
       "                <td>0x07fb9fa7d9710</td>\n",
       "            </tr><tr>\n",
       "                <td><strong>Stoichiometry</strong></td>\n",
       "                <td>\n",
       "                    <p style='text-align:right'> --> cpd17042_c0</p>\n",
       "                    <p style='text-align:right'> --> DNA replication</p>\n",
       "                </td>\n",
       "            </tr><tr>\n",
       "                <td><strong>GPR</strong></td><td>(b4059) or (b0060) or (b2231) or (b3699) or (b1274) or (b0215) or (b4259) or (b3066) or (b3935) o...</td>\n",
       "            </tr><tr>\n",
       "                <td><strong>Lower bound</strong></td><td>0</td>\n",
       "            </tr><tr>\n",
       "                <td><strong>Upper bound</strong></td><td>1000</td>\n",
       "            </tr>\n",
       "        </table>\n",
       "        "
      ],
      "text/plain": [
       "<Reaction rxn13783_c0 at 0x7fb9fa7d9710>"
      ]
     },
     "execution_count": 38,
     "metadata": {},
     "output_type": "execute_result"
    }
   ],
   "source": [
    "r"
   ]
  },
  {
   "cell_type": "code",
   "execution_count": 24,
   "metadata": {},
   "outputs": [
    {
     "data": {
      "text/plain": [
       "{'aliases': [],\n",
       " 'coverage': 0,\n",
       " 'dblinks': {},\n",
       " 'direction': '>',\n",
       " 'edits': {},\n",
       " 'gapfill_data': {},\n",
       " 'gene_count': 0,\n",
       " 'id': 'rxn08502_e0',\n",
       " 'maxforflux': 1000000,\n",
       " 'maxrevflux': 1000000,\n",
       " 'modelReactionProteins': [{'complex_ref': '',\n",
       "   'modelReactionProteinSubunits': [],\n",
       "   'note': 'spontaneous',\n",
       "   'source': ''}],\n",
       " 'modelReactionReagents': [{'coefficient': -1,\n",
       "   'modelcompound_ref': '~/modelcompounds/id/cpd03453_e0'},\n",
       "  {'coefficient': -1, 'modelcompound_ref': '~/modelcompounds/id/cpd10516_e0'},\n",
       "  {'coefficient': 1, 'modelcompound_ref': '~/modelcompounds/id/cpd03726_e0'}],\n",
       " 'modelcompartment_ref': '~/modelcompartments/id/e0',\n",
       " 'name': 'enterobactin Fe(III) binding (spontaneous)_e0',\n",
       " 'numerical_attributes': {},\n",
       " 'probability': 1,\n",
       " 'protons': 0,\n",
       " 'reaction_ref': '~/template/reactions/id/rxn08502_e',\n",
       " 'string_attributes': {}}"
      ]
     },
     "execution_count": 24,
     "metadata": {},
     "output_type": "execute_result"
    }
   ],
   "source": [
    "reactions2[r1]"
   ]
  },
  {
   "cell_type": "code",
   "execution_count": null,
   "metadata": {},
   "outputs": [],
   "source": []
  },
  {
   "cell_type": "code",
   "execution_count": 19,
   "metadata": {},
   "outputs": [
    {
     "ename": "NameError",
     "evalue": "name 'r1' is not defined",
     "output_type": "error",
     "traceback": [
      "\u001b[0;31m---------------------------------------------------------------------------\u001b[0m",
      "\u001b[0;31mNameError\u001b[0m                                 Traceback (most recent call last)",
      "\u001b[0;32m<ipython-input-19-d773ab81ed67>\u001b[0m in \u001b[0;36m<module>\u001b[0;34m\u001b[0m\n\u001b[1;32m     19\u001b[0m \u001b[0;34m\u001b[0m\u001b[0m\n\u001b[1;32m     20\u001b[0m \u001b[0;34m\u001b[0m\u001b[0m\n\u001b[0;32m---> 21\u001b[0;31m \u001b[0massert_reaction\u001b[0m\u001b[0;34m(\u001b[0m\u001b[0mreactions1\u001b[0m\u001b[0;34m[\u001b[0m\u001b[0mr1\u001b[0m\u001b[0;34m]\u001b[0m\u001b[0;34m,\u001b[0m \u001b[0mreactions2\u001b[0m\u001b[0;34m[\u001b[0m\u001b[0mr1\u001b[0m\u001b[0;34m]\u001b[0m\u001b[0;34m)\u001b[0m\u001b[0;34m\u001b[0m\u001b[0;34m\u001b[0m\u001b[0m\n\u001b[0m",
      "\u001b[0;31mNameError\u001b[0m: name 'r1' is not defined"
     ]
    }
   ],
   "source": [
    "def assert_reaction(r1, r2):\n",
    "    s1 = dict(map(lambda x: (x['modelcompound_ref'], x['coefficient']), r1['modelReactionReagents']))\n",
    "    s2 = dict(map(lambda x: (x['modelcompound_ref'], x['coefficient']), r2['modelReactionReagents']))\n",
    "    \n",
    "    assert r1['id'] == r2['id']\n",
    "    assert s1 == s2\n",
    "    assert r1['direction'] == r2['direction']\n",
    "    assert r1['reaction_ref'] == r2['reaction_ref']\n",
    "    assert r1['modelcompartment_ref'] == r2['modelcompartment_ref']\n",
    "    #print(r1['probability'])\n",
    "    #print(r2['probability'])\n",
    "    #print(r1['modelReactionProteins'])\n",
    "    #print(r2['modelReactionProteins'])\n",
    "    #print(r2)\n",
    "    #print(r1)\n",
    "    #print(r1['name'])\n",
    "    #print(r2['name'])\n",
    "    #assert r1['name'] == r2['name']\n",
    "    \n",
    "\n",
    "assert_reaction(reactions1[r1], reactions2[r1])"
   ]
  },
  {
   "cell_type": "code",
   "execution_count": 26,
   "metadata": {},
   "outputs": [],
   "source": [
    "trxn = template.reactions.get_by_id('rxn05310_c')"
   ]
  },
  {
   "cell_type": "code",
   "execution_count": 31,
   "metadata": {},
   "outputs": [],
   "source": [
    "#trxn"
   ]
  },
  {
   "cell_type": "code",
   "execution_count": 21,
   "metadata": {},
   "outputs": [
    {
     "data": {
      "text/plain": [
       "{'aliases': [],\n",
       " 'dblinks': {},\n",
       " 'direction': '=',\n",
       " 'edits': {},\n",
       " 'gapfill_data': {},\n",
       " 'id': 'rxn05310_c0',\n",
       " 'maxforflux': 1000000,\n",
       " 'maxrevflux': 1000000,\n",
       " 'modelReactionProteins': [],\n",
       " 'modelReactionReagents': [{'coefficient': 1,\n",
       "   'modelcompound_ref': '~/modelcompounds/id/cpd00218_c0'},\n",
       "  {'coefficient': -1, 'modelcompound_ref': '~/modelcompounds/id/cpd00218_e0'}],\n",
       " 'modelcompartment_ref': '~/modelcompartments/id/c0',\n",
       " 'name': 'Nicotinate transport (Plasma membrane)_c0',\n",
       " 'numerical_attributes': {},\n",
       " 'probability': 0,\n",
       " 'protons': 0,\n",
       " 'reaction_ref': '~/template/reactions/id/rxn05310_c',\n",
       " 'string_attributes': {}}"
      ]
     },
     "execution_count": 21,
     "metadata": {},
     "output_type": "execute_result"
    }
   ],
   "source": [
    "reactions2['rxn05310_c0']"
   ]
  },
  {
   "cell_type": "code",
   "execution_count": 20,
   "metadata": {},
   "outputs": [
    {
     "name": "stdout",
     "output_type": "stream",
     "text": [
      "rxn03038_c0 R04376_c0\n",
      "rxn04603_c0 R06788_c0\n",
      "rxn05299_c0 TRANS-RXNBWI-115637.ce.maizeexp.HIS_c0\n",
      "rxn05244_c0 TRANS-RXNBWI-115637.ce.maizeexp.ILE_c0\n",
      "rxn12666_c0 Pyridoxal transport_c0\n",
      "rxn05308_c0 Pantothenate reversible transport via proton symport_c0\n",
      "rxn05305_c0 L-lysine transport out via proton antiport reversible_c0\n",
      "rxn09672_c0 TRANS-RXNBWI-115637.ce.maizeexp.MET_c0\n",
      "rxn00068_c0 Fe2+:NAD+ oxidoreductase_c0\n",
      "rxn05310_c0 Nicotinate transport (Plasma membrane)_c0\n",
      "rxn05243_c0 TRANS-RXNBWI-115637.ce.maizeexp.LEU_c0\n",
      "rxn05645_c0 riboflavin transport in via proton symport_c0\n",
      "rxn09678_c0 TRANS-RXNBWI-115637.ce.maizeexp.GLN_c0\n",
      "rxn09696_c0 S-adenosylmethionine permease SAM3_c0\n",
      "rxn05255_c0 folate transport via proton simport_c0\n",
      "rxn05303_c0 TRANS-RXNBWI-115637.ce.maizeexp.ARG_c0\n",
      "rxn05669_c0 TRANS-RXNBWI-115637.ce.maizeexp.VAL_c0\n",
      "rxn09657_c0 Thiamine transporter_c0\n",
      "rxn09690_c0 TRANS-RXNBWI-115637.ce.maizeexp.CYS_c0\n",
      "rxn09693_c0 Biotin uptake_c0\n"
     ]
    }
   ],
   "source": [
    "for r1 in reactions1:\n",
    "    if r1 in reactions2:\n",
    "        assert_reaction(reactions1[r1], reactions2[r1])\n",
    "    else:\n",
    "        print(r1, reactions1[r1]['name'])\n",
    "for r2 in reactions2:\n",
    "    if r2 not in reactions1:\n",
    "        print(r2, reactions2[r2]['name'])"
   ]
  },
  {
   "cell_type": "code",
   "execution_count": 24,
   "metadata": {},
   "outputs": [
    {
     "data": {
      "text/plain": [
       "1561"
      ]
     },
     "execution_count": 24,
     "metadata": {},
     "output_type": "execute_result"
    }
   ],
   "source": [
    "len(model1['modelreactions'])"
   ]
  },
  {
   "cell_type": "code",
   "execution_count": 25,
   "metadata": {},
   "outputs": [
    {
     "data": {
      "text/plain": [
       "1580"
      ]
     },
     "execution_count": 25,
     "metadata": {},
     "output_type": "execute_result"
    }
   ],
   "source": [
    "len(model2['modelreactions'])"
   ]
  },
  {
   "cell_type": "code",
   "execution_count": 26,
   "metadata": {},
   "outputs": [
    {
     "data": {
      "text/plain": [
       "1448"
      ]
     },
     "execution_count": 26,
     "metadata": {},
     "output_type": "execute_result"
    }
   ],
   "source": [
    "len(model1['modelcompounds'])"
   ]
  },
  {
   "cell_type": "code",
   "execution_count": 27,
   "metadata": {},
   "outputs": [
    {
     "data": {
      "text/plain": [
       "1455"
      ]
     },
     "execution_count": 27,
     "metadata": {},
     "output_type": "execute_result"
    }
   ],
   "source": [
    "len(model2['modelcompounds'])"
   ]
  },
  {
   "cell_type": "code",
   "execution_count": 42,
   "metadata": {},
   "outputs": [],
   "source": [
    "genome = kbase.get_from_ws('ecoli_genome.rast', ws)"
   ]
  },
  {
   "cell_type": "code",
   "execution_count": 43,
   "metadata": {},
   "outputs": [],
   "source": [
    "ecoli_genome_rast_annotation = {}\n",
    "for feature in genome.features:\n",
    "    ecoli_genome_rast_annotation[feature.id] = list(feature.functions)\n",
    "with open('ecoli_genome_rast_annotation.json', 'w') as fh:\n",
    "    fh.write(json.dumps(ecoli_genome_rast_annotation))"
   ]
  },
  {
   "cell_type": "code",
   "execution_count": 39,
   "metadata": {},
   "outputs": [],
   "source": [
    "import logging\n",
    "logger = logging.getLogger(__name__)"
   ]
  },
  {
   "cell_type": "code",
   "execution_count": 22,
   "metadata": {},
   "outputs": [
    {
     "data": {
      "text/plain": [
       "'c'"
      ]
     },
     "execution_count": 22,
     "metadata": {},
     "output_type": "execute_result"
    }
   ],
   "source": [
    "aa = \"rxn11111_c\"\n",
    "aa[-1]"
   ]
  },
  {
   "cell_type": "code",
   "execution_count": 32,
   "metadata": {},
   "outputs": [],
   "source": [
    "from modelseedpy.core.msbuilder import aaaa"
   ]
  },
  {
   "cell_type": "code",
   "execution_count": 36,
   "metadata": {},
   "outputs": [],
   "source": [
    "from modelseedpy.core.msgenome import normalize_role\n",
    "def aaaa(genome):\n",
    "    search_name_to_genes = {}\n",
    "    search_name_to_orginal = {}\n",
    "    for f in genome.features:\n",
    "        if 'RAST' in f.ontology_terms:\n",
    "            functions = f.ontology_terms['RAST']\n",
    "            for function in functions:\n",
    "                f_norm = normalize_role(function)\n",
    "                if f_norm not in search_name_to_genes:\n",
    "                    search_name_to_genes[f_norm] = set()\n",
    "                    search_name_to_orginal[f_norm] = set()\n",
    "                search_name_to_orginal[f_norm].add(function)\n",
    "                search_name_to_genes[f_norm].add(f.id)\n",
    "    return search_name_to_genes, search_name_to_orginal\n",
    "\n",
    "\n"
   ]
  },
  {
   "cell_type": "code",
   "execution_count": 37,
   "metadata": {},
   "outputs": [],
   "source": [
    "search_name_to_genes, search_name_to_orginal = aaaa(genome)"
   ]
  },
  {
   "cell_type": "code",
   "execution_count": 44,
   "metadata": {},
   "outputs": [],
   "source": [
    "rxn_roles = {}\n",
    "roles = dict(map(lambda x: (x['id'], x), template.roles))\n",
    "for r in template.reactions:\n",
    "    rxn_roles[r.id] = set()"
   ]
  },
  {
   "cell_type": "code",
   "execution_count": 103,
   "metadata": {},
   "outputs": [
    {
     "name": "stdout",
     "output_type": "stream",
     "text": [
      "rxn00148_c: cpd00002_c [c] + cpd00020_c [c] --> cpd00008_c [c] + cpd00061_c [c] + cpd00067_c [c]\n"
     ]
    }
   ],
   "source": [
    "template_reaction = template.reactions.get_by_id('rxn00148_c')\n",
    "template_reaction['templatecomplex_refs']\n",
    "print(template_reaction)"
   ]
  },
  {
   "cell_type": "code",
   "execution_count": 66,
   "metadata": {},
   "outputs": [
    {
     "data": {
      "text/plain": [
       "\u001b[0;31mType:\u001b[0m        AttrDict\n",
       "\u001b[0;31mString form:\u001b[0m {'complexroles': [{'optional_role': 0, 'templaterole_ref': '~/roles/id/ftr01381', 'triggering': 1 <...> nfidence': 1, 'id': 'cpx01814', 'name': 'mscpx.1814', 'reference': 'null', 'source': 'ModelSEED'}\n",
       "\u001b[0;31mLength:\u001b[0m      6\n",
       "\u001b[0;31mFile:\u001b[0m        /usr/local/lib/python3.8/site-packages/cobrakbase/core/kbaseobject.py\n",
       "\u001b[0;31mDocstring:\u001b[0m   Base object to use for subobjects in KBase objects\n"
      ]
     },
     "metadata": {},
     "output_type": "display_data"
    }
   ],
   "source": [
    "?cpx"
   ]
  },
  {
   "cell_type": "code",
   "execution_count": 162,
   "metadata": {},
   "outputs": [],
   "source": []
  },
  {
   "cell_type": "code",
   "execution_count": 285,
   "metadata": {},
   "outputs": [],
   "source": []
  },
  {
   "cell_type": "code",
   "execution_count": null,
   "metadata": {},
   "outputs": [],
   "source": []
  },
  {
   "cell_type": "code",
   "execution_count": null,
   "metadata": {},
   "outputs": [],
   "source": []
  },
  {
   "cell_type": "code",
   "execution_count": 81,
   "metadata": {},
   "outputs": [
    {
     "data": {
      "text/plain": [
       "{'rxn00154_c': {'cpx01524': {'ftr01383': ['dihydrolipoamidedehydrogenaseofpyruvatedehydrogenasecomplexec1814',\n",
       "    True,\n",
       "    False,\n",
       "    set()]}}}"
      ]
     },
     "execution_count": 81,
     "metadata": {},
     "output_type": "execute_result"
    }
   ],
   "source": [
    "# rxn_id -> cpx_id -> role_id -> [normalized_function: str, triggering: bool, optional_role: bool, match_genes: set]\n",
    "match_complex = {\n",
    "    'rxn00154_c': {\n",
    "        'cpx01524': {\n",
    "            'ftr01383': [normalize_role('Dihydrolipoamide dehydrogenase of pyruvate dehydrogenase complex (EC 1.8.1.4)'), True, False, set()]\n",
    "        }\n",
    "    }\n",
    "}\n",
    "match_complex"
   ]
  },
  {
   "cell_type": "code",
   "execution_count": null,
   "metadata": {},
   "outputs": [],
   "source": []
  },
  {
   "cell_type": "code",
   "execution_count": 102,
   "metadata": {},
   "outputs": [
    {
     "name": "stdout",
     "output_type": "stream",
     "text": [
      "b1854 {'RAST': ['Pyruvate kinase (EC 2.7.1.40)']}\n",
      "b1676 {'RAST': ['Pyruvate kinase (EC 2.7.1.40)']}\n",
      "b0723 {'RAST': ['Succinate dehydrogenase flavoprotein subunit (EC 1.3.5.1)']}\n",
      "b0724 {'RAST': ['Succinate dehydrogenase iron-sulfur protein (EC 1.3.5.1)']}\n"
     ]
    }
   ],
   "source": [
    "for k in ['b1854', 'b1676', 'b0723', 'b0724']:\n",
    "    print(k, genome.features.get_by_id(k).ontology_terms)"
   ]
  },
  {
   "cell_type": "code",
   "execution_count": 148,
   "metadata": {},
   "outputs": [],
   "source": []
  },
  {
   "cell_type": "code",
   "execution_count": null,
   "metadata": {},
   "outputs": [],
   "source": []
  },
  {
   "cell_type": "code",
   "execution_count": 168,
   "metadata": {},
   "outputs": [
    {
     "data": {
      "text/plain": [
       "[{'complex_ref': '~/template/complexes/name/cpx00108',\n",
       "  'modelReactionProteinSubunits': [{'feature_refs': ['~/genome/features/id/b4151'],\n",
       "    'note': '',\n",
       "    'optionalSubunit': 0,\n",
       "    'role': 'ftr07617',\n",
       "    'triggering': 1},\n",
       "   {'feature_refs': ['~/genome/features/id/b0722'],\n",
       "    'note': '',\n",
       "    'optionalSubunit': 0,\n",
       "    'role': 'ftr09157',\n",
       "    'triggering': 1},\n",
       "   {'feature_refs': ['~/genome/features/id/b0721'],\n",
       "    'note': '',\n",
       "    'optionalSubunit': 0,\n",
       "    'role': 'ftr09156',\n",
       "    'triggering': 1},\n",
       "   {'feature_refs': ['~/genome/features/id/b4152'],\n",
       "    'note': '',\n",
       "    'optionalSubunit': 0,\n",
       "    'role': 'ftr07616',\n",
       "    'triggering': 1}],\n",
       "  'note': '',\n",
       "  'source': ''}]"
      ]
     },
     "execution_count": 168,
     "metadata": {},
     "output_type": "execute_result"
    }
   ],
   "source": [
    "mrp0 = {\n",
    "    'complex_ref': '~/template/complexes/name/cpx00108',\n",
    "    'modelReactionProteinSubunits': [\n",
    "        {'feature_refs': ['~/genome/features/id/b4151'], 'note': '', 'optionalSubunit': 0, 'role': 'ftr07617', 'triggering': 1},\n",
    "        {'feature_refs': ['~/genome/features/id/b0722'], 'note': '', 'optionalSubunit': 0, 'role': 'ftr09157', 'triggering': 1},\n",
    "        {'feature_refs': ['~/genome/features/id/b0721'], 'note': '', 'optionalSubunit': 0, 'role': 'ftr09156', 'triggering': 1},\n",
    "        {'feature_refs': ['~/genome/features/id/b4152'], 'note': '', 'optionalSubunit': 0, 'role': 'ftr07616', 'triggering': 1}\n",
    "    ],\n",
    "   'note': '',\n",
    "   'source': ''}\n",
    "mrps = [\n",
    "    mrp0\n",
    "]\n",
    "mrps"
   ]
  },
  {
   "cell_type": "code",
   "execution_count": 166,
   "metadata": {
    "collapsed": true,
    "jupyter": {
     "outputs_hidden": true
    },
    "tags": []
   },
   "outputs": [
    {
     "name": "stdout",
     "output_type": "stream",
     "text": [
      "['~/complexes/id/cpx00107', '~/complexes/id/cpx00108', '~/complexes/id/cpx00109', '~/complexes/id/tcpx00642', '~/complexes/id/tcpx00643', '~/complexes/id/tcpx00644', '~/complexes/id/tcpx00645', '~/complexes/id/tcpx00646', '~/complexes/id/cpx00272', '~/complexes/id/tcpx00647']\n"
     ]
    },
    {
     "data": {
      "text/plain": [
       "([{'complex_ref': '~/template/complexes/name/cpx00108',\n",
       "   'modelReactionProteinSubunits': [{'feature_refs': ['~/genome/features/id/b4151'],\n",
       "     'note': '',\n",
       "     'optionalSubunit': 0,\n",
       "     'role': 'ftr07617',\n",
       "     'triggering': 1},\n",
       "    {'feature_refs': ['~/genome/features/id/b0722'],\n",
       "     'note': '',\n",
       "     'optionalSubunit': 0,\n",
       "     'role': 'ftr09157',\n",
       "     'triggering': 1},\n",
       "    {'feature_refs': ['~/genome/features/id/b0721'],\n",
       "     'note': '',\n",
       "     'optionalSubunit': 0,\n",
       "     'role': 'ftr09156',\n",
       "     'triggering': 1},\n",
       "    {'feature_refs': ['~/genome/features/id/b4152'],\n",
       "     'note': '',\n",
       "     'optionalSubunit': 0,\n",
       "     'role': 'ftr07616',\n",
       "     'triggering': 1}],\n",
       "   'note': '',\n",
       "   'source': ''},\n",
       "  {'complex_ref': '~/template/complexes/name/tcpx00642',\n",
       "   'modelReactionProteinSubunits': [{'feature_refs': ['~/genome/features/id/b0724'],\n",
       "     'note': '',\n",
       "     'optionalSubunit': 0,\n",
       "     'role': 'tftr00456',\n",
       "     'triggering': 1}],\n",
       "   'note': '',\n",
       "   'source': ''},\n",
       "  {'complex_ref': '~/template/complexes/name/tcpx00643',\n",
       "   'modelReactionProteinSubunits': [{'feature_refs': ['~/genome/features/id/b0723'],\n",
       "     'note': '',\n",
       "     'optionalSubunit': 0,\n",
       "     'role': 'tftr00196',\n",
       "     'triggering': 1}],\n",
       "   'note': '',\n",
       "   'source': ''},\n",
       "  {'complex_ref': '~/template/complexes/name/tcpx00644',\n",
       "   'modelReactionProteinSubunits': [{'feature_refs': ['~/genome/features/id/b4153'],\n",
       "     'note': '',\n",
       "     'optionalSubunit': 0,\n",
       "     'role': 'tftr00225',\n",
       "     'triggering': 1}],\n",
       "   'note': '',\n",
       "   'source': ''},\n",
       "  {'complex_ref': '~/template/complexes/name/tcpx00646',\n",
       "   'modelReactionProteinSubunits': [{'feature_refs': ['~/genome/features/id/b4154'],\n",
       "     'note': '',\n",
       "     'optionalSubunit': 0,\n",
       "     'role': 'tftr00207',\n",
       "     'triggering': 1}],\n",
       "   'note': '',\n",
       "   'source': ''}],\n",
       " {'tcpx00645': {'tftr00654': ['succinatedehydrogenasemembranesubunitputative',\n",
       "    True,\n",
       "    False,\n",
       "    set()]},\n",
       "  'cpx00109': {'ftr02413': ['succinatedehydrogenaseflavoproteinsubunitec13991',\n",
       "    True,\n",
       "    False,\n",
       "    set()],\n",
       "   'ftr01616': ['succinatedehydrogenaseironsulfurproteinec13991',\n",
       "    True,\n",
       "    False,\n",
       "    set()]},\n",
       "  'tcpx00647': {'tftr00006': ['putativesuccinatedehydrogenasesubunit',\n",
       "    True,\n",
       "    False,\n",
       "    set()]},\n",
       "  'cpx00107': {'ftr02413': ['succinatedehydrogenaseflavoproteinsubunitec13991',\n",
       "    True,\n",
       "    False,\n",
       "    set()]},\n",
       "  'tcpx00646': {'tftr00207': ['fumaratereductaseflavoproteinsubunitec1354',\n",
       "    True,\n",
       "    False,\n",
       "    set()]},\n",
       "  'cpx00108': {'ftr09165': ['fumaratereductaseflavoproteinsubunitec13991',\n",
       "    True,\n",
       "    False,\n",
       "    set()],\n",
       "   'ftr07617': ['fumaratereductasesubunitd', True, False, set()],\n",
       "   'ftr09157': ['succinatedehydrogenasehydrophobicmembraneanchorprotein',\n",
       "    True,\n",
       "    False,\n",
       "    set()],\n",
       "   'ftr02412': ['succinatedehydrogenasecytochromeb558subunit',\n",
       "    True,\n",
       "    False,\n",
       "    set()],\n",
       "   'ftr09156': ['succinatedehydrogenasecytochromeb556subunit',\n",
       "    True,\n",
       "    False,\n",
       "    set()],\n",
       "   'ftr07616': ['fumaratereductasesubunitc', True, False, set()]},\n",
       "  'cpx00272': {'ftr09158': ['succinatedehydrogenasecytochromebsubunit',\n",
       "    True,\n",
       "    False,\n",
       "    set()]},\n",
       "  'tcpx00644': {'tftr00225': ['fumaratereductaseironsulfurproteinec1354',\n",
       "    True,\n",
       "    False,\n",
       "    set()]},\n",
       "  'tcpx00643': {'tftr00196': ['succinatedehydrogenaseflavoproteinsubunitec1351',\n",
       "    True,\n",
       "    False,\n",
       "    set()]},\n",
       "  'tcpx00642': {'tftr00456': ['succinatedehydrogenaseironsulfurproteinec1351',\n",
       "    True,\n",
       "    False,\n",
       "    set()]}})"
      ]
     },
     "execution_count": 166,
     "metadata": {},
     "output_type": "execute_result"
    }
   ],
   "source": [
    "template_reaction = template.reactions.get_by_id('rxn09272_c')\n",
    "print(template_reaction['templatecomplex_refs'])\n",
    "template_reaction_complexes = get_template_reaction_complexes(template_reaction)\n",
    "list(filter(lambda x: x['id'] == 'rxn09272_c0', model_kbase_json['modelreactions']))[0]['modelReactionProteins'], template_reaction_complexes"
   ]
  },
  {
   "cell_type": "code",
   "execution_count": 180,
   "metadata": {},
   "outputs": [],
   "source": []
  },
  {
   "cell_type": "code",
   "execution_count": 284,
   "metadata": {},
   "outputs": [],
   "source": [
    "#match_complex['rxn09272_c']"
   ]
  },
  {
   "cell_type": "code",
   "execution_count": 189,
   "metadata": {},
   "outputs": [],
   "source": [
    "import logging\n",
    "logger = logging.getLogger(__name__)"
   ]
  },
  {
   "cell_type": "code",
   "execution_count": 175,
   "metadata": {},
   "outputs": [],
   "source": []
  },
  {
   "cell_type": "code",
   "execution_count": 278,
   "metadata": {},
   "outputs": [
    {
     "name": "stderr",
     "output_type": "stream",
     "text": [
      "WARNING:__main__:sdh maps to {'sdhC', 'sdhB', 'sdhD', 'sdhA'} and complete: False\n",
      "WARNING:__main__:pyk maps to {'pykAF'} and complete: True\n",
      "WARNING:__main__:xxx maps to set() and complete: False\n"
     ]
    },
    {
     "name": "stdout",
     "output_type": "stream",
     "text": [
      "{'sdhC': {'b0721'}, 'sdhD': {'b0722'}, 'sdhA': {'b0723'}, 'sdhB': {'b0724'}}\n",
      "{'pykAF': {'b1854', 'b1676'}}\n"
     ]
    },
    {
     "data": {
      "text/plain": [
       "{'rxn09272_c': {'sdh': [{'b0721': 'sdhC',\n",
       "    'b0722': 'sdhD',\n",
       "    'b0723': 'sdhA',\n",
       "    'b0724': 'sdhB'}]},\n",
       " 'rxn00148_c': {'pyk': [{'b1854': 'pykAF'}, {'b1676': 'pykAF'}]}}"
      ]
     },
     "execution_count": 278,
     "metadata": {},
     "output_type": "execute_result"
    }
   ],
   "source": [
    "match_complex = {\n",
    "    'rxn09272_c': {\n",
    "        'sdh': {\n",
    "            'sdhC': [normalize_role('Succinate dehydrogenase cytochrome b-556 subunit'), True, False, set()],\n",
    "            'sdhD': [normalize_role('Succinate dehydrogenase hydrophobic membrane anchor protein'), True, False, set()],\n",
    "            'sdhA': [normalize_role('Succinate dehydrogenase flavoprotein subunit (EC 1.3.5.1)'), True, False, set()],\n",
    "            'sdhB': [normalize_role('Succinate dehydrogenase iron-sulfur protein (EC 1.3.5.1)'), True, False, set()],\n",
    "            'sdhZ': [normalize_role('Succinate dehydrogenase iron-sulfur protein (zzzzzzzzzz)'), True, False, set()],\n",
    "        }\n",
    "    },\n",
    "    'rxn00148_c': {\n",
    "        'pyk': {\n",
    "            'pykAF': [normalize_role('Pyruvate kinase (EC 2.7.1.40)'), True, False, set()]\n",
    "        }\n",
    "    },\n",
    "    'not_found': {\n",
    "        'xxx': {\n",
    "            'xxxABC': [normalize_role('this role should not be mapped'), True, False, set()],\n",
    "        }\n",
    "    },\n",
    "}\n",
    "\n",
    "\n",
    "def build_reaction_complex_gpr_sets(match_complex, search_name_to_genes, search_name_to_orginal, allow_incomplete_complexes=True):\n",
    "    metabolic_reactions_2 = {}\n",
    "    for rxn_id in match_complex:\n",
    "        complexes = {}\n",
    "        for cpx_id in match_complex[rxn_id]:\n",
    "            complete = True\n",
    "            roles = set()\n",
    "            role_genes = {}\n",
    "            for role_id in match_complex[rxn_id][cpx_id]:\n",
    "                t = match_complex[rxn_id][cpx_id][role_id]\n",
    "                complete &= len(t[3]) > 0 or not t[1] or t[2] # true if has genes or is not triggering or is optional\n",
    "                #print(t[3])\n",
    "                if len(t[3]) > 0:\n",
    "                    roles.add(role_id)\n",
    "                    role_genes[role_id] = t[3]\n",
    "                #print(t)\n",
    "            # it is never complete if has no genes, only needed if assuming a complex can have all roles be either non triggering or optional\n",
    "            logger.warning('%s maps to %s and complete: %s', cpx_id, roles, complete)\n",
    "            if len(roles) > 0 and (allow_incomplete_complexes or complete):\n",
    "                if rxn_id not in metabolic_reactions_2:\n",
    "                    metabolic_reactions_2[rxn_id] = {}\n",
    "                ll = []\n",
    "                for role_id in role_genes:\n",
    "                    role_gene_set = []\n",
    "                    for gene_id in role_genes[role_id]:\n",
    "                        role_gene_set.append({gene_id: role_id})\n",
    "                    ll.append(role_gene_set)\n",
    "                print(role_genes)\n",
    "                metabolic_reactions_2[rxn_id][cpx_id] = list(map(lambda x: dict(map(lambda o: list(o.items())[0], x)), itertools.product(*ll)))\n",
    "    return metabolic_reactions_2\n",
    "                \n",
    "map_genes(match_complex, search_name_to_genes, search_name_to_orginal)\n",
    "mr = build_reaction_complex_gpr_sets(match_complex, search_name_to_genes, search_name_to_orginal, True)\n",
    "mr"
   ]
  },
  {
   "cell_type": "code",
   "execution_count": null,
   "metadata": {},
   "outputs": [],
   "source": [
    "match_complex = {}\n",
    "for template_reaction in template.reactions:\n",
    "    template_reaction_complexes = get_template_reaction_complexes(template_reaction)\n",
    "\n",
    "    if len(template_reaction_complexes) > 0:\n",
    "        match_complex[template_reaction.id] = template_reaction_complexes"
   ]
  },
  {
   "cell_type": "code",
   "execution_count": 292,
   "metadata": {},
   "outputs": [],
   "source": [
    "def map_genes(match_complex, search_name_to_genes, search_name_to_orginal):\n",
    "    metabolic_reactions_2 = {}\n",
    "    for rxn_id in match_complex:\n",
    "        for cpx_id in match_complex[rxn_id]:\n",
    "            for role_id in match_complex[rxn_id][cpx_id]:\n",
    "                t = match_complex[rxn_id][cpx_id][role_id]\n",
    "                if t[0] in search_name_to_genes:\n",
    "                    t[3] |= search_name_to_genes[t[0]]\n",
    "                    \n",
    "\n",
    "map_genes(match_complex, search_name_to_genes, search_name_to_orginal)"
   ]
  },
  {
   "cell_type": "code",
   "execution_count": 310,
   "metadata": {},
   "outputs": [
    {
     "name": "stdout",
     "output_type": "stream",
     "text": [
      "gpr_set {'cpx01664': [{'b1854': 'ftr00229'}, {'b1676': 'ftr00229'}]}\n"
     ]
    },
    {
     "data": {
      "text/plain": [
       "'(b1854) or (b1676)'"
      ]
     },
     "execution_count": 310,
     "metadata": {},
     "output_type": "execute_result"
    }
   ],
   "source": [
    "\n",
    "\n",
    "\n",
    "gpr_set = get_gpr_from_template_reaction(template.reactions.get_by_id('rxn00148_c'))\n",
    "print('gpr_set', gpr_set)\n",
    "build_gpr(gpr_set)"
   ]
  },
  {
   "cell_type": "code",
   "execution_count": 313,
   "metadata": {
    "collapsed": true,
    "jupyter": {
     "outputs_hidden": true
    },
    "tags": []
   },
   "outputs": [
    {
     "name": "stdout",
     "output_type": "stream",
     "text": [
      "rxn02201_c (b3177) or (b0142)\n",
      "rxn00351_c (b2947)\n",
      "rxn00836_c (b0125)\n",
      "rxn05318_c (b2964)\n",
      "rxn01094_c (b0596)\n",
      "rxn08709_c (b3625)\n",
      "rxn00423_c (b3607)\n",
      "rxn00364_c (b0910)\n",
      "rxn05561_c (b3528) or (b4138) or (b0621) or (b4123)\n",
      "rxn03408_c (b0090)\n",
      "rxn02177_c (b0595) or (b0595)\n",
      "rxn05250_c (b1805)\n",
      "rxn00646_c (b2688)\n",
      "rxn05440_c (b1288)\n",
      "rxn00935_c (b2210)\n",
      "rxn01673_c (b2518)\n",
      "rxn00247_c (b3403)\n",
      "rxn05625_c (b1469) or (b1223)\n",
      "rxn02342_c (b0114)\n",
      "rxn05156_c (b2310) or (b2309) or (b2306) or (b2307) or (b2308)\n",
      "rxn01452_c (b1395)\n",
      "rxn00642_c (b2053)\n",
      "rxn00022_c (b0403)\n",
      "rxn02000_c (b2038)\n",
      "rxn00322_c (b4131) or (b0186)\n",
      "rxn05457_c (b1092) or (b1028)\n",
      "rxn00107_c (b2518)\n",
      "rxn13783_c (b0060) or (b0215) or (b4372) or (b4059 and b3702 and b1274 and b2231 and b0184 and b1099 and b0470 and b0640 and b3699 and b3935 and b3701) or (b3066) or (b1842) or (b4259)\n",
      "rxn08734_c (b2721 and b2720 and b2722 and b0733 and b2723 and b2724 and b2719) or (b0978 and b2721 and b2720 and b2722 and b2723 and b2724 and b2719)\n",
      "rxn08934_c (b0403)\n",
      "rxn04600_c (b2541)\n",
      "rxn07966_c (b2836) or (b2836)\n",
      "rxn04070_c (b2564)\n",
      "rxn00199_c (b1136) or (b4519)\n",
      "rxn01358_c (b4384) or (b2407)\n",
      "rxn10231_c (b2585)\n",
      "rxn02944_c (b1748)\n",
      "rxn01867_c (b0312)\n",
      "rxn10270_c (b0418) or (b1278)\n",
      "rxn12637_c (b2385) or (b4328) or (b0828) or (b0168) or (b4260) or (b4328) or (b0828) or (b0932) or (b2523)\n",
      "rxn09240_c (b2751 and b2752)\n",
      "rxn01219_c (b0910)\n",
      "rxn05958_c (b2687)\n",
      "rxn09231_c (b1064) or (b0849)\n",
      "rxn00800_c (b1131) or (b1131)\n",
      "rxn08333_c (b3930)\n",
      "rxn08172_c (b1539)\n",
      "rxn01705_c (b2066)\n",
      "rxn09177_c (b3639)\n",
      "rxn00211_c (b2028)\n",
      "rxn00179_c (b0242)\n",
      "rxn01210_c (b2315)\n",
      "rxn05162_c (b2148) or (b2149) or (b2150)\n",
      "rxn00192_c (b2818)\n",
      "rxn01218_c (b0480) or (b2744) or (b3779) or (b2502) or (b2744)\n",
      "rxn00509_c (b2661)\n",
      "rxn02898_c (b2262)\n",
      "rxn05654_c (b3528) or (b4138) or (b0010) or (b0621) or (b4123)\n",
      "rxn01199_c (b3564)\n",
      "rxn00545_c (b3916) or (b1723)\n",
      "rxn02319_c (b2803)\n",
      "rxn08807_c (b3825)\n",
      "rxn05614_c (b0197 and b0198)\n",
      "rxn10344_c (b0484) or (b3469)\n",
      "rxn02320_c (b2021)\n",
      "rxn03384_c (b3997)\n",
      "rxn05167_c (b3568) or (b3567) or (b3566)\n",
      "rxn02504_c (b3058)\n",
      "rxn04082_c (b0061)\n",
      "rxn00262_c (b2574)\n",
      "rxn03173_c (b1865)\n",
      "rxn03039_c (b0469)\n",
      "rxn10262_c (b1912)\n",
      "rxn10126_c (b0721) or (b0722)\n",
      "rxn10209_c (b4041)\n",
      "rxn09313_c (b1873) or (b0996) or (b1872) or (b0997)\n",
      "rxn08084_c (b3018)\n",
      "rxn10225_c (b1409) or (b0175)\n",
      "rxn00898_c (b3771)\n",
      "rxn05444_c (b1288)\n",
      "rxn05334_c (b0180) or (b0954)\n",
      "rxn10205_c (b4041)\n",
      "rxn05040_c (b3041)\n",
      "rxn05235_c (b4238)\n",
      "rxn02090_c (b0337)\n",
      "rxn05377_c (b0954)\n",
      "rxn05582_c (b4208) or (b0007)\n",
      "rxn08556_c (b2243) or (b2242 and b2241) or (b3426)\n",
      "rxn01843_c (b0219)\n",
      "rxn07948_c (b2836) or (b2836)\n",
      "rxn00816_c (b0344)\n",
      "rxn02988_c (b0750)\n",
      "rxn04792_c (b0356)\n",
      "rxn01021_c (b0159)\n",
      "rxn00165_c (b4471) or (b4471 and b1814) or (b4471 and b2797) or (b4471 and b1814) or (b1814) or (b1814 and b2797) or (b4471 and b2797) or (b1814 and b2797) or (b2797) or (b3772) or (b3117)\n",
      "rxn10228_c (b2585)\n",
      "rxn01117_c (b3197) or (b2708)\n",
      "rxn00539_c (b2440) or (b2451) or (b2441)\n",
      "rxn08137_c (b0049)\n",
      "rxn00001_c (b4226)\n",
      "rxn05369_c (b0954)\n",
      "rxn01322_c (b3225)\n",
      "rxn08376_c (b2964)\n",
      "rxn01331_c (b2927)\n",
      "rxn08895_c (b0839) or (b3182) or (b2010) or (b0632) or (b2134)\n",
      "rxn11268_c (b2987) or (b3493)\n",
      "rxn00710_c (b1281)\n",
      "rxn01114_c (b0063)\n",
      "rxn02305_c (b3993)\n",
      "rxn00470_c (b0693) or (b2965)\n",
      "rxn05687_c (b2014) or (b0692) or (b1296)\n",
      "rxn08817_c (b3825)\n",
      "rxn00910_c (b3941)\n",
      "rxn11944_c (b3829)\n",
      "rxn01129_c (b2066)\n",
      "rxn08296_c (b4042)\n",
      "rxn00717_c (b0337)\n",
      "rxn08710_c (b3621)\n",
      "rxn05647_c (b2715) or (b2383) or (b3947) or (b2416) or (b2715)\n",
      "rxn01297_c (b2866) or (b2868) or (b2867) or (b0285)\n",
      "rxn01962_c (b2954)\n",
      "rxn10254_c (b4042)\n",
      "rxn05300_c (b3116)\n",
      "rxn05459_c (b1092) or (b1028)\n",
      "rxn01682_c (b1260 and b1261)\n",
      "rxn08796_c (b3825)\n",
      "rxn01806_c (b2710)\n",
      "rxn08941_c (b3417) or (b3428)\n",
      "rxn03181_c (b0915)\n",
      "rxn08254_c (b0038)\n",
      "rxn09360_c (b4233)\n",
      "rxn01152_c (b2802)\n",
      "rxn02331_c (b1215)\n",
      "rxn06493_c (b0116)\n",
      "rxn12846_c (b2385) or (b4328) or (b0828) or (b0168) or (b4260) or (b4328) or (b0828) or (b0932) or (b2523)\n",
      "rxn00337_c (b0002) or (b4024) or (b3940)\n",
      "rxn05221_c (b1015)\n",
      "rxn08308_c (b1409) or (b0175)\n",
      "rxn00208_c (b1638)\n",
      "rxn08823_c (b3825)\n",
      "rxn02552_c (b4084)\n",
      "rxn05434_c (b1288)\n",
      "rxn00140_c (b3032)\n",
      "rxn05346_c (b2323) or (b1095)\n",
      "rxn00452_c (b0261)\n",
      "rxn03248_c (b3845) or (b2342)\n",
      "rxn08127_c (b3416)\n",
      "rxn05386_c (b0954) or (b0180)\n",
      "rxn05516_c (b0484) or (b3469)\n",
      "rxn05733_c (b2414)\n",
      "rxn00416_c (b0674)\n",
      "rxn09206_c (b2585)\n",
      "rxn02376_c (b0726)\n",
      "rxn08017_c (b1094) or (b2836) or (b2836)\n",
      "rxn08192_c (b1709) or (b1711) or (b0158) or (b3966)\n",
      "rxn09209_c (b2585)\n",
      "rxn08187_c (b4132)\n",
      "rxn12512_c (b3639)\n",
      "rxn08669_c (b3449)\n",
      "rxn00902_c (b0074)\n",
      "rxn07474_c (b2253)\n",
      "rxn07951_c (b2836) or (b2836)\n",
      "rxn06672_c (b3973 and b3255 and b3256)\n",
      "rxn00649_c (b2414) or (b2421)\n",
      "rxn01739_c (b3390) or (b0388)\n",
      "rxn02400_c (b0480) or (b2744) or (b3779) or (b2502) or (b2744)\n",
      "rxn01268_c (b2600) or (b0908)\n",
      "rxn00641_c (b2049)\n",
      "rxn00361_c (b2750)\n",
      "rxn02679_c (b0221)\n",
      "rxn01974_c (b3809)\n",
      "rxn00242_c (b3650)\n",
      "rxn12641_c (b2385) or (b4328) or (b0828) or (b0168) or (b4260) or (b4328) or (b0828) or (b0932) or (b2523)\n",
      "rxn00568_c (b3366 and b3365)\n",
      "rxn00762_c (b3945)\n",
      "rxn08971_c (b1109)\n",
      "rxn05316_c (b2964)\n",
      "rxn05185_c (b4087) or (b4086) or (b4088)\n",
      "rxn08471_c (b0935)\n",
      "rxn03887_c (b3128)\n",
      "rxn08201_c (b3918)\n",
      "rxn05469_c (b4354)\n",
      "rxn00060_c (b3805)\n",
      "rxn00225_c (b2296) or (b3115)\n",
      "rxn05350_c (b2323) or (b1095)\n",
      "rxn07965_c (b2836) or (b2836)\n",
      "rxn09198_c (b4160)\n",
      "rxn08838_c (b3825)\n",
      "rxn00148_c (b1854) or (b1676)\n",
      "rxn01102_c (b0514)\n",
      "rxn05569_c (b2383) or (b3947) or (b2416)\n",
      "rxn00100_c (b0103)\n",
      "rxn03482_c (b2901) or (b3721) or (b2716)\n",
      "rxn02842_c (b2842)\n",
      "rxn00514_c (b2954)\n",
      "rxn00789_c (b2019) or (b2019)\n",
      "rxn08583_c (b3628)\n",
      "rxn05390_c (b0954) or (b0180)\n",
      "rxn09023_c (b2035)\n",
      "rxn05560_c (b2169) or (b3900) or (b2167) or (b3899) or (b2169) or (b2167) or (b3899) or (b2383) or (b3947) or (b2416)\n",
      "rxn05437_c (b1288)\n",
      "rxn05158_c (b3451) or (b3452) or (b3450) or (b3453)\n",
      "rxn00837_c (b0104)\n",
      "rxn08976_c (b1109)\n",
      "rxn00781_c (b1779)\n",
      "rxn09264_c (b1584)\n",
      "rxn05319_c (b0875)\n",
      "rxn00881_c (b2533)\n",
      "rxn05298_c (b3653)\n",
      "rxn10157_c (b4123) or (b4138)\n",
      "rxn06578_c (b1818)\n",
      "rxn09265_c (b1584)\n",
      "rxn00292_c (b3786)\n",
      "rxn08336_c (b0945)\n",
      "rxn03043_c (b2843)\n",
      "rxn02264_c (b3804)\n",
      "rxn00212_c (b0480)\n",
      "rxn08608_c (b0124) or (b0837)\n",
      "rxn05198_c (b2964)\n",
      "rxn09202_c (b4160)\n",
      "rxn01451_c (b2341) or (b3846) or (b2341) or (b3846)\n",
      "rxn03903_c (b0087)\n",
      "rxn00097_c (b0474)\n",
      "rxn05514_c (b3196) or (b1216)\n",
      "rxn02212_c (b3389)\n",
      "rxn00191_c (b2290) or (b2379)\n",
      "rxn00695_c (b3430)\n",
      "rxn05324_c (b1288)\n",
      "rxn10481_c (b0484) or (b3469)\n",
      "rxn03535_c (b1270) or (b2459)\n",
      "rxn00692_c (b2551)\n",
      "rxn01492_c (b2168)\n",
      "rxn00802_c (b3960)\n",
      "rxn08440_c (b0452)\n",
      "rxn02160_c (b2022)\n",
      "rxn08802_c (b3825)\n",
      "rxn00926_c (b3665)\n",
      "rxn08205_c (b3918)\n",
      "rxn10230_c (b2585)\n",
      "rxn08118_c (b4085)\n",
      "rxn00913_c (b0480) or (b2744) or (b3779) or (b2502) or (b2744)\n",
      "rxn01997_c (b3788) or (b2041)\n",
      "rxn08521_c (b3844)\n",
      "rxn08809_c (b3825)\n",
      "rxn00460_c (b1854) or (b1676)\n",
      "rxn00171_c (b2455) or (b1241) or (b1241) or (b1478) or (b3589) or (b0325) or (b4269)\n",
      "rxn03958_c (b0173)\n",
      "rxn00131_c (b1982)\n",
      "rxn05578_c (b2240)\n",
      "rxn08171_c (b1064)\n",
      "rxn00178_c (b3845) or (b2342) or (b2844) or (b2224)\n",
      "rxn03264_c (b2942)\n",
      "rxn01362_c (b3642)\n",
      "rxn05329_c (b0180) or (b0954)\n",
      "rxn03174_c (b0710) or (b2153)\n",
      "rxn03918_c (b3052) or (b3052)\n",
      "rxn09295_c (b1603) or (b1602) or (b1603) or (b3962)\n",
      "rxn05161_c (b3458) or (b3454) or (b3457) or (b3460) or (b3455) or (b3456)\n",
      "rxn00549_c (b4232) or (b3925) or (b2930)\n",
      "rxn08742_c (b4265)\n",
      "rxn03951_c (b0052)\n",
      "rxn00264_c (b2210)\n",
      "rxn05200_c (b2964)\n",
      "rxn00340_c (b3744)\n",
      "rxn10060_c (b2615)\n",
      "rxn02933_c (b2341) or (b3846)\n",
      "rxn00727_c (b1263 and b1264)\n",
      "rxn10307_c (b3784)\n",
      "rxn05500_c (b2841)\n",
      "rxn05617_c (b2383) or (b3947) or (b2416) or (b2933) or (b3599) or (b2934) or (b3599) or (b4569) or (b2933) or (b3599)\n",
      "rxn12638_c (b2385) or (b4328) or (b0828) or (b0168) or (b4260) or (b4328) or (b0828) or (b0932) or (b2523)\n",
      "rxn01354_c (b1854) or (b1676)\n",
      "rxn05127_c (b1300)\n",
      "rxn09105_c (b0418) or (b1278)\n",
      "rxn01445_c (b0480) or (b2744) or (b3779) or (b2502) or (b2744)\n",
      "rxn05248_c (b1805)\n",
      "rxn00612_c (b3608)\n",
      "rxn08766_c (b1091)\n",
      "rxn01619_c (b2245)\n",
      "rxn05539_c (b3540) or (b3544) or (b3541) or (b3542) or (b3543)\n",
      "rxn08045_c (b3794)\n",
      "rxn08841_c (b3825)\n",
      "rxn05461_c (b1093)\n",
      "rxn02159_c (b2020)\n",
      "rxn01111_c (b3355)\n",
      "rxn05571_c (b4296) or (b4265) or (b3415)\n",
      "rxn10222_c (b1409) or (b0175)\n",
      "rxn03038_c (b0348)\n",
      "rxn10263_c (b1912)\n",
      "rxn02791_c (b3447)\n",
      "rxn05466_c (b0451)\n",
      "rxn08814_c (b3825)\n",
      "rxn00917_c (b2507) or (b2507)\n",
      "rxn08078_c (b1107)\n",
      "rxn08845_c (b3825)\n",
      "rxn05680_c (b2406)\n",
      "rxn07981_c (b0954)\n",
      "rxn01292_c (b0062)\n",
      "rxn00300_c (b1277)\n",
      "rxn02380_c (b4025)\n",
      "rxn08792_c (b3605)\n",
      "rxn08153_c (b1605)\n",
      "rxn05174_c (b3480) or (b3477) or (b3478) or (b3476) or (b3479)\n",
      "rxn08799_c (b3825)\n",
      "rxn05234_c (b4238)\n",
      "rxn05585_c (b0936) or (b0934) or (b0933)\n",
      "rxn05957_c (b3939)\n",
      "rxn08518_c (b2722) or (b2723) or (b2721) or (b2719) or (b2724) or (b2720)\n",
      "rxn05335_c (b0954)\n",
      "rxn05938_c (b1378)\n",
      "rxn03419_c (b2153)\n",
      "rxn08551_c (b4041)\n",
      "rxn10256_c (b4042)\n",
      "rxn08708_c (b3630)\n",
      "rxn00679_c (b0333)\n",
      "rxn01516_c (b2066)\n",
      "rxn00758_c (b3449)\n",
      "rxn02103_c (b0517)\n",
      "rxn00672_c (b2919)\n",
      "rxn10314_c (b3784)\n",
      "rxn09111_c (b1912)\n",
      "rxn05607_c (b3683) or (b3682) or (b1621) or (b3683) or (b3682) or (b1621) or (b2383) or (b3947) or (b2416) or (b4036)\n",
      "rxn05595_c (b3747) or (b3290) or (b3849) or (b1363)\n",
      "rxn05348_c (b2323) or (b1095)\n",
      "rxn08995_c (b0751)\n",
      "rxn04056_c (b3012)\n",
      "rxn05435_c (b1288)\n",
      "rxn03245_c (b2341) or (b3846)\n",
      "rxn11946_c (b2232) or (b2232)\n",
      "rxn00907_c (b0529)\n",
      "rxn05458_c (b1092) or (b1028)\n",
      "rxn08300_c (b4042)\n",
      "rxn02404_c (b3198)\n",
      "rxn01644_c (b2478)\n",
      "rxn08297_c (b4042)\n",
      "rxn02911_c (b2341) or (b3846)\n",
      "rxn01280_c (b3125) or (b0509)\n",
      "rxn05581_c (b3927)\n",
      "rxn05450_c (b1288)\n",
      "rxn05039_c (b3812) or (b0844)\n",
      "rxn12847_c (b2385) or (b4328) or (b0828) or (b0168) or (b4260) or (b4328) or (b0828) or (b0932) or (b2523)\n",
      "rxn05443_c (b1288)\n",
      "rxn09114_c (b1912)\n",
      "rxn09188_c (b1014)\n",
      "rxn09180_c (b3850)\n",
      "rxn08822_c (b3825)\n",
      "rxn10208_c (b4041)\n",
      "rxn01620_c (b2800)\n",
      "rxn05345_c (b2323) or (b1095)\n",
      "rxn01522_c (b2866 and b2868 and b2867) or (b0285)\n",
      "rxn00336_c (b4015)\n",
      "rxn03891_c (b3187)\n",
      "rxn01465_c (b1062)\n",
      "rxn03052_c (b3829)\n",
      "rxn10204_c (b4041)\n",
      "rxn01833_c (b1386)\n",
      "rxn05145_c (b3725) or (b3726) or (b3727) or (b3728)\n",
      "rxn01872_c (b0727)\n",
      "rxn01301_c (b0002) or (b3940)\n",
      "rxn01643_c (b3433)\n",
      "rxn04598_c (b2539) or (b2538) or (b2540)\n",
      "rxn02449_c (b3779)\n",
      "rxn00248_c (b3236)\n",
      "rxn00499_c (b3605)\n",
      "rxn08844_c (b3825)\n",
      "rxn00707_c (b2066)\n",
      "rxn00369_c (b2066)\n",
      "rxn06937_c (b2400)\n",
      "rxn01637_c (b3359)\n",
      "rxn05120_c (b0428)\n",
      "rxn05564_c (b2663)\n",
      "rxn00708_c (b0480) or (b3779) or (b2502) or (b2744) or (b2744)\n",
      "rxn00289_c (b0331)\n",
      "rxn01269_c (b2600)\n",
      "rxn05563_c (b3666)\n",
      "rxn00392_c (b0025)\n",
      "rxn00747_c (b3919)\n",
      "rxn01334_c (b2925) or (b2097)\n",
      "rxn00830_c (b2889)\n",
      "rxn05219_c (b0197 and b0198) or (b0199)\n",
      "rxn10113_c (b0721) or (b0431) or (b0432) or (b0733 and b0734) or (b0978 and b0734) or (b0733 and b0979) or (b0978 and b0979) or (b0429) or (b0430)\n",
      "rxn09225_c (b3629)\n",
      "rxn02676_c (b2247)\n",
      "rxn03406_c (b3870)\n",
      "rxn00029_c (b0369)\n",
      "rxn06673_c (b2316 and b0185)\n",
      "rxn09128_c (b3821)\n",
      "rxn12646_c (b2385) or (b4328) or (b0828) or (b0168) or (b4260) or (b4328) or (b0828) or (b0932) or (b2523)\n",
      "rxn03869_c (b0219)\n",
      "rxn05256_c (b2762)\n",
      "rxn05448_c (b1288)\n",
      "rxn05446_c (b1288)\n",
      "rxn02175_c (b3634)\n",
      "rxn00245_c (b3061) or (b3062)\n",
      "rxn05317_c (b2964)\n",
      "rxn08136_c (b1640)\n",
      "rxn02835_c (b2026)\n",
      "rxn03884_c (b1850)\n",
      "rxn02774_c (b3368)\n",
      "rxn01675_c (b2039) or (b3789)\n",
      "rxn08839_c (b3825)\n",
      "rxn03536_c (b1993) or (b1106)\n",
      "rxn01575_c (b3770)\n",
      "rxn05150_c (b1858) or (b1857) or (b1859)\n",
      "rxn05398_c (b0180) or (b0954)\n",
      "rxn08203_c (b3918)\n",
      "rxn01868_c (b0312)\n",
      "rxn03240_c (b2341) or (b3846)\n",
      "rxn09562_c (b3648)\n",
      "rxn07964_c (b2836) or (b2836)\n",
      "rxn00555_c (b3729)\n",
      "rxn03435_c (b3774)\n",
      "rxn03080_c (b0415)\n",
      "rxn10237_c (b4160)\n",
      "rxn01044_c (b3565)\n",
      "rxn00143_c (b0159)\n",
      "rxn07845_c (b2787)\n",
      "rxn12644_c (b2385) or (b4328) or (b0828) or (b0168) or (b4260) or (b4328) or (b0828) or (b0932) or (b2523)\n",
      "rxn00147_c (b1702)\n",
      "rxn05365_c (b0954)\n",
      "rxn00737_c (b3772) or (b3117)\n",
      "rxn05292_c (b1018 and b1019)\n",
      "rxn08843_c (b3825)\n",
      "rxn01256_c (b2599) or (b2600) or (b2599)\n",
      "rxn00213_c (b2042) or (b1236)\n",
      "rxn05199_c (b2964)\n",
      "rxn10162_c (b2344)\n",
      "rxn01629_c (b0154)\n",
      "rxn00777_c (b2914) or (b4090)\n",
      "rxn05164_c (b2310) or (b2309) or (b2306) or (b2308) or (b2307)\n",
      "rxn13784_c (b3067 and b2324 and b3169 and b3987 and b2567 and b3295 and b3704) or (b3067 and b2324 and b2567 and b3988 and b3295 and b3704 and b3169 and b3987) or (b3067 and b2324 and b2567 and b3988 and b3295 and b3704 and b3169 and b3987) or (b3067 and b2324 and b3169 and b2567 and b3988 and b3295 and b3704)\n",
      "rxn08016_c (b2836) or (b2836)\n",
      "rxn01740_c (b1692) or (b3281)\n",
      "rxn08022_c (b2836) or (b2836)\n",
      "rxn05327_c (b1288)\n",
      "rxn05205_c (b2393) or (b2964)\n",
      "rxn02762_c (b4213)\n",
      "rxn00668_c (b3253)\n",
      "rxn08353_c (b2232)\n",
      "rxn05655_c (b2383) or (b3947) or (b2416)\n",
      "rxn02314_c (b3916) or (b1723)\n",
      "rxn08801_c (b3825)\n",
      "rxn02161_c (b3904)\n",
      "rxn02275_c (b0219)\n",
      "rxn04928_c (b4196) or (b3581)\n",
      "rxn00927_c (b0030) or (b2162)\n",
      "rxn00251_c (b3956)\n",
      "rxn01545_c (b0030)\n",
      "rxn09233_c (b1064) or (b0849)\n",
      "rxn00139_c (b0469)\n",
      "rxn00790_c (b2312)\n",
      "rxn05612_c (b4120)\n",
      "rxn03910_c (b2746)\n",
      "rxn07976_c (b0180) or (b0954)\n",
      "rxn00237_c (b2518)\n",
      "rxn00463_c (b2781)\n",
      "rxn01912_c (b3575)\n",
      "rxn00106_c (b3054)\n",
      "rxn08311_c (b1409) or (b0175)\n",
      "rxn03919_c (b0200)\n",
      "rxn03175_c (b2024)\n",
      "rxn01365_c (b1919)\n",
      "rxn10264_c (b1912)\n",
      "rxn03421_c (b3665) or (b2153)\n",
      "rxn10227_c (b2585)\n",
      "rxn01146_c (b4382)\n",
      "rxn05336_c (b1093)\n",
      "rxn02375_c (b2166)\n",
      "rxn09210_c (b2585)\n",
      "rxn01484_c (b3135) or (b0677)\n",
      "rxn06022_c (b0404)\n",
      "rxn01124_c (b2842)\n",
      "rxn00285_c (b0729 and b0728)\n",
      "rxn04794_c (b3951) or (b3114) or (b0903) or (b0823) or (b3114)\n",
      "rxn07584_c (b4386)\n",
      "rxn05552_c (b0936) or (b0934) or (b0933)\n",
      "rxn01416_c (b3425) or (b1757)\n",
      "rxn05567_c (b2383) or (b3947) or (b2416) or (b2093) or (b2094)\n",
      "rxn05172_c (b0367) or (b0365) or (b0366)\n",
      "rxn00856_c (b3073)\n",
      "rxn00132_c (b2744) or (b0480) or (b3399) or (b0675)\n",
      "rxn01204_c (b2662)\n",
      "rxn08044_c (b2428)\n",
      "rxn08954_c (b3624)\n",
      "rxn08893_c (b0839) or (b3182) or (b2010) or (b0632)\n",
      "rxn06864_c (b3973)\n",
      "rxn00712_c (b2066)\n",
      "rxn05681_c (b3909)\n",
      "rxn08615_c (b3429)\n",
      "rxn08815_c (b3825)\n",
      "rxn00126_c (b2942)\n",
      "rxn01518_c (b1238)\n",
      "rxn07980_c (b0954)\n",
      "rxn08712_c (b3632)\n",
      "rxn05649_c (b4208)\n",
      "rxn00719_c (b2146) or (b2147)\n",
      "rxn01278_c (b4266)\n",
      "rxn01015_c (b0508)\n",
      "rxn08628_c (b1492)\n",
      "rxn12844_c (b2385) or (b4328) or (b0828) or (b0168) or (b4260) or (b4328) or (b0828) or (b0932) or (b2523)\n",
      "rxn08798_c (b3825)\n",
      "rxn08599_c (b2051)\n",
      "rxn05175_c (b1126) or (b1124) or (b0855 and b0856 and b0857) or (b1123) or (b1125)\n",
      "rxn05034_c (b4040)\n",
      "rxn08119_c (b0657)\n",
      "rxn08306_c (b1409) or (b0175)\n",
      "rxn08821_c (b3825)\n",
      "rxn01883_c (b1727)\n",
      "rxn00206_c (b1656) or (b1646) or (b3908)\n",
      "rxn05381_c (b0954) or (b0180)\n",
      "rxn07492_c (b4192)\n",
      "rxn01871_c (b0115)\n",
      "rxn05340_c (b1093)\n",
      "rxn00405_c (b2938) or (b4117)\n",
      "rxn04704_c (b3867)\n",
      "rxn00639_c (b2467)\n",
      "rxn05307_c (b2796) or (b4208)\n",
      "rxn00299_c (b2153)\n",
      "rxn08546_c (b1094) or (b4041)\n",
      "rxn01132_c (b3428)\n",
      "rxn08900_c (b2210)\n",
      "rxn09165_c (b3258)\n",
      "rxn08262_c (b1801)\n",
      "rxn00904_c (b3572)\n",
      "rxn02484_c (b2103)\n",
      "rxn05671_c (b4031)\n",
      "rxn00221_c (b3885) or (b1002)\n",
      "rxn04597_c (b2539) or (b2538) or (b2542 and b2540)\n",
      "rxn01133_c (b0459)\n",
      "rxn12639_c (b2385) or (b4328) or (b0828) or (b0168) or (b4260) or (b4328) or (b0828) or (b0932) or (b2523)\n",
      "rxn03159_c (b0182)\n",
      "rxn00875_c (b1694) or (b2222) or (b1694) or (b1694) or (b2221)\n",
      "rxn01000_c (b2599) or (b2600) or (b2599)\n",
      "rxn00647_c (b0928)\n",
      "rxn03397_c (b3833)\n",
      "rxn02377_c (b3787)\n",
      "rxn05488_c (b0010)\n",
      "rxn08120_c (b0657)\n",
      "rxn00363_c (b0480) or (b2744) or (b3779) or (b2502) or (b2744)\n",
      "rxn08128_c (b3416)\n",
      "rxn05188_c (b0152 and b0153 and b0151)\n",
      "rxn03975_c (b0937)\n",
      "rxn01281_c (b3125) or (b0509)\n",
      "rxn01670_c (b0480) or (b2744) or (b4055)\n",
      "rxn12643_c (b2385) or (b4328) or (b0828) or (b0168) or (b4260) or (b4328) or (b0828) or (b0932) or (b2523)\n",
      "rxn02522_c (b4213)\n",
      "rxn05183_c (b0197 and b0198)\n",
      "rxn00979_c (b1415)\n",
      "rxn01706_c (b2066)\n",
      "rxn00418_c (b0586)\n",
      "rxn09359_c (b1192)\n",
      "rxn11703_c (b2263)\n",
      "rxn01300_c (b0003)\n",
      "rxn00601_c (b1747)\n",
      "rxn00411_c (b1854) or (b1676)\n",
      "rxn02173_c (b4478)\n",
      "rxn00321_c (b4146)\n",
      "rxn03886_c (b2705)\n",
      "rxn00786_c (b2925) or (b2097)\n",
      "rxn05217_c (b4077) or (b4077)\n",
      "rxn04930_c (b3580)\n",
      "rxn00366_c (b3614)\n",
      "rxn03908_c (b1208)\n",
      "rxn09197_c (b4160)\n",
      "rxn00740_c (b3939)\n",
      "rxn01100_c (b2926)\n",
      "rxn00838_c (b4177)\n",
      "rxn07963_c (b2836) or (b2836)\n",
      "rxn00102_c (b0126) or (b0339)\n",
      "rxn00512_c (b1033)\n",
      "rxn00831_c (b0480) or (b3779) or (b2502) or (b2744) or (b2744)\n",
      "rxn00748_c (b0963)\n",
      "rxn01352_c (b0160)\n",
      "rxn02004_c (b1897)\n",
      "rxn12634_c (b2385) or (b4328) or (b0828) or (b0168) or (b4260) or (b4328) or (b0828) or (b0932) or (b2523)\n",
      "rxn00883_c (b2533)\n",
      "rxn01457_c (b3092)\n",
      "rxn01255_c (b2329)\n",
      "rxn05406_c (b0180) or (b0954)\n",
      "rxn07846_c (b1535) or (b1490) or (b1794)\n",
      "rxn00776_c (b2165)\n",
      "rxn10155_c (b4123) or (b4138)\n",
      "rxn05251_c (b1805)\n",
      "rxn06848_c (b1855)\n",
      "rxn05485_c (b2383) or (b3947) or (b2416)\n",
      "rxn00214_c (b0759)\n",
      "rxn10114_c (b3892 and b1476 and b4079 and b1475 and b3894 and b3893 and b1474)\n",
      "rxn01895_c (b0349)\n",
      "rxn01211_c (b0529)\n",
      "rxn05496_c (b0007)\n",
      "rxn00109_c (b0873)\n",
      "rxn00527_c (b4054) or (b4054) or (b2021) or (b0928)\n",
      "rxn00095_c (b0049)\n",
      "rxn05322_c (b1288)\n",
      "rxn12848_c (b1246) or (b1247)\n",
      "rxn05151_c (b2310) or (b2309) or (b2306) or (b2307) or (b2308)\n",
      "rxn00792_c (b3973)\n",
      "rxn03537_c (b1993)\n",
      "rxn01989_c (b2787)\n",
      "rxn06445_c (b0194)\n",
      "rxn08804_c (b3825)\n",
      "rxn00966_c (b4039)\n",
      "rxn13782_c (b3303 and b4202 and b3384 and b3302 and b0526 and b0169 and b3230 and b3320 and b3637 and b3297 and b3316 and b4200 and b3305 and b1866 and b2400 and b1876 and b3306 and b3309 and b3288 and b0893 and b2514 and b3560 and b1717 and b3231 and b3314 and b0026 and b4129 and b3307 and b0930 and b3186 and b0642 and b3321 and b2609 and b2697 and b3312 and b1089 and b3301 and b3636 and b1713 and b3317 and b3559 and b3304 and b3984 and b3296 and b3310 and b3315 and b3294 and b3703 and b3185 and b1719 and b3313 and b3311 and b1637 and b3318 and b3985 and b3165 and b1714 and b2114 and b3308 and b3342 and b3065 and b4258 and b3936 and b4203 and b2606 and b0023 and b1716 and b3299 and b3319 and b3341 and b3298) or (b3303 and b4202 and b3384 and b3302 and b0526 and b0169 and b3230 and b3320 and b3637 and b3297 and b3316 and b4200 and b3305 and b1866 and b2400 and b1876 and b3306 and b3309 and b3288 and b0893 and b2514 and b3560 and b1717 and b3231 and b3314 and b0026 and b4129 and b3307 and b0930 and b3186 and b0642 and b3321 and b2609 and b0296 and b2697 and b3312 and b1089 and b3301 and b3636 and b1713 and b3317 and b3559 and b3304 and b3984 and b3296 and b3310 and b3315 and b3294 and b3703 and b3185 and b1719 and b3313 and b3311 and b1637 and b3318 and b3985 and b3165 and b1714 and b2114 and b3308 and b3342 and b3065 and b4258 and b4203 and b2606 and b0023 and b1716 and b3299 and b3319 and b3341 and b3298) or (b3303 and b4202 and b3384 and b3302 and b0526 and b0169 and b3230 and b3320 and b3637 and b3297 and b3316 and b4200 and b3305 and b1866 and b2400 and b1876 and b3306 and b3309 and b3288 and b0893 and b2514 and b3560 and b1717 and b4506 and b3231 and b3314 and b0026 and b4129 and b3307 and b0930 and b3186 and b0642 and b3321 and b2609 and b2697 and b3312 and b1089 and b3301 and b3636 and b1713 and b3317 and b3559 and b3304 and b3984 and b3296 and b3310 and b3315 and b3294 and b3703 and b3185 and b1719 and b3313 and b3311 and b1637 and b3318 and b3985 and b3165 and b1714 and b2114 and b3308 and b3342 and b3065 and b4258 and b3936 and b4203 and b2606 and b0023 and b1716 and b3319 and b3341 and b3298) or (b3303 and b4202 and b3384 and b3302 and b0526 and b0169 and b3230 and b3320 and b3637 and b3297 and b3316 and b4200 and b3305 and b1866 and b2400 and b1876 and b3306 and b3309 and b3288 and b0893 and b2514 and b3560 and b1717 and b4506 and b3231 and b3314 and b0026 and b4129 and b3307 and b0930 and b3186 and b0642 and b3321 and b2609 and b0296 and b2697 and b3312 and b1089 and b3301 and b3636 and b1713 and b3317 and b3559 and b3304 and b3984 and b3296 and b3310 and b3315 and b3294 and b3703 and b3185 and b1719 and b3313 and b3311 and b1637 and b3318 and b3985 and b3165 and b1714 and b2114 and b3308 and b3342 and b3065 and b4258 and b4203 and b2606 and b0023 and b1716 and b3319 and b3341 and b3298) or (b3303 and b4202 and b3384 and b3302 and b0526 and b0169 and b3230 and b3320 and b3637 and b3297 and b3316 and b4200 and b3305 and b1866 and b2400 and b1876 and b3306 and b3309 and b3288 and b0893 and b2514 and b3560 and b1717 and b3231 and b3314 and b0026 and b3307 and b0930 and b3186 and b0642 and b3321 and b2609 and b2697 and b3312 and b1089 and b3301 and b3636 and b1713 and b3317 and b3559 and b3304 and b3984 and b3296 and b3310 and b3315 and b3294 and b3703 and b2890 and b3185 and b1719 and b3313 and b3311 and b1637 and b3318 and b3985 and b3165 and b1714 and b2114 and b3308 and b3342 and b3065 and b4258 and b3936 and b4203 and b2606 and b0023 and b1716 and b3299 and b3319 and b3341 and b3298) or (b3303 and b4202 and b3384 and b3302 and b0526 and b0169 and b3230 and b3320 and b3637 and b3297 and b3316 and b4200 and b3305 and b1866 and b2400 and b1876 and b3306 and b3309 and b3288 and b0893 and b2514 and b3560 and b1717 and b3231 and b3314 and b0026 and b3307 and b0930 and b3186 and b0642 and b3321 and b2609 and b0296 and b2697 and b3312 and b1089 and b3301 and b3636 and b1713 and b3317 and b3559 and b3304 and b3984 and b3296 and b3310 and b3315 and b3294 and b3703 and b2890 and b3185 and b1719 and b3313 and b3311 and b1637 and b3318 and b3985 and b3165 and b1714 and b2114 and b3308 and b3342 and b3065 and b4258 and b4203 and b2606 and b0023 and b1716 and b3299 and b3319 and b3341 and b3298) or (b3303 and b4202 and b3384 and b3302 and b0526 and b0169 and b3230 and b3320 and b3637 and b3297 and b3316 and b4200 and b3305 and b1866 and b2400 and b1876 and b3306 and b3309 and b3288 and b0893 and b2514 and b3560 and b1717 and b4506 and b3231 and b3314 and b0026 and b3307 and b0930 and b3186 and b0642 and b3321 and b2609 and b2697 and b3312 and b1089 and b3301 and b3636 and b1713 and b3317 and b3559 and b3304 and b3984 and b3296 and b3310 and b3315 and b3294 and b3703 and b2890 and b3185 and b1719 and b3313 and b3311 and b1637 and b3318 and b3985 and b3165 and b1714 and b2114 and b3308 and b3342 and b3065 and b4258 and b3936 and b4203 and b2606 and b0023 and b1716 and b3319 and b3341 and b3298) or (b3303 and b4202 and b3384 and b3302 and b0526 and b0169 and b3230 and b3320 and b3637 and b3297 and b3316 and b4200 and b3305 and b1866 and b2400 and b1876 and b3306 and b3309 and b3288 and b0893 and b2514 and b3560 and b1717 and b4506 and b3231 and b3314 and b0026 and b3307 and b0930 and b3186 and b0642 and b3321 and b2609 and b0296 and b2697 and b3312 and b1089 and b3301 and b3636 and b1713 and b3317 and b3559 and b3304 and b3984 and b3296 and b3310 and b3315 and b3294 and b3703 and b2890 and b3185 and b1719 and b3313 and b3311 and b1637 and b3318 and b3985 and b3165 and b1714 and b2114 and b3308 and b3342 and b3065 and b4258 and b4203 and b2606 and b0023 and b1716 and b3319 and b3341 and b3298) or (b0188) or (b2185) or (b3983) or (b3986)\n",
      "rxn08442_c (b0452)\n",
      "rxn01917_c (b3959)\n",
      "rxn01951_c (b3222)\n",
      "rxn10236_c (b4160)\n",
      "rxn02429_c (b3693)\n",
      "rxn08527_c (b4151 and b0722 and b0721 and b4152)\n",
      "rxn05501_c (b2383) or (b3947) or (b2416) or (b2715) or (b2715)\n",
      "rxn03253_c (b0221)\n",
      "rxn01509_c (b3648)\n",
      "rxn02011_c (b0085)\n",
      "rxn01748_c (b0512)\n",
      "rxn00173_c (b2297) or (b2458)\n",
      "rxn01715_c (b1386)\n",
      "rxn01548_c (b4384) or (b2407)\n",
      "rxn08528_c (b4151 and b0722 and b0721 and b4152)\n",
      "rxn01145_c (b0480) or (b2744) or (b3779) or (b2502) or (b2744)\n",
      "rxn07978_c (b0954)\n",
      "rxn09176_c (b2501)\n",
      "rxn08323_c (b2964)\n",
      "rxn09205_c (b2585)\n",
      "rxn03269_c (b2040)\n",
      "rxn03916_c (b3052) or (b3052)\n",
      "rxn05163_c (b0854) or (b1126) or (b1124) or (b0855 and b0856 and b0857) or (b1123) or (b1125)\n",
      "rxn09201_c (b4160)\n",
      "rxn05574_c (b3093)\n",
      "rxn01669_c (b2700)\n",
      "rxn05202_c (b2882) or (b3654) or (b3654) or (b2882)\n",
      "rxn01249_c (b1406)\n",
      "rxn00508_c (b1525)\n",
      "rxn11510_c (b3374)\n",
      "rxn10122_c (b2285 and b2279 and b2286 and b2277 and b2276 and b2282 and b2278 and b2288 and b2284 and b2281 and b2280 and b2283 and b2287)\n",
      "rxn08352_c (b0029)\n",
      "rxn05615_c (b4141)\n",
      "rxn09106_c (b0418) or (b1278)\n",
      "rxn00187_c (b3870)\n",
      "rxn08850_c (b3825)\n",
      "rxn00500_c (b2133) or (b1380)\n",
      "rxn00772_c (b3752)\n",
      "rxn09103_c (b0418) or (b1278)\n",
      "rxn05508_c (b1453)\n",
      "rxn08812_c (b3825)\n",
      "rxn00546_c (b3600)\n",
      "rxn05682_c (b0511)\n",
      "rxn00006_c (b1732) or (b3942)\n",
      "rxn02503_c (b0142)\n",
      "rxn05338_c (b1093)\n",
      "rxn03135_c (b2025) or (b2023)\n",
      "rxn10265_c (b0418) or (b1278)\n",
      "rxn08310_c (b1409) or (b0175)\n",
      "rxn00915_c (b0238) or (b0125)\n",
      "rxn00123_c (b0675) or (b0766) or (b0446) or (b4555) or (b3826)\n",
      "rxn01967_c (b1317)\n",
      "rxn01515_c (b2066)\n",
      "rxn10224_c (b1409) or (b0175)\n",
      "rxn05337_c (b1093)\n",
      "rxn00994_c (b1694) or (b2221) or (b1694) or (b2222)\n",
      "rxn09182_c (b2536)\n",
      "rxn01477_c (b1851)\n",
      "rxn01653_c (b2912)\n",
      "rxn00474_c (b1260 and b1261)\n",
      "rxn03147_c (b2476)\n",
      "rxn08073_c (b0867) or (b0110) or (b4169) or (b0867) or (b2817) or (b2435)\n",
      "rxn03843_c (b0174)\n",
      "rxn01123_c (b3526)\n",
      "rxn08557_c (b2242 and b2241) or (b3426)\n",
      "rxn01842_c (b1398)\n",
      "rxn07949_c (b2836) or (b2836)\n",
      "rxn09022_c (b2035)\n",
      "rxn08343_c (b2964)\n",
      "rxn01116_c (b3386)\n",
      "rxn00606_c (b4239)\n",
      "rxn02811_c (b0071 and b0072) or (b0071) or (b0072)\n",
      "rxn05173_c (b4460) or (b1901) or (b1900)\n",
      "rxn03062_c (b0073)\n",
      "rxn00236_c (b3614)\n",
      "rxn10258_c (b4042)\n",
      "rxn08847_c (b3825)\n",
      "rxn05608_c (b4035) or (b4036)\n",
      "rxn00670_c (b2297)\n",
      "rxn01544_c (b0238)\n",
      "rxn00863_c (b2020)\n",
      "rxn09113_c (b1912)\n",
      "rxn00711_c (b2498)\n",
      "rxn05557_c (b4290) or (b4287) or (b4288)\n",
      "rxn09242_c (b2383) or (b3947) or (b2416) or (b2702) or (b2703) or (b2703) or (b2704)\n",
      "rxn01763_c (b0063)\n",
      "rxn00473_c (b3708)\n",
      "rxn08299_c (b4042)\n",
      "rxn08711_c (b3620)\n",
      "rxn01138_c (b4384) or (b2407)\n",
      "rxn02402_c (b0109)\n",
      "rxn00010_c (b0507)\n",
      "rxn05673_c (b3093)\n",
      "rxn05465_c (b1092) or (b1028) or (b1094)\n",
      "rxn08200_c (b3918)\n",
      "rxn12845_c (b2385) or (b4328) or (b0828) or (b0168) or (b4260) or (b4328) or (b0828) or (b0932) or (b2523)\n",
      "rxn00797_c (b0030) or (b0651) or (b2162)\n",
      "rxn08820_c (b3825)\n",
      "rxn05148_c (b2201) or (b2199) or (b2198) or (b2200)\n",
      "rxn05494_c (b4208) or (b4208)\n",
      "rxn03976_c (b3844)\n",
      "rxn05347_c (b2323) or (b1095)\n",
      "rxn06077_c (b1832) or (b4219)\n",
      "rxn04413_c (b1993) or (b1106)\n",
      "rxn00145_c (b3605)\n",
      "rxn08126_c (b3416)\n",
      "rxn03407_c (b3870)\n",
      "rxn08547_c (b4041)\n",
      "rxn01404_c (b2988)\n",
      "rxn01870_c (b2925)\n",
      "rxn08901_c (b2210)\n",
      "rxn00113_c (b2780)\n",
      "rxn00297_c (b3786)\n",
      "rxn00137_c (b4214)\n",
      "rxn00745_c (b1198) or (b1199) or (b2415) or (b1198) or (b1200) or (b1198) or (b1198)\n",
      "rxn06023_c (b2563)\n",
      "rxn05566_c (b2943)\n",
      "rxn03481_c (b2901) or (b3721) or (b2716)\n",
      "rxn00611_c (b3608)\n",
      "rxn05746_c (b0403)\n",
      "rxn01678_c (b2518)\n",
      "rxn02286_c (b0091)\n",
      "rxn00872_c (b1695)\n",
      "rxn00832_c (b4006)\n",
      "rxn04599_c (b2541)\n",
      "rxn01106_c (b3612) or (b0755) or (b4395)\n",
      "rxn12640_c (b2385) or (b4328) or (b0828) or (b0168) or (b4260) or (b4328) or (b0828) or (b0932) or (b2523)\n",
      "rxn00931_c (b0386)\n",
      "rxn00066_c (b0606) or (b0605)\n",
      "rxn08470_c (b0935)\n",
      "rxn09450_c (b1805)\n",
      "rxn00938_c (b1768)\n",
      "rxn08380_c (b3564)\n",
      "rxn04938_c (b0356)\n",
      "rxn05527_c (b0336)\n",
      "rxn05115_c (b0523)\n",
      "rxn00412_c (b2780)\n",
      "rxn00650_c (b2385) or (b4328) or (b0828) or (b0168) or (b4260) or (b4328) or (b0828) or (b0932) or (b2523)\n",
      "rxn03167_c (b0383)\n",
      "rxn00787_c (b2096) or (b3137) or (b3132)\n",
      "rxn05152_c (b0652) or (b0653) or (b0655) or (b0654)\n",
      "rxn00640_c (b2049) or (b2049)\n",
      "rxn01103_c (b2712) or (b0968)\n",
      "rxn01313_c (b0578)\n",
      "rxn04604_c (b0349)\n",
      "rxn00515_c (b2518)\n",
      "rxn08846_c (b3825)\n",
      "rxn03005_c (b2500)\n",
      "rxn03437_c (b3771)\n",
      "rxn01353_c (b2518)\n",
      "rxn10235_c (b4160)\n",
      "rxn12633_c (b2385) or (b4328) or (b0828) or (b0168) or (b4260) or (b4328) or (b0828) or (b0932) or (b2523)\n",
      "rxn00882_c (b2533)\n",
      "rxn04139_c (b0662)\n",
      "rxn00616_c (b2242) or (b2241) or (b3426)\n",
      "rxn00552_c (b0678)\n",
      "rxn01857_c (b1521)\n",
      "rxn06723_c (b0179)\n",
      "rxn00313_c (b2838)\n",
      "rxn02949_c (b2341) or (b3846)\n",
      "rxn00735_c (b0073)\n",
      "rxn08578_c (b3691)\n",
      "rxn00775_c (b3034)\n",
      "rxn02680_c (b3845) or (b2342) or (b3845) or (b2342)\n",
      "rxn03954_c (b4267)\n",
      "rxn04750_c (b2341) or (b3846)\n",
      "rxn08020_c (b2836) or (b2836) or (b1094)\n",
      "rxn05325_c (b1288)\n",
      "rxn08647_c (b3124)\n",
      "rxn11040_c (b2029)\n",
      "rxn03842_c (b0516)\n",
      "rxn08762_c (b0696) or (b0698) or (b0697)\n",
      "rxn05610_c (b1817) or (b1817) or (b1818) or (b2383) or (b3947) or (b2416) or (b1819)\n",
      "rxn08441_c (b0452)\n",
      "rxn08173_c (b3738) or (b3736) or (b3737) or (b3732 and b3731 and b3735 and b3733 and b3734 and b3739)\n",
      "rxn08803_c (b3825)\n",
      "rxn01053_c (b1415) or (b3588)\n",
      "rxn02312_c (b0774)\n",
      "rxn08025_c (b2901) or (b3721) or (b2716)\n",
      "rxn03422_c (b1746)\n",
      "rxn02895_c (b4005)\n",
      "rxn02934_c (b2341) or (b3846)\n",
      "rxn04651_c (b4094)\n",
      "rxn08089_c (b3018)\n",
      "rxn00189_c (b0032) or (b0033) or (b1524) or (b0485)\n",
      "rxn10269_c (b0418) or (b1278)\n",
      "rxn02508_c (b1262)\n",
      "rxn05442_c (b1288)\n",
      "rxn00543_c (b1241) or (b1478) or (b3589) or (b0325) or (b4269)\n",
      "rxn05402_c (b0954)\n",
      "rxn09992_c (b2901) or (b3721) or (b2716)\n",
      "rxn00420_c (b4388)\n",
      "rxn10253_c (b4042)\n",
      "rxn10207_c (b4041)\n",
      "rxn10221_c (b1409) or (b0175)\n",
      "rxn08475_c (b3409)\n",
      "rxn02792_c (b3447)\n",
      "rxn07979_c (b0180)\n",
      "rxn08935_c (b0403)\n",
      "rxn01363_c (b1692)\n",
      "rxn00469_c (b3957)\n",
      "rxn10266_c (b0418) or (b1278)\n",
      "rxn03917_c (b0222)\n",
      "rxn02804_c (b3845) or (b2342)\n",
      "rxn05005_c (b3368)\n",
      "rxn00160_c (b1800)\n",
      "rxn10203_c (b4041)\n",
      "rxn01395_c (b2373)\n",
      "rxn02939_c (b2320)\n",
      "rxn00048_c (b1662)\n",
      "rxn00265_c (b0616) or (b0617) or (b0615)\n",
      "rxn09315_c (b0896) or (b0895) or (b1589) or (b0894)\n",
      "rxn05231_c (b2235) or (b2234) or (b2674 and b2676 and b2675)\n",
      "rxn09200_c (b4160)\n",
      "rxn00283_c (b1190) or (b4053)\n",
      "rxn03962_c (b2052)\n",
      "rxn05373_c (b0180) or (b0954)\n",
      "rxn00726_c (b1263 and b1264)\n",
      "rxn00184_c (b1761) or (b3213) or (b3212)\n",
      "rxn00379_c (b2751) or (b2752)\n",
      "rxn08918_c (b3551)\n",
      "rxn01025_c (b0337)\n",
      "rxn08851_c (b3825)\n",
      "rxn05330_c (b0954) or (b0180)\n",
      "rxn02155_c (b0639)\n",
      "rxn00304_c (b1854) or (b1676)\n",
      "rxn09102_c (b0418) or (b1278)\n",
      "rxn08552_c (b4041)\n",
      "rxn05170_c (b4035) or (b4034) or (b4032) or (b4036) or (b4033)\n",
      "rxn01390_c (b3904)\n",
      "rxn02475_c (b0414)\n",
      "rxn05339_c (b1093)\n",
      "rxn05460_c (b2323) or (b1095)\n",
      "rxn09039_c (b3833)\n",
      "rxn05484_c (b2223)\n",
      "rxn03108_c (b2103)\n",
      "rxn10313_c (b3784)\n",
      "rxn00675_c (b4069)\n",
      "rxn01018_c (b4244) or (b4245)\n",
      "rxn05236_c (b4238)\n",
      "rxn00914_c (b0477)\n",
      "rxn08813_c (b3825)\n",
      "rxn05683_c (b2223)\n",
      "rxn05602_c (b3603)\n",
      "rxn00124_c (b1636) or (b2418)\n",
      "rxn03990_c (b2552)\n",
      "rxn08793_c (b3605)\n",
      "rxn00947_c (b1805)\n",
      "rxn03247_c (b2341) or (b3846)\n",
      "rxn10210_c (b4041)\n",
      "rxn01476_c (b0767)\n",
      "rxn00205_c (b1710)\n",
      "rxn03146_c (b0096)\n",
      "rxn03893_c (b4040)\n",
      "rxn02789_c (b0071 and b0072) or (b0071) or (b0072)\n",
      "rxn01370_c (b2066)\n",
      "rxn00988_c (b1805)\n",
      "rxn01506_c (b3223)\n",
      "rxn00410_c (b2780)\n",
      "rxn02102_c (b0517)\n",
      "rxn01333_c (b0008) or (b2464)\n",
      "rxn10257_c (b4042)\n",
      "rxn12510_c (b3974)\n",
      "rxn00116_c (b3614)\n",
      "rxn03933_c (b0090)\n",
      "rxn08943_c (b3417)\n",
      "rxn05342_c (b1093)\n",
      "rxn00407_c (b2065)\n",
      "rxn00333_c (b2979)\n",
      "rxn05146_c (b0652) or (b0653) or (b0655) or (b0654)\n",
      "rxn05737_c (b0935)\n",
      "rxn00414_c (b0033 and b0032)\n",
      "rxn08123_c (b0867) or (b0110) or (b4169) or (b0867) or (b2817) or (b2435)\n",
      "rxn09110_c (b1912)\n",
      "rxn03978_c (b4070)\n",
      "rxn05594_c (b0936) or (b0934) or (b0933)\n",
      "rxn00159_c (b1479)\n",
      "rxn05349_c (b1094)\n",
      "rxn00303_c (b3650) or (b2784)\n",
      "rxn09214_c (b0692)\n",
      "rxn05512_c (b0936) or (b0934) or (b0933)\n",
      "rxn00799_c (b1612) or (b1611) or (b4122)\n",
      "rxn07439_c (b1832)\n",
      "rxn01073_c (b3449)\n",
      "rxn02405_c (b0918)\n",
      "rxn00011_c (b0114) or (b3769 and b3671) or (b3769 and b0077) or (b3671 and b3670) or (b0077 and b3670) or (b3671 and b0078) or (b0077 and b0078)\n",
      "rxn01986_c (b4383)\n",
      "rxn02200_c (b3177) or (b0142)\n",
      "rxn00602_c (b2917)\n",
      "rxn01069_c (b0004)\n",
      "rxn05528_c (b0484) or (b3469)\n",
      "rxn00791_c (b1263)\n",
      "rxn03150_c (b0638)\n",
      "rxn05108_c (b0600)\n",
      "rxn00065_c (b3806)\n",
      "rxn00365_c (b2066)\n",
      "rxn08783_c (b2133) or (b1380)\n",
      "rxn00358_c (b2036)\n",
      "rxn02321_c (b3582) or (b4197)\n",
      "rxn08854_c (b2156)\n",
      "rxn01672_c (b2065)\n",
      "rxn02263_c (b2802)\n",
      "rxn05181_c (b2128) or (b2679) or (b2131) or (b2130) or (b2678) or (b2129) or (b2677)\n",
      "rxn05312_c (b2987) or (b3493)\n",
      "rxn08975_c (b4051) or (b1109) or (b1449)\n",
      "rxn01646_c (b4384)\n",
      "rxn00105_c (b4390) or (b0639)\n",
      "rxn08981_c (b0931)\n",
      "rxn03243_c (b3845) or (b2342) or (b3845) or (b2342)\n",
      "rxn03446_c (b0004)\n",
      "rxn01302_c (b0002) or (b3940)\n",
      "rxn00607_c (b3681)\n",
      "rxn02346_c (b3126)\n",
      "rxn00223_c (b3565)\n",
      "rxn01122_c (b3091)\n",
      "rxn00784_c (b4381)\n",
      "rxn06934_c (b4304) or (b2093) or (b4565) or (b2094) or (b4302)\n",
      "rxn05029_c (b2459) or (b1270) or (b2459)\n",
      "rxn08531_c (b4474)\n",
      "rxn11409_c (b3790)\n",
      "rxn00368_c (b2066)\n",
      "rxn04603_c (b0348)\n",
      "rxn00328_c (b1850)\n",
      "rxn02285_c (b3972)\n",
      "rxn02303_c (b2436)\n",
      "rxn03087_c (b3359)\n",
      "rxn05394_c (b0954)\n",
      "rxn08204_c (b3918)\n",
      "rxn00227_c (b2712) or (b0968)\n",
      "rxn05663_c (b3161) or (b0112) or (b3709)\n",
      "rxn00559_c (b2049) or (b1613)\n",
      "rxn08848_c (b3825)\n",
      "rxn00691_c (b1232)\n",
      "rxn08840_c (b3825)\n",
      "rxn05559_c (b0904) or (b2492)\n",
      "rxn03907_c (b2747)\n",
      "rxn01987_c (b3752)\n",
      "rxn03538_c (b1992)\n",
      "rxn02834_c (b2026)\n",
      "rxn01213_c (b0421)\n",
      "rxn07466_c (b1488)\n",
      "rxn00459_c (b2779)\n",
      "rxn01389_c (b3580)\n",
      "rxn00770_c (b1207)\n",
      "rxn05153_c (b2425 and b2422 and b2424 and b2423) or (b2413)\n",
      "rxn01314_c (b0578)\n",
      "rxn09193_c (b4111)\n",
      "rxn08806_c (b3825)\n",
      "rxn05436_c (b1288)\n",
      "rxn00076_c (b3996)\n",
      "rxn05209_c (b1186) or (b0019) or (b3196)\n",
      "rxn06377_c (b2903)\n",
      "rxn10234_c (b4160)\n",
      "rxn08444_c (b0452)\n",
      "rxn00175_c (b4069)\n",
      "rxn01366_c (b3831)\n",
      "rxn09003_c (b1467 and b1465 and b1468 and b1226) or (b1467 and b1465 and b1224 and b1226) or (b1467 and b1468 and b1226 and b1227) or (b1467 and b1224 and b1226 and b1227) or (b1465 and b1468 and b1226 and b1225) or (b1465 and b1224 and b1226 and b1225) or (b1468 and b1226 and b1225 and b1227) or (b1224 and b1226 and b1225 and b1227) or (b1467 and b1465 and b1468 and b1466) or (b1467 and b1465 and b1224 and b1466) or (b1467 and b1468 and b1227 and b1466) or (b1467 and b1224 and b1227 and b1466) or (b1465 and b1468 and b1225 and b1466) or (b1465 and b1224 and b1225 and b1466) or (b1468 and b1225 and b1227 and b1466) or (b1224 and b1225 and b1227 and b1466) or (b3365)\n",
      "rxn05579_c (b4111) or (b1801)\n",
      "rxn05165_c (b2678) or (b2679) or (b2677)\n",
      "rxn10163_c (b2344)\n",
      "rxn05572_c (b2789) or (b3127)\n",
      "rxn13892_c (b4106) or (b4105)\n",
      "rxn01143_c (b1238)\n",
      "rxn01647_c (b4384)\n",
      "rxn05618_c (b2392)\n",
      "rxn08241_c (b3816)\n",
      "rxn00260_c (b4054) or (b0928)\n",
      "rxn08023_c (b4481)\n",
      "rxn05204_c (b2964)\n",
      "rxn09001_c (b2205 and b2204 and b2203 and b2202) or (b1467 and b1465 and b1468 and b1226) or (b1467 and b1465 and b1224 and b1226) or (b1467 and b1468 and b1226 and b1227) or (b1467 and b1224 and b1226 and b1227) or (b1465 and b1468 and b1226 and b1225) or (b1465 and b1224 and b1226 and b1225) or (b1468 and b1226 and b1225 and b1227) or (b1224 and b1226 and b1225 and b1227) or (b1467 and b1465 and b1468 and b1466) or (b1467 and b1465 and b1224 and b1466) or (b1467 and b1468 and b1227 and b1466) or (b1467 and b1224 and b1227 and b1466) or (b1465 and b1468 and b1225 and b1466) or (b1465 and b1224 and b1225 and b1466) or (b1468 and b1225 and b1227 and b1466) or (b1224 and b1225 and b1227 and b1466)\n",
      "rxn02803_c (b0221)\n",
      "rxn00461_c (b3189)\n",
      "rxn05613_c (b0197 and b0198)\n",
      "rxn08234_c (b2389) or (b2389)\n",
      "rxn00817_c (b4119)\n",
      "rxn00669_c (b0335)\n",
      "rxn03856_c (b2091)\n",
      "rxn05652_c (b1599) or (b1600)\n",
      "rxn05247_c (b1805)\n",
      "rxn00858_c (b2937)\n",
      "rxn08354_c (b0896) or (b0895) or (b1589) or (b0894)\n",
      "rxn03136_c (b1131)\n",
      "rxn00222_c (b2132)\n",
      "rxn10229_c (b2585)\n",
      "rxn05287_c (b3187)\n",
      "rxn05123_c (b1297)\n",
      "rxn01387_c (b1136) or (b4519)\n",
      "rxn00818_c (b4119)\n",
      "rxn09101_c (b0418) or (b1278)\n",
      "rxn02937_c (b2499)\n",
      "rxn00540_c (b0352)\n",
      "rxn08810_c (b3825)\n",
      "rxn01652_c (b2551)\n",
      "rxn01615_c (b2799)\n",
      "rxn05493_c (b2587)\n",
      "rxn00350_c (b3447)\n",
      "rxn03137_c (b4006)\n",
      "rxn08715_c (b0484) or (b3469)\n",
      "rxn01115_c (b2029)\n",
      "rxn05462_c (b0180)\n",
      "rxn08818_c (b3825)\n",
      "rxn10267_c (b0418) or (b1278)\n",
      "rxn01128_c (b2066)\n",
      "rxn05239_c (b3781) or (b2762)\n",
      "rxn08312_c (b1409) or (b0175)\n",
      "rxn01396_c (b1636) or (b2418)\n",
      "rxn00161_c (b2463)\n",
      "rxn01961_c (b0480) or (b3779) or (b2502) or (b2744) or (b2744)\n",
      "rxn01517_c (b1098)\n",
      "rxn00371_c (b1501) or (b3893) or (b3894) or (b1474) or (b1476) or (b1475) or (b3892)\n",
      "rxn05044_c (b2374)\n",
      "rxn10226_c (b2585)\n",
      "rxn08896_c (b2134)\n",
      "rxn08040_c (b3784)\n",
      "rxn04662_c (b1692)\n",
      "rxn02021_c (b0304)\n",
      "rxn09211_c (b2585)\n",
      "rxn03141_c (b0086)\n",
      "rxn01807_c (b1636) or (b2418)\n",
      "rxn05006_c (b3368)\n",
      "rxn08255_c (b0037) or (b0037)\n",
      "rxn01840_c (b1385)\n",
      "rxn09234_c (b0849) or (b3610) or (b1064)\n",
      "rxn01299_c (b2162) or (b0030)\n",
      "rxn05331_c (b0954) or (b0180)\n",
      "rxn01800_c (b2143)\n",
      "rxn00533_c (b2316) or (b0185)\n",
      "rxn08309_c (b1409) or (b0175)\n",
      "rxn03060_c (b0334)\n",
      "rxn02476_c (b2600) or (b0908)\n",
      "rxn01512_c (b2518)\n",
      "rxn08655_c (b4468 and b2979 and b4467)\n",
      "rxn03841_c (b1096)\n",
      "rxn06865_c (b1054)\n",
      "rxn01084_c (b1270) or (b2459)\n",
      "rxn03249_c (b2341) or (b3846)\n",
      "rxn04113_c (b0029)\n",
      "rxn00676_c (b3845) or (b2342)\n",
      "rxn05551_c (b2452)\n",
      "rxn00713_c (b2066)\n",
      "rxn05603_c (b3528)\n",
      "rxn08258_c (b0036)\n",
      "rxn01257_c (b3360) or (b1812)\n",
      "rxn09272_c (b4154) or (b4151 and b0722 and b0721 and b4152) or (b4153) or (b0723) or (b0724)\n",
      "rxn00943_c (b0452)\n",
      "rxn00903_c (b3770)\n",
      "rxn00980_c (b3385)\n",
      "rxn00056_c (b3336)\n",
      "rxn08469_c (b0935)\n",
      "rxn00016_c (b1107)\n",
      "rxn03991_c (b2552)\n",
      "rxn02213_c (b1693)\n",
      "rxn05441_c (b1288)\n",
      "rxn07952_c (b2836) or (b2836)\n",
      "rxn07473_c (b2255)\n",
      "rxn03892_c (b3187)\n",
      "rxn00086_c (b3500)\n",
      "rxn08668_c (b3449)\n",
      "rxn01127_c (b0474)\n",
      "rxn08199_c (b3918)\n",
      "rxn02569_c (b1764)\n",
      "rxn05226_c (b1101) or (b3683) or (b3682) or (b1621) or (b3683) or (b3682) or (b1621) or (b4302) or (b1101) or (b2383) or (b3947) or (b2416) or (b2415) or (b2417)\n",
      "rxn08548_c (b1094) or (b4041)\n",
      "rxn00615_c (b3926)\n",
      "rxn08468_c (b0935)\n",
      "rxn02521_c (b4213)\n",
      "rxn05445_c (b1288)\n",
      "rxn00569_c (b3365) or (b3366)\n",
      "rxn05341_c (b1093)\n",
      "rxn03393_c (b3843)\n",
      "rxn08124_c (b0867) or (b0110) or (b4169) or (b0867) or (b2817) or (b2435)\n",
      "rxn05449_c (b1288)\n",
      "rxn10206_c (b4041)\n",
      "rxn00083_c (b1602) or (b3962) or (b1603) or (b1603)\n",
      "rxn00562_c (b0505)\n",
      "rxn00291_c (b1744)\n",
      "rxn07438_c (b1778)\n",
      "rxn00743_c (b0383)\n",
      "rxn10202_c (b4041)\n",
      "rxn01775_c (b1542) or (b4323)\n",
      "rxn03483_c (b4213)\n",
      "rxn01265_c (b0931)\n",
      "rxn00874_c (b3845) or (b2342) or (b2844) or (b2224)\n",
      "rxn00834_c (b2508)\n",
      "rxn11877_c (b3141)\n",
      "rxn00362_c (b2795)\n",
      "rxn08216_c (b0612)\n",
      "rxn05189_c (b4290 and b4288)\n",
      "rxn00704_c (b0688)\n",
      "rxn08703_c (b0261)\n",
      "rxn05252_c (b1805)\n",
      "rxn01671_c (b4390)\n",
      "rxn00241_c (b4161)\n",
      "rxn05627_c (b1469) or (b1223)\n",
      "rxn12642_c (b2385) or (b4328) or (b0828) or (b0168) or (b4260) or (b4328) or (b0828) or (b0932) or (b2523)\n",
      "rxn08130_c (b3833)\n",
      "rxn05313_c (b4020)\n",
      "rxn05154_c (b0861) or (b0864) or (b0862) or (b0863) or (b0860)\n",
      "rxn11702_c (b2264)\n",
      "rxn01332_c (b2601) or (b0754) or (b1704)\n",
      "rxn01510_c (b2066)\n",
      "rxn00785_c (b2935) or (b2465)\n",
      "rxn00693_c (b4019)\n",
      "rxn01351_c (b2781)\n",
      "rxn03909_c (b0420)\n",
      "rxn08287_c (b0431) or (b0432) or (b0430) or (b0721) or (b0734) or (b0979) or (b0429) or (b0733) or (b0978)\n",
      "rxn01101_c (b2913)\n",
      "rxn04602_c (b0347)\n",
      "rxn00355_c (b0758)\n",
      "rxn03084_c (b2557)\n",
      "rxn00513_c (b4394)\n",
      "rxn10233_c (b4160)\n",
      "rxn06600_c (b2905 and b2904)\n",
      "rxn03439_c (b3633)\n",
      "rxn00216_c (b2388)\n",
      "rxn02005_c (b4240) or (b4240) or (b2383) or (b3947) or (b2416)\n",
      "rxn08808_c (b3825)\n",
      "rxn00558_c (b4025)\n",
      "rxn12635_c (b2385) or (b4328) or (b0828) or (b0168) or (b4260) or (b4328) or (b0828) or (b0932) or (b2523)\n",
      "rxn00346_c (b0131)\n",
      "rxn05297_c (b4077) or (b4077)\n",
      "rxn01859_c (b4384) or (b2407)\n",
      "rxn00194_c (b1493) or (b3517)\n",
      "rxn00806_c (b3770)\n",
      "rxn05328_c (b1288)\n",
      "rxn05160_c (b3748) or (b3751) or (b3750) or (b3749)\n",
      "rxn05024_c (b2262)\n",
      "rxn05361_c (b0180) or (b0954)\n",
      "rxn01851_c (b1444)\n",
      "rxn09167_c (b0871)\n",
      "rxn08178_c (b3551) or (b3551) or (b3551)\n",
      "rxn05201_c (b4064) or (b4464)\n",
      "rxn00507_c (b3011) or (b0493) or (b3003) or (b3588)\n",
      "rxn01093_c (b0594)\n",
      "rxn09449_c (b1805)\n",
      "rxn03630_c (b0368)\n",
      "rxn05323_c (b1288)\n",
      "rxn05656_c (b0936) or (b0934) or (b0933)\n",
      "rxn05616_c (b3816)\n",
      "rxn05691_c (b2801)\n",
      "rxn01911_c (b3575)\n",
      "rxn08805_c (b3825)\n",
      "rxn01507_c (b0480) or (b2744) or (b3779) or (b2502) or (b2744)\n",
      "rxn01790_c (b0425)\n",
      "rxn00077_c (b2615)\n",
      "rxn01388_c (b1276) or (b0118) or (b0771)\n",
      "rxn05470_c (b2975)\n",
      "rxn03638_c (b3730)\n",
      "rxn05438_c (b1288)\n",
      "rxn02897_c (b1991)\n",
      "rxn01541_c (b0030) or (b0651) or (b2162)\n",
      "rxn05126_c (b1300)\n",
      "rxn01406_c (b0121)\n",
      "rxn01446_c (b4384) or (b2407)\n",
      "rxn10309_c (b3784)\n",
      "rxn05249_c (b1805)\n",
      "rxn01816_c (b3939)\n",
      "rxn02056_c (b3368)\n",
      "rxn01068_c (b3616)\n",
      "rxn02277_c (b1593) or (b0778)\n",
      "rxn03504_c (b3135) or (b0677)\n",
      "rxn10223_c (b1409) or (b0175)\n",
      "rxn02596_c (b4119)\n",
      "rxn10260_c (b1912)\n",
      "rxn01990_c (b3126)\n",
      "rxn00166_c (b2366)\n",
      "rxn00541_c (b0870)\n",
      "rxn03075_c (b2104)\n",
      "rxn01368_c (b2143)\n",
      "rxn00851_c (b0092) or (b0381)\n",
      "rxn01480_c (b2341) or (b3846)\n",
      "rxn00301_c (b2781)\n",
      "rxn09199_c (b4160)\n",
      "rxn00892_c (b1119)\n",
      "rxn05233_c (b2235) or (b3781) or (b2234) or (b2674 and b2676 and b2675)\n",
      "rxn09109_c (b1912)\n",
      "rxn02003_c (b2040)\n",
      "rxn01200_c (b2935) or (b2465)\n",
      "rxn00377_c (b2154) or (b0355)\n",
      "rxn08558_c (b2242 and b2241) or (b3426)\n",
      "rxn01241_c (b0116) or (b0304) or (b0116)\n",
      "rxn05332_c (b0954) or (b0180)\n",
      "rxn00438_c (b0417)\n",
      "rxn00288_c (b4152) or (b0722) or (b0721) or (b4151)\n",
      "rxn00763_c (b1241) or (b1478) or (b3589) or (b0325) or (b4269)\n",
      "rxn08550_c (b4041)\n",
      "rxn05176_c (b2422) or (b2425)\n",
      "rxn00007_c (b1197) or (b3519) or (b3519)\n",
      "rxn08811_c (b3825)\n",
      "rxn02473_c (b2022)\n",
      "rxn01275_c (b3437) or (b4268)\n",
      "rxn08347_c (b3553)\n",
      "rxn08869_c (b4035) or (b4036)\n",
      "rxn08656_c (b4468 and b2979 and b4467)\n",
      "rxn10315_c (b3784)\n",
      "rxn01434_c (b3172)\n",
      "rxn00912_c (b0134)\n",
      "rxn09069_c (b0849) or (b3610) or (b1064)\n",
      "rxn08819_c (b3825)\n",
      "rxn02345_c (b2341) or (b3846)\n",
      "rxn08898_c (b0839) or (b3182) or (b2010) or (b0632)\n",
      "rxn00122_c (b0025)\n",
      "rxn08897_c (b2134)\n",
      "rxn06076_c (b2235) or (b2234) or (b2674 and b2676 and b2675)\n",
      "rxn00985_c (b3115)\n",
      "rxn01011_c (b1033)\n",
      "rxn08278_c (b0341)\n",
      "rxn05301_c (b0112) or (b1907)\n",
      "rxn08890_c (b0839) or (b3182) or (b2010) or (b0632)\n",
      "rxn08294_c (b4042)\n",
      "rxn05179_c (b3456) or (b3457) or (b3460) or (b3455) or (b3454)\n",
      "rxn10259_c (b1912)\n",
      "rxn01602_c (b1606) or (b0048)\n",
      "rxn02302_c (b3939)\n",
      "rxn03068_c (b3774)\n",
      "rxn04661_c (b1692)\n",
      "rxn01761_c (b3903)\n",
      "rxn08467_c (b0935)\n",
      "rxn03061_c (b1276) or (b0118)\n",
      "rxn02927_c (b1745)\n",
      "rxn05433_c (b1288)\n",
      "rxn05344_c (b2323) or (b1095)\n",
      "rxn00114_c (b0521)\n",
      "rxn03241_c (b2341) or (b3846)\n",
      "rxn08713_c (b3623)\n",
      "rxn01521_c (b2744) or (b0480) or (b2744) or (b3779) or (b2502) or (b2744)\n",
      "rxn12636_c (b2385) or (b4328) or (b0828) or (b0168) or (b4260) or (b4328) or (b0828) or (b0932) or (b2523)\n",
      "rxn03394_c (b2906)\n",
      "rxn01832_c (b3011)\n",
      "rxn09012_c (b4394)\n",
      "rxn08620_c (b3626)\n",
      "rxn05596_c (b3350) or (b0047)\n",
      "rxn00338_c (b2574)\n",
      "rxn02373_c (b0243)\n",
      "rxn01893_c (b0350)\n",
      "rxn01649_c (b4384) or (b2407)\n",
      "rxn03839_c (b0219)\n",
      "rxn00085_c (b3213 and b3212)\n",
      "rxn00119_c (b0171)\n",
      "rxn02529_c (b0340)\n",
      "rxn00709_c (b2066)\n",
      "rxn08667_c (b0049)\n",
      "rxn08158_c (b4194) or (b4195) or (b4193)\n",
      "rxn00063_c (b0905) or (b2781)\n",
      "rxn04453_c (b1970)\n",
      "rxn08549_c (b1094) or (b4041)\n",
      "rxn08179_c (b3551) or (b3551)\n",
      "rxn00608_c (b2901) or (b3721) or (b2716)\n",
      "rxn05447_c (b1288)\n",
      "rxn01466_c (b0421)\n",
      "rxn05187_c (b1709) or (b1711) or (b0158)\n",
      "rxn01304_c (b4013)\n",
      "rxn03409_c (b3870)\n",
      "rxn03885_c (b1581) or (b4322)\n",
      "rxn08213_c (b1801) or (b0314)\n",
      "rxn01674_c (b2066)\n",
      "rxn00974_c (b1276) or (b0118) or (b0771)\n",
      "rxn04601_c (b0347)\n",
      "rxn00605_c (b1896)\n",
      "rxn04142_c (b0870)\n",
      "rxn08202_c (b3918)\n",
      "rxn02008_c (b0088)\n",
      "rxn05740_c (b3417) or (b3428)\n",
      "rxn09203_c (b4160)\n",
      "rxn03904_c (b0087)\n",
      "rxn01225_c (b2883)\n",
      "rxn01679_c (b2066)\n",
      "rxn01171_c (b0756)\n",
      "rxn00835_c (b0477)\n",
      "rxn02288_c (b3997)\n",
      "rxn10199_c (b3396) or (b0149)\n",
      "rxn00783_c (b4477)\n",
      "rxn00409_c (b2518)\n",
      "rxn02831_c (b2260)\n",
      "rxn00598_c (b1397)\n",
      "rxn08015_c (b1094)\n",
      "rxn01258_c (b2265) or (b0593) or (b2265) or (b0593) or (b0593)\n",
      "rxn08842_c (b3825)\n",
      "rxn01538_c (b1106)\n",
      "rxn00840_c (b1854) or (b1676)\n",
      "rxn02128_c (b3974)\n",
      "rxn00778_c (b4383)\n",
      "rxn02518_c (b2954)\n",
      "rxn03901_c (b3057)\n",
      "rxn01985_c (b4384) or (b2407)\n",
      "rxn00808_c (b0757)\n",
      "rxn02832_c (b2261)\n",
      "rxn01747_c (b0516)\n",
      "rxn05621_c (b0936) or (b0934) or (b0933)\n",
      "rxn10052_c (b0474)\n",
      "rxn00946_c (b0221)\n",
      "rxn00193_c (b3967)\n",
      "rxn02517_c (b2518)\n",
      "rxn05326_c (b1288)\n",
      "rxn05197_c (b1006) or (b2497) or (b2497)\n",
      "rxn05114_c (b0522)\n",
      "rxn03164_c (b0086)\n",
      "rxn05155_c (b0809) or (b0810) or (b0811)\n",
      "rxn03251_c (b0221)\n",
      "rxn00929_c (b0386)\n",
      "rxn08800_c (b3825)\n",
      "rxn02166_c (b0383)\n",
      "rxn00342_c (b1767) or (b2957)\n",
      "rxn00256_c (b0720)\n",
      "rxn08335_c (b0945)\n",
      "rxn01403_c (b2988)\n",
      "rxn03004_c (b2500)\n",
      "rxn10232_c (b4160)\n",
      "rxn00138_c (b1740)\n",
      "rxn08942_c (b3417) or (b3428)\n",
      "rxn06729_c (b1094) or (b0181)\n",
      "rxn07977_c (b0180) or (b0954)\n",
      "rxn05168_c (b3456) or (b3457) or (b3460) or (b3455) or (b3454)\n",
      "rxn00347_c (b4139)\n",
      "rxn02167_c (b2341) or (b3846)\n",
      "rxn01858_c (b1623)\n",
      "rxn01621_c (b3902)\n",
      "rxn05128_c (b1298)\n",
      "rxn10770_c (b1241) or (b1478) or (b3589) or (b0325) or (b4269) or (b0311)\n",
      "rxn00231_c (b0219)\n",
      "rxn10161_c (b2344)\n",
      "rxn03953_c (b4267)\n",
      "rxn02297_c (b0776)\n",
      "rxn01799_c (b4384)\n",
      "rxn00504_c (b1014)\n",
      "rxn04751_c (b1393)\n",
      "rxn08021_c (b2836) or (b2836) or (b1094)\n",
      "rxn08396_c (b1288)\n",
      "rxn01485_c (b3176)\n",
      "rxn09104_c (b0418) or (b1278)\n",
      "rxn05206_c (b0808)\n",
      "rxn05659_c (b1006)\n",
      "rxn03031_c (b0166)\n",
      "rxn09207_c (b2585)\n",
      "rxn09296_c (b2480)\n",
      "rxn00239_c (b3648)\n",
      "rxn00441_c (b0726)\n",
      "rxn08781_c (b0343)\n",
      "rxn00302_c (b2153)\n",
      "rxn03250_c (b2341) or (b3846)\n",
      "rxn02465_c (b3958)\n",
      "rxn02222_c (b0219)\n",
      "rxn03130_c (b0524)\n",
      "rxn01791_c (b0133)\n",
      "rxn01710_c (b1241) or (b1478) or (b3589) or (b0325) or (b4269)\n",
      "rxn00183_c (b1014)\n",
      "rxn08356_c (b0896) or (b0895) or (b1589) or (b0894)\n",
      "rxn00623_c (b2763 and b2764)\n",
      "rxn09107_c (b0418) or (b1278)\n",
      "rxn08100_c (b1325)\n",
      "rxn10308_c (b3784)\n",
      "rxn06526_c (b4136)\n",
      "rxn01329_c (b2048) or (b2048)\n",
      "rxn00950_c (b3008)\n",
      "rxn00002_c (b0712 and b0711)\n",
      "rxn02507_c (b1262)\n",
      "rxn10268_c (b0418) or (b1278)\n",
      "rxn08043_c (b3671) or (b0077) or (b3769) or (b3670) or (b0078)\n",
      "rxn05937_c (b3924)\n",
      "rxn08131_c (b3994)\n",
      "rxn10220_c (b1409) or (b0175)\n",
      "rxn10261_c (b1912)\n",
      "rxn00990_c (b1694) or (b2222) or (b1694) or (b2221)\n",
      "rxn08076_c (b0867) or (b0110) or (b4169) or (b0867) or (b2817) or (b2435)\n",
      "rxn01964_c (b1260 and b1261)\n",
      "rxn08816_c (b3825)\n",
      "rxn02341_c (b3639)\n",
      "rxn03511_c (b3619)\n",
      "rxn06591_c (b1210)\n",
      "rxn01519_c (b3640)\n",
      "rxn01137_c (b1623)\n",
      "rxn03182_c (b3633)\n",
      "rxn01343_c (b3916)\n",
      "rxn05646_c (b3907)\n",
      "rxn01394_c (b3903)\n",
      "rxn01080_c (b3092)\n",
      "rxn10255_c (b4042)\n",
      "rxn08797_c (b3825)\n",
      "rxn00127_c (b0120)\n",
      "rxn05232_c (b4238)\n",
      "rxn09108_c (b1912)\n",
      "rxn00224_c (b1019) or (b0475)\n",
      "rxn08619_c (b3627)\n",
      "rxn01513_c (b1098)\n",
      "rxn05333_c (b0954)\n",
      "rxn06510_c (b3845) or (b2342) or (b3845) or (b2342)\n",
      "rxn04016_c (b1519)\n",
      "rxn02186_c (b3774)\n",
      "rxn08307_c (b1409) or (b0175)\n",
      "rxn05177_c (b0067 and b0066 and b0068)\n",
      "rxn03066_c (b3791)\n",
      "rxn00209_c (b1638)\n",
      "rxn01274_c (b0212)\n",
      "rxn02474_c (b0414)\n",
      "rxn04783_c (b1849)\n",
      "rxn00604_c (b1852)\n",
      "rxn08657_c (b4468 and b2979 and b4467)\n",
      "rxn12645_c (b2385) or (b4328) or (b0828) or (b0168) or (b4260) or (b4328) or (b0828) or (b0932) or (b2523)\n",
      "rxn00274_c (b3617)\n",
      "rxn10312_c (b3784)\n",
      "rxn05306_c (b0112 and b0576)\n",
      "rxn05605_c (b4138) or (b4123)\n",
      "rxn00674_c (b0335)\n",
      "rxn10188_c (b3666)\n",
      "rxn02929_c (b0031)\n",
      "rxn00104_c (b2501)\n",
      "rxn00715_c (b2066)\n",
      "rxn01019_c (b4254) or (b0273)\n",
      "rxn05518_c (b2715) or (b2715)\n",
      "rxn08879_c (b3666)\n",
      "rxn08849_c (b3825)\n",
      "rxn09448_c (b1805)\n",
      "rxn00525_c (b2600)\n",
      "rxn09208_c (b2585)\n",
      "rxn02666_c (b1539)\n",
      "rxn08263_c (b0040)\n",
      "rxn08260_c (b0037) or (b0037)\n",
      "rxn05439_c (b1288)\n",
      "rxn09014_c (b2781)\n",
      "rxn00014_c (b3518)\n",
      "rxn08295_c (b4042)\n",
      "rxn05638_c (b4111) or (b0402)\n",
      "rxn07475_c (b2255)\n",
      "rxn02914_c (b0907)\n",
      "rxn01603_c (b2315)\n",
      "rxn00686_c (b1606) or (b0048)\n",
      "rxn09112_c (b1912)\n",
      "rxn00157_c (b3951) or (b3114) or (b0903) or (b0823)\n",
      "rxn03194_c (b3769 and b3671) or (b3769 and b0077) or (b3671 and b3670) or (b0077 and b3670) or (b3671 and b0078) or (b0077 and b0078)\n",
      "rxn09232_c (b3610)\n",
      "rxn06075_c (b2235) or (b2234) or (b2674 and b2676 and b2675)\n",
      "rxn00689_c (b2315)\n",
      "rxn08129_c (b3416)\n",
      "rxn05289_c (b0888)\n",
      "rxn01973_c (b2472)\n",
      "rxn00117_c (b2518)\n",
      "rxn05343_c (b2323) or (b1095)\n",
      "rxn01520_c (b2827)\n",
      "rxn03395_c (b2232) or (b2232)\n",
      "rxn00330_c (b2976) or (b4014)\n",
      "rxn05736_c (b1805)\n",
      "rxn03445_c (b0907)\n",
      "rxn02246_c (b2421)\n",
      "rxn09256_c (b1981)\n",
      "rxn11663_c (b0052)\n",
      "rxn01226_c (b0030)\n",
      "rxn00493_c (b4054) or (b2021) or (b0928)\n",
      "rxn08298_c (b4042)\n",
      "rxn01834_c (b1651)\n",
      "rxn00293_c (b3730)\n",
      "rxn05491_c (b3664) or (b2964) or (b3714)\n",
      "rxn00701_c (b0758)\n",
      "rxn00367_c (b2781)\n",
      "rxn00839_c (b2518)\n",
      "rxn03838_c (b4119)\n",
      "rxn21857_c (b1093)\n",
      "rxn26307_c (b3901)\n",
      "rxn23043_c (b3993)\n",
      "rxn16573_c (b3412)\n",
      "rxn41896_c (b0785)\n",
      "rxn21729_c (b0826)\n",
      "rxn45425_c (b0781)\n",
      "rxn21863_c (b1288)\n",
      "rxn14159_c (b3924)\n",
      "rxn45996_c (b0783)\n",
      "rxn40037_c (b2478)\n",
      "rxn21862_c (b0180)\n",
      "rxn39452_c (b0031)\n",
      "rxn16611_c (b0222)\n",
      "rxn16583_c (b0827)\n",
      "rxn27289_c (b3991)\n",
      "rxn16615_c (b2257)\n",
      "rxn21859_c (b1288)\n",
      "rxn42230_c (b2459) or (b1270) or (b2459)\n",
      "rxn44539_c (b3857)\n",
      "rxn15337_c (b3903)\n",
      "rxn07455_c (b0954) or (b0954)\n",
      "rxn26361_c (b2877)\n",
      "rxn47768_c (b2323) or (b1095)\n",
      "rxn10506_c (b0414)\n",
      "rxn15338_c (b3903)\n",
      "rxn20643_c (b3994)\n",
      "rxn41452_c (b0777)\n",
      "rxn21864_c (b0776)\n",
      "rxn39451_c (b0031)\n",
      "rxn21858_c (b0180)\n",
      "rxn46694_c (b2311)\n",
      "rxn21861_c (b1093)\n",
      "rxn40439_c (b0774)\n",
      "rxn24830_c (b0785)\n",
      "rxn42709_c (b3990)\n",
      "rxn17731_c (b0775)\n",
      "rxn16574_c (b0009)\n",
      "rxn25839_c (b3992)\n",
      "rxn26021_c (b3857)\n",
      "rxn21860_c (b2323)\n",
      "rxn23042_c (b3993)\n",
      "rxn41683_c (b3857)\n",
      "rxn14427_c (b1468) or (b1224) or (b1226) or (b1466) or (b1467) or (b1225) or (b2203) or (b2204) or (b2202) or (b3366) or (b1465) or (b1227) or (b2206) or (b3365) or (b2205)\n",
      "rxn15334_c (b0512)\n",
      "rxn00154_c (b0116) or (b0115) or (b0114) or (b0116)\n",
      "rxn16680_c (b1394) or (b1397)\n",
      "rxn16149_c (b1008) or (b1539)\n",
      "rxn07436_c (b2794)\n",
      "rxn16826_c (b1011)\n",
      "rxn16794_c (b1011)\n",
      "rxn16828_c (b1010)\n",
      "rxn16776_c (b1012)\n",
      "rxn16829_c (b1009)\n",
      "rxn28338_c (b3939)\n",
      "rxn15395_c (b3939)\n",
      "rxn15972_c (b3957)\n",
      "rxn03396_c (b2907)\n",
      "rxn15296_c (b1851)\n",
      "rxn15293_c (b3092)\n",
      "rxn13741_c (b1014)\n",
      "rxn10415_c (b1918) or (b1917) or (b1920)\n",
      "rxn08676_c (b0830) or (b0829) or (b0831) or (b0832)\n",
      "rxn08070_c (b1709) or (b1711) or (b0158)\n",
      "rxn08098_c (b3540) or (b3544) or (b3541) or (b3542) or (b3543)\n",
      "rxn27342_c (b1736) or (b1738) or (b1737)\n",
      "rxn08048_c (b2429) or (b2429)\n",
      "rxn08882_c (b0731) or (b0731) or (b0731)\n",
      "rxn09195_c (b3370)\n",
      "rxn08533_c (b3370)\n",
      "rxn44043_c (b4141)\n",
      "rxn13339_c (b4141)\n",
      "rxn13321_c (b4141)\n",
      "rxn08233_c (b0155)\n",
      "rxn42976_c (b3502)\n",
      "rxn29120_c (b3240) or (b3241)\n",
      "rxn09037_c (b3187)\n",
      "rxn43581_c (b2515)\n",
      "rxn16679_c (b1391) or (b1388) or (b1392) or (b1389) or (b1390)\n",
      "rxn14146_c (b2395) or (b1815) or (b1489) or (b0833) or (b3529) or (b1285) or (b4061) or (b3525) or (b0315)\n",
      "rxn26305_c (b2804)\n",
      "rxn26456_c (b4096) or (b4100) or (b4099) or (b4101)\n",
      "rxn26457_c (b4095)\n",
      "rxn23336_c (b0630)\n",
      "rxn15699_c (b4386)\n",
      "rxn08508_c (b0591)\n",
      "rxn13827_c (b0583)\n",
      "rxn26127_c (b3417) or (b3428)\n",
      "rxn26447_c (b4092)\n"
     ]
    }
   ],
   "source": [
    "for template_reaction in template.reactions:\n",
    "    gpr_set = get_gpr_from_template_reaction(template_reaction)\n",
    "    if gpr_set:\n",
    "        print(template_reaction.id, build_gpr(gpr_set))"
   ]
  },
  {
   "cell_type": "code",
   "execution_count": 318,
   "metadata": {},
   "outputs": [
    {
     "data": {
      "text/plain": [
       "''"
      ]
     },
     "execution_count": 318,
     "metadata": {},
     "output_type": "execute_result"
    }
   ],
   "source": [
    "build_gpr({})"
   ]
  },
  {
   "cell_type": "code",
   "execution_count": null,
   "metadata": {},
   "outputs": [],
   "source": []
  },
  {
   "cell_type": "code",
   "execution_count": 254,
   "metadata": {},
   "outputs": [
    {
     "data": {
      "text/plain": [
       "{'cpx': [[{'c': 'pykAF'}, {'a': 'pykB'}, {'b': 'pykC'}],\n",
       "  [{\"c'\": 'pykAF'}, {'a': 'pykB'}, {'b': 'pykC'}]]}"
      ]
     },
     "execution_count": 254,
     "metadata": {},
     "output_type": "execute_result"
    }
   ],
   "source": [
    "{'cpx': [[{'c': 'pykAF'}, {'a': 'pykB'}, {'b': 'pykC'}], [{\"c'\": 'pykAF'}, {'a': 'pykB'}, {'b': 'pykC'}]]}"
   ]
  },
  {
   "cell_type": "code",
   "execution_count": 201,
   "metadata": {},
   "outputs": [
    {
     "data": {
      "text/plain": [
       "{'rxn09272_c': {'sdh': [{'b0721': 'sdhC',\n",
       "    'b0722': 'sdhD',\n",
       "    'b0723': 'sdhA',\n",
       "    'b0724': 'sdhB'}]},\n",
       " 'rxn00148_c': {'pyk': [{'b1676': 'pykAF'}, {'b1854': 'pykAF'}]}}"
      ]
     },
     "execution_count": 201,
     "metadata": {},
     "output_type": "execute_result"
    }
   ],
   "source": [
    "metabolic_reactions_2_expect = {\n",
    "    'rxn09272_c': {\n",
    "        'sdh': [{'b0721': 'sdhC', 'b0722': 'sdhD', 'b0723': 'sdhA', 'b0724': 'sdhB'}]\n",
    "    },\n",
    "    'rxn00148_c': {\n",
    "        'pyk': [{'b1676': 'pykAF'}, {'b1854': 'pykAF'}]\n",
    "    }\n",
    "}\n",
    "metabolic_reactions_2_expect"
   ]
  },
  {
   "cell_type": "code",
   "execution_count": 306,
   "metadata": {},
   "outputs": [
    {
     "name": "stdout",
     "output_type": "stream",
     "text": [
      "(b0721 and b0722 and b0724 and b0723)\n",
      "(g1 and g3) or (g2 and g3)\n"
     ]
    }
   ],
   "source": [
    "def build_gpr(cpx_gene_role):\n",
    "    # save cpx_id and role_id in reaction annotation for KBase object\n",
    "    gpr_or_ll = []\n",
    "    for cpx_id in cpx_gene_role:\n",
    "        #print(cpx_id)\n",
    "        for complex_set in cpx_gene_role[cpx_id]:\n",
    "            #print(complex_set)\n",
    "            gpr_or_ll.append(\"({})\".format(' and '.join(set(complex_set))))\n",
    "    \n",
    "    return ' or '.join(gpr_or_ll)\n",
    "print(build_gpr({'sdh': [{'b0721': 'sdhC', 'b0722': 'sdhD', 'b0723': 'sdhA', 'b0724': 'sdhB'}]}))\n",
    "print(build_gpr({'cpx1': [{'g1': 'role1', 'g3': 'role2'}, {'g2': 'role1', 'g3': 'role2'}]}))"
   ]
  },
  {
   "cell_type": "code",
   "execution_count": null,
   "metadata": {},
   "outputs": [],
   "source": [
    "mrp0 = {\n",
    "    'complex_ref': '~/template/complexes/name/sdh',\n",
    "    'modelReactionProteinSubunits': [\n",
    "        {'feature_refs': ['~/genome/features/id/b0721'], 'note': '', 'optionalSubunit': 0, 'role': 'sdhC', 'triggering': 1},\n",
    "        {'feature_refs': ['~/genome/features/id/b0722'], 'note': '', 'optionalSubunit': 0, 'role': 'sdhD', 'triggering': 1},\n",
    "        {'feature_refs': ['~/genome/features/id/b0723'], 'note': '', 'optionalSubunit': 0, 'role': 'sdhA', 'triggering': 1},\n",
    "        {'feature_refs': ['~/genome/features/id/b0724'], 'note': '', 'optionalSubunit': 0, 'role': 'sdhB', 'triggering': 1}\n",
    "    ],\n",
    "   'note': '',\n",
    "   'source': ''}\n",
    "mrp1 = {\n",
    "    'complex_ref': '~/template/complexes/name/pyk',\n",
    "    'modelReactionProteinSubunits': [\n",
    "        {'feature_refs': ['~/genome/features/id/b1676'], 'note': '', 'optionalSubunit': 0, 'role': 'pykAF', 'triggering': 1}\n",
    "    ],\n",
    "   'note': '',\n",
    "   'source': ''}\n",
    "mrp1 = {\n",
    "    'complex_ref': '~/template/complexes/name/pyk',\n",
    "    'modelReactionProteinSubunits': [\n",
    "        {'feature_refs': ['~/genome/features/id/b1854'], 'note': '', 'optionalSubunit': 0, 'role': 'pykAF', 'triggering': 1}\n",
    "    ],\n",
    "   'note': '',\n",
    "   'source': ''}\n",
    "mrps = [\n",
    "    mrp0\n",
    "]\n",
    "mrps"
   ]
  },
  {
   "cell_type": "code",
   "execution_count": 64,
   "metadata": {},
   "outputs": [
    {
     "data": {
      "text/plain": [
       "{'complexroles': [{'optional_role': 0,\n",
       "   'templaterole_ref': '~/roles/id/ftr01381',\n",
       "   'triggering': 1}],\n",
       " 'confidence': 1,\n",
       " 'id': 'cpx01814',\n",
       " 'name': 'mscpx.1814',\n",
       " 'reference': 'null',\n",
       " 'source': 'ModelSEED'}"
      ]
     },
     "execution_count": 64,
     "metadata": {},
     "output_type": "execute_result"
    }
   ],
   "source": [
    "cpx"
   ]
  },
  {
   "cell_type": "code",
   "execution_count": 54,
   "metadata": {},
   "outputs": [
    {
     "data": {
      "text/plain": [
       "\u001b[0;31mType:\u001b[0m            NewModelTemplateReaction\n",
       "\u001b[0;31mString form:\u001b[0m     rxn00154_c: cpd00003_c [c] + cpd00010_c [c] + cpd00020_c [c] --> cpd00004_c [c] + cpd00011_c [c] + cpd00022_c [c]\n",
       "\u001b[0;31mLength:\u001b[0m          16\n",
       "\u001b[0;31mFile:\u001b[0m            /usr/local/lib/python3.8/site-packages/cobrakbase/core/kbasefba/new_template_reaction.py\n",
       "\u001b[0;31mDocstring:\u001b[0m       <no docstring>\n",
       "\u001b[0;31mClass docstring:\u001b[0m Base object to use for subobjects in KBase objects\n"
      ]
     },
     "metadata": {},
     "output_type": "display_data"
    }
   ],
   "source": [
    "?template_reaction"
   ]
  },
  {
   "cell_type": "code",
   "execution_count": 51,
   "metadata": {},
   "outputs": [
    {
     "data": {
      "text/plain": [
       "{'cpx01664': {'ftr00229'}}"
      ]
     },
     "execution_count": 51,
     "metadata": {},
     "output_type": "execute_result"
    }
   ],
   "source": [
    "template_reaction.get_complex_roles()"
   ]
  },
  {
   "cell_type": "code",
   "execution_count": 47,
   "metadata": {},
   "outputs": [
    {
     "data": {
      "text/plain": [
       "set()"
      ]
     },
     "execution_count": 47,
     "metadata": {},
     "output_type": "execute_result"
    }
   ],
   "source": [
    "rxn_roles['rxn00148_c']"
   ]
  },
  {
   "cell_type": "code",
   "execution_count": 52,
   "metadata": {},
   "outputs": [],
   "source": [
    "def aux_template(template):\n",
    "    rxn_roles = {}\n",
    "    roles = dict(map(lambda x: (x['id'], x), template.roles))\n",
    "    for r in template.reactions:\n",
    "        rxn_roles[r.id] = set()\n",
    "        complex_roles = r.get_complex_roles()\n",
    "        #print(complex_roles)\n",
    "        if len(complex_roles) > 0:\n",
    "            for cpx_id in complex_roles:\n",
    "                for role_id in complex_roles[cpx_id]:\n",
    "                    rxn_roles[r.id].add(normalize_role(roles[role_id]['name']))\n",
    "                    # print(role_id, normalize_role(roles[role_id]['name']))\n",
    "    return rxn_roles\n",
    "rxn_roles = aux_template(template)"
   ]
  },
  {
   "cell_type": "code",
   "execution_count": 68,
   "metadata": {},
   "outputs": [],
   "source": [
    "metabolic_reactions = {}\n",
    "genome_search_names = set(search_name_to_genes)\n",
    "for rxn_id in rxn_roles:\n",
    "    sn_set = set(genome_search_names & rxn_roles[rxn_id])\n",
    "    if len(sn_set) > 0:\n",
    "        genes = set()\n",
    "        # print(rxn_id, sn_set)\n",
    "        for sn in sn_set:\n",
    "            if sn in search_name_to_genes:\n",
    "                genes |= search_name_to_genes[sn]\n",
    "        metabolic_reactions[rxn_id] = genes\n",
    "\n",
    "# temporary hack until proper complexes from template\n",
    "metabolic_reactions_2 = {}\n",
    "cpx_random = 0\n",
    "for rxn_id in metabolic_reactions:\n",
    "    metabolic_reactions_2[rxn_id] = {}\n",
    "    for gene_id in metabolic_reactions[rxn_id]:\n",
    "        metabolic_reactions_2[rxn_id]['complex' + str(cpx_random)] = {gene_id}\n",
    "        cpx_random += 1"
   ]
  },
  {
   "cell_type": "code",
   "execution_count": null,
   "metadata": {},
   "outputs": [],
   "source": []
  },
  {
   "cell_type": "code",
   "execution_count": null,
   "metadata": {},
   "outputs": [],
   "source": []
  },
  {
   "cell_type": "code",
   "execution_count": 315,
   "metadata": {},
   "outputs": [],
   "source": [
    "model_modelseed.reactions.rxn00001_c0.gene_reaction_rule = '(b3303 and b4202 and b3384 and b3302 and b0526 and b0169 and b3230 and b3320 and b3637 and b3297 and b3316 and b4200 and b3305 and b1866 and b2400 and b1876 and b3306 and b3309 and b3288 and b0893 and b2514 and b3560 and b1717 and b3231 and b3314 and b0026 and b4129 and b3307 and b0930 and b3186 and b0642 and b3321 and b2609 and b2697 and b3312 and b1089 and b3301 and b3636 and b1713 and b3317 and b3559 and b3304 and b3984 and b3296 and b3310 and b3315 and b3294 and b3703 and b3185 and b1719 and b3313 and b3311 and b1637 and b3318 and b3985 and b3165 and b1714 and b2114 and b3308 and b3342 and b3065 and b4258 and b3936 and b4203 and b2606 and b0023 and b1716 and b3299 and b3319 and b3341 and b3298) or (b3303 and b4202 and b3384 and b3302 and b0526 and b0169 and b3230 and b3320 and b3637 and b3297 and b3316 and b4200 and b3305 and b1866 and b2400 and b1876 and b3306 and b3309 and b3288 and b0893 and b2514 and b3560 and b1717 and b3231 and b3314 and b0026 and b4129 and b3307 and b0930 and b3186 and b0642 and b3321 and b2609 and b0296 and b2697 and b3312 and b1089 and b3301 and b3636 and b1713 and b3317 and b3559 and b3304 and b3984 and b3296 and b3310 and b3315 and b3294 and b3703 and b3185 and b1719 and b3313 and b3311 and b1637 and b3318 and b3985 and b3165 and b1714 and b2114 and b3308 and b3342 and b3065 and b4258 and b4203 and b2606 and b0023 and b1716 and b3299 and b3319 and b3341 and b3298) or (b3303 and b4202 and b3384 and b3302 and b0526 and b0169 and b3230 and b3320 and b3637 and b3297 and b3316 and b4200 and b3305 and b1866 and b2400 and b1876 and b3306 and b3309 and b3288 and b0893 and b2514 and b3560 and b1717 and b4506 and b3231 and b3314 and b0026 and b4129 and b3307 and b0930 and b3186 and b0642 and b3321 and b2609 and b2697 and b3312 and b1089 and b3301 and b3636 and b1713 and b3317 and b3559 and b3304 and b3984 and b3296 and b3310 and b3315 and b3294 and b3703 and b3185 and b1719 and b3313 and b3311 and b1637 and b3318 and b3985 and b3165 and b1714 and b2114 and b3308 and b3342 and b3065 and b4258 and b3936 and b4203 and b2606 and b0023 and b1716 and b3319 and b3341 and b3298) or (b3303 and b4202 and b3384 and b3302 and b0526 and b0169 and b3230 and b3320 and b3637 and b3297 and b3316 and b4200 and b3305 and b1866 and b2400 and b1876 and b3306 and b3309 and b3288 and b0893 and b2514 and b3560 and b1717 and b4506 and b3231 and b3314 and b0026 and b4129 and b3307 and b0930 and b3186 and b0642 and b3321 and b2609 and b0296 and b2697 and b3312 and b1089 and b3301 and b3636 and b1713 and b3317 and b3559 and b3304 and b3984 and b3296 and b3310 and b3315 and b3294 and b3703 and b3185 and b1719 and b3313 and b3311 and b1637 and b3318 and b3985 and b3165 and b1714 and b2114 and b3308 and b3342 and b3065 and b4258 and b4203 and b2606 and b0023 and b1716 and b3319 and b3341 and b3298) or (b3303 and b4202 and b3384 and b3302 and b0526 and b0169 and b3230 and b3320 and b3637 and b3297 and b3316 and b4200 and b3305 and b1866 and b2400 and b1876 and b3306 and b3309 and b3288 and b0893 and b2514 and b3560 and b1717 and b3231 and b3314 and b0026 and b3307 and b0930 and b3186 and b0642 and b3321 and b2609 and b2697 and b3312 and b1089 and b3301 and b3636 and b1713 and b3317 and b3559 and b3304 and b3984 and b3296 and b3310 and b3315 and b3294 and b3703 and b2890 and b3185 and b1719 and b3313 and b3311 and b1637 and b3318 and b3985 and b3165 and b1714 and b2114 and b3308 and b3342 and b3065 and b4258 and b3936 and b4203 and b2606 and b0023 and b1716 and b3299 and b3319 and b3341 and b3298) or (b3303 and b4202 and b3384 and b3302 and b0526 and b0169 and b3230 and b3320 and b3637 and b3297 and b3316 and b4200 and b3305 and b1866 and b2400 and b1876 and b3306 and b3309 and b3288 and b0893 and b2514 and b3560 and b1717 and b3231 and b3314 and b0026 and b3307 and b0930 and b3186 and b0642 and b3321 and b2609 and b0296 and b2697 and b3312 and b1089 and b3301 and b3636 and b1713 and b3317 and b3559 and b3304 and b3984 and b3296 and b3310 and b3315 and b3294 and b3703 and b2890 and b3185 and b1719 and b3313 and b3311 and b1637 and b3318 and b3985 and b3165 and b1714 and b2114 and b3308 and b3342 and b3065 and b4258 and b4203 and b2606 and b0023 and b1716 and b3299 and b3319 and b3341 and b3298) or (b3303 and b4202 and b3384 and b3302 and b0526 and b0169 and b3230 and b3320 and b3637 and b3297 and b3316 and b4200 and b3305 and b1866 and b2400 and b1876 and b3306 and b3309 and b3288 and b0893 and b2514 and b3560 and b1717 and b4506 and b3231 and b3314 and b0026 and b3307 and b0930 and b3186 and b0642 and b3321 and b2609 and b2697 and b3312 and b1089 and b3301 and b3636 and b1713 and b3317 and b3559 and b3304 and b3984 and b3296 and b3310 and b3315 and b3294 and b3703 and b2890 and b3185 and b1719 and b3313 and b3311 and b1637 and b3318 and b3985 and b3165 and b1714 and b2114 and b3308 and b3342 and b3065 and b4258 and b3936 and b4203 and b2606 and b0023 and b1716 and b3319 and b3341 and b3298) or (b3303 and b4202 and b3384 and b3302 and b0526 and b0169 and b3230 and b3320 and b3637 and b3297 and b3316 and b4200 and b3305 and b1866 and b2400 and b1876 and b3306 and b3309 and b3288 and b0893 and b2514 and b3560 and b1717 and b4506 and b3231 and b3314 and b0026 and b3307 and b0930 and b3186 and b0642 and b3321 and b2609 and b0296 and b2697 and b3312 and b1089 and b3301 and b3636 and b1713 and b3317 and b3559 and b3304 and b3984 and b3296 and b3310 and b3315 and b3294 and b3703 and b2890 and b3185 and b1719 and b3313 and b3311 and b1637 and b3318 and b3985 and b3165 and b1714 and b2114 and b3308 and b3342 and b3065 and b4258 and b4203 and b2606 and b0023 and b1716 and b3319 and b3341 and b3298) or (b0188) or (b2185) or (b3983) or (b3986)'"
   ]
  },
  {
   "cell_type": "code",
   "execution_count": 317,
   "metadata": {},
   "outputs": [
    {
     "data": {
      "text/plain": [
       "frozenset({<Gene b0023 at 0x7f7e463f11f0>,\n",
       "           <Gene b0026 at 0x7f7e463ecd90>,\n",
       "           <Gene b0169 at 0x7f7e463ec400>,\n",
       "           <Gene b0188 at 0x7f7e463ec8e0>,\n",
       "           <Gene b0296 at 0x7f7e463ece20>,\n",
       "           <Gene b0526 at 0x7f7e463ecc10>,\n",
       "           <Gene b0642 at 0x7f7e463ec790>,\n",
       "           <Gene b0893 at 0x7f7e463ec5b0>,\n",
       "           <Gene b0930 at 0x7f7e463ec760>,\n",
       "           <Gene b1089 at 0x7f7e463ec850>,\n",
       "           <Gene b1637 at 0x7f7e463f1100>,\n",
       "           <Gene b1713 at 0x7f7e463ece50>,\n",
       "           <Gene b1714 at 0x7f7e463eca00>,\n",
       "           <Gene b1716 at 0x7f7e463f1250>,\n",
       "           <Gene b1717 at 0x7f7e463ec610>,\n",
       "           <Gene b1719 at 0x7f7e463f10d0>,\n",
       "           <Gene b1866 at 0x7f7e463ec550>,\n",
       "           <Gene b1876 at 0x7f7e463eccd0>,\n",
       "           <Gene b2114 at 0x7f7e463f1160>,\n",
       "           <Gene b2185 at 0x7f7e463f1130>,\n",
       "           <Gene b2400 at 0x7f7e464b5880>,\n",
       "           <Gene b2514 at 0x7f7e463ec5e0>,\n",
       "           <Gene b2606 at 0x7f7e463ecac0>,\n",
       "           <Gene b2609 at 0x7f7e463ecdf0>,\n",
       "           <Gene b2697 at 0x7f7e463ec7f0>,\n",
       "           <Gene b2890 at 0x7f7e463f1070>,\n",
       "           <Gene b3065 at 0x7f7e463f11c0>,\n",
       "           <Gene b3165 at 0x7f7e463ec9d0>,\n",
       "           <Gene b3185 at 0x7f7e463f10a0>,\n",
       "           <Gene b3186 at 0x7f7e463ecdc0>,\n",
       "           <Gene b3230 at 0x7f7e463ecc40>,\n",
       "           <Gene b3231 at 0x7f7e463ec670>,\n",
       "           <Gene b3288 at 0x7f7e463ecd30>,\n",
       "           <Gene b3294 at 0x7f7e463ecfd0>,\n",
       "           <Gene b3296 at 0x7f7e463ecf40>,\n",
       "           <Gene b3297 at 0x7f7e463ec490>,\n",
       "           <Gene b3298 at 0x7f7e463f12b0>,\n",
       "           <Gene b3299 at 0x7f7e463ecaf0>,\n",
       "           <Gene b3301 at 0x7f7e463ece80>,\n",
       "           <Gene b3302 at 0x7f7e463ecbe0>,\n",
       "           <Gene b3303 at 0x7f7e463ecb80>,\n",
       "           <Gene b3304 at 0x7f7e463ec8b0>,\n",
       "           <Gene b3305 at 0x7f7e463ecc70>,\n",
       "           <Gene b3306 at 0x7f7e463ecd00>,\n",
       "           <Gene b3307 at 0x7f7e463ec730>,\n",
       "           <Gene b3308 at 0x7f7e463f1190>,\n",
       "           <Gene b3309 at 0x7f7e463ec580>,\n",
       "           <Gene b3310 at 0x7f7e463ecf70>,\n",
       "           <Gene b3311 at 0x7f7e463ec910>,\n",
       "           <Gene b3312 at 0x7f7e463ec820>,\n",
       "           <Gene b3313 at 0x7f7e463ec940>,\n",
       "           <Gene b3314 at 0x7f7e463ec6a0>,\n",
       "           <Gene b3315 at 0x7f7e463ecfa0>,\n",
       "           <Gene b3316 at 0x7f7e463ec4f0>,\n",
       "           <Gene b3317 at 0x7f7e463eceb0>,\n",
       "           <Gene b3318 at 0x7f7e463ec970>,\n",
       "           <Gene b3319 at 0x7f7e463f1280>,\n",
       "           <Gene b3320 at 0x7f7e463ec430>,\n",
       "           <Gene b3321 at 0x7f7e463ec7c0>,\n",
       "           <Gene b3341 at 0x7f7e463ecb20>,\n",
       "           <Gene b3342 at 0x7f7e463eca30>,\n",
       "           <Gene b3384 at 0x7f7e463ecbb0>,\n",
       "           <Gene b3559 at 0x7f7e463ecee0>,\n",
       "           <Gene b3560 at 0x7f7e463ecd60>,\n",
       "           <Gene b3636 at 0x7f7e463ec880>,\n",
       "           <Gene b3637 at 0x7f7e463ec460>,\n",
       "           <Gene b3703 at 0x7f7e463f1040>,\n",
       "           <Gene b3936 at 0x7f7e463eca90>,\n",
       "           <Gene b3983 at 0x7f7e463ecb50>,\n",
       "           <Gene b3984 at 0x7f7e463ecf10>,\n",
       "           <Gene b3985 at 0x7f7e463ec9a0>,\n",
       "           <Gene b3986 at 0x7f7e463ec700>,\n",
       "           <Gene b4129 at 0x7f7e463ec6d0>,\n",
       "           <Gene b4200 at 0x7f7e463ec520>,\n",
       "           <Gene b4202 at 0x7f7e463ec3d0>,\n",
       "           <Gene b4203 at 0x7f7e463f1220>,\n",
       "           <Gene b4258 at 0x7f7e463eca60>,\n",
       "           <Gene b4506 at 0x7f7e463ec640>})"
      ]
     },
     "execution_count": 317,
     "metadata": {},
     "output_type": "execute_result"
    }
   ],
   "source": [
    "model_modelseed.reactions.rxn00001_c0.genes"
   ]
  },
  {
   "cell_type": "code",
   "execution_count": null,
   "metadata": {},
   "outputs": [],
   "source": []
  }
 ],
 "metadata": {
  "kernelspec": {
   "display_name": "Python 3",
   "language": "python",
   "name": "python3"
  },
  "language_info": {
   "codemirror_mode": {
    "name": "ipython",
    "version": 3
   },
   "file_extension": ".py",
   "mimetype": "text/x-python",
   "name": "python",
   "nbconvert_exporter": "python",
   "pygments_lexer": "ipython3",
   "version": "3.8.10"
  }
 },
 "nbformat": 4,
 "nbformat_minor": 4
}
