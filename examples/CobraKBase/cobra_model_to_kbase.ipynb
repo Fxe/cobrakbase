{
 "cells": [
  {
   "cell_type": "code",
   "execution_count": 1,
   "metadata": {},
   "outputs": [
    {
     "name": "stdout",
     "output_type": "stream",
     "text": [
      "cobrakbase 0.2.7\n"
     ]
    }
   ],
   "source": [
    "import modelseedpy\n",
    "import cobrakbase\n",
    "import cobra\n",
    "import json"
   ]
  },
  {
   "cell_type": "code",
   "execution_count": 2,
   "metadata": {},
   "outputs": [],
   "source": [
    "kbase = cobrakbase.KBaseAPI()\n",
    "ws = 'filipeliu:narrative_1623733614496'"
   ]
  },
  {
   "cell_type": "code",
   "execution_count": 3,
   "metadata": {},
   "outputs": [],
   "source": [
    "#genome = kbase.get_from_ws('ecoli_genome', ws)\n",
    "from cobrakbase.core.kbasegenomesgenome import KBaseGenome\n",
    "with open('ecoli_genome.json', 'r') as fh:\n",
    "    genome_json = json.load(fh)\n",
    "    genome = KBaseGenome(genome_json, cobrakbase.kbase_object_info.KBaseObjectInfo('1-1'))"
   ]
  },
  {
   "cell_type": "code",
   "execution_count": 4,
   "metadata": {},
   "outputs": [],
   "source": [
    "rast = modelseedpy.RastClient()"
   ]
  },
  {
   "cell_type": "code",
   "execution_count": 5,
   "metadata": {},
   "outputs": [
    {
     "data": {
      "text/plain": [
       "[{'execution_time': 1623837791.78075,\n",
       "  'id': '0F06406E-CE8A-11EB-B500-6F3DBCF382BD',\n",
       "  'tool_name': 'kmer_search',\n",
       "  'parameters': ['-a',\n",
       "   '-g',\n",
       "   200,\n",
       "   '-m',\n",
       "   5,\n",
       "   '-d',\n",
       "   '/opt/patric-common/data/kmer_metadata_v2',\n",
       "   '-u',\n",
       "   'http://pear.mcs.anl.gov:6100/query'],\n",
       "  'hostname': 'pear'},\n",
       " {'tool_name': 'KmerAnnotationByFigfam',\n",
       "  'parameters': ['annotate_hypothetical_only=1',\n",
       "   'dataset_name=Release70',\n",
       "   'kmer_size=8'],\n",
       "  'hostname': 'pear',\n",
       "  'id': '0F1D4994-CE8A-11EB-B500-6F3DBCF382BD',\n",
       "  'execution_time': 1623837791.93171},\n",
       " {'id': '0F5608E2-CE8A-11EB-8811-45B0BCF382BD',\n",
       "  'tool_name': 'annotate_proteins_similarity',\n",
       "  'hostname': 'pear',\n",
       "  'execute_time': 1623837792.30363,\n",
       "  'parameters': []}]"
      ]
     },
     "execution_count": 5,
     "metadata": {},
     "output_type": "execute_result"
    }
   ],
   "source": [
    "rast.annotate_genome(genome)"
   ]
  },
  {
   "cell_type": "code",
   "execution_count": 6,
   "metadata": {},
   "outputs": [],
   "source": [
    "template = kbase.get_from_ws('12998/10/6')"
   ]
  },
  {
   "cell_type": "code",
   "execution_count": 7,
   "metadata": {},
   "outputs": [],
   "source": [
    "model_modelseed = modelseedpy.MSBuilder.build_metabolic_model('ecoli', genome, template, '0', True, False)"
   ]
  },
  {
   "cell_type": "code",
   "execution_count": 8,
   "metadata": {},
   "outputs": [],
   "source": [
    "model_kbase_json = kbase.get_object('ecoli_model', ws)"
   ]
  },
  {
   "cell_type": "code",
   "execution_count": 9,
   "metadata": {},
   "outputs": [],
   "source": [
    "model_kbase = kbase.get_from_ws('ecoli_model', ws)"
   ]
  },
  {
   "cell_type": "code",
   "execution_count": 10,
   "metadata": {},
   "outputs": [],
   "source": [
    "to_json = model_kbase._to_json()"
   ]
  },
  {
   "cell_type": "code",
   "execution_count": 11,
   "metadata": {},
   "outputs": [
    {
     "data": {
      "text/plain": [
       "True"
      ]
     },
     "execution_count": 11,
     "metadata": {},
     "output_type": "execute_result"
    }
   ],
   "source": [
    "to_json == model_kbase_json"
   ]
  },
  {
   "cell_type": "code",
   "execution_count": null,
   "metadata": {},
   "outputs": [],
   "source": []
  },
  {
   "cell_type": "code",
   "execution_count": null,
   "metadata": {},
   "outputs": [],
   "source": []
  },
  {
   "cell_type": "code",
   "execution_count": null,
   "metadata": {},
   "outputs": [],
   "source": []
  },
  {
   "cell_type": "code",
   "execution_count": 12,
   "metadata": {},
   "outputs": [
    {
     "data": {
      "text/plain": [
       "[[17,\n",
       "  'ecoli_modelseedpy_direct',\n",
       "  'KBaseFBA.FBAModel-12.0',\n",
       "  '2021-06-16T10:03:21+0000',\n",
       "  7,\n",
       "  'filipeliu',\n",
       "  92991,\n",
       "  'filipeliu:narrative_1623733614496',\n",
       "  'eef0a255800ca5925bc92044a341bd13',\n",
       "  1569417,\n",
       "  {'Number gapgens': '0',\n",
       "   'Type': 'GenomeScale',\n",
       "   'Number gapfills': '0',\n",
       "   'Source ID': 'ecoli',\n",
       "   'Number biomasses': '1',\n",
       "   'Number compartments': '2',\n",
       "   'Source': 'ModelSEEDpy',\n",
       "   'Number compounds': '1446',\n",
       "   'Number reactions': '1560',\n",
       "   'Name': 'ecoli'}]]"
      ]
     },
     "execution_count": 12,
     "metadata": {},
     "output_type": "execute_result"
    }
   ],
   "source": [
    "kbase.save_object('ecoli_modelseedpy_direct', 'filipeliu:narrative_1623733614496', model_kbase.info.type, model_modelseed)"
   ]
  },
  {
   "cell_type": "code",
   "execution_count": 18,
   "metadata": {},
   "outputs": [
    {
     "data": {
      "text/plain": [
       "[{'compartmentIndex': 0,\n",
       "  'compartment_ref': '~/template/compartments/id/c',\n",
       "  'id': 'c0',\n",
       "  'label': 'Cytosol_0',\n",
       "  'pH': 7,\n",
       "  'potential': 0},\n",
       " {'compartmentIndex': 0,\n",
       "  'compartment_ref': '~/template/compartments/id/e',\n",
       "  'id': 'e0',\n",
       "  'label': 'Extracellular_0',\n",
       "  'pH': 7,\n",
       "  'potential': 0}]"
      ]
     },
     "execution_count": 18,
     "metadata": {},
     "output_type": "execute_result"
    }
   ],
   "source": [
    "model_kbase_json['modelcompartments']"
   ]
  },
  {
   "cell_type": "code",
   "execution_count": 17,
   "metadata": {},
   "outputs": [
    {
     "data": {
      "text/plain": [
       "[{'compartmentIndex': 0,\n",
       "  'id': 'c0',\n",
       "  'label': '',\n",
       "  'compartment_ref': '~/template/compartments/id/c',\n",
       "  'pH': 7,\n",
       "  'potential': 0},\n",
       " {'compartmentIndex': 0,\n",
       "  'id': 'e0',\n",
       "  'label': '',\n",
       "  'compartment_ref': '~/template/compartments/id/c',\n",
       "  'pH': 7,\n",
       "  'potential': 0}]"
      ]
     },
     "execution_count": 17,
     "metadata": {},
     "output_type": "execute_result"
    }
   ],
   "source": [
    "model_modelseed_json['modelcompartments']"
   ]
  },
  {
   "cell_type": "code",
   "execution_count": null,
   "metadata": {},
   "outputs": [],
   "source": [
    "from cobrakbase.core.kbasefba.fbamodel_from_cobra import CobraModelConverter\n",
    "model_modelseed_json, model_modelseed_fbamodel = CobraModelConverter(model_modelseed, genome, template).build()"
   ]
  },
  {
   "cell_type": "code",
   "execution_count": 18,
   "metadata": {},
   "outputs": [
    {
     "data": {
      "text/plain": [
       "[[11,\n",
       "  'ecoli_modelseedpy',\n",
       "  'KBaseFBA.FBAModel-12.0',\n",
       "  '2021-06-16T08:30:30+0000',\n",
       "  3,\n",
       "  'filipeliu',\n",
       "  92991,\n",
       "  'filipeliu:narrative_1623733614496',\n",
       "  'e96e8d34e1deba910dac1e2aa4e99976',\n",
       "  1567072,\n",
       "  {'Number gapgens': '0',\n",
       "   'Type': 'GenomeScale',\n",
       "   'Number gapfills': '0',\n",
       "   'Source ID': 'COBRA KBase',\n",
       "   'Number biomasses': '1',\n",
       "   'Number compartments': '2',\n",
       "   'Source': 'COBRA KBase',\n",
       "   'Number compounds': '1446',\n",
       "   'Number reactions': '1560',\n",
       "   'Name': 'ecoli'}]]"
      ]
     },
     "execution_count": 18,
     "metadata": {},
     "output_type": "execute_result"
    }
   ],
   "source": [
    "kbase.save_object('ecoli_modelseedpy', 'filipeliu:narrative_1623733614496', model_modelseed_fbamodel.info.type, model_modelseed_json)"
   ]
  },
  {
   "cell_type": "code",
   "execution_count": null,
   "metadata": {},
   "outputs": [],
   "source": []
  },
  {
   "cell_type": "code",
   "execution_count": null,
   "metadata": {},
   "outputs": [],
   "source": []
  },
  {
   "cell_type": "code",
   "execution_count": null,
   "metadata": {},
   "outputs": [],
   "source": []
  },
  {
   "cell_type": "code",
   "execution_count": null,
   "metadata": {},
   "outputs": [],
   "source": []
  },
  {
   "cell_type": "code",
   "execution_count": null,
   "metadata": {},
   "outputs": [],
   "source": []
  },
  {
   "cell_type": "code",
   "execution_count": null,
   "metadata": {},
   "outputs": [],
   "source": []
  },
  {
   "cell_type": "code",
   "execution_count": 105,
   "metadata": {},
   "outputs": [
    {
     "name": "stdout",
     "output_type": "stream",
     "text": [
      "rxn00646_c0: cpd00002_c0 + cpd00023_c0 + cpd00084_c0 --> cpd00008_c0 + cpd00009_c0 + cpd00067_c0 + cpd00506_c0\n",
      "rxn00646_c0: cpd00002_c0 + cpd00023_c0 + cpd00084_c0 --> cpd00008_c0 + cpd00009_c0 + cpd00067_c0 + cpd00506_c0\n"
     ]
    }
   ],
   "source": [
    "for r in model_modelseed.reactions:\n",
    "    if r.id == 'rxn00646_c0':\n",
    "        proteins = []\n",
    "        model_reaction_data = {\n",
    "                'id': r.id,\n",
    "                'name': r.name,\n",
    "                'direction': '>',\n",
    "                'aliases': [],\n",
    "                'coverage': 3,\n",
    "                'dblinks': {},\n",
    "                'edits': {}, 'gapfill_data': {},\n",
    "                'gene_count': 3,\n",
    "                'maxforflux': 1000000,\n",
    "                'maxrevflux': 1000000,\n",
    "                'modelReactionProteins': proteins,\n",
    "                'modelReactionReagents': [],\n",
    "                'modelcompartment_ref': '~/modelcompartments/id/c0',\n",
    "                'numerical_attributes': {}, 'string_attributes': {},\n",
    "                'probability': 1,\n",
    "                'protons': 0,\n",
    "                'reaction_ref': '~/template/reactions/id/' + r.id[:-1],\n",
    "            }\n",
    "        reaction = ModelReaction(model_reaction_data)\n",
    "        reaction.add_metabolites(r.metabolites)\n",
    "        print(r)\n",
    "        print(reaction)\n",
    "        break"
   ]
  },
  {
   "cell_type": "code",
   "execution_count": 18,
   "metadata": {},
   "outputs": [
    {
     "data": {
      "text/html": [
       "\n",
       "        <table>\n",
       "            <tr>\n",
       "                <td><strong>Reaction identifier</strong></td><td>SK_cpd15302_c0</td>\n",
       "            </tr><tr>\n",
       "                <td><strong>Name</strong></td><td>Sink for glycogen(n-1)</td>\n",
       "            </tr><tr>\n",
       "                <td><strong>Memory address</strong></td>\n",
       "                <td>0x07f9cadb25410</td>\n",
       "            </tr><tr>\n",
       "                <td><strong>Stoichiometry</strong></td>\n",
       "                <td>\n",
       "                    <p style='text-align:right'>cpd15302_c0 --> </p>\n",
       "                    <p style='text-align:right'>glycogen(n-1) --> </p>\n",
       "                </td>\n",
       "            </tr><tr>\n",
       "                <td><strong>GPR</strong></td><td></td>\n",
       "            </tr><tr>\n",
       "                <td><strong>Lower bound</strong></td><td>0</td>\n",
       "            </tr><tr>\n",
       "                <td><strong>Upper bound</strong></td><td>1000</td>\n",
       "            </tr>\n",
       "        </table>\n",
       "        "
      ],
      "text/plain": [
       "<Reaction SK_cpd15302_c0 at 0x7f9cadb25410>"
      ]
     },
     "execution_count": 18,
     "metadata": {},
     "output_type": "execute_result"
    }
   ],
   "source": [
    "r"
   ]
  },
  {
   "cell_type": "code",
   "execution_count": null,
   "metadata": {},
   "outputs": [],
   "source": []
  },
  {
   "cell_type": "code",
   "execution_count": 24,
   "metadata": {},
   "outputs": [
    {
     "data": {
      "text/plain": [
       "{'c0': '', 'e0': ''}"
      ]
     },
     "execution_count": 24,
     "metadata": {},
     "output_type": "execute_result"
    }
   ],
   "source": [
    "model_modelseed.compartments"
   ]
  },
  {
   "cell_type": "code",
   "execution_count": null,
   "metadata": {},
   "outputs": [],
   "source": []
  },
  {
   "cell_type": "code",
   "execution_count": 120,
   "metadata": {},
   "outputs": [
    {
     "data": {
      "text/plain": [
       "{'id': 'rxn00646_c0',\n",
       " 'name': 'L-glutamate:L-cysteine gamma-ligase (ADP-forming)_c0',\n",
       " 'direction': '=',\n",
       " 'maxforflux': 1000,\n",
       " 'maxrevflux': 0.0,\n",
       " 'aliases': [],\n",
       " 'dblinks': {},\n",
       " 'edits': {},\n",
       " 'gapfill_data': {},\n",
       " 'modelReactionProteins': [],\n",
       " 'modelReactionReagents': [{'coefficient': -1,\n",
       "   'modelcompound_ref': '~/modelcompounds/id/cpd00023_c0'},\n",
       "  {'coefficient': -1, 'modelcompound_ref': '~/modelcompounds/id/cpd00084_c0'},\n",
       "  {'coefficient': -1, 'modelcompound_ref': '~/modelcompounds/id/cpd00002_c0'},\n",
       "  {'coefficient': 1, 'modelcompound_ref': '~/modelcompounds/id/cpd00008_c0'},\n",
       "  {'coefficient': 1, 'modelcompound_ref': '~/modelcompounds/id/cpd00009_c0'},\n",
       "  {'coefficient': 1, 'modelcompound_ref': '~/modelcompounds/id/cpd00067_c0'},\n",
       "  {'coefficient': 1, 'modelcompound_ref': '~/modelcompounds/id/cpd00506_c0'}],\n",
       " 'modelcompartment_ref': '~/modelcompartments/id/c0',\n",
       " 'numerical_attributes': {},\n",
       " 'probability': 0,\n",
       " 'protons': 0,\n",
       " 'reaction_ref': '~/template/reactions/id/rxn00646_c',\n",
       " 'string_attributes': {}}"
      ]
     },
     "execution_count": 120,
     "metadata": {},
     "output_type": "execute_result"
    }
   ],
   "source": [
    "def tt_to_json(r):\n",
    "    rev, max_flux, min_flux = r._get_rev_and_max_min_flux()\n",
    "    model_reaction_reagents = []\n",
    "    model_reaction_proteins = []\n",
    "    s = r.metabolites\n",
    "    for m in s:\n",
    "        model_reaction_reagents.append({\n",
    "            'coefficient': s[m],\n",
    "            'modelcompound_ref': '~/modelcompounds/id/' + m.id\n",
    "        })\n",
    "    return {\n",
    "        'id': r.id,\n",
    "        'name': r.name,\n",
    "        'direction': rev,\n",
    "        'maxforflux': max_flux,\n",
    "        'maxrevflux': min_flux,\n",
    "        'aliases': [],\n",
    "        'dblinks': {},\n",
    "        'edits': {},\n",
    "        'gapfill_data': {},\n",
    "        'modelReactionProteins': model_reaction_proteins,\n",
    "        'modelReactionReagents': model_reaction_reagents,\n",
    "        'modelcompartment_ref': '~/modelcompartments/id/' + r.compartment,\n",
    "        'numerical_attributes': {},\n",
    "        'probability': 0,\n",
    "        'protons': 0,\n",
    "        'reaction_ref': '~/template/reactions/id/' + r.id[:-1],\n",
    "        'string_attributes': {}\n",
    "    }\n",
    "tt_to_json(reaction)"
   ]
  },
  {
   "cell_type": "code",
   "execution_count": null,
   "metadata": {},
   "outputs": [],
   "source": []
  },
  {
   "cell_type": "code",
   "execution_count": null,
   "metadata": {},
   "outputs": [],
   "source": []
  },
  {
   "cell_type": "code",
   "execution_count": 61,
   "metadata": {},
   "outputs": [
    {
     "data": {
      "text/plain": [
       "['']"
      ]
     },
     "execution_count": 61,
     "metadata": {},
     "output_type": "execute_result"
    }
   ],
   "source": [
    "debug['template_refs']"
   ]
  },
  {
   "cell_type": "code",
   "execution_count": 70,
   "metadata": {},
   "outputs": [
    {
     "data": {
      "text/plain": [
       "[{'compartmentIndex': 0,\n",
       "  'compartment_ref': '~/template/compartments/id/c',\n",
       "  'id': 'c0',\n",
       "  'label': '',\n",
       "  'pH': 7,\n",
       "  'potential': 0}]"
      ]
     },
     "execution_count": 70,
     "metadata": {},
     "output_type": "execute_result"
    }
   ],
   "source": [
    "debug['modelcompartments']"
   ]
  },
  {
   "cell_type": "code",
   "execution_count": 20,
   "metadata": {},
   "outputs": [],
   "source": [
    "import cobra.test\n",
    "model = cobra.test.create_test_model(\"textbook\")"
   ]
  },
  {
   "cell_type": "code",
   "execution_count": 23,
   "metadata": {},
   "outputs": [],
   "source": [
    "r = model.reactions.get_by_id('ICDHyr')"
   ]
  },
  {
   "cell_type": "code",
   "execution_count": 26,
   "metadata": {},
   "outputs": [
    {
     "data": {
      "text/plain": [
       "'b1136'"
      ]
     },
     "execution_count": 26,
     "metadata": {},
     "output_type": "execute_result"
    }
   ],
   "source": [
    "r.gene_reaction_rule"
   ]
  },
  {
   "cell_type": "code",
   "execution_count": 13,
   "metadata": {},
   "outputs": [],
   "source": [
    "debug = kbase.get_object('ecoli_modelseedpy_direct', ws)"
   ]
  },
  {
   "cell_type": "code",
   "execution_count": 16,
   "metadata": {},
   "outputs": [
    {
     "name": "stdout",
     "output_type": "stream",
     "text": [
      "__VERSION__ \t[ 1 ]\n",
      "attributes \t[ {'auxotrophy': {}, 'fbas': {}, 'gene_count': 0, 'pathways': {}} ]\n",
      "biomasses \tList: 1\n",
      "contig_coverages \t[ {} ]\n",
      "delete_biomasses \t[ {} ]\n",
      "deleted_reactions \t[ {} ]\n",
      "gapfilledcandidates \tList: 0\n",
      "gapfillings \tList: 0\n",
      "gapgens \tList: 0\n",
      "id \t[ ecoli_modelseedpy_direct ]\n",
      "loops \tList: 0\n",
      "model_edits \tList: 0\n",
      "modelcompartments \tList: 2\n",
      "modelcompounds \tList: 1446\n",
      "modelreactions \tList: 1560\n",
      "name \t[ ecoli ]\n",
      "other_genome_refs \tList: 0\n",
      "quantopts \tList: 0\n",
      "source \t[ ModelSEEDpy ]\n",
      "source_id \t[ ecoli ]\n",
      "template_ref \t[ 12998/10/6 ]\n",
      "template_refs \tList: 1\n",
      "type \t[ GenomeScale ]\n"
     ]
    }
   ],
   "source": [
    "for k in debug:\n",
    "    v = debug[k]\n",
    "    if type(v) == list:\n",
    "        print(k, '\\tList:', len(v))\n",
    "    else:\n",
    "        print(k,'\\t[', v, ']')"
   ]
  },
  {
   "cell_type": "code",
   "execution_count": 15,
   "metadata": {},
   "outputs": [],
   "source": [
    "debug['template_ref'] = str(template.info)\n",
    "debug['template_refs'] = [str(template.info)]"
   ]
  },
  {
   "cell_type": "code",
   "execution_count": 17,
   "metadata": {},
   "outputs": [
    {
     "data": {
      "text/plain": [
       "[[17,\n",
       "  'ecoli_modelseedpy_direct',\n",
       "  'KBaseFBA.FBAModel-12.0',\n",
       "  '2021-06-16T10:04:26+0000',\n",
       "  8,\n",
       "  'filipeliu',\n",
       "  92991,\n",
       "  'filipeliu:narrative_1623733614496',\n",
       "  '237e105b19a24b2496f30213c8483664',\n",
       "  1569437,\n",
       "  {'Number gapgens': '0',\n",
       "   'Type': 'GenomeScale',\n",
       "   'Number gapfills': '0',\n",
       "   'Source ID': 'ecoli',\n",
       "   'Number biomasses': '1',\n",
       "   'Number compartments': '2',\n",
       "   'Source': 'ModelSEEDpy',\n",
       "   'Number compounds': '1446',\n",
       "   'Number reactions': '1560',\n",
       "   'Name': 'ecoli'}]]"
      ]
     },
     "execution_count": 17,
     "metadata": {},
     "output_type": "execute_result"
    }
   ],
   "source": [
    "kbase.save_object('ecoli_modelseedpy_direct', ws, model_kbase.info.type, debug)"
   ]
  },
  {
   "cell_type": "code",
   "execution_count": null,
   "metadata": {},
   "outputs": [],
   "source": []
  },
  {
   "cell_type": "code",
   "execution_count": 97,
   "metadata": {},
   "outputs": [],
   "source": [
    "reaction = model_modelseed.reactions[6]"
   ]
  },
  {
   "cell_type": "code",
   "execution_count": null,
   "metadata": {},
   "outputs": [],
   "source": [
    "model = kbase.get_from_ws"
   ]
  },
  {
   "cell_type": "code",
   "execution_count": 23,
   "metadata": {},
   "outputs": [],
   "source": [
    "from cobra.core import Model"
   ]
  },
  {
   "cell_type": "code",
   "execution_count": 33,
   "metadata": {},
   "outputs": [
    {
     "data": {
      "text/plain": [
       "\u001b[0;31mSignature:\u001b[0m \u001b[0mget_direction_from_constraints\u001b[0m\u001b[0;34m(\u001b[0m\u001b[0mlower\u001b[0m\u001b[0;34m:\u001b[0m \u001b[0mfloat\u001b[0m\u001b[0;34m,\u001b[0m \u001b[0mupper\u001b[0m\u001b[0;34m)\u001b[0m\u001b[0;34m\u001b[0m\u001b[0;34m\u001b[0m\u001b[0m\n",
       "\u001b[0;31mDocstring:\u001b[0m <no docstring>\n",
       "\u001b[0;31mFile:\u001b[0m      ~/workspace/jupyter/python3/cobrakbase/examples/CobraKBase/<ipython-input-32-bd557ede9ff6>\n",
       "\u001b[0;31mType:\u001b[0m      function\n"
      ]
     },
     "metadata": {},
     "output_type": "display_data"
    }
   ],
   "source": [
    "?get_direction_from_constraints"
   ]
  },
  {
   "cell_type": "code",
   "execution_count": 34,
   "metadata": {},
   "outputs": [
    {
     "name": "stdout",
     "output_type": "stream",
     "text": [
      "=\n",
      ">\n",
      "<\n",
      ">\n",
      "<\n",
      "?\n"
     ]
    },
    {
     "ename": "TypeError",
     "evalue": "'<' not supported between instances of 'str' and 'int'",
     "output_type": "error",
     "traceback": [
      "\u001b[0;31m---------------------------------------------------------------------------\u001b[0m",
      "\u001b[0;31mTypeError\u001b[0m                                 Traceback (most recent call last)",
      "\u001b[0;32m<ipython-input-34-48be8d6ac03e>\u001b[0m in \u001b[0;36m<module>\u001b[0;34m\u001b[0m\n\u001b[1;32m     13\u001b[0m \u001b[0mprint\u001b[0m\u001b[0;34m(\u001b[0m\u001b[0mget_direction_from_constraints\u001b[0m\u001b[0;34m(\u001b[0m\u001b[0;34m-\u001b[0m\u001b[0;36m10\u001b[0m\u001b[0;34m,\u001b[0m \u001b[0;34m-\u001b[0m\u001b[0;36m5\u001b[0m\u001b[0;34m)\u001b[0m\u001b[0;34m)\u001b[0m\u001b[0;34m\u001b[0m\u001b[0;34m\u001b[0m\u001b[0m\n\u001b[1;32m     14\u001b[0m \u001b[0mprint\u001b[0m\u001b[0;34m(\u001b[0m\u001b[0mget_direction_from_constraints\u001b[0m\u001b[0;34m(\u001b[0m\u001b[0;36m0\u001b[0m\u001b[0;34m,\u001b[0m \u001b[0;36m0\u001b[0m\u001b[0;34m)\u001b[0m\u001b[0;34m)\u001b[0m\u001b[0;34m\u001b[0m\u001b[0;34m\u001b[0m\u001b[0m\n\u001b[0;32m---> 15\u001b[0;31m \u001b[0mprint\u001b[0m\u001b[0;34m(\u001b[0m\u001b[0mget_direction_from_constraints\u001b[0m\u001b[0;34m(\u001b[0m\u001b[0;34m'0'\u001b[0m\u001b[0;34m,\u001b[0m \u001b[0;36m0\u001b[0m\u001b[0;34m)\u001b[0m\u001b[0;34m)\u001b[0m\u001b[0;34m\u001b[0m\u001b[0;34m\u001b[0m\u001b[0m\n\u001b[0m",
      "\u001b[0;32m<ipython-input-34-48be8d6ac03e>\u001b[0m in \u001b[0;36mget_direction_from_constraints\u001b[0;34m(lower, upper)\u001b[0m\n\u001b[1;32m      1\u001b[0m \u001b[0;32mdef\u001b[0m \u001b[0mget_direction_from_constraints\u001b[0m\u001b[0;34m(\u001b[0m\u001b[0mlower\u001b[0m\u001b[0;34m,\u001b[0m \u001b[0mupper\u001b[0m\u001b[0;34m)\u001b[0m\u001b[0;34m:\u001b[0m\u001b[0;34m\u001b[0m\u001b[0;34m\u001b[0m\u001b[0m\n\u001b[0;32m----> 2\u001b[0;31m     \u001b[0;32mif\u001b[0m \u001b[0mlower\u001b[0m \u001b[0;34m<\u001b[0m \u001b[0;36m0\u001b[0m \u001b[0;34m<\u001b[0m \u001b[0mupper\u001b[0m\u001b[0;34m:\u001b[0m\u001b[0;34m\u001b[0m\u001b[0;34m\u001b[0m\u001b[0m\n\u001b[0m\u001b[1;32m      3\u001b[0m         \u001b[0;32mreturn\u001b[0m \u001b[0;34m'='\u001b[0m\u001b[0;34m\u001b[0m\u001b[0;34m\u001b[0m\u001b[0m\n\u001b[1;32m      4\u001b[0m     \u001b[0;32melif\u001b[0m \u001b[0mupper\u001b[0m \u001b[0;34m>\u001b[0m \u001b[0;36m0\u001b[0m\u001b[0;34m:\u001b[0m\u001b[0;34m\u001b[0m\u001b[0;34m\u001b[0m\u001b[0m\n\u001b[1;32m      5\u001b[0m         \u001b[0;32mreturn\u001b[0m \u001b[0;34m'>'\u001b[0m\u001b[0;34m\u001b[0m\u001b[0;34m\u001b[0m\u001b[0m\n",
      "\u001b[0;31mTypeError\u001b[0m: '<' not supported between instances of 'str' and 'int'"
     ]
    }
   ],
   "source": [
    "def get_direction_from_constraints(lower, upper):\n",
    "    if lower < 0 < upper:\n",
    "        return '='\n",
    "    elif upper > 0:\n",
    "        return '>'\n",
    "    elif lower < 0:\n",
    "        return '<'\n",
    "    return '?'\n",
    "print(get_direction_from_constraints(-10, 10))\n",
    "print(get_direction_from_constraints(0, 10))\n",
    "print(get_direction_from_constraints(-10, 0))\n",
    "print(get_direction_from_constraints(1, 10))\n",
    "print(get_direction_from_constraints(-10, -5))\n",
    "print(get_direction_from_constraints(0, 0))\n",
    "print(get_direction_from_constraints('0', 0))"
   ]
  },
  {
   "cell_type": "code",
   "execution_count": 36,
   "metadata": {},
   "outputs": [],
   "source": [
    "from cobra.core import Reaction"
   ]
  },
  {
   "cell_type": "code",
   "execution_count": 37,
   "metadata": {},
   "outputs": [],
   "source": [
    "r = Reaction('1')"
   ]
  },
  {
   "cell_type": "code",
   "execution_count": 38,
   "metadata": {},
   "outputs": [
    {
     "data": {
      "text/html": [
       "\n",
       "        <table>\n",
       "            <tr>\n",
       "                <td><strong>Reaction identifier</strong></td><td>1</td>\n",
       "            </tr><tr>\n",
       "                <td><strong>Name</strong></td><td></td>\n",
       "            </tr><tr>\n",
       "                <td><strong>Memory address</strong></td>\n",
       "                <td>0x07fce6024df90</td>\n",
       "            </tr><tr>\n",
       "                <td><strong>Stoichiometry</strong></td>\n",
       "                <td>\n",
       "                    <p style='text-align:right'> --> </p>\n",
       "                    <p style='text-align:right'> --> </p>\n",
       "                </td>\n",
       "            </tr><tr>\n",
       "                <td><strong>GPR</strong></td><td></td>\n",
       "            </tr><tr>\n",
       "                <td><strong>Lower bound</strong></td><td>0.0</td>\n",
       "            </tr><tr>\n",
       "                <td><strong>Upper bound</strong></td><td>1000.0</td>\n",
       "            </tr>\n",
       "        </table>\n",
       "        "
      ],
      "text/plain": [
       "<Reaction 1 at 0x7fce6024df90>"
      ]
     },
     "execution_count": 38,
     "metadata": {},
     "output_type": "execute_result"
    }
   ],
   "source": [
    "r"
   ]
  },
  {
   "cell_type": "code",
   "execution_count": 39,
   "metadata": {},
   "outputs": [],
   "source": [
    "import logging\n",
    "logger = logging.getLogger(__name__)"
   ]
  },
  {
   "cell_type": "code",
   "execution_count": 42,
   "metadata": {},
   "outputs": [
    {
     "name": "stderr",
     "output_type": "stream",
     "text": [
      "WARNING:__main__:! 1\n"
     ]
    }
   ],
   "source": [
    "logger.warning('! %s', 1)"
   ]
  },
  {
   "cell_type": "code",
   "execution_count": null,
   "metadata": {},
   "outputs": [],
   "source": []
  }
 ],
 "metadata": {
  "kernelspec": {
   "display_name": "Python 3",
   "language": "python",
   "name": "python3"
  },
  "language_info": {
   "codemirror_mode": {
    "name": "ipython",
    "version": 3
   },
   "file_extension": ".py",
   "mimetype": "text/x-python",
   "name": "python",
   "nbconvert_exporter": "python",
   "pygments_lexer": "ipython3",
   "version": "3.7.4"
  }
 },
 "nbformat": 4,
 "nbformat_minor": 4
}
