{
 "cells": [
  {
   "cell_type": "code",
   "execution_count": 1,
   "metadata": {},
   "outputs": [
    {
     "name": "stdout",
     "output_type": "stream",
     "text": [
      "cobrakbase 0.2.7\n"
     ]
    }
   ],
   "source": [
    "import cobra\n",
    "import cobrakbase"
   ]
  },
  {
   "cell_type": "code",
   "execution_count": 20,
   "metadata": {},
   "outputs": [],
   "source": [
    "kbase = cobrakbase.KBaseAPI()"
   ]
  },
  {
   "cell_type": "code",
   "execution_count": 2,
   "metadata": {},
   "outputs": [],
   "source": [
    "modelseed_local = cobrakbase.modelseed.from_local('/Users/fliu/workspace/jupyter/ModelSEEDDatabase/')"
   ]
  },
  {
   "cell_type": "code",
   "execution_count": 3,
   "metadata": {},
   "outputs": [],
   "source": [
    "from modelseedpy.core.biolog import BiologPlate, Biolog"
   ]
  },
  {
   "cell_type": "code",
   "execution_count": 102,
   "metadata": {},
   "outputs": [],
   "source": []
  },
  {
   "cell_type": "code",
   "execution_count": 4,
   "metadata": {},
   "outputs": [],
   "source": []
  },
  {
   "cell_type": "code",
   "execution_count": 5,
   "metadata": {},
   "outputs": [],
   "source": [
    "modelseed_local.compound_aliases['cpd03198']['BiGG'] = {'melib'}\n",
    "modelseed_local.compound_aliases['cpd00072']['BiGG'] = {'f6p'}"
   ]
  },
  {
   "cell_type": "code",
   "execution_count": 13,
   "metadata": {},
   "outputs": [],
   "source": [
    "base_media = {\n",
    "    'cpd00001', # H2O\n",
    "    'cpd00009', # Pi\n",
    "    'cpd00013', # NH4\n",
    "    'cpd10515', # Fe+2\n",
    "    'cpd10516', # Fe+3\n",
    "    'cpd00030', # Mn2+\n",
    "    'cpd00034', # Zn2+\n",
    "    'cpd00048', # so4\n",
    "    'cpd00058', # Cu2+\n",
    "    'cpd00063', # Ca2+\n",
    "    'cpd00067', # H+\n",
    "    'cpd00099', # Cl-\n",
    "    'cpd00149', # Co2+\n",
    "    'cpd00205', # K+\n",
    "    'cpd00244', # Ni2+\n",
    "    'cpd00254', # Mg\n",
    "    'cpd00971', # Na+\n",
    "    'cpd11574', # Molybdate\n",
    "}\n",
    "base_media = list(map(lambda x: modelseed_local.get_seed_compound(x).id, base_media))"
   ]
  },
  {
   "cell_type": "code",
   "execution_count": 8,
   "metadata": {},
   "outputs": [
    {
     "data": {
      "text/plain": [
       "['mn2',\n",
       " 'zn2',\n",
       " 'na1',\n",
       " 'pi',\n",
       " 'ni2',\n",
       " 'h2o',\n",
       " 'k',\n",
       " 'fe3',\n",
       " 'nh4',\n",
       " 'h',\n",
       " 'cl',\n",
       " 'fe2',\n",
       " 'mobd',\n",
       " 'so4',\n",
       " 'cu2',\n",
       " 'ca2',\n",
       " 'mg2',\n",
       " 'cobalt2']"
      ]
     },
     "execution_count": 8,
     "metadata": {},
     "output_type": "execute_result"
    }
   ],
   "source": [
    "base_media_bigg = []\n",
    "for k in base_media:\n",
    "    a = modelseed_local.compound_aliases[k.id]['BiGG']\n",
    "    #print(k.data['name'], a)\n",
    "    if k.id == 'cpd00001':\n",
    "        a = {'h2o'}\n",
    "    if k.id == 'cpd00013':\n",
    "        a = {'nh4'}\n",
    "    base_media_bigg.append(list(a)[0])\n",
    "base_media_bigg"
   ]
  },
  {
   "cell_type": "code",
   "execution_count": 19,
   "metadata": {},
   "outputs": [
    {
     "data": {
      "text/plain": [
       "{'cpd00030': 1000,\n",
       " 'cpd00034': 1000,\n",
       " 'cpd00971': 1000,\n",
       " 'cpd00009': 1000,\n",
       " 'cpd00244': 1000,\n",
       " 'cpd00001': 1000,\n",
       " 'cpd00205': 1000,\n",
       " 'cpd10516': 1000,\n",
       " 'cpd00013': 1000,\n",
       " 'cpd00067': 1000,\n",
       " 'cpd00099': 1000,\n",
       " 'cpd10515': 1000,\n",
       " 'cpd11574': 1000,\n",
       " 'cpd00048': 1000,\n",
       " 'cpd00058': 1000,\n",
       " 'cpd00063': 1000,\n",
       " 'cpd00254': 1000,\n",
       " 'cpd00149': 1000,\n",
       " 'cpd00571': 10}"
      ]
     },
     "execution_count": 19,
     "metadata": {},
     "output_type": "execute_result"
    }
   ],
   "source": [
    "pm1_plate = BiologPlate('PM1', ['A', 'B', 'C', 'D', 'E', 'F', 'G', 'H'], ['01', '02', '03', '04', '05', '06', '07', '08', '09', '10', '11', '12'])\n",
    "for l in pm1_str.split('\\n'):\n",
    "    o = l.split('\\t')\n",
    "    well_id = o[0]\n",
    "    desc = o[1]\n",
    "    compounds = set() if len(o) < 3 else set(o[2].split(';'))\n",
    "    compounds_final = set()\n",
    "    for cpd_id in compounds:\n",
    "        if len(cpd_id) > 1:\n",
    "            compounds_final |= {cpd_id}\n",
    "            continue\n",
    "            aliases = modelseed_local.compound_aliases[cpd_id]\n",
    "            if 'BiGG' in aliases and len(aliases['BiGG']) == 1:\n",
    "                compounds_final |= aliases['BiGG']\n",
    "    #print(compounds, compounds_final)\n",
    "    pm1_plate.wells[well_id] = {\n",
    "        'desc': desc,\n",
    "        'compounds': compounds_final,\n",
    "        'value': 10\n",
    "    }\n",
    "pm1_plate.add_base(base_media, 1000)\n",
    "pm1_plate.get_media('A04')"
   ]
  },
  {
   "cell_type": "code",
   "execution_count": 21,
   "metadata": {},
   "outputs": [],
   "source": [
    "model = kbase.get_from_ws('GCF_000005845.2.RAST.fbamodel', 77774)"
   ]
  },
  {
   "cell_type": "code",
   "execution_count": 379,
   "metadata": {},
   "outputs": [
    {
     "name": "stdout",
     "output_type": "stream",
     "text": [
      "1599 1777\n"
     ]
    },
    {
     "data": {
      "text/html": [
       "\n",
       "        <table>\n",
       "            <tr>\n",
       "                <td><strong>Reaction identifier</strong></td><td>rxn00452_c0</td>\n",
       "            </tr><tr>\n",
       "                <td><strong>Name</strong></td><td>S-Adenosyl-L-methionine:L-homocysteine S-methyltransferase_c0</td>\n",
       "            </tr><tr>\n",
       "                <td><strong>Memory address</strong></td>\n",
       "                <td>0x07faae4a678d0</td>\n",
       "            </tr><tr>\n",
       "                <td><strong>Stoichiometry</strong></td>\n",
       "                <td>\n",
       "                    <p style='text-align:right'>cpd00017_c0 + cpd00135_c0 --> cpd00019_c0 + cpd00060_c0 + cpd00067_c0</p>\n",
       "                    <p style='text-align:right'>S-Adenosyl-L-methionine_c0 + Homocysteine_c0 --> S-Adenosyl-homocysteine_c0 + L-Methionine_c0 + H+_c0</p>\n",
       "                </td>\n",
       "            </tr><tr>\n",
       "                <td><strong>GPR</strong></td><td>(b0261)</td>\n",
       "            </tr><tr>\n",
       "                <td><strong>Lower bound</strong></td><td>0</td>\n",
       "            </tr><tr>\n",
       "                <td><strong>Upper bound</strong></td><td>1000</td>\n",
       "            </tr>\n",
       "        </table>\n",
       "        "
      ],
      "text/plain": [
       "<ModelReaction rxn00452_c0 at 0x7faae4a678d0>"
      ]
     },
     "execution_count": 379,
     "metadata": {},
     "output_type": "execute_result"
    }
   ],
   "source": [
    "model_id = 'GCF_000005845.2.RAST.fbamodel'\n",
    "media_id = 'Carbon-D-Glucose'\n",
    "media = kbase.get_from_ws(media_id, 77774)\n",
    "kbmodel = kbase.get_object(model_id, 77774)\n",
    "model = kbase.get_from_ws(model_id, 77774)\n",
    "print(len(kbmodel['modelreactions']), len(model.reactions))\n",
    "rxn = cobra.core.Reaction('CYTBO3_4pp', 'CYTBO3_4pp', '', 0, 1000)\n",
    "rxn.add_metabolites({\n",
    "    model_gf.metabolites.cpd15561_c0: -1,\n",
    "    model_gf.metabolites.cpd15560_c0:  1,\n",
    "    model_gf.metabolites.cpd00067_e0: -4,\n",
    "    model_gf.metabolites.cpd00067_c0:  4,\n",
    "    model_gf.metabolites.cpd00001_c0:  1,\n",
    "    model_gf.metabolites.cpd00007_c0:  -0.5,\n",
    "})\n",
    "model.add_reaction(rxn)\n",
    "model.reactions.rxn00452_c0"
   ]
  },
  {
   "cell_type": "code",
   "execution_count": 380,
   "metadata": {},
   "outputs": [],
   "source": [
    "from cobrakbase.core.fba_utilities import KBaseFBAUtilities\n",
    "from cobrakbase.flux_analysis import gapfill\n",
    "from cobrakbase.flux_analysis.gapfilling import insert_gf, combine\n",
    "utilities = KBaseFBAUtilities(model, kbmodel, kbase, media = media,\n",
    "                              default_uptake = 100,\n",
    "                              default_excretion = 100,\n",
    "                              blacklist = [])\n",
    "utilities.cobramodel.medium = media"
   ]
  },
  {
   "cell_type": "code",
   "execution_count": null,
   "metadata": {},
   "outputs": [],
   "source": []
  },
  {
   "cell_type": "code",
   "execution_count": null,
   "metadata": {},
   "outputs": [],
   "source": []
  },
  {
   "cell_type": "code",
   "execution_count": 381,
   "metadata": {},
   "outputs": [],
   "source": [
    "utilities.default_uptake = 0\n",
    "penalties = utilities.build_model_extended_for_gapfilling(1,[],[],2,{})\n",
    "utilities.set_objective_from_target_reaction('bio1', 1)\n",
    "utilities.convert_objective_to_constraint(0.1, None)\n",
    "utilities.create_minimal_reaction_objective(penalties, default_penalty = 0)\n",
    "gapfilling_solution = model.optimize()\n",
    "output_1 = utilities.compute_gapfilled_solution(penalties)\n",
    "flux_values = utilities.binary_check_gapfilling_solution(penalties, 1)\n",
    "output_2 = utilities.compute_gapfilled_solution(penalties, flux_values)"
   ]
  },
  {
   "cell_type": "code",
   "execution_count": 406,
   "metadata": {},
   "outputs": [
    {
     "data": {
      "text/plain": [
       "0.32648922734328056"
      ]
     },
     "execution_count": 406,
     "metadata": {},
     "output_type": "execute_result"
    }
   ],
   "source": []
  },
  {
   "cell_type": "code",
   "execution_count": 227,
   "metadata": {},
   "outputs": [],
   "source": [
    "import math\n",
    "def get_net(rxns, model, s):\n",
    "    net = {}\n",
    "    l = set(map(lambda x: x.id, model.reactions))\n",
    "    #rxns = ['rxn39859_c', 'rxn39860_c', 'rxn07589_c', 'rxn07588_c']\n",
    "    for r in rxns:\n",
    "        if r in l:\n",
    "            mrxn = model.reactions.get_by_id(r)\n",
    "            if mrxn.id in s.fluxes:\n",
    "                v = s.fluxes[mrxn.id]\n",
    "                for m in mrxn.metabolites:\n",
    "                    if not m.id in net:\n",
    "                        net[m.id] = 0\n",
    "                    net[m.id] += (mrxn.metabolites[m] * v)\n",
    "            \n",
    "    for o in net:\n",
    "        if not net[o] == 0 and math.fabs(net[o]) < 1e-10:\n",
    "            #print(o, net[o])\n",
    "            #net[o] = 0\n",
    "            pass\n",
    "    for o in net:\n",
    "        m = model.metabolites.get_by_id(o)\n",
    "        if net[o] > 0:\n",
    "            print('++', m.id, m.name, net[o])\n",
    "    for o in net:\n",
    "        m = model.metabolites.get_by_id(o)\n",
    "        if net[o] < 0:\n",
    "            print('--', m.id, m.name, net[o])\n",
    "    return net"
   ]
  },
  {
   "cell_type": "code",
   "execution_count": 218,
   "metadata": {},
   "outputs": [],
   "source": [
    "l = set(map(lambda x: x.id, model_gf.reactions))\n",
    "from cobra.core import Solution\n",
    "import pandas as pd\n",
    "solution_data = {}\n",
    "for rxn_id in flux_values:\n",
    "    r = flux_values[rxn_id]['reverse']\n",
    "    f = flux_values[rxn_id]['forward']\n",
    "    if r != 0.0:\n",
    "        solution_data[rxn_id] = -1 * r\n",
    "    if f != 0.0:\n",
    "        solution_data[rxn_id] = f\n",
    "ser = pd.Series(data=solution_data)\n",
    "solution = Solution(0, 'yay', ser)"
   ]
  },
  {
   "cell_type": "code",
   "execution_count": 230,
   "metadata": {},
   "outputs": [],
   "source": [
    "#net = get_net(l, model_gf, solution)"
   ]
  },
  {
   "cell_type": "code",
   "execution_count": null,
   "metadata": {},
   "outputs": [],
   "source": []
  },
  {
   "cell_type": "code",
   "execution_count": null,
   "metadata": {},
   "outputs": [],
   "source": []
  },
  {
   "cell_type": "code",
   "execution_count": 262,
   "metadata": {},
   "outputs": [
    {
     "name": "stdout",
     "output_type": "stream",
     "text": [
      "R EX_cpd00013_e0 0.8583604904712583 NH3\n",
      "R EX_cpd00048_e0 0.022639718807314583 Sulfate\n",
      "R EX_cpd00205_e0 0.00028061591595913103 K+\n",
      "R EX_cpd00007_e0 0.002034465390703801 O2\n",
      "R EX_cpd00030_e0 0.00028061591595913103 Mn2+\n",
      "R EX_cpd10515_e0 0.0011224636638365241 Fe+2\n",
      "R EX_cpd00099_e0 0.00028061591595913103 Cl-\n",
      "R EX_cpd00027_e0 5.0 D-Glucose\n",
      "R EX_cpd00034_e0 0.00028061591595913103 Zn2+\n",
      "R EX_cpd00063_e0 0.00028061591595913103 Ca2+\n",
      "R EX_cpd00254_e0 0.00028061591595913103 Mg\n",
      "R EX_cpd00149_e0 0.00028061591595913103 Co2+\n",
      "R EX_cpd00058_e0 0.00028061591595913103 Cu2+\n",
      "R EX_cpd00009_e0 0.16251244516052166 Phosphate\n",
      "F EX_cpd00139_e0 0.0008418477478773813 Glycolate\n",
      "F EX_cpd00100_e0 0.0031145344943067604 Glycerol\n",
      "F EX_cpd00029_e0 2.4409056585617375 Acetate\n",
      "F EX_cpd00011_e0 0.01531295155636725 CO2\n",
      "F EX_cpd00001_e0 0.384260331462563 H2O\n",
      "F EX_cpd00794_e0 0.3401016505186795 TRHL\n",
      "F EX_cpd00588_e0 2.2567353161851686 Sorbitol\n",
      "F EX_cpd00235_e0 0.08125622258026083 D-mannose-6-phosphate\n",
      "F EX_cpd00047_e0 2.947409793195916 Formate\n",
      "F EX_cpd00036_e0 0.02238135542489778 Succinate\n",
      "F EX_cpd00067_e0 6.131351166414039 H+\n",
      "F EX_cpd15378_e0 0.00028061591595912594 4-Hydroxy-benzylalcohol\n"
     ]
    }
   ],
   "source": [
    "for rxn_id in flux_values:\n",
    "    cpd = modelseed_local.get_seed_compound(rxn_id[3:-3])\n",
    "    r = flux_values[rxn_id]['reverse']\n",
    "    if r != 0.0 and rxn_id.startswith('EX_'):\n",
    "        print('R', rxn_id, r, cpd.name)\n",
    "for rxn_id in flux_values:\n",
    "    cpd = modelseed_local.get_seed_compound(rxn_id[3:-3])\n",
    "    f = flux_values[rxn_id]['forward']\n",
    "    if f != 0.0 and rxn_id.startswith('EX_'):\n",
    "        print('F', rxn_id, f, cpd.name)"
   ]
  },
  {
   "cell_type": "code",
   "execution_count": null,
   "metadata": {},
   "outputs": [],
   "source": []
  },
  {
   "cell_type": "code",
   "execution_count": 47,
   "metadata": {},
   "outputs": [
    {
     "name": "stdout",
     "output_type": "stream",
     "text": [
      "1599 9951\n"
     ]
    },
    {
     "data": {
      "text/html": [
       "\n",
       "        <table>\n",
       "            <tr>\n",
       "                <td><strong>Reaction identifier</strong></td><td>rxn00452_c0</td>\n",
       "            </tr><tr>\n",
       "                <td><strong>Name</strong></td><td>S-Adenosyl-L-methionine:L-homocysteine S-methyltransferase_c0</td>\n",
       "            </tr><tr>\n",
       "                <td><strong>Memory address</strong></td>\n",
       "                <td>0x07fac74df3750</td>\n",
       "            </tr><tr>\n",
       "                <td><strong>Stoichiometry</strong></td>\n",
       "                <td>\n",
       "                    <p style='text-align:right'>cpd00017_c0 + cpd00135_c0 <=> cpd00019_c0 + cpd00060_c0 + cpd00067_c0</p>\n",
       "                    <p style='text-align:right'>S-Adenosyl-L-methionine_c0 + Homocysteine_c0 <=> S-Adenosyl-homocysteine_c0 + L-Methionine_c0 + H+_c0</p>\n",
       "                </td>\n",
       "            </tr><tr>\n",
       "                <td><strong>GPR</strong></td><td>(b0261)</td>\n",
       "            </tr><tr>\n",
       "                <td><strong>Lower bound</strong></td><td>-100</td>\n",
       "            </tr><tr>\n",
       "                <td><strong>Upper bound</strong></td><td>1000</td>\n",
       "            </tr>\n",
       "        </table>\n",
       "        "
      ],
      "text/plain": [
       "<ModelReaction rxn00452_c0 at 0x7fac74df3750>"
      ]
     },
     "execution_count": 47,
     "metadata": {},
     "output_type": "execute_result"
    }
   ],
   "source": [
    "print(len(kbmodel['modelreactions']), len(model.reactions))\n",
    "model.reactions.rxn00452_c0"
   ]
  },
  {
   "cell_type": "code",
   "execution_count": null,
   "metadata": {},
   "outputs": [],
   "source": [
    "template_json = kbase.get_object(model_json_gf['template_ref'], None)"
   ]
  },
  {
   "cell_type": "code",
   "execution_count": null,
   "metadata": {},
   "outputs": [],
   "source": []
  },
  {
   "cell_type": "code",
   "execution_count": 284,
   "metadata": {},
   "outputs": [],
   "source": []
  },
  {
   "cell_type": "code",
   "execution_count": null,
   "metadata": {},
   "outputs": [],
   "source": []
  },
  {
   "cell_type": "code",
   "execution_count": 390,
   "metadata": {},
   "outputs": [],
   "source": [
    "def make_rxn(i, lb, ub, m):\n",
    "    rxn = cobra.core.Reaction(i, i, '', lb, ub)\n",
    "    rxn.add_metabolites(m)\n",
    "    return rxn"
   ]
  },
  {
   "cell_type": "code",
   "execution_count": null,
   "metadata": {},
   "outputs": [],
   "source": [
    "model_gf.add_reaction(make_rxn('CYTBO3_4pp', 0, 1000, {\n",
    "    model_gf.metabolites.cpd15561_c0: -1,\n",
    "    model_gf.metabolites.cpd15560_c0:  1,\n",
    "    model_gf.metabolites.cpd00067_e0: -4,\n",
    "    model_gf.metabolites.cpd00067_c0:  4,\n",
    "    model_gf.metabolites.cpd00001_c0:  1,\n",
    "    model_gf.metabolites.cpd00007_c0:  -0.5,\n",
    "}))"
   ]
  },
  {
   "cell_type": "code",
   "execution_count": 403,
   "metadata": {},
   "outputs": [],
   "source": [
    "model_gf = insert_gf(kbmodel, output_2)\n",
    "model_gf.reactions.rxn10042_c0.lower_bound = 0\n",
    "model_gf.reactions.rxn10042_c0.upper_bound = 0\n",
    "\n",
    "model_gf.add_reaction(make_rxn('FRD3', 0, 1000, {\n",
    "    model_gf.metabolites.cpd00106_c0: -1,\n",
    "    model_gf.metabolites.cpd00036_c0:  1,\n",
    "    model_gf.metabolites.cpd15353_c0: -1,\n",
    "    model_gf.metabolites.cpd15352_c0:  1,\n",
    "}))\n",
    "model_gf.medium = media\n",
    "solution = cobra.flux_analysis.pfba(model_gf)\n",
    "#model_gf.summary()\n",
    "#solution.fluxes.to_csv('output_2_gf.csv')"
   ]
  },
  {
   "cell_type": "code",
   "execution_count": 374,
   "metadata": {},
   "outputs": [],
   "source": [
    "\n",
    "#model_gf.add_reaction()"
   ]
  },
  {
   "cell_type": "code",
   "execution_count": 372,
   "metadata": {},
   "outputs": [],
   "source": [
    "solution.fluxes.to_csv('output_2_fix_gf.csv')"
   ]
  },
  {
   "cell_type": "code",
   "execution_count": 323,
   "metadata": {},
   "outputs": [],
   "source": [
    "cobra.io.save_json_model(model_gf, 'e_coli_kbase_dec_20.json')"
   ]
  },
  {
   "cell_type": "code",
   "execution_count": 396,
   "metadata": {},
   "outputs": [
    {
     "data": {
      "text/html": [
       "\n",
       "        <table>\n",
       "            <tr>\n",
       "                <td><strong>Reaction identifier</strong></td><td>rxn08976_c0</td>\n",
       "            </tr><tr>\n",
       "                <td><strong>Name</strong></td><td>quinone reductase_c0</td>\n",
       "            </tr><tr>\n",
       "                <td><strong>Memory address</strong></td>\n",
       "                <td>0x07fab4d016c10</td>\n",
       "            </tr><tr>\n",
       "                <td><strong>Stoichiometry</strong></td>\n",
       "                <td>\n",
       "                    <p style='text-align:right'>cpd00004_c0 + cpd00067_c0 + cpd15352_c0 --> cpd00003_c0 + cpd15353_c0</p>\n",
       "                    <p style='text-align:right'>NADH_c0 + H+_c0 + 2-Demethylmenaquinone 8_c0 --> NAD_c0 + 2-Demethylmenaquinol 8_c0</p>\n",
       "                </td>\n",
       "            </tr><tr>\n",
       "                <td><strong>GPR</strong></td><td>(b1109)</td>\n",
       "            </tr><tr>\n",
       "                <td><strong>Lower bound</strong></td><td>0</td>\n",
       "            </tr><tr>\n",
       "                <td><strong>Upper bound</strong></td><td>1000</td>\n",
       "            </tr>\n",
       "        </table>\n",
       "        "
      ],
      "text/plain": [
       "<ModelReaction rxn08976_c0 at 0x7fab4d016c10>"
      ]
     },
     "execution_count": 396,
     "metadata": {},
     "output_type": "execute_result"
    }
   ],
   "source": [
    "model_gf.reactions.rxn08976_c0"
   ]
  },
  {
   "cell_type": "code",
   "execution_count": 404,
   "metadata": {},
   "outputs": [
    {
     "data": {
      "text/html": [
       "<strong><em>Optimal</em> solution with objective value 14.286</strong><br><div>\n",
       "<style scoped>\n",
       "    .dataframe tbody tr th:only-of-type {\n",
       "        vertical-align: middle;\n",
       "    }\n",
       "\n",
       "    .dataframe tbody tr th {\n",
       "        vertical-align: top;\n",
       "    }\n",
       "\n",
       "    .dataframe thead th {\n",
       "        text-align: right;\n",
       "    }\n",
       "</style>\n",
       "<table border=\"1\" class=\"dataframe\">\n",
       "  <thead>\n",
       "    <tr style=\"text-align: right;\">\n",
       "      <th></th>\n",
       "      <th>fluxes</th>\n",
       "      <th>reduced_costs</th>\n",
       "    </tr>\n",
       "  </thead>\n",
       "  <tbody>\n",
       "    <tr>\n",
       "      <th>rxn05561_c0</th>\n",
       "      <td>0.0</td>\n",
       "      <td>0.000000</td>\n",
       "    </tr>\n",
       "    <tr>\n",
       "      <th>rxn00935_c0</th>\n",
       "      <td>0.0</td>\n",
       "      <td>0.000000</td>\n",
       "    </tr>\n",
       "    <tr>\n",
       "      <th>rxn00247_c0</th>\n",
       "      <td>0.0</td>\n",
       "      <td>-1.428571</td>\n",
       "    </tr>\n",
       "    <tr>\n",
       "      <th>rxn05625_c0</th>\n",
       "      <td>0.0</td>\n",
       "      <td>0.000000</td>\n",
       "    </tr>\n",
       "    <tr>\n",
       "      <th>rxn02342_c0</th>\n",
       "      <td>0.0</td>\n",
       "      <td>-0.285714</td>\n",
       "    </tr>\n",
       "    <tr>\n",
       "      <th>...</th>\n",
       "      <td>...</td>\n",
       "      <td>...</td>\n",
       "    </tr>\n",
       "    <tr>\n",
       "      <th>EX_cpd00122_e0</th>\n",
       "      <td>0.0</td>\n",
       "      <td>-4.857143</td>\n",
       "    </tr>\n",
       "    <tr>\n",
       "      <th>SK_cpd11416_c0</th>\n",
       "      <td>-0.0</td>\n",
       "      <td>0.000000</td>\n",
       "    </tr>\n",
       "    <tr>\n",
       "      <th>SK_cpd02701_c0</th>\n",
       "      <td>-0.0</td>\n",
       "      <td>0.000000</td>\n",
       "    </tr>\n",
       "    <tr>\n",
       "      <th>SK_cpd15302_c0</th>\n",
       "      <td>-0.0</td>\n",
       "      <td>0.000000</td>\n",
       "    </tr>\n",
       "    <tr>\n",
       "      <th>FRD3</th>\n",
       "      <td>0.0</td>\n",
       "      <td>0.000000</td>\n",
       "    </tr>\n",
       "  </tbody>\n",
       "</table>\n",
       "<p>1792 rows × 2 columns</p>\n",
       "</div>"
      ],
      "text/plain": [
       "<Solution 14.286 at 0x7faaf8991b50>"
      ]
     },
     "execution_count": 404,
     "metadata": {},
     "output_type": "execute_result"
    }
   ],
   "source": [
    "model_gf.objective = 'rxn08173_c0'\n",
    "solution = model_gf.optimize()\n",
    "solution"
   ]
  },
  {
   "cell_type": "code",
   "execution_count": null,
   "metadata": {},
   "outputs": [],
   "source": []
  },
  {
   "cell_type": "code",
   "execution_count": 191,
   "metadata": {},
   "outputs": [
    {
     "name": "stdout",
     "output_type": "stream",
     "text": [
      "rxn00427_c0\n",
      "rxn05293_c0\n",
      "rxn02185_c0\n",
      "rxn03436_c0\n",
      "rxn12376_c0\n",
      "rxn12868_c0\n",
      "rxn05464_c0\n",
      "rxn00125_c0\n",
      "rxn09310_c0\n",
      "EX_cpd15378_e0\n"
     ]
    }
   ],
   "source": [
    "l = set(map(lambda x: x.id, model_gf.reactions))\n",
    "for r in model_gf_kbase.reactions:\n",
    "    if r.id not in l:\n",
    "        print(r.id)"
   ]
  },
  {
   "cell_type": "code",
   "execution_count": 286,
   "metadata": {},
   "outputs": [],
   "source": [
    "output ={'reversed': {'rxn00452_c0': '='},\n",
    " 'new': {\n",
    "     'rxn10336_c0': '=', \n",
    "     'rxn08618_c0': '=', \n",
    "     'rxn00427_c0': '=',\n",
    "     'rxn05293_c0': '=',\n",
    "     'rxn02185_c0': '=',\n",
    "     'rxn03436_c0': '=',\n",
    "     'rxn12376_c0': '=',\n",
    "     'rxn12868_c0': '=',\n",
    "     'rxn05464_c0': '=',\n",
    "     'rxn00125_c0': '=',\n",
    "     'rxn09310_c0': '=',\n",
    "    }\n",
    "}"
   ]
  },
  {
   "cell_type": "code",
   "execution_count": 129,
   "metadata": {
    "collapsed": true,
    "jupyter": {
     "outputs_hidden": true
    }
   },
   "outputs": [
    {
     "data": {
      "text/html": [
       "<h3>Objective</h3><p>1.0 bio1 = 0.1639274371173009</p><h4>Uptake</h4><table border=\"1\" class=\"dataframe\">\n",
       "  <thead>\n",
       "    <tr style=\"text-align: right;\">\n",
       "      <th>Metabolite</th>\n",
       "      <th>Reaction</th>\n",
       "      <th>Flux</th>\n",
       "      <th>C-Number</th>\n",
       "      <th>C-Flux</th>\n",
       "    </tr>\n",
       "  </thead>\n",
       "  <tbody>\n",
       "    <tr>\n",
       "      <td>cpd00007_e0</td>\n",
       "      <td>EX_cpd00007_e0</td>\n",
       "      <td>0.003335</td>\n",
       "      <td>0</td>\n",
       "      <td>0.00%</td>\n",
       "    </tr>\n",
       "    <tr>\n",
       "      <td>cpd00009_e0</td>\n",
       "      <td>EX_cpd00009_e0</td>\n",
       "      <td>0.1332</td>\n",
       "      <td>0</td>\n",
       "      <td>0.00%</td>\n",
       "    </tr>\n",
       "    <tr>\n",
       "      <td>cpd00013_e0</td>\n",
       "      <td>EX_cpd00013_e0</td>\n",
       "      <td>1.581</td>\n",
       "      <td>0</td>\n",
       "      <td>0.00%</td>\n",
       "    </tr>\n",
       "    <tr>\n",
       "      <td>cpd00027_e0</td>\n",
       "      <td>EX_cpd00027_e0</td>\n",
       "      <td>5</td>\n",
       "      <td>6</td>\n",
       "      <td>100.00%</td>\n",
       "    </tr>\n",
       "    <tr>\n",
       "      <td>cpd00030_e0</td>\n",
       "      <td>EX_cpd00030_e0</td>\n",
       "      <td>0.00046</td>\n",
       "      <td>0</td>\n",
       "      <td>0.00%</td>\n",
       "    </tr>\n",
       "    <tr>\n",
       "      <td>cpd00034_e0</td>\n",
       "      <td>EX_cpd00034_e0</td>\n",
       "      <td>0.00046</td>\n",
       "      <td>0</td>\n",
       "      <td>0.00%</td>\n",
       "    </tr>\n",
       "    <tr>\n",
       "      <td>cpd00048_e0</td>\n",
       "      <td>EX_cpd00048_e0</td>\n",
       "      <td>0.03895</td>\n",
       "      <td>0</td>\n",
       "      <td>0.00%</td>\n",
       "    </tr>\n",
       "    <tr>\n",
       "      <td>cpd00058_e0</td>\n",
       "      <td>EX_cpd00058_e0</td>\n",
       "      <td>0.00046</td>\n",
       "      <td>0</td>\n",
       "      <td>0.00%</td>\n",
       "    </tr>\n",
       "    <tr>\n",
       "      <td>cpd00063_e0</td>\n",
       "      <td>EX_cpd00063_e0</td>\n",
       "      <td>0.00046</td>\n",
       "      <td>0</td>\n",
       "      <td>0.00%</td>\n",
       "    </tr>\n",
       "    <tr>\n",
       "      <td>cpd00099_e0</td>\n",
       "      <td>EX_cpd00099_e0</td>\n",
       "      <td>0.00046</td>\n",
       "      <td>0</td>\n",
       "      <td>0.00%</td>\n",
       "    </tr>\n",
       "    <tr>\n",
       "      <td>cpd00149_e0</td>\n",
       "      <td>EX_cpd00149_e0</td>\n",
       "      <td>0.00046</td>\n",
       "      <td>0</td>\n",
       "      <td>0.00%</td>\n",
       "    </tr>\n",
       "    <tr>\n",
       "      <td>cpd00205_e0</td>\n",
       "      <td>EX_cpd00205_e0</td>\n",
       "      <td>0.00046</td>\n",
       "      <td>0</td>\n",
       "      <td>0.00%</td>\n",
       "    </tr>\n",
       "    <tr>\n",
       "      <td>cpd00254_e0</td>\n",
       "      <td>EX_cpd00254_e0</td>\n",
       "      <td>0.00046</td>\n",
       "      <td>0</td>\n",
       "      <td>0.00%</td>\n",
       "    </tr>\n",
       "    <tr>\n",
       "      <td>cpd10515_e0</td>\n",
       "      <td>EX_cpd10515_e0</td>\n",
       "      <td>0.00184</td>\n",
       "      <td>0</td>\n",
       "      <td>0.00%</td>\n",
       "    </tr>\n",
       "    <tr>\n",
       "      <td>cpd17041_c0</td>\n",
       "      <td>rxn13782_c0</td>\n",
       "      <td>0.1639</td>\n",
       "      <td>0</td>\n",
       "      <td>0.00%</td>\n",
       "    </tr>\n",
       "    <tr>\n",
       "      <td>cpd17042_c0</td>\n",
       "      <td>rxn13783_c0</td>\n",
       "      <td>0.1639</td>\n",
       "      <td>0</td>\n",
       "      <td>0.00%</td>\n",
       "    </tr>\n",
       "    <tr>\n",
       "      <td>cpd17043_c0</td>\n",
       "      <td>rxn13784_c0</td>\n",
       "      <td>0.1639</td>\n",
       "      <td>0</td>\n",
       "      <td>0.00%</td>\n",
       "    </tr>\n",
       "  </tbody>\n",
       "</table><h4>Secretion</h4><table border=\"1\" class=\"dataframe\">\n",
       "  <thead>\n",
       "    <tr style=\"text-align: right;\">\n",
       "      <th>Metabolite</th>\n",
       "      <th>Reaction</th>\n",
       "      <th>Flux</th>\n",
       "      <th>C-Number</th>\n",
       "      <th>C-Flux</th>\n",
       "    </tr>\n",
       "  </thead>\n",
       "  <tbody>\n",
       "    <tr>\n",
       "      <td>cpd00001_e0</td>\n",
       "      <td>EX_cpd00001_e0</td>\n",
       "      <td>-0.6395</td>\n",
       "      <td>0</td>\n",
       "      <td>0.00%</td>\n",
       "    </tr>\n",
       "    <tr>\n",
       "      <td>cpd00029_e0</td>\n",
       "      <td>EX_cpd00029_e0</td>\n",
       "      <td>-4.304</td>\n",
       "      <td>2</td>\n",
       "      <td>36.56%</td>\n",
       "    </tr>\n",
       "    <tr>\n",
       "      <td>cpd00047_e0</td>\n",
       "      <td>EX_cpd00047_e0</td>\n",
       "      <td>-4.681</td>\n",
       "      <td>1</td>\n",
       "      <td>19.89%</td>\n",
       "    </tr>\n",
       "    <tr>\n",
       "      <td>cpd00067_e0</td>\n",
       "      <td>EX_cpd00067_e0</td>\n",
       "      <td>-10.3</td>\n",
       "      <td>0</td>\n",
       "      <td>0.00%</td>\n",
       "    </tr>\n",
       "    <tr>\n",
       "      <td>cpd00100_e0</td>\n",
       "      <td>EX_cpd00100_e0</td>\n",
       "      <td>-3.128</td>\n",
       "      <td>3</td>\n",
       "      <td>39.86%</td>\n",
       "    </tr>\n",
       "    <tr>\n",
       "      <td>cpd00104_e0</td>\n",
       "      <td>EX_cpd00104_e0</td>\n",
       "      <td>-0.00092</td>\n",
       "      <td>10</td>\n",
       "      <td>0.04%</td>\n",
       "    </tr>\n",
       "    <tr>\n",
       "      <td>cpd00156_e0</td>\n",
       "      <td>EX_cpd00156_e0</td>\n",
       "      <td>-0.1672</td>\n",
       "      <td>5</td>\n",
       "      <td>3.55%</td>\n",
       "    </tr>\n",
       "    <tr>\n",
       "      <td>cpd15378_e0</td>\n",
       "      <td>EX_cpd15378_e0</td>\n",
       "      <td>-0.00046</td>\n",
       "      <td>7</td>\n",
       "      <td>0.01%</td>\n",
       "    </tr>\n",
       "    <tr>\n",
       "      <td>cpd02701_c0</td>\n",
       "      <td>SK_cpd02701_c0</td>\n",
       "      <td>-0.00138</td>\n",
       "      <td>15</td>\n",
       "      <td>0.09%</td>\n",
       "    </tr>\n",
       "    <tr>\n",
       "      <td>cpd11416_c0</td>\n",
       "      <td>SK_cpd11416_c0</td>\n",
       "      <td>-0.1639</td>\n",
       "      <td>0</td>\n",
       "      <td>0.00%</td>\n",
       "    </tr>\n",
       "  </tbody>\n",
       "</table>"
      ],
      "text/plain": [
       "<cobra.summary.model_summary.ModelSummary at 0x7fabb9079910>"
      ]
     },
     "execution_count": 129,
     "metadata": {},
     "output_type": "execute_result"
    }
   ],
   "source": [
    "model_gf_kbase = kbase.get_from_ws('GCF_000005845.2.Glc.gf', 77774)\n",
    "model_gf_kbase.medium = media\n",
    "model_gf_kbase.summary()"
   ]
  },
  {
   "cell_type": "code",
   "execution_count": 128,
   "metadata": {},
   "outputs": [],
   "source": []
  },
  {
   "cell_type": "code",
   "execution_count": null,
   "metadata": {},
   "outputs": [],
   "source": [
    "rxn00452_c0\t<\t(1) S-Adenosyl-L-methionine_c0[c0] + (1) Homocysteine_c0[c0] <=> (1) S-Adenosyl-homocysteine_c0[c0] + (1) L-Methionine_c0[c0] + (1) H+_c0[c0]\treversed\n",
    "\n",
    "rxn10336_c0\t>\t(2) Phosphatidylglycerol dioctadecanoyl_c0[c0] => (1) Glycerol_c0[c0] + (1) Stearoylcardiolipin (B. subtilis)_c0[c0]\tadded\n",
    "rxn08618_c0\t>\t(1) UDP-glucose_c0[c0] + (1) inner core oligosaccharide lipid A_c0[c0] => (1) UDP_c0[c0] + (4) H+_c0[c0] + (1) glucosyl-inner core oligosaccharide lipid A_c0[c0]\tadded\n",
    "rxn00427_c0\t>\t(1) H2O2_c0[c0] + (1) Methanol_c0[c0] => (2) H2O_c0[c0] + (1) Formaldehyde_c0[c0]\tadded\n",
    "rxn05293_c0\t>\t(1) NADH_c0[c0] + (1) H+_c0[c0] + (1) 2-C-methyl-D-erythritol2-4-cyclodiphosphate_c0[c0] => (1) H2O_c0[c0] + (1) NAD_c0[c0] + (1) 1-Hydroxy-2-methyl-2-butenyl 4-diphosphate_c0[c0]\tadded\n",
    "rxn02185_c0\t<\t(1) TPP_c0[c0] + (1) ALCTT_c0[c0] <= (1) Pyruvate_c0[c0] + (1) 2-Hydroxyethyl-ThPP_c0[c0]\tadded\n",
    "rxn03436_c0\t>\t(1) 2-Aceto-2-hydroxybutanoate_c0[c0] => (1) (R)-3-Hydroxy-3-methyl-2-oxopentanoate_c0[c0]\tadded\n",
    "rxn12376_c0\t<\t(1) 4-Hydroxy-benzylalcohol_e0[e0] <= (1) 4-Hydroxy-benzylalcohol_c0[c0]\tadded\n",
    "rxn12868_c0\t>\t(1) H2O_c0[c0] + (1) ATP_c0[c0] + (2) NAD_c0[c0] + (1) H2S_c0[c0] + (1) Dethiobiotin_c0[c0] => (2) NADH_c0[c0] + (1) PPi_c0[c0] + (1) AMP_c0[c0] + (3) H+_c0[c0] + (1) BIOT_c0[c0]\tadded\n",
    "rxn05464_c0\t>\t(1) NADH_c0[c0] + (1) H+_c0[c0] + (1) trans-Octodec-2-enoyl-ACP_c0[c0] => (1) NAD_c0[c0] + (1) Octodecanoyl-ACP_c0[c0]\tadded\n",
    "rxn00125_c0\t<\t(1) H2O_c0[c0] + (1) S-Adenosyl-L-methionine_c0[c0] <= (1) H+_c0[c0] + (1) 5-Methylthioadenosine_c0[c0] + (1) L-Homoserine_c0[c0]\tadded\n",
    "rxn09310_c0\t>\t(1) ATP_c0[c0] + (1) L-Tyrosine_c0[c0] + (1) L-Cysteine_c0[c0] + (1) 1-deoxy-D-xylulose5-phosphate_c0[c0] => (1) H2O_c0[c0] + (1) CO2_c0[c0] + (1) PPi_c0[c0] + (1) AMP_c0[c0] + (1) L-Alanine_c0[c0] + (2) H+_c0[c0] + (1) 4-Methyl-5--2-phosphoethyl-thiazole_c0[c0] + (1) 4-Hydroxy-benzylalcohol_c0[c0]\tadded"
   ]
  },
  {
   "cell_type": "code",
   "execution_count": 10,
   "metadata": {},
   "outputs": [
    {
     "ename": "NameError",
     "evalue": "name 'model' is not defined",
     "output_type": "error",
     "traceback": [
      "\u001b[0;31m---------------------------------------------------------------------------\u001b[0m",
      "\u001b[0;31mNameError\u001b[0m                                 Traceback (most recent call last)",
      "\u001b[0;32m<ipython-input-10-131abf273a64>\u001b[0m in \u001b[0;36m<module>\u001b[0;34m\u001b[0m\n\u001b[1;32m     22\u001b[0m \u001b[0;31m# 'EX_o2_e': 1000.0,\u001b[0m\u001b[0;34m\u001b[0m\u001b[0;34m\u001b[0m\u001b[0;34m\u001b[0m\u001b[0m\n\u001b[1;32m     23\u001b[0m  \u001b[0;34m'EX_tungs_e'\u001b[0m\u001b[0;34m:\u001b[0m \u001b[0;36m1000.0\u001b[0m\u001b[0;34m,\u001b[0m\u001b[0;34m\u001b[0m\u001b[0;34m\u001b[0m\u001b[0m\n\u001b[0;32m---> 24\u001b[0;31m  'EX_slnt_e': 1000.0}\n\u001b[0m",
      "\u001b[0;31mNameError\u001b[0m: name 'model' is not defined"
     ]
    }
   ],
   "source": [
    "model.medium = {'EX_pi_e': 1000.0,\n",
    "# 'EX_co2_e': 1000.0,\n",
    " 'EX_fe3_e': 1000.0,\n",
    " 'EX_h_e': 1000.0,\n",
    " 'EX_mn2_e': 1000.0,\n",
    " 'EX_fe2_e': 1000.0,\n",
    " 'EX_glc__D_e': 10.0,\n",
    " 'EX_zn2_e': 1000.0,\n",
    " 'EX_mg2_e': 1000.0,\n",
    " 'EX_ca2_e': 1000.0,\n",
    " 'EX_ni2_e': 1000.0,\n",
    " 'EX_cu2_e': 1000.0,\n",
    " 'EX_sel_e': 1000.0,\n",
    " 'EX_cobalt2_e': 1000.0,\n",
    " 'EX_h2o_e': 1000.0,\n",
    " 'EX_mobd_e': 1000.0,\n",
    " 'EX_so4_e': 1000.0,\n",
    " 'EX_nh4_e': 1000.0,\n",
    " 'EX_k_e': 1000.0,\n",
    " 'EX_na1_e': 1000.0,\n",
    " 'EX_cl_e': 1000.0,\n",
    "# 'EX_o2_e': 1000.0,\n",
    " 'EX_tungs_e': 1000.0,\n",
    " 'EX_slnt_e': 1000.0}"
   ]
  },
  {
   "cell_type": "code",
   "execution_count": 217,
   "metadata": {},
   "outputs": [
    {
     "data": {
      "text/plain": [
       "{'EX_pi_e': 1000.0,\n",
       " 'EX_fe3_e': 1000.0,\n",
       " 'EX_h_e': 1000.0,\n",
       " 'EX_mn2_e': 1000.0,\n",
       " 'EX_fe2_e': 1000.0,\n",
       " 'EX_glc__D_e': 10.0,\n",
       " 'EX_zn2_e': 1000.0,\n",
       " 'EX_mg2_e': 1000.0,\n",
       " 'EX_ca2_e': 1000.0,\n",
       " 'EX_ni2_e': 1000.0,\n",
       " 'EX_cu2_e': 1000.0,\n",
       " 'EX_sel_e': 1000.0,\n",
       " 'EX_cobalt2_e': 1000.0,\n",
       " 'EX_h2o_e': 1000.0,\n",
       " 'EX_mobd_e': 1000.0,\n",
       " 'EX_so4_e': 1000.0,\n",
       " 'EX_nh4_e': 1000.0,\n",
       " 'EX_k_e': 1000.0,\n",
       " 'EX_na1_e': 1000.0,\n",
       " 'EX_cl_e': 1000.0,\n",
       " 'EX_tungs_e': 1000.0,\n",
       " 'EX_slnt_e': 1000.0}"
      ]
     },
     "execution_count": 217,
     "metadata": {},
     "output_type": "execute_result"
    }
   ],
   "source": [
    "model.medium"
   ]
  },
  {
   "cell_type": "code",
   "execution_count": null,
   "metadata": {},
   "outputs": [],
   "source": [
    "mo"
   ]
  },
  {
   "cell_type": "code",
   "execution_count": 264,
   "metadata": {},
   "outputs": [],
   "source": [
    "\n",
    "biolog = Biolog()\n",
    "biolog.add_plate(pm1_plate)"
   ]
  },
  {
   "cell_type": "code",
   "execution_count": 265,
   "metadata": {},
   "outputs": [
    {
     "name": "stdout",
     "output_type": "stream",
     "text": [
      "skip asp__D\n",
      "skip 2obut\n",
      "skip tartr__M\n",
      "skip rbt\n",
      "skip datp\n",
      "skip glx\n",
      "skip tcb\n"
     ]
    }
   ],
   "source": [
    "solution = biolog.run_plates(model)"
   ]
  },
  {
   "cell_type": "code",
   "execution_count": 266,
   "metadata": {},
   "outputs": [
    {
     "data": {
      "text/html": [
       "<h3>PM1</h3><table style=\"border-width: 1px; box-sizing: border-box; border-color: grey\"><tbody><tr><td style=\"text-align:left;vertical-align:top;\">Negative Control</td><td style=\"text-align:left;vertical-align:top;\">L-Arabinose</td><td style=\"text-align:left;vertical-align:top;\">N-Acetyl-DGlucosamine</td><td style=\"text-align:left;vertical-align:top;\">D-Saccharic Acid</td><td style=\"text-align:left;vertical-align:top;\">Succinic Acid</td><td style=\"text-align:left;vertical-align:top;\">D-Galactose</td><td style=\"text-align:left;vertical-align:top;\">L-Aspartic Acid</td><td style=\"text-align:left;vertical-align:top;\">L-Proline</td><td style=\"text-align:left;vertical-align:top;\">D-Alanine</td><td style=\"text-align:left;vertical-align:top;\">D-Trehalose</td><td style=\"text-align:left;vertical-align:top;\">D-Mannose</td><td style=\"text-align:left;vertical-align:top;\">Dulcitol </td></tr><tr><td style=\"text-align:left;vertical-align:top;\">D-Serine</td><td style=\"text-align:left;vertical-align:top;\">D-Sorbitol</td><td style=\"text-align:left;vertical-align:top;\">Glycerol</td><td style=\"text-align:left;vertical-align:top;\">L-Fucose</td><td style=\"text-align:left;vertical-align:top;\">D-Glucuronic Acid</td><td style=\"text-align:left;vertical-align:top;\">D-Gluconic Acid</td><td style=\"text-align:left;vertical-align:top;\">D,L-α-GlycerolPhosphate</td><td style=\"text-align:left;vertical-align:top;\">D-Xylose</td><td style=\"text-align:left;vertical-align:top;\">L-Lactic Acid</td><td style=\"text-align:left;vertical-align:top;\">Formic Acid</td><td style=\"text-align:left;vertical-align:top;\">D-Mannitol</td><td style=\"text-align:left;vertical-align:top;\">L-Glutamic Acid</td></tr><tr><td style=\"text-align:left;vertical-align:top;\">Glucose-6-Phosphate</td><td style=\"text-align:left;vertical-align:top;\">D-Galactonic Acid-γ-Lactone</td><td style=\"text-align:left;vertical-align:top;\">D,L-Malic Acid</td><td style=\"text-align:left;vertical-align:top;\">D-Ribose</td><td style=\"text-align:left;vertical-align:top;\">Tween 20</td><td style=\"text-align:left;vertical-align:top;\">L-Rhamnose</td><td style=\"text-align:left;vertical-align:top;\">D-Fructose</td><td style=\"text-align:left;vertical-align:top;\">Acetic Acid</td><td style=\"text-align:left;vertical-align:top;\">α-D-Glucose</td><td style=\"text-align:left;vertical-align:top;\">Maltose</td><td style=\"text-align:left;vertical-align:top;\">D-Melibiose</td><td style=\"text-align:left;vertical-align:top;\">Thymidine </td></tr><tr><td style=\"text-align:left;vertical-align:top;\">L-Asparagine</td><td style=\"text-align:left;vertical-align:top;\">D-Aspartic Acid</td><td style=\"text-align:left;vertical-align:top;\">D-Glucosaminic Acid</td><td style=\"text-align:left;vertical-align:top;\">1,2-Propanediol</td><td style=\"text-align:left;vertical-align:top;\">Tween 40</td><td style=\"text-align:left;vertical-align:top;\">α-Keto-Glutaric Acid</td><td style=\"text-align:left;vertical-align:top;\">α-Keto-Butyric Acid</td><td style=\"text-align:left;vertical-align:top;\">α-Methyl-DGalactoside</td><td style=\"text-align:left;vertical-align:top;\">α-D-Lactose</td><td style=\"text-align:left;vertical-align:top;\">Lactulose</td><td style=\"text-align:left;vertical-align:top;\">Sucrose</td><td style=\"text-align:left;vertical-align:top;\">Uridine </td></tr><tr><td style=\"text-align:left;vertical-align:top;\">L-Glutamine</td><td style=\"text-align:left;vertical-align:top;\">M-Tartaric Acid</td><td style=\"text-align:left;vertical-align:top;\">Glucose-1-Phosphate</td><td style=\"text-align:left;vertical-align:top;\">Fructose-6-Phosphate</td><td style=\"text-align:left;vertical-align:top;\">Tween 80</td><td style=\"text-align:left;vertical-align:top;\">α-Hydroxy Glutaric Acid-γLactone</td><td style=\"text-align:left;vertical-align:top;\">α-Hydroxy Butyric Acid</td><td style=\"text-align:left;vertical-align:top;\">β-Methyl-DGlucoside</td><td style=\"text-align:left;vertical-align:top;\">Adonitol</td><td style=\"text-align:left;vertical-align:top;\">Maltotriose</td><td style=\"text-align:left;vertical-align:top;\">2-Deoxy Adenosine</td><td style=\"text-align:left;vertical-align:top;\">Adenosine </td></tr><tr><td style=\"text-align:left;vertical-align:top;\">Glycyl-L-Aspartic Acid</td><td style=\"text-align:left;vertical-align:top;\">Citric Acid</td><td style=\"text-align:left;vertical-align:top;\">M-Inositol</td><td style=\"text-align:left;vertical-align:top;\">D-Threonine</td><td style=\"text-align:left;vertical-align:top;\">Fumaric Acid</td><td style=\"text-align:left;vertical-align:top;\">Bromo Succinic Acid</td><td style=\"text-align:left;vertical-align:top;\">Propionic Acid</td><td style=\"text-align:left;vertical-align:top;\">Mucic Acid</td><td style=\"text-align:left;vertical-align:top;\">Glycolic Acid</td><td style=\"text-align:left;vertical-align:top;\">Glyoxylic Acid</td><td style=\"text-align:left;vertical-align:top;\">D-Cellobiose</td><td style=\"text-align:left;vertical-align:top;\">Inosine </td></tr><tr><td style=\"text-align:left;vertical-align:top;\">Glycyl-L-Glutamic Acid</td><td style=\"text-align:left;vertical-align:top;\">Tricarballylic Acid</td><td style=\"text-align:left;vertical-align:top;\">L-Serine</td><td style=\"text-align:left;vertical-align:top;\">L-Threonine</td><td style=\"text-align:left;vertical-align:top;\">L-Alanine</td><td style=\"text-align:left;vertical-align:top;\">L-Alanyl-Glycine</td><td style=\"text-align:left;vertical-align:top;\">Acetoacetic Acid</td><td style=\"text-align:left;vertical-align:top;\">N-Acetyl-β-D-Mannosamine</td><td style=\"text-align:left;vertical-align:top;\">Mono Methyl Succinate</td><td style=\"text-align:left;vertical-align:top;\">Methyl Pyruvate</td><td style=\"text-align:left;vertical-align:top;\">D-Malic Acid</td><td style=\"text-align:left;vertical-align:top;\">L-Malic Acid</td></tr><tr><td style=\"text-align:left;vertical-align:top;\">Glycyl-L-Proline</td><td style=\"text-align:left;vertical-align:top;\">P-Hydroxy Phenyl Acetic Acid</td><td style=\"text-align:left;vertical-align:top;\">M-Hydroxy Phenyl Acetic Acid</td><td style=\"text-align:left;vertical-align:top;\">Tyramine</td><td style=\"text-align:left;vertical-align:top;\">D-Psicose</td><td style=\"text-align:left;vertical-align:top;\">L-Lyxose</td><td style=\"text-align:left;vertical-align:top;\">Glucuronamide</td><td style=\"text-align:left;vertical-align:top;\">Pyruvic Acid</td><td style=\"text-align:left;vertical-align:top;\">L-Galactonic Acid-γ-Lactone</td><td style=\"text-align:left;vertical-align:top;\">D-Galacturonic Acid</td><td style=\"text-align:left;vertical-align:top;\">Phenylethylamine</td><td style=\"text-align:left;vertical-align:top;\">2-Aminoethano</td></tr></tbody></table>"
      ],
      "text/plain": [
       "<__main__.BiologPlate at 0x7f6862360a00>"
      ]
     },
     "execution_count": 266,
     "metadata": {},
     "output_type": "execute_result"
    }
   ],
   "source": [
    "pm1_plate"
   ]
  },
  {
   "cell_type": "code",
   "execution_count": 233,
   "metadata": {},
   "outputs": [
    {
     "data": {
      "text/plain": [
       "0.15741431904825262"
      ]
     },
     "execution_count": 233,
     "metadata": {},
     "output_type": "execute_result"
    }
   ],
   "source": [
    "solution.fluxes['BIOMASS_Ec_iML1515_core_75p37M']"
   ]
  },
  {
   "cell_type": "code",
   "execution_count": 117,
   "metadata": {},
   "outputs": [],
   "source": [
    "model = cobra.io.read_sbml_model('iML1515.xml')"
   ]
  },
  {
   "cell_type": "code",
   "execution_count": 270,
   "metadata": {},
   "outputs": [],
   "source": [
    "import cobra\n",
    "from IPython.core.display import display, HTML"
   ]
  },
  {
   "cell_type": "code",
   "execution_count": 296,
   "metadata": {},
   "outputs": [
    {
     "data": {
      "text/html": [
       "<h3>PM1</h3><table style=\"border: 3px double black\"><tbody><tr style=\"border: 3px double black\"><td style=\"border: 3px double black;text-align:left;vertical-align:top;background-color:#d3d3d3\">nan<br>Negative Control</td><td style=\"border: 3px double black;text-align:left;vertical-align:top;background-color:green\">0.09956267661964154<br>L-Arabinose</td><td style=\"border: 3px double black;text-align:left;vertical-align:top;background-color:green\">0.1792556643679916<br>N-Acetyl-DGlucosamine</td><td style=\"border: 3px double black;text-align:left;vertical-align:top;background-color:green\">0.10950305235956234<br>D-Saccharic Acid</td><td style=\"border: 3px double black;text-align:left;vertical-align:top;background-color:#d3d3d3\">nan<br>Succinic Acid</td><td style=\"border: 3px double black;text-align:left;vertical-align:top;background-color:green\">0.13571995313752214<br>D-Galactose</td><td style=\"border: 3px double black;text-align:left;vertical-align:top;background-color:green\">0.028394121225227196<br>L-Aspartic Acid</td><td style=\"border: 3px double black;text-align:left;vertical-align:top;background-color:#d3d3d3\">nan<br>L-Proline</td><td style=\"border: 3px double black;text-align:left;vertical-align:top;background-color:#d3d3d3\">nan<br>D-Alanine</td><td style=\"border: 3px double black;text-align:left;vertical-align:top;background-color:green\">0.3743579781555464<br>D-Trehalose</td><td style=\"border: 3px double black;text-align:left;vertical-align:top;background-color:green\">0.15741431904825157<br>D-Mannose</td><td style=\"border: 3px double black;text-align:left;vertical-align:top;background-color:green\">0.11317075509602377<br>Dulcitol </td></tr><tr style=\"border: 3px double black\"><td style=\"border: 3px double black;text-align:left;vertical-align:top;background-color:green\">0.005162346409250346<br>D-Serine</td><td style=\"border: 3px double black;text-align:left;vertical-align:top;background-color:green\">0.1140255872267935<br>D-Sorbitol</td><td style=\"border: 3px double black;text-align:left;vertical-align:top;background-color:green\">0.005655671304743194<br>Glycerol</td><td style=\"border: 3px double black;text-align:left;vertical-align:top;background-color:green\">0.06783522421665451<br>L-Fucose</td><td style=\"border: 3px double black;text-align:left;vertical-align:top;background-color:#d3d3d3\">nan<br>D-Glucuronic Acid</td><td style=\"border: 3px double black;text-align:left;vertical-align:top;background-color:#d3d3d3\">nan<br>D-Gluconic Acid</td><td style=\"border: 3px double black;text-align:left;vertical-align:top;background-color:#d3d3d3\">nan<br>D,L-α-GlycerolPhosphate</td><td style=\"border: 3px double black;text-align:left;vertical-align:top;background-color:green\">0.09956267661963994<br>D-Xylose</td><td style=\"border: 3px double black;text-align:left;vertical-align:top;background-color:#d3d3d3\">nan<br>L-Lactic Acid</td><td style=\"border: 3px double black;text-align:left;vertical-align:top;background-color:#d3d3d3\">nan<br>Formic Acid</td><td style=\"border: 3px double black;text-align:left;vertical-align:top;background-color:green\">0.11402558722678244<br>D-Mannitol</td><td style=\"border: 3px double black;text-align:left;vertical-align:top;background-color:green\">0.028672897876102936<br>L-Glutamic Acid</td></tr><tr style=\"border: 3px double black\"><td style=\"border: 3px double black;text-align:left;vertical-align:top;background-color:green\">0.2224974167804391<br>Glucose-6-Phosphate</td><td style=\"border: 3px double black;text-align:left;vertical-align:top;background-color:#d3d3d3\">nan<br>D-Galactonic Acid-γ-Lactone</td><td style=\"border: 3px double black;text-align:left;vertical-align:top;background-color:green\">0.0696808590581734<br>D,L-Malic Acid</td><td style=\"border: 3px double black;text-align:left;vertical-align:top;background-color:green\">0.03447957888745262<br>D-Ribose</td><td style=\"border: 3px double black;text-align:left;vertical-align:top;background-color:#d3d3d3\">nan<br>Tween 20</td><td style=\"border: 3px double black;text-align:left;vertical-align:top;background-color:green\">0.06783522421665454<br>L-Rhamnose</td><td style=\"border: 3px double black;text-align:left;vertical-align:top;background-color:green\">0.15741431904825243<br>D-Fructose</td><td style=\"border: 3px double black;text-align:left;vertical-align:top;background-color:#d3d3d3\">nan<br>Acetic Acid</td><td style=\"border: 3px double black;text-align:left;vertical-align:top;background-color:green\">0.15741431904825123<br>α-D-Glucose</td><td style=\"border: 3px double black;text-align:left;vertical-align:top;background-color:green\">0.37435797815554417<br>Maltose</td><td style=\"border: 3px double black;text-align:left;vertical-align:top;background-color:green\">0.3526636122448197<br>D-Melibiose</td><td style=\"border: 3px double black;text-align:left;vertical-align:top;background-color:green\">0.13500673243031636<br>Thymidine </td></tr><tr style=\"border: 3px double black\"><td style=\"border: 3px double black;text-align:left;vertical-align:top;background-color:green\">0.028502849188262867<br>L-Asparagine</td><td style=\"border: 3px double black;text-align:left;vertical-align:top;background-color:#d3d3d3\">nan<br>D-Aspartic Acid</td><td style=\"border: 3px double black;text-align:left;vertical-align:top;background-color:#d3d3d3\">nan<br>D-Glucosaminic Acid</td><td style=\"border: 3px double black;text-align:left;vertical-align:top;background-color:#d3d3d3\">nan<br>1,2-Propanediol</td><td style=\"border: 3px double black;text-align:left;vertical-align:top;background-color:#d3d3d3\">nan<br>Tween 40</td><td style=\"border: 3px double black;text-align:left;vertical-align:top;background-color:green\">0.04213149078151659<br>α-Keto-Glutaric Acid</td><td style=\"border: 3px double black;text-align:left;vertical-align:top;background-color:#d3d3d3\">nan<br>α-Keto-Butyric Acid</td><td style=\"border: 3px double black;text-align:left;vertical-align:top;background-color:#d3d3d3\">nan<br>α-Methyl-DGalactoside</td><td style=\"border: 3px double black;text-align:left;vertical-align:top;background-color:green\">0.35266361224481285<br>α-D-Lactose</td><td style=\"border: 3px double black;text-align:left;vertical-align:top;background-color:#d3d3d3\">nan<br>Lactulose</td><td style=\"border: 3px double black;text-align:left;vertical-align:top;background-color:#d3d3d3\">nan<br>Sucrose</td><td style=\"border: 3px double black;text-align:left;vertical-align:top;background-color:green\">0.18980348505620737<br>Uridine </td></tr><tr style=\"border: 3px double black\"><td style=\"border: 3px double black;text-align:left;vertical-align:top;background-color:green\">0.028775800830833264<br>L-Glutamine</td><td style=\"border: 3px double black;text-align:left;vertical-align:top;background-color:#d3d3d3\">nan<br>M-Tartaric Acid</td><td style=\"border: 3px double black;text-align:left;vertical-align:top;background-color:green\">0.15741431904825157<br>Glucose-1-Phosphate</td><td style=\"border: 3px double black;text-align:left;vertical-align:top;background-color:green\">0.22249741678041224<br>Fructose-6-Phosphate</td><td style=\"border: 3px double black;text-align:left;vertical-align:top;background-color:#d3d3d3\">nan<br>Tween 80</td><td style=\"border: 3px double black;text-align:left;vertical-align:top;background-color:#d3d3d3\">nan<br>α-Hydroxy Glutaric Acid-γLactone</td><td style=\"border: 3px double black;text-align:left;vertical-align:top;background-color:#d3d3d3\">nan<br>α-Hydroxy Butyric Acid</td><td style=\"border: 3px double black;text-align:left;vertical-align:top;background-color:#d3d3d3\">nan<br>β-Methyl-DGlucoside</td><td style=\"border: 3px double black;text-align:left;vertical-align:top;background-color:#d3d3d3\">nan<br>Adonitol</td><td style=\"border: 3px double black;text-align:left;vertical-align:top;background-color:green\">0.5913016372628709<br>Maltotriose</td><td style=\"border: 3px double black;text-align:left;vertical-align:top;background-color:#d3d3d3\">nan<br>2-Deoxy Adenosine</td><td style=\"border: 3px double black;text-align:left;vertical-align:top;background-color:green\">0.21906251408963706<br>Adenosine </td></tr><tr style=\"border: 3px double black\"><td style=\"border: 3px double black;text-align:left;vertical-align:top;background-color:#d3d3d3\">nan<br>Glycyl-L-Aspartic Acid</td><td style=\"border: 3px double black;text-align:left;vertical-align:top;background-color:green\">0.0743303785705343<br>Citric Acid</td><td style=\"border: 3px double black;text-align:left;vertical-align:top;background-color:#d3d3d3\">nan<br>M-Inositol</td><td style=\"border: 3px double black;text-align:left;vertical-align:top;background-color:#d3d3d3\">nan<br>D-Threonine</td><td style=\"border: 3px double black;text-align:left;vertical-align:top;background-color:green\">0.028394121225226693<br>Fumaric Acid</td><td style=\"border: 3px double black;text-align:left;vertical-align:top;background-color:#d3d3d3\">nan<br>Bromo Succinic Acid</td><td style=\"border: 3px double black;text-align:left;vertical-align:top;background-color:#d3d3d3\">nan<br>Propionic Acid</td><td style=\"border: 3px double black;text-align:left;vertical-align:top;background-color:#d3d3d3\">nan<br>Mucic Acid</td><td style=\"border: 3px double black;text-align:left;vertical-align:top;background-color:#d3d3d3\">nan<br>Glycolic Acid</td><td style=\"border: 3px double black;text-align:left;vertical-align:top;background-color:#d3d3d3\">nan<br>Glyoxylic Acid</td><td style=\"border: 3px double black;text-align:left;vertical-align:top;background-color:#d3d3d3\">nan<br>D-Cellobiose</td><td style=\"border: 3px double black;text-align:left;vertical-align:top;background-color:green\">0.19541643316414903<br>Inosine </td></tr><tr style=\"border: 3px double black\"><td style=\"border: 3px double black;text-align:left;vertical-align:top;background-color:#d3d3d3\">nan<br>Glycyl-L-Glutamic Acid</td><td style=\"border: 3px double black;text-align:left;vertical-align:top;background-color:#d3d3d3\">nan<br>Tricarballylic Acid</td><td style=\"border: 3px double black;text-align:left;vertical-align:top;background-color:green\">0.005162346409250675<br>L-Serine</td><td style=\"border: 3px double black;text-align:left;vertical-align:top;background-color:#d3d3d3\">nan<br>L-Threonine</td><td style=\"border: 3px double black;text-align:left;vertical-align:top;background-color:#d3d3d3\">nan<br>L-Alanine</td><td style=\"border: 3px double black;text-align:left;vertical-align:top;background-color:#d3d3d3\">nan<br>L-Alanyl-Glycine</td><td style=\"border: 3px double black;text-align:left;vertical-align:top;background-color:green\">0.02014432732097885<br>Acetoacetic Acid</td><td style=\"border: 3px double black;text-align:left;vertical-align:top;background-color:#d3d3d3\">nan<br>N-Acetyl-β-D-Mannosamine</td><td style=\"border: 3px double black;text-align:left;vertical-align:top;background-color:#d3d3d3\">nan<br>Mono Methyl Succinate</td><td style=\"border: 3px double black;text-align:left;vertical-align:top;background-color:#d3d3d3\">nan<br>Methyl Pyruvate</td><td style=\"border: 3px double black;text-align:left;vertical-align:top;background-color:#d3d3d3\">nan<br>D-Malic Acid</td><td style=\"border: 3px double black;text-align:left;vertical-align:top;background-color:green\">0.02839412122522747<br>L-Malic Acid</td></tr><tr style=\"border: 3px double black\"><td style=\"border: 3px double black;text-align:left;vertical-align:top;background-color:#d3d3d3\">nan<br>Glycyl-L-Proline</td><td style=\"border: 3px double black;text-align:left;vertical-align:top;background-color:#d3d3d3\">nan<br>P-Hydroxy Phenyl Acetic Acid</td><td style=\"border: 3px double black;text-align:left;vertical-align:top;background-color:#d3d3d3\">nan<br>M-Hydroxy Phenyl Acetic Acid</td><td style=\"border: 3px double black;text-align:left;vertical-align:top;background-color:#d3d3d3\">nan<br>Tyramine</td><td style=\"border: 3px double black;text-align:left;vertical-align:top;background-color:#d3d3d3\">nan<br>D-Psicose</td><td style=\"border: 3px double black;text-align:left;vertical-align:top;background-color:green\">0.09956267661964202<br>L-Lyxose</td><td style=\"border: 3px double black;text-align:left;vertical-align:top;background-color:#d3d3d3\">nan<br>Glucuronamide</td><td style=\"border: 3px double black;text-align:left;vertical-align:top;background-color:green\">0.0049926229039725266<br>Pyruvic Acid</td><td style=\"border: 3px double black;text-align:left;vertical-align:top;background-color:#d3d3d3\">nan<br>L-Galactonic Acid-γ-Lactone</td><td style=\"border: 3px double black;text-align:left;vertical-align:top;background-color:#d3d3d3\">nan<br>D-Galacturonic Acid</td><td style=\"border: 3px double black;text-align:left;vertical-align:top;background-color:#d3d3d3\">nan<br>Phenylethylamine</td><td style=\"border: 3px double black;text-align:left;vertical-align:top;background-color:#d3d3d3\">nan<br>2-Aminoethano</td></tr></tbody></table>"
      ],
      "text/plain": [
       "<IPython.core.display.HTML object>"
      ]
     },
     "execution_count": 296,
     "metadata": {},
     "output_type": "execute_result"
    }
   ],
   "source": [
    "def s_repr_html_(plate):\n",
    "        html = \"<h3>\" + plate.id + \"</h3>\"\n",
    "        t = '<table style=\"border: 3px double black\"><tbody>'\n",
    "        for row in plate.rows:\n",
    "            t += '<tr style=\"border: 3px double black\">'\n",
    "            for col in plate.cols:\n",
    "                cell = '<td style=\"border: 3px double black;text-align:left;vertical-align:top;background-color:{}\">{}</td>'\n",
    "                color = 'white'\n",
    "                for o in plate.wells:\n",
    "                    if o == row + col:\n",
    "                        well = plate.wells[o]\n",
    "                        #print(well)\n",
    "                        if 'growth' in well:\n",
    "                            color = '#d3d3d3'\n",
    "                            if well['growth'] > 0:\n",
    "                                color = 'green'\n",
    "                        cell = cell.format(color, str(well['growth'])  + '<br>' + plate.wells[o]['desc'])\n",
    "                        #t += \n",
    "                        #print(self.wells[o])\n",
    "                t += cell\n",
    "            t += \"</tr>\"\n",
    "        t += \"</tbody></table>\"\n",
    "        html += t\n",
    "        return html\n",
    "HTML(s_repr_html_(pm1_plate))"
   ]
  },
  {
   "cell_type": "code",
   "execution_count": null,
   "metadata": {},
   "outputs": [],
   "source": []
  },
  {
   "cell_type": "code",
   "execution_count": null,
   "metadata": {},
   "outputs": [],
   "source": []
  }
 ],
 "metadata": {
  "kernelspec": {
   "display_name": "Python 3",
   "language": "python",
   "name": "python3"
  },
  "language_info": {
   "codemirror_mode": {
    "name": "ipython",
    "version": 3
   },
   "file_extension": ".py",
   "mimetype": "text/x-python",
   "name": "python",
   "nbconvert_exporter": "python",
   "pygments_lexer": "ipython3",
   "version": "3.7.4"
  }
 },
 "nbformat": 4,
 "nbformat_minor": 4
}
