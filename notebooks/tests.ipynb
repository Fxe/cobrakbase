{
 "cells": [
  {
   "cell_type": "code",
   "execution_count": 3,
   "metadata": {},
   "outputs": [
    {
     "name": "stdout",
     "output_type": "stream",
     "text": [
      "['../', '../', '', '/anaconda3/lib/python36.zip', '/anaconda3/lib/python3.6', '/anaconda3/lib/python3.6/lib-dynload', '/anaconda3/lib/python3.6/site-packages', '/anaconda3/lib/python3.6/site-packages/aeosa', '/anaconda3/lib/python3.6/site-packages/matplotlib_venn-0.11.5-py3.6.egg', '/anaconda3/lib/python3.6/site-packages/pymongo-3.7.1-py3.6-macosx-10.7-x86_64.egg', '/anaconda3/lib/python3.6/site-packages/IPython/extensions', '/Users/fliu/.ipython', '/anaconda3/lib/python3.6/site-packages/libsbml']\n"
     ]
    }
   ],
   "source": [
    "import sys\n",
    "import json\n",
    "sys.path.insert(0, \"../\")\n",
    "print(sys.path)"
   ]
  },
  {
   "cell_type": "code",
   "execution_count": 2,
   "metadata": {},
   "outputs": [
    {
     "name": "stdout",
     "output_type": "stream",
     "text": [
      "cobrakbase 0.0.7\n"
     ]
    }
   ],
   "source": [
    "import cobrakbase\n",
    "import cobrakbase.core.model\n",
    "from cobra.core import Gene, Metabolite, Model, Reaction"
   ]
  },
  {
   "cell_type": "code",
   "execution_count": 95,
   "metadata": {
    "slideshow": {
     "slide_type": "-"
    }
   },
   "outputs": [
    {
     "data": {
      "text/html": [
       "<b>Why not R-r0317 in master_fungal_template_fix mapped</b><br>\n",
       "<i>H2O[c0] + LACT[c0] <=> D-glucose[c0] + Galactose[c0]</i><br>\n",
       "<i>rxn00816 Lactose galactohydrolase 1 H2O [0] + 1 LACT [0]  1 D-Glucose [0] + 1 Galactose [0]</i><br>\n",
       "<b>Answer: 1 compound is not integrated:</b> D-glucose[c0] > '~/modelcompounds/id/M-dglc-c_c0'<br>\n",
       "<br>\n",
       "<b>ATP Synthases! MERGE</b>"
      ],
      "text/plain": [
       "<IPython.core.display.HTML object>"
      ]
     },
     "metadata": {},
     "output_type": "display_data"
    }
   ],
   "source": [
    "%%HTML\n",
    "<b>Why not R-r0317 in master_fungal_template_fix mapped</b><br>\n",
    "<i>H2O[c0] + LACT[c0] <=> D-glucose[c0] + Galactose[c0]</i><br>\n",
    "<i>rxn00816 Lactose galactohydrolase 1 H2O [0] + 1 LACT [0]  1 D-Glucose [0] + 1 Galactose [0]</i><br>\n",
    "<b>Answer: 1 compound is not integrated:</b> D-glucose[c0] > '~/modelcompounds/id/M-dglc-c_c0'<br>\n",
    "<br>\n",
    "<b>ATP Synthases! MERGE</b>"
   ]
  },
  {
   "cell_type": "code",
   "execution_count": 67,
   "metadata": {},
   "outputs": [],
   "source": [
    "Asppeni1_model = cobrakbase.API.get_object(id=\"Asppeni1_model\", ws=\"janakakbase:narrative_1540435363582\")"
   ]
  },
  {
   "cell_type": "code",
   "execution_count": 99,
   "metadata": {},
   "outputs": [],
   "source": [
    "for r in Asppeni1_model['modelreactions']:\n",
    "    if '/' in r['id']:\n",
    "        id = r['id']\n",
    "        if id[:2] == 'R-':\n",
    "            id = id[2:]\n",
    "        id = id.replace('/','-')\n",
    "        print(r['id'], '->', id)\n",
    "        r['id'] = id\n",
    "\n",
    "def save_object(wsc, o, id, ws, t):\n",
    "    wsc.save_objects(\n",
    "        {'workspace': ws,\n",
    "         'objects' : [{'data' : o, 'name' : id, 'type' : t}]\n",
    "        })\n",
    "    \n",
    "save_object(cobrakbase.API.wsClient, Asppeni1_model, \"Asppeni1_model_fix\", \"janakakbase:narrative_1540435363582\", \"KBaseFBA.FBAModel\")"
   ]
  },
  {
   "cell_type": "code",
   "execution_count": 21,
   "metadata": {},
   "outputs": [],
   "source": [
    "template = cobrakbase.API.get_object(id=\"Fungi\", ws=\"NewKBaseModelTemplates\")\n",
    "master_fungal_template_fix = cobrakbase.API.get_object(id=\"master_fungal_template_fix\", ws=\"jplfaria:narrative_1510597445008\")"
   ]
  },
  {
   "cell_type": "code",
   "execution_count": 208,
   "metadata": {},
   "outputs": [],
   "source": [
    "#rxn08617 GLCtex\n",
    "#rxn08606\n",
    "lookup = [\"rxn08617\", \"rxn08606\", \"rxn05226\"]\n",
    "for r in template['reactions']:\n",
    "    #print(r['id'], r['name'])\n",
    "    if r['id'] in lookup:\n",
    "        print(r)\n",
    "    #print(r)\n",
    "    #break"
   ]
  },
  {
   "cell_type": "code",
   "execution_count": 93,
   "metadata": {},
   "outputs": [
    {
     "name": "stdout",
     "output_type": "stream",
     "text": [
      "dict_keys(['__VERSION__', 'biochemistry_ref', 'biomasses', 'compartments', 'compcompounds', 'complexes', 'compounds', 'domain', 'id', 'name', 'pathways', 'reactions', 'roles', 'subsystems', 'type'])\n",
      "{'GapfillDirection': '=', 'base_cost': 2, 'deltaG': -6.82, 'deltaGErr': 0.72, 'direction': '>', 'forward_penalty': 0, 'id': 'rxn00062_c', 'maxforflux': 100, 'maxrevflux': -100, 'name': 'ATP phosphohydrolase', 'reaction_ref': 'kbase/default/reactions/id/rxn00062', 'reverse_penalty': 1, 'status': 'OK', 'templateReactionReagents': [{'coefficient': -1, 'templatecompcompound_ref': '~/compcompounds/id/cpd00001_c'}, {'coefficient': -1, 'templatecompcompound_ref': '~/compcompounds/id/cpd00002_c'}, {'coefficient': 1, 'templatecompcompound_ref': '~/compcompounds/id/cpd00008_c'}, {'coefficient': 1, 'templatecompcompound_ref': '~/compcompounds/id/cpd00009_c'}, {'coefficient': 1, 'templatecompcompound_ref': '~/compcompounds/id/cpd00067_c'}], 'templatecompartment_ref': '~/compartments/id/c', 'templatecomplex_refs': ['~/complexes/id/cpx34580', '~/complexes/id/cpx34596', '~/complexes/id/cpx34618', '~/complexes/id/cpx34632', '~/complexes/id/cpx34636', '~/complexes/id/cpx34637', '~/complexes/id/cpx34638', '~/complexes/id/cpx34639', '~/complexes/id/cpx34641', '~/complexes/id/cpx34642', '~/complexes/id/cpx34643', '~/complexes/id/cpx34644', '~/complexes/id/cpx34645', '~/complexes/id/cpx34646', '~/complexes/id/cpx34647', '~/complexes/id/cpx34648', '~/complexes/id/cpx34649', '~/complexes/id/cpx34650', '~/complexes/id/cpx34651', '~/complexes/id/cpx34652', '~/complexes/id/cpx34653', '~/complexes/id/cpx34654', '~/complexes/id/cpx34655', '~/complexes/id/cpx34656', '~/complexes/id/cpx34657', '~/complexes/id/cpx34658', '~/complexes/id/cpx34659', '~/complexes/id/cpx34660', '~/complexes/id/cpx34661', '~/complexes/id/cpx34662', '~/complexes/id/cpx34663', '~/complexes/id/cpx34664', '~/complexes/id/cpx34665', '~/complexes/id/cpx34666', '~/complexes/id/cpx34667', '~/complexes/id/cpx34668', '~/complexes/id/cpx34669', '~/complexes/id/cpx34670', '~/complexes/id/cpx34671', '~/complexes/id/cpx34672', '~/complexes/id/cpx34673', '~/complexes/id/cpx34674', '~/complexes/id/cpx34676', '~/complexes/id/cpx34677', '~/complexes/id/cpx34678', '~/complexes/id/cpx34679', '~/complexes/id/cpx34680', '~/complexes/id/cpx34681', '~/complexes/id/cpx34682', '~/complexes/id/cpx34683', '~/complexes/id/cpx34684', '~/complexes/id/cpx34685', '~/complexes/id/cpx34686', '~/complexes/id/cpx34687', '~/complexes/id/cpx34688', '~/complexes/id/cpx34689', '~/complexes/id/cpx34690', '~/complexes/id/cpx34691', '~/complexes/id/cpx34694', '~/complexes/id/cpx34695', '~/complexes/id/cpx34696', '~/complexes/id/cpx34697', '~/complexes/id/cpx34698', '~/complexes/id/cpx34699', '~/complexes/id/cpx34700', '~/complexes/id/cpx34701'], 'type': 'conditional'}\n",
      "{'GapfillDirection': '=', 'base_cost': 7, 'deltaG': -6.82, 'deltaGErr': 0.72, 'direction': '=', 'forward_penalty': 0, 'id': 'rxn09694_c', 'maxforflux': 100, 'maxrevflux': -100, 'name': 'H+-exporting ATPase', 'reaction_ref': 'kbase/default/reactions/id/rxn09694', 'reverse_penalty': 1, 'status': 'OK', 'templateReactionReagents': [{'coefficient': -1, 'templatecompcompound_ref': '~/compcompounds/id/cpd00001_c'}, {'coefficient': -1, 'templatecompcompound_ref': '~/compcompounds/id/cpd00002_c'}, {'coefficient': 1, 'templatecompcompound_ref': '~/compcompounds/id/cpd00008_c'}, {'coefficient': 1, 'templatecompcompound_ref': '~/compcompounds/id/cpd00009_c'}, {'coefficient': 1, 'templatecompcompound_ref': '~/compcompounds/id/cpd00067_e'}], 'templatecompartment_ref': '~/compartments/id/c', 'templatecomplex_refs': [], 'type': 'gapfilling'}\n"
     ]
    }
   ],
   "source": [
    "print(template.keys())\n",
    "for r in template['reactions']:\n",
    "    atp = False\n",
    "    adp = False\n",
    "    h = False\n",
    "    pi = False\n",
    "    h2o = False\n",
    "    for c in r['templateReactionReagents']:\n",
    "        if 'cpd00002' in c['templatecompcompound_ref']:\n",
    "            atp = True\n",
    "        if 'cpd00008' in c['templatecompcompound_ref']:\n",
    "            adp = True\n",
    "        if 'cpd00009' in c['templatecompcompound_ref']:\n",
    "            pi = True\n",
    "        if 'cpd00067' in c['templatecompcompound_ref']:\n",
    "            h = True\n",
    "        if 'cpd00001' in c['templatecompcompound_ref']:\n",
    "            h2o = True\n",
    "    if atp and adp and h and pi and h2o and 'rxf' and len(r['templateReactionReagents']) == 5:\n",
    "        print(r)"
   ]
  },
  {
   "cell_type": "code",
   "execution_count": 96,
   "metadata": {},
   "outputs": [],
   "source": [
    "for r in template['reactions']:\n",
    "    #print(r['id'])\n",
    "    1\n",
    "\n",
    "for r in master_fungal_template_fix['modelreactions']:\n",
    "    for c in r['modelReactionReagents']:\n",
    "        if not 'modelcompounds/id/cpd' in c['modelcompound_ref']:\n",
    "            1 #print(c)\n",
    "    #if 'R-r0317' in r['id']:\n",
    "    #    print(r)"
   ]
  },
  {
   "cell_type": "code",
   "execution_count": 106,
   "metadata": {},
   "outputs": [],
   "source": [
    "fmodel = cobrakbase.API.get_object(id=\"Asppeni1_model_fix_GP_GMM\", ws=\"janakakbase:narrative_1540435363582\")"
   ]
  },
  {
   "cell_type": "code",
   "execution_count": 8,
   "metadata": {},
   "outputs": [
    {
     "name": "stdout",
     "output_type": "stream",
     "text": [
      "{'aliases': [], 'dblinks': {}, 'direction': '=', 'edits': {}, 'gapfill_data': {}, 'id': 'R-r0317_c0', 'maxforflux': 1000000.0, 'maxrevflux': 1000000.0, 'modelReactionProteins': [{'complex_ref': '', 'modelReactionProteinSubunits': [{'feature_refs': ['~/genome/features/id/ATEG_07446', '~/genome/features/id/ATEG_04784', '~/genome/features/id/ATEG_10243', '~/genome/features/id/ATEG_00712'], 'note': 'Imported GPR', 'optionalSubunit': 0, 'role': '', 'triggering': 0}], 'note': '', 'source': 'SBML'}], 'modelReactionReagents': [{'coefficient': -1.0, 'modelcompound_ref': '~/modelcompounds/id/cpd00001_c0'}, {'coefficient': -1.0, 'modelcompound_ref': '~/modelcompounds/id/cpd00208_c0'}, {'coefficient': 1.0, 'modelcompound_ref': '~/modelcompounds/id/M-dglc-c_c0'}, {'coefficient': 1.0, 'modelcompound_ref': '~/modelcompounds/id/cpd00108_c0'}], 'modelcompartment_ref': '~/modelcompartments/id/c0', 'name': 'CustomReaction_c0', 'numerical_attributes': {}, 'probability': 1.0, 'protons': 1.0, 'reaction_ref': '~/template/reactions/id/rxn00000_c', 'string_attributes': {}}\n"
     ]
    }
   ],
   "source": [
    "template.keys()\n",
    "for r in template['modelreactions']:\n",
    "    #print(r['id'])\n",
    "    if 'R-r0317' in r['id']:\n",
    "        print(r)"
   ]
  },
  {
   "cell_type": "code",
   "execution_count": 107,
   "metadata": {},
   "outputs": [],
   "source": [
    "gmedia = cobrakbase.API.get_object(id=\"Carbon-D-Glucose\", ws=\"janakakbase:narrative_1540435363582\")\n",
    "media = cobrakbase.convert_media(gmedia)"
   ]
  },
  {
   "cell_type": "code",
   "execution_count": 108,
   "metadata": {},
   "outputs": [
    {
     "name": "stdout",
     "output_type": "stream",
     "text": [
      "Add Sink cpd02701_c0\n",
      "Add Sink cpd11416_c0\n",
      "Setup Drains. EX: 697 SK: 2\n"
     ]
    }
   ],
   "source": [
    "#cobrakbase.\n",
    "model = cobrakbase.convert_kmodel(fmodel, media=media)"
   ]
  },
  {
   "cell_type": "code",
   "execution_count": 145,
   "metadata": {},
   "outputs": [
    {
     "name": "stdout",
     "output_type": "stream",
     "text": [
      "SK rxn13782_c0:  <=> cpd17041_c0\n",
      "SK rxn13783_c0:  <=> cpd17042_c0\n",
      "SK rxn13784_c0:  <=> cpd17043_c0\n"
     ]
    }
   ],
   "source": [
    "for r in model.sinks:\n",
    "    print(\"SK\", r)\n",
    "for r in model.demands:\n",
    "    print(\"DM\", r)\n",
    "for r in model.exchanges:\n",
    "    #print(\"EX\", r, r.lower_bound)\n",
    "    1\n",
    "for r in model.reactions:\n",
    "    #print(r)\n",
    "    1"
   ]
  },
  {
   "cell_type": "code",
   "execution_count": 198,
   "metadata": {},
   "outputs": [
    {
     "name": "stdout",
     "output_type": "stream",
     "text": [
      "bio1_biomass: 60.029641491222 cpd00002_c0 + 0.00489685351114816 cpd00003_c0 + 0.00489685351114816 cpd00006_c0 + 0.00489685351114816 cpd00010_c0 + 0.00489685351114816 cpd00015_c0 + 0.00489685351114816 cpd00016_c0 + 0.00489685351114816 cpd00017_c0 + 0.264993755075485 cpd00023_c0 + 0.00489685351114816 cpd00028_c0 + 0.00489685351114816 cpd00030_c0 + 0.321625484990811 cpd00033_c0 + 0.00489685351114816 cpd00034_c0 + 0.353325006767314 cpd00035_c0 + 0.0296414912220477 cpd00038_c0 + 0.236855977318814 cpd00039_c0 + 0.169539015343993 cpd00041_c0 + 0.00489685351114816 cpd00042_c0 + 0.00489685351114816 cpd00048_c0 + 0.134277749547658 cpd00051_c0 + 0.0290054077194286 cpd00052_c0 + 0.264993755075485 cpd00053_c0 + 0.250746778996158 cpd00054_c0 + 0.00489685351114816 cpd00056_c0 + 0.00489685351114816 cpd00058_c0 + 0.0495082418756619 cpd00060_c0 + 0.0389283103602858 cpd00062_c0 + 0.00489685351114816 cpd00063_c0 + 0.027781603354688 cpd00065_c0 + 0.113263459830651 cpd00066_c0 + 60 cpd00067_c0 + 0.095454739731492 cpd00069_c0 + 0.0423847538359983 cpd00084_c0 + 0.00489685351114816 cpd00087_c0 + 0.00489685351114816 cpd00099_c0 + 0.247541209378309 cpd00107_c0 + 0.00255750751455551 cpd00115_c0 + 0.00489685351114816 cpd00118_c0 + 0.0740842756125012 cpd00119_c0 + 0.127154261507995 cpd00129_c0 + 0.169539015343993 cpd00132_c0 + 0.00489685351114816 cpd00149_c0 + 0.347863247863248 cpd00155_c0 + 0.25430852301599 cpd00156_c0 + 0.194471223482816 cpd00161_c0 + 0.00489685351114816 cpd00201_c0 + 0.00489685351114816 cpd00205_c0 + 0.00489685351114816 cpd00220_c0 + 0.00157736594362068 cpd00241_c0 + 0.00489685351114816 cpd00254_c0 + 0.00489685351114816 cpd00264_c0 + 0.169539015343993 cpd00322_c0 + 0.00489685351114816 cpd00345_c0 + 0.00157736594362068 cpd00356_c0 + 0.00255750751455551 cpd00357_c0 + 0.00489685351114816 cpd00557_c0 + 0.347863247863248 cpd00794_c0 + 0.0144855144855145 cpd01170_c0 + 0.0144855144855145 cpd01188_c0 + 0.0144855144855145 cpd02755_c0 + 0.0144855144855145 cpd03221_c0 + 0.00489685351114816 cpd10515_c0 + 0.00489685351114816 cpd10516_c0 + 0.00489685351114816 cpd11493_c0 + 0.0144855144855145 cpd14514_c0 + 0.00489685351114816 cpd15560_c0 + cpd17041_c0 + cpd17042_c0 + cpd17043_c0 --> 63.5613878454298 cpd00001_c0 + 60 cpd00008_c0 + 59.9951031464889 cpd00009_c0 + 0.135486447440162 cpd00012_c0 + cpd11416_c0 + 0.00489685351114816 cpd12370_c0\n",
      "IN FLUXES               OUT FLUXES            OBJECTIVES\n",
      "----------------------  --------------------  -------------------\n",
      "cpd00067_e0  100        cpd00179_e0  37.4     bio1_biomass  0.404\n",
      "cpd00030_e0    0.00198  cpd00053_e0   1.75\n",
      "cpd00058_e0    0.00198  cpd00161_e0   1.58\n",
      "cpd00063_e0    0.00198  cpd00041_e0   1\n",
      "cpd00149_e0    0.00198  cpd00132_e0   0.932\n",
      "cpd00205_e0    0.00198  cpd00558_e0   0.499\n",
      "                        cpd11416_c0   0.404\n",
      "                        cpd11791_e0   0.374\n",
      "                        cpd00083_e0   0.0561\n",
      "                        cpd03198_e0   0.0476\n",
      "cpd00107_c0 - L-Leucine -0.1\n",
      "cpd00156_c0 - L-Valine -0.031013318978161952\n",
      "cpd00042_c0 - GSH -0.0019781972962992223\n",
      "cpd03221_c0 - Zymosterol -1.0\n",
      "cpd00010_c0 - CoA -0.0756768885640795\n",
      "cpd00220_c0 - Riboflavin 0.24746484120004886\n",
      "cpd11493_c0 - ACP 3.1086244689504383e-15\n",
      "cpd00356_c0 - dCTP -1.0\n",
      "cpd15560_c0 - Ubiquinone-8 -0.4984939417449589\n",
      "cpd00051_c0 - L-Arginine -1.0\n",
      "cpd00161_c0 - L-Threonine -1.0\n",
      "cpd00264_c0 - Spermidine -1.0\n",
      "cpd00065_c0 - L-Tryptophan 1.63574474543032\n",
      "cpd00129_c0 - L-Proline -0.05136690647482023\n",
      "cpd00048_c0 - Sulfate -1.0\n",
      "cpd00028_c0 - Heme -0.05903443828560018\n",
      "cpd00038_c0 - GTP 0.3767101957416271\n",
      "cpd02755_c0 - Fecosterol -0.005851758792766004\n",
      "cpd10516_c0 - fe3 -0.0019781972962992444\n",
      "cpd00009_c0 + Phosphate -1.0\n",
      "cpd00557_c0 - Siroheme 0.0913267013783492\n",
      "cpd00066_c0 - L-Phenylalanine -0.045755395683453326\n",
      "cpd00056_c0 - TPP -0.0019781972962992444\n",
      "cpd00012_c0 + PPi -1.0\n",
      "cpd00115_c0 - dATP -0.0010331643450310901\n",
      "cpd00201_c0 - 10-Formyltetrahydrofolate -1.0\n",
      "cpd00008_c0 + ADP -1.0\n",
      "cpd00118_c0 - Putrescine 1.4427880997390048\n",
      "cpd00054_c0 - L-Serine -1.0\n",
      "cpd01170_c0 - Ergosterol -1.0\n",
      "cpd00039_c0 - L-Lysine -0.09568345323741022\n",
      "cpd00015_c0 - FAD -0.0019781972962993554\n",
      "cpd01188_c0 - Lanosterol 0.6561692338054469\n",
      "cpd00119_c0 - L-Histidine -0.5801764171566699\n",
      "cpd00033_c0 - Glycine 0.3754590005718763\n",
      "cpd00034_c0 - Zn2+_c0 -0.0019781972962992444\n",
      "cpd00099_c0 - Cl- -0.0019781972962992444\n",
      "cpd00254_c0 - Mg_c0 -0.0019781972962992444\n",
      "cpd00016_c0 - Pyridoxal phosphate 0.04938408531371752\n",
      "cpd00345_c0 - 5-Methyltetrahydrofolate -0.02197819729629924\n",
      "cpd00023_c0 - L-Glutamate -1.0\n",
      "cpd00041_c0 - L-Aspartate -1.0\n",
      "cpd00357_c0 - TTP 0.27501762819262876\n",
      "cpd00002_c0 - ATP 1.3548478479350585\n",
      "cpd14514_c0 - Episterol 1.9824447236217022\n",
      "cpd00052_c0 - CTP 1.3693520239072638\n",
      "cpd10515_c0 - Fe2+ -0.03822685498164679\n",
      "cpd00132_c0 - L-Asparagine -1.0\n",
      "cpd00322_c0 - L-Isoleucine -1.0\n",
      "cpd00087_c0 - Tetrahydrofolate -0.22902862445701733\n",
      "cpd00035_c0 - L-Alanine -1.0\n",
      "cpd00084_c0 - L-Cysteine 0.7754951579087623\n",
      "cpd00062_c0 - UTP -0.673483427425984\n",
      "cpd00017_c0 - S-Adenosyl-L-methionine 0.2551466393118438\n"
     ]
    }
   ],
   "source": [
    "def demand(cpd, value, model):\n",
    "    dm = Reaction(id=\"DM_\" + cpd, name=\"Demand for \" + cpd, lower_bound=value, upper_bound=1000)\n",
    "    dm.add_metabolites({model.metabolites.get_by_id(cpd) : -1})\n",
    "    print(cpd, value, dm)\n",
    "    model.add_reaction(dm)\n",
    "    1\n",
    "    \n",
    "bio = model.reactions.get_by_id('bio1_biomass')\n",
    "print(bio)\n",
    "for a in bio.metabolites:\n",
    "    #print(a.id, a.name, bio.metabolites[a])\n",
    "    #demand(a.id, -1, model)\n",
    "    1\n",
    "\n",
    "for a in bio.metabolites:\n",
    "    model.reactions.get_by_id(\"DM_\" + a.id).lower_bound = -1\n",
    "\n",
    "model.reactions.get_by_id('DM_cpd00030_c0').lower_bound = 0.0 #Mn2+\n",
    "model.reactions.get_by_id('DM_cpd00205_c0').lower_bound = 0.0 #K+\n",
    "model.reactions.get_by_id('DM_cpd00149_c0').lower_bound = 0.0 #Co2+\n",
    "model.reactions.get_by_id('DM_cpd00063_c0').lower_bound = 0.0 #Ca2+\n",
    "\n",
    "model.reactions.get_by_id('DM_cpd11416_c0').lower_bound = 0.0 #Biomass\n",
    "model.reactions.get_by_id('DM_cpd00107_c0').lower_bound = -0.1 #L-Leucine\n",
    "model.reactions.get_by_id('DM_cpd00069_c0').lower_bound = 0.0 #L-Tyrosine\n",
    "model.reactions.get_by_id('DM_cpd12370_c0').lower_bound = 0.0 #apo-ACP\n",
    "\n",
    "model.reactions.get_by_id('DM_cpd00003_c0').lower_bound = 0.0 #NAD\n",
    "model.reactions.get_by_id('DM_cpd00006_c0').lower_bound = 0.0 #NADP\n",
    "\n",
    "model.summary()\n",
    "for a in bio.metabolites:\n",
    "    coef = bio.get_coefficient(a)\n",
    "    z = \"+\"\n",
    "    if coef < 0:\n",
    "        z = \"-\"\n",
    "    flux = model.reactions.get_by_id(\"DM_\" + a.id).flux\n",
    "    if not flux == 0.0:\n",
    "        print(a, z, a.name, flux)\n",
    "    1\n",
    "#print(model.reactions.DM_cpd00053_c0.flux)\n",
    "#model.metabolites.get_by_id(\"cpd00205_c0\").summary()"
   ]
  },
  {
   "cell_type": "code",
   "execution_count": 102,
   "metadata": {},
   "outputs": [],
   "source": [
    "def get_flux_distribution(fba):\n",
    "    fdist = {}\n",
    "    for a in fba['FBAReactionVariables']:\n",
    "        flux = a['value']\n",
    "        #if '~/fbamodel/modelreactions/id/pi_m0' == a['modelreaction_ref']:\n",
    "        #    a['modelreaction_ref'] = '~/fbamodel/modelreactions/id/tr-succ/pi_m0'\n",
    "        id = cobrakbase.get_id_from_ref(a['modelreaction_ref'], stok='/')\n",
    "        #print(a['modelreaction_ref'], id, flux)\n",
    "        fdist[id] = flux\n",
    "\n",
    "    biomass = \"bio1_biomass\"\n",
    "    if not fba['objectiveValue'] == 0:\n",
    "        flux = fba['objectiveValue']\n",
    "        fdist[biomass] = flux\n",
    "        \n",
    "    return fdist\n",
    "\n",
    "def get_net_convertion(model, fdist):\n",
    "    net = {}\n",
    "    for rxnId in fdist:\n",
    "        flux = fdist[rxnId]\n",
    "        rselect = rxnId\n",
    "        #print(rselect)\n",
    "        if \"R-\" in rselect:\n",
    "            rselect = rselect[2:]\n",
    "        #print(rselect)\n",
    "        id = rxnId\n",
    "        #id = cobrakbase.get_id_from_ref(rxnId)\n",
    "        #print(id)\n",
    "        if \"R-\" in id:\n",
    "            id = id[2:]\n",
    "        #print(id)\n",
    "        #print(id, a['value'])\n",
    "        if not flux == 0:\n",
    "            r = model.reactions.get_by_id(id)\n",
    "            #print(r, flux)\n",
    "            #print(dir(r))\n",
    "            for k in r.reactants:\n",
    "                if not k in net:\n",
    "                    net[k] = 0\n",
    "                net[k] += r.get_coefficient(k) * flux\n",
    "            for k in r.products:\n",
    "                if not k in net:\n",
    "                    net[k] = 0\n",
    "                net[k] += r.get_coefficient(k) * flux\n",
    "    return net"
   ]
  },
  {
   "cell_type": "code",
   "execution_count": 5,
   "metadata": {},
   "outputs": [],
   "source": [
    "cobrakbase.login(\"TUEVGXRO3JJUJCEPAHBSGW67ZM7UURGC\", dev=False)"
   ]
  },
  {
   "cell_type": "code",
   "execution_count": 100,
   "metadata": {},
   "outputs": [
    {
     "name": "stdout",
     "output_type": "stream",
     "text": [
      "18.4432\n"
     ]
    }
   ],
   "source": [
    "fba = cobrakbase.API.get_object(\"Asppeni1_model_fix_GP_GMM.gf.1\", \"janakakbase:narrative_1540435363582\")\n",
    "print(fba['objectiveValue'])"
   ]
  },
  {
   "cell_type": "code",
   "execution_count": 105,
   "metadata": {},
   "outputs": [],
   "source": [
    "fdist = get_flux_distribution(fba)\n",
    "#model.reactions.get_by_id(\"r0516_m0\")"
   ]
  },
  {
   "cell_type": "code",
   "execution_count": 114,
   "metadata": {},
   "outputs": [
    {
     "name": "stdout",
     "output_type": "stream",
     "text": [
      "tr-succ-pi_m0: cpd00009_m0 + cpd00036_c0 <=> cpd00009_c0 + cpd00036_m0\n",
      "cpd00001_c0 -4.637142189169481\n",
      "cpd00008_c0 -0.001806299999998373\n",
      "cpd00067_c0 3.296329200000855\n",
      "cpd00020_c0 -0.090733300000013\n",
      "cpd00002_c0 0.0010571490943220851\n",
      "cpd00264_c0 -2.566823648676808\n",
      "cpd00011_c0 -1.1595638000000383\n",
      "cpd00005_c0 3.206933999999822\n",
      "cpd00006_c0 -3.206926648677181\n",
      "cpd00007_c0 3.117351099999948\n",
      "cpd00029_c0 -0.09005369999999857\n",
      "dglc-c_c0 -0.00100000000009004\n",
      "cpd00025_c0 0.08912670000011327\n",
      "cpd00084_c0 0.09046250805184985\n",
      "cpd00790_c0 0.0903137\n",
      "cpd00100_c0 0.001139000000043966\n",
      "cpd00281_c0 -0.0903137\n",
      "cpd03221_c0 -1.068638240759241\n",
      "cpd00123_c0 -4.870897\n",
      "cpd00198_c0 0.09030999999999967\n",
      "cpd00726_c0 2.56683\n",
      "H-PO_c0 -0.002479999999991378\n",
      "cpd03035_c0 1.06864\n",
      "cpd02654_c0 -0.0903137\n",
      "cpd01646_c0 -4.56546\n",
      "cpd00040_c0 0.0903137\n",
      "cpd11416_c0 18.4432\n"
     ]
    }
   ],
   "source": [
    "print(model.reactions.get_by_id(\"tr-succ-pi_m0\"))\n",
    "net = get_net_convertion(model, fdist)\n",
    "\n",
    "#cpd11416\n",
    "e = 1e-3\n",
    "for cpd in net:\n",
    "    flux = net[cpd]\n",
    "    if flux > e or flux < -e:\n",
    "        if False or \"_c0\" in cpd.id:\n",
    "            print(cpd, flux)"
   ]
  },
  {
   "cell_type": "code",
   "execution_count": 134,
   "metadata": {},
   "outputs": [
    {
     "name": "stdout",
     "output_type": "stream",
     "text": [
      "Add Sink cpd02701_c0\n",
      "Add Sink cpd11416_c0\n",
      "Setup Drains. EX: 178 SK: 2\n"
     ]
    },
    {
     "data": {
      "text/html": [
       "\n",
       "        <table>\n",
       "            <tr>\n",
       "                <td><strong>Reaction identifier</strong></td><td>rxn00159_c0</td>\n",
       "            </tr><tr>\n",
       "                <td><strong>Name</strong></td><td>(S)-malate:NAD+ oxidoreductase (decarboxylating)_c0</td>\n",
       "            </tr><tr>\n",
       "                <td><strong>Memory address</strong></td>\n",
       "                <td>0x0132cae6f98</td>\n",
       "            </tr><tr>\n",
       "                <td><strong>Stoichiometry</strong></td>\n",
       "                <td>\n",
       "                    <p style='text-align:right'>cpd00003_c0 + cpd00130_c0 <=> cpd00004_c0 + cpd00011_c0 + cpd00020_c0</p>\n",
       "                    <p style='text-align:right'>NAD_c0 + L-Malate_c0 <=> NADH_c0 + CO2_c0 + Pyruvate_c0</p>\n",
       "                </td>\n",
       "            </tr><tr>\n",
       "                <td><strong>GPR</strong></td><td>(b1479)</td>\n",
       "            </tr><tr>\n",
       "                <td><strong>Lower bound</strong></td><td>-1000000</td>\n",
       "            </tr><tr>\n",
       "                <td><strong>Upper bound</strong></td><td>1000000</td>\n",
       "            </tr>\n",
       "        </table>\n",
       "        "
      ],
      "text/plain": [
       "<Reaction rxn00159_c0 at 0x132cae6f98>"
      ]
     },
     "execution_count": 134,
     "metadata": {},
     "output_type": "execute_result"
    }
   ],
   "source": [
    "cobra_model = cobrakbase.read_model_with_media(\"GCF_000005845.2\", \"Carbon-D-Glucose\", \"filipeliu:narrative_1504192868437\")\n",
    "#jsonMedia = cobrakbase.API.get_object(\"Carbon-D-Glucose\", \"filipeliu:narrative_1504192868437\")\n",
    "#jsonModel = cobrakbase.API.get_object(\"GCF_000005845.2\", \"filipeliu:narrative_1504192868437\")\n",
    "\n",
    "#for r in jsonModel['modelreactions']:\n",
    "#    if \"rxn00159_c0\" in r['id']:\n",
    "#        print(r)\n",
    "\n",
    "cobra_model.reactions.get_by_id(\"rxn00159_c0\")\n",
    "#cobra_model.medium\n",
    "#met = cobra_model.metabolites.get_by_id(\"cpd00011_e0\")\n",
    "#object_stoichiometry = {met : -1}\n",
    "#reaction = Reaction(id=\"EX_cpd00011_e0\", name=\"Exchange for \" + met.name, lower_bound=-8, upper_bound=1000)\n",
    "#cobra_model.add_reaction(reaction)\n",
    "#with open('iMR1_799.json', 'w') as outfile:\n",
    "#    json.dump(model, outfile)\n",
    "#cobra_model.summary()"
   ]
  },
  {
   "cell_type": "code",
   "execution_count": 137,
   "metadata": {},
   "outputs": [],
   "source": [
    "for r in model.reactions:\n",
    "    if False or \"EX_\" in r.id and r.lower_bound == 0:\n",
    "        #print(r)\n",
    "        #if r.lower_bound == 0:\n",
    "            #r.lower_bound = -1\n",
    "        #print(r, \":\", r.lower_bound, r.upper_bound)\n",
    "        1\n",
    "#cobra_model.reactions.get_by_id(\"EX_cpd00011_e0\").lower_bound = 7.99\n",
    "#cobra_model.objective = \"bio1_biomass\"\n",
    "\n",
    "#cobra_model.summary()\n",
    "#cobra_model.metabolites.cpd00011_c0.summary()"
   ]
  },
  {
   "cell_type": "code",
   "execution_count": null,
   "metadata": {},
   "outputs": [],
   "source": [
    "CONSUMING REACTIONS -- CO2_c0 (cpd0001...)\n",
    "------------------------------------------\n",
    "%      FLUX  RXN ID      REACTION\n",
    "---  ------  ----------  --------------------------------------------------\n",
    "87%  7.99    rxn0546...  cpd00011_e0 <=> cpd00011_c0\n",
    "15%  1.39    rxn0534...  cpd11466_c0 + cpd11492_c0 <=> cpd00011_c0 + cpd...\n",
    "3%   0.255   rxn0292...  2 cpd00001_c0 + 2 cpd00067_c0 + cpd02103_c0 <=>...\n",
    "2%   0.206   rxn0920...  2 cpd00067_c0 + cpd15555_c0 <=> cpd00011_c0 + c...\n",
    "2%   0.175   rxn0293...  cpd00067_c0 + cpd02893_c0 <=> cpd00011_c0 + cpd...\n",
    "\n",
    "CONSUMING REACTIONS -- CO2_c0 (cpd0001...)\n",
    "------------------------------------------\n",
    "%      FLUX  RXN ID      REACTION\n",
    "---  ------  ----------  --------------------------------------------------\n",
    "32%  1.9     rxn0534...  cpd11466_c0 + cpd11492_c0 <=> cpd00011_c0 + cpd...\n",
    "28%  1.67    rxn0916...  cpd00001_c0 + cpd00020_c0 + cpd15560_c0 <=> cpd...\n",
    "20%  1.21    rxn0015...  cpd00003_c0 + cpd00130_c0 <=> cpd00004_c0 + cpd...\n",
    "6%   0.347   rxn0292...  2 cpd00001_c0 + 2 cpd00067_c0 + cpd02103_c0 <=>...\n",
    "5%   0.321   rxn0637...  cpd00033_c0 + cpd00067_c0 + cpd12005_c0 <=> cpd...\n",
    "5%   0.281   rxn0920...  2 cpd00067_c0 + cpd15555_c0 <=> cpd00011_c0 + c...\n",
    "4%   0.239   rxn0293...  cpd00067_c0 + cpd02893_c0 <=> cpd00011_c0 + cpd..."
   ]
  },
  {
   "cell_type": "code",
   "execution_count": 39,
   "metadata": {},
   "outputs": [
    {
     "name": "stdout",
     "output_type": "stream",
     "text": [
      "Add Sink cpd02701_c0\n",
      "Add Sink cpd11416_c0\n",
      "Setup Drains. EX: 178 SK: 2\n"
     ]
    }
   ],
   "source": [
    "#jsonModel = cobrakbase.API.get_object(\"GCF_000005845.2\", \"filipeliu:narrative_1504192868437\")\n",
    "#jsonMedia = cobrakbase.API.get_object(\"Carbon-D-Glucose\", \"filipeliu:narrative_1504192868437\")\n",
    "def fix_flux_bounds(m):\n",
    "    for r in m['modelreactions']:\n",
    "        lb = -1 * r['maxrevflux']\n",
    "        ub = r['maxforflux']\n",
    "        di = r['direction']\n",
    "        cdi = \"=\"\n",
    "        if lb == 0 and ub > 0:\n",
    "            cdi = \">\"\n",
    "        elif ub == 0 and lb < 0:\n",
    "            cdi = '<'\n",
    "        if not cdi == di:\n",
    "            if di == '>':\n",
    "                r['maxrevflux'] = 0\n",
    "            elif di == '<':\n",
    "                r['maxforflux'] = 0\n",
    "            else:\n",
    "                1\n",
    "            print(r['id'], di, cdi, lb, ub)\n",
    "fix_flux_bounds(jsonModel)\n",
    "cobra_model = cobrakbase.convert_kmodel(jsonModel, media=cobrakbase.convert_media(jsonMedia))"
   ]
  },
  {
   "cell_type": "code",
   "execution_count": 17,
   "metadata": {},
   "outputs": [],
   "source": [
    "from memote.suite.cli.reports import report\n",
    "import memote.suite.api as api\n",
    "from memote.suite.reporting import ReportConfiguration\n",
    "#a, results = api.test_model(cobra_model, results=True)"
   ]
  },
  {
   "cell_type": "code",
   "execution_count": 16,
   "metadata": {},
   "outputs": [],
   "source": [
    "config = ReportConfiguration.load()\n",
    "html = api.snapshot_report(results, config)\n",
    "with open(\"report.html\", \"w\") as text_file:\n",
    "    print(html, file=text_file)"
   ]
  }
 ],
 "metadata": {
  "kernelspec": {
   "display_name": "Python 3",
   "language": "python",
   "name": "python3"
  },
  "language_info": {
   "codemirror_mode": {
    "name": "ipython",
    "version": 3
   },
   "file_extension": ".py",
   "mimetype": "text/x-python",
   "name": "python",
   "nbconvert_exporter": "python",
   "pygments_lexer": "ipython3",
   "version": "3.6.5"
  }
 },
 "nbformat": 4,
 "nbformat_minor": 2
}
